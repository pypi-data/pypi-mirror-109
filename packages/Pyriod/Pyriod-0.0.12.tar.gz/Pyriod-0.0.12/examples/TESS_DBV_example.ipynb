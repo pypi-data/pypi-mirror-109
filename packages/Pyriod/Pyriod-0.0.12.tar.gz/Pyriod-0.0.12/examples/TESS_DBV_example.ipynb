{
 "cells": [
  {
   "cell_type": "markdown",
   "metadata": {},
   "source": [
    "This first example of the basic usage of the Pyriod package was demonstrated at the [TASC5/KASC12 workshop](https://web.mit.edu/tasc5/) in Boston 22-26 July 2019.  It shows how to reproduce the frequency analysis of a pulsating helium-atmosphere white dwarf presented in [Bell et al. (A&A, 632, A42)](https://ui.adsabs.harvard.edu/abs/2019A%26A...632A..42B).  \n",
    "\n",
    "See the online [tutorial](https://pyriod.readthedocs.io/en/latest/tutorial/) for more info about how to use Pyriod."
   ]
  },
  {
   "cell_type": "code",
   "execution_count": 2,
   "metadata": {},
   "outputs": [],
   "source": [
    "%matplotlib widget\n",
    "import lightkurve as lk\n",
    "from Pyriod import Pyriod\n",
    "import numpy as np\n",
    "import matplotlib.pyplot as plt\n",
    "import astropy.units as u"
   ]
  },
  {
   "cell_type": "code",
   "execution_count": null,
   "metadata": {},
   "outputs": [],
   "source": []
  },
  {
   "cell_type": "code",
   "execution_count": 21,
   "metadata": {},
   "outputs": [],
   "source": [
    "dat = np.loadtxt('/Users/keatonb/Research/WDJ1106+1802/wqed_lcs/all.lc')\n",
    "time = dat[:,0]*u.s#/(24.*3600.) #in days\n",
    "flux = dat[:,1]\n",
    "april = np.where((time.value/(24.*3600.) > 66) & (time.value/(24.*3600.) < 70))"
   ]
  },
  {
   "cell_type": "code",
   "execution_count": 22,
   "metadata": {},
   "outputs": [],
   "source": [
    "lc = lk.LightCurve(time = time[april], flux = flux[april])"
   ]
  },
  {
   "cell_type": "code",
   "execution_count": 23,
   "metadata": {},
   "outputs": [
    {
     "name": "stderr",
     "output_type": "stream",
     "text": [
      "/Users/keatonb/anaconda3/lib/python3.7/site-packages/ipykernel_launcher.py:1: LightkurveDeprecationWarning: The astropy_time function is deprecated and may be removed in a future version.\n",
      "        Use time instead.\n",
      "  \"\"\"Entry point for launching an IPython kernel.\n"
     ]
    }
   ],
   "source": [
    "t2 = (lc.astropy_time - min(lc.astropy_time)).to('second')\n",
    "lc2 = lk.LightCurve(time = t2, flux = flux[april])"
   ]
  },
  {
   "cell_type": "code",
   "execution_count": 5,
   "metadata": {},
   "outputs": [],
   "source": [
    "pyriod = Pyriod(lc)"
   ]
  },
  {
   "cell_type": "code",
   "execution_count": 6,
   "metadata": {},
   "outputs": [
    {
     "data": {
      "application/vnd.jupyter.widget-view+json": {
       "model_id": "a186237252634996a1010ee357e5742e",
       "version_major": 2,
       "version_minor": 0
      },
      "text/plain": [
       "VBox(children=(HTML(value=''), Canvas(toolbar=Toolbar(toolitems=[('Home', 'Reset original view', 'home', 'home…"
      ]
     },
     "metadata": {},
     "output_type": "display_data"
    }
   ],
   "source": [
    "pyriod.TimeSeries()"
   ]
  },
  {
   "cell_type": "code",
   "execution_count": 7,
   "metadata": {},
   "outputs": [
    {
     "data": {
      "application/vnd.jupyter.widget-view+json": {
       "model_id": "c0126035f8a44ccf83167ee2026c9385",
       "version_major": 2,
       "version_minor": 0
      },
      "text/plain": [
       "VBox(children=(HTML(value=''), HBox(children=(Text(value='2705.824892513838', description='Frequency:', placeh…"
      ]
     },
     "metadata": {},
     "output_type": "display_data"
    }
   ],
   "source": [
    "pyriod.Periodogram()"
   ]
  },
  {
   "cell_type": "code",
   "execution_count": 8,
   "metadata": {},
   "outputs": [
    {
     "data": {
      "application/vnd.jupyter.widget-view+json": {
       "model_id": "5cd8ab79d53b408cb5804c579c522fdc",
       "version_major": 2,
       "version_minor": 0
      },
      "text/plain": [
       "VBox(children=(HTML(value=''), HBox(children=(Button(description='Refine fit', icon='refresh', style=ButtonSty…"
      ]
     },
     "metadata": {},
     "output_type": "display_data"
    }
   ],
   "source": [
    "pyriod.Signals()"
   ]
  },
  {
   "cell_type": "code",
   "execution_count": 9,
   "metadata": {},
   "outputs": [
    {
     "data": {
      "application/vnd.jupyter.widget-view+json": {
       "model_id": "6e3c6e4c411d4288b74ba04eab31d1cb",
       "version_major": 2,
       "version_minor": 0
      },
      "text/plain": [
       "VBox(children=(Box(children=(HTML(value=\"2021-06-09 17:37:40,986 - INFO - Initiating Pyriod instance 0.<br>\\n2…"
      ]
     },
     "metadata": {},
     "output_type": "display_data"
    }
   ],
   "source": [
    "pyriod.Log()"
   ]
  },
  {
   "cell_type": "code",
   "execution_count": null,
   "metadata": {},
   "outputs": [],
   "source": []
  },
  {
   "cell_type": "code",
   "execution_count": null,
   "metadata": {},
   "outputs": [],
   "source": []
  },
  {
   "cell_type": "code",
   "execution_count": 37,
   "metadata": {},
   "outputs": [
    {
     "name": "stdout",
     "output_type": "stream",
     "text": [
      "    Attribute                       Description                 \n",
      "------------------ ---------------------------------------------\n",
      "has_masked_columns                                         False\n",
      " has_masked_values                                         False\n",
      " has_mixin_columns                                          True\n",
      "            masked                                         False\n",
      "          colnames                                 list length 5\n",
      "           indices                                 list length 1\n",
      "              flux                                 array (5560,)\n",
      "          flux_err                                 array (5560,)\n",
      "           columns    <class 'astropy.table.table.TableColumns'>\n",
      "             dtype                         <class 'numpy.dtype'>\n",
      "         formatter <class 'astropy.table.pprint.TableFormatter'>\n",
      "            groups    <class 'astropy.table.groups.TableGroups'>\n",
      "              iloc       <class 'astropy.table.index.TableILoc'>\n",
      "               loc        <class 'astropy.table.index.TableLoc'>\n",
      "       loc_indices <class 'astropy.table.index.TableLocIndices'>\n",
      "              mask                            <class 'NoneType'>\n",
      "              meta             <class 'collections.OrderedDict'>\n",
      "       primary_key                               <class 'tuple'>\n",
      "              time              <class 'astropy.time.core.Time'>\n"
     ]
    }
   ],
   "source": [
    "lc.show_properties()"
   ]
  },
  {
   "cell_type": "code",
   "execution_count": 56,
   "metadata": {},
   "outputs": [],
   "source": [
    "per = lc[100:].to_periodogram()"
   ]
  },
  {
   "cell_type": "code",
   "execution_count": 55,
   "metadata": {},
   "outputs": [
    {
     "data": {
      "text/html": [
       "<i>LightCurve length=5560</i>\n",
       "<table id=\"table5525219088\" class=\"table-striped table-bordered table-condensed\">\n",
       "<thead><tr><th>time</th><th>flux</th><th>flux_err</th><th>resid</th><th>adjustedtime</th></tr></thead>\n",
       "<thead><tr><th></th><th></th><th></th><th></th><th></th></tr></thead>\n",
       "<thead><tr><th>object</th><th>float64</th><th>float64</th><th>float64</th><th>object</th></tr></thead>\n",
       "<tr><td>0.0</td><td>-0.07713972</td><td>nan</td><td>-1.07713972</td><td>0.0</td></tr>\n",
       "<tr><td>1.0</td><td>-0.05190331</td><td>nan</td><td>-1.05190331</td><td>1.0</td></tr>\n",
       "<tr><td>2.0</td><td>-0.07880417</td><td>nan</td><td>-1.07880417</td><td>2.0</td></tr>\n",
       "<tr><td>3.0</td><td>-0.07850428</td><td>nan</td><td>-1.07850428</td><td>3.0</td></tr>\n",
       "<tr><td>4.0</td><td>-0.05970605</td><td>nan</td><td>-1.05970605</td><td>4.0</td></tr>\n",
       "<tr><td>5.0</td><td>-0.09382639</td><td>nan</td><td>-1.09382639</td><td>5.0</td></tr>\n",
       "<tr><td>6.0</td><td>-0.0644597</td><td>nan</td><td>-1.0644597</td><td>6.0</td></tr>\n",
       "<tr><td>7.0</td><td>-0.05410377</td><td>nan</td><td>-1.05410377</td><td>7.0</td></tr>\n",
       "<tr><td>8.0</td><td>-0.06588728</td><td>nan</td><td>-1.06588728</td><td>8.0</td></tr>\n",
       "<tr><td>...</td><td>...</td><td>...</td><td>...</td><td>...</td></tr>\n",
       "<tr><td>5550.0</td><td>-0.01744417</td><td>nan</td><td>-1.01744417</td><td>5550.0</td></tr>\n",
       "<tr><td>5551.0</td><td>-0.00986651</td><td>nan</td><td>-1.00986651</td><td>5551.0</td></tr>\n",
       "<tr><td>5552.0</td><td>0.01044022</td><td>nan</td><td>-0.98955978</td><td>5552.0</td></tr>\n",
       "<tr><td>5553.0</td><td>-0.02125131</td><td>nan</td><td>-1.02125131</td><td>5553.0</td></tr>\n",
       "<tr><td>5554.0</td><td>-0.0116291</td><td>nan</td><td>-1.0116291</td><td>5554.0</td></tr>\n",
       "<tr><td>5555.0</td><td>-0.00439068</td><td>nan</td><td>-1.00439068</td><td>5555.0</td></tr>\n",
       "<tr><td>5556.0</td><td>-0.01498948</td><td>nan</td><td>-1.01498948</td><td>5556.0</td></tr>\n",
       "<tr><td>5557.0</td><td>0.08348855</td><td>nan</td><td>-0.91651145</td><td>5557.0</td></tr>\n",
       "<tr><td>5558.0</td><td>0.05208818</td><td>nan</td><td>-0.94791182</td><td>5558.0</td></tr>\n",
       "<tr><td>5559.0</td><td>0.02810839</td><td>nan</td><td>-0.97189161</td><td>5559.0</td></tr>\n",
       "</table>"
      ],
      "text/plain": [
       "<LightCurve length=5560>\n",
       " time      flux    flux_err    resid    adjustedtime\n",
       "                                                    \n",
       "object   float64   float64    float64      object   \n",
       "------ ----------- -------- ----------- ------------\n",
       "   0.0 -0.07713972      nan -1.07713972          0.0\n",
       "   1.0 -0.05190331      nan -1.05190331          1.0\n",
       "   2.0 -0.07880417      nan -1.07880417          2.0\n",
       "   3.0 -0.07850428      nan -1.07850428          3.0\n",
       "   4.0 -0.05970605      nan -1.05970605          4.0\n",
       "   5.0 -0.09382639      nan -1.09382639          5.0\n",
       "   6.0  -0.0644597      nan  -1.0644597          6.0\n",
       "   7.0 -0.05410377      nan -1.05410377          7.0\n",
       "   8.0 -0.06588728      nan -1.06588728          8.0\n",
       "   ...         ...      ...         ...          ...\n",
       "5550.0 -0.01744417      nan -1.01744417       5550.0\n",
       "5551.0 -0.00986651      nan -1.00986651       5551.0\n",
       "5552.0  0.01044022      nan -0.98955978       5552.0\n",
       "5553.0 -0.02125131      nan -1.02125131       5553.0\n",
       "5554.0  -0.0116291      nan  -1.0116291       5554.0\n",
       "5555.0 -0.00439068      nan -1.00439068       5555.0\n",
       "5556.0 -0.01498948      nan -1.01498948       5556.0\n",
       "5557.0  0.08348855      nan -0.91651145       5557.0\n",
       "5558.0  0.05208818      nan -0.94791182       5558.0\n",
       "5559.0  0.02810839      nan -0.97189161       5559.0"
      ]
     },
     "execution_count": 55,
     "metadata": {},
     "output_type": "execute_result"
    }
   ],
   "source": [
    "lc.copy()"
   ]
  },
  {
   "cell_type": "code",
   "execution_count": null,
   "metadata": {},
   "outputs": [],
   "source": []
  },
  {
   "cell_type": "code",
   "execution_count": 35,
   "metadata": {},
   "outputs": [
    {
     "data": {
      "text/latex": [
       "$1.9784173 \\times 10^{-11} \\; \\mathrm{}$"
      ],
      "text/plain": [
       "<Quantity 1.97841728e-11>"
      ]
     },
     "execution_count": 35,
     "metadata": {},
     "output_type": "execute_result"
    }
   ],
   "source": [
    "np.mean(lc.flux)"
   ]
  },
  {
   "cell_type": "code",
   "execution_count": 27,
   "metadata": {},
   "outputs": [],
   "source": [
    "lc[\"adjustedtime\"] = lc.time - lc.time[0]"
   ]
  },
  {
   "cell_type": "code",
   "execution_count": 28,
   "metadata": {},
   "outputs": [
    {
     "data": {
      "text/plain": [
       "<TimeDelta object: scale='tdb' format='jd' value=[0.000e+00 1.000e+00 2.000e+00 ... 5.557e+03 5.558e+03 5.559e+03]>"
      ]
     },
     "execution_count": 28,
     "metadata": {},
     "output_type": "execute_result"
    }
   ],
   "source": [
    "lc[\"adjustedtime\"]"
   ]
  },
  {
   "cell_type": "code",
   "execution_count": 17,
   "metadata": {},
   "outputs": [],
   "source": [
    "lc[\"resid\"] = lc[\"flux\"] - 1."
   ]
  },
  {
   "cell_type": "code",
   "execution_count": 12,
   "metadata": {},
   "outputs": [],
   "source": [
    "lc.time = np.arange(len(lc.time))"
   ]
  },
  {
   "cell_type": "code",
   "execution_count": 13,
   "metadata": {},
   "outputs": [
    {
     "data": {
      "text/plain": [
       "<Time object: scale='tdb' format='jd' value=[0.000e+00 1.000e+00 2.000e+00 ... 5.557e+03 5.558e+03 5.559e+03]>"
      ]
     },
     "execution_count": 13,
     "metadata": {},
     "output_type": "execute_result"
    }
   ],
   "source": [
    "lc.time"
   ]
  },
  {
   "cell_type": "code",
   "execution_count": 5,
   "metadata": {},
   "outputs": [
    {
     "ename": "AttributeError",
     "evalue": "can't set attribute",
     "output_type": "error",
     "traceback": [
      "\u001b[0;31m---------------------------------------------------------------------------\u001b[0m",
      "\u001b[0;31mAttributeError\u001b[0m                            Traceback (most recent call last)",
      "\u001b[0;32m<ipython-input-5-94575959b2fd>\u001b[0m in \u001b[0;36m<module>\u001b[0;34m\u001b[0m\n\u001b[0;32m----> 1\u001b[0;31m \u001b[0mpyriod\u001b[0m \u001b[0;34m=\u001b[0m \u001b[0mPyriod\u001b[0m\u001b[0;34m(\u001b[0m\u001b[0mlc\u001b[0m\u001b[0;34m)\u001b[0m\u001b[0;34m\u001b[0m\u001b[0;34m\u001b[0m\u001b[0m\n\u001b[0m",
      "\u001b[0;32m~/anaconda3/lib/python3.7/site-packages/Pyriod-0.0.11-py3.7.egg/Pyriod/Pyriod.py\u001b[0m in \u001b[0;36m__init__\u001b[0;34m(self, lc, oversample_factor, nyquist_factor, amp_unit, freq_unit, time_unit)\u001b[0m\n\u001b[1;32m    188\u001b[0m \u001b[0;34m\u001b[0m\u001b[0m\n\u001b[1;32m    189\u001b[0m         \u001b[0;31m#Convert time to days\u001b[0m\u001b[0;34m\u001b[0m\u001b[0;34m\u001b[0m\u001b[0;34m\u001b[0m\u001b[0m\n\u001b[0;32m--> 190\u001b[0;31m         \u001b[0mself\u001b[0m\u001b[0;34m.\u001b[0m\u001b[0mlc_orig\u001b[0m\u001b[0;34m.\u001b[0m\u001b[0mtime\u001b[0m\u001b[0;34m.\u001b[0m\u001b[0mvalue\u001b[0m \u001b[0;34m*=\u001b[0m \u001b[0mself\u001b[0m\u001b[0;34m.\u001b[0m\u001b[0mtime_to_days\u001b[0m\u001b[0;34m\u001b[0m\u001b[0;34m\u001b[0m\u001b[0m\n\u001b[0m\u001b[1;32m    191\u001b[0m \u001b[0;34m\u001b[0m\u001b[0m\n\u001b[1;32m    192\u001b[0m         \u001b[0;31m#Maintain a mask of points to exclude from analysis\u001b[0m\u001b[0;34m\u001b[0m\u001b[0;34m\u001b[0m\u001b[0;34m\u001b[0m\u001b[0m\n",
      "\u001b[0;31mAttributeError\u001b[0m: can't set attribute"
     ]
    }
   ],
   "source": [
    "pyriod = Pyriod(lc)"
   ]
  },
  {
   "cell_type": "code",
   "execution_count": 8,
   "metadata": {},
   "outputs": [
    {
     "data": {
      "text/plain": [
       "<Time object: scale='tdb' format='jd' value=[67.78161501 67.78173074 67.78184648 ... 69.01084302 69.01090089\n",
       " 69.01095875]>"
      ]
     },
     "execution_count": 8,
     "metadata": {},
     "output_type": "execute_result"
    }
   ],
   "source": [
    "lc.time"
   ]
  },
  {
   "cell_type": "code",
   "execution_count": 3,
   "metadata": {},
   "outputs": [
    {
     "name": "stderr",
     "output_type": "stream",
     "text": [
      "/Users/keatonb/anaconda3/lib/python3.7/site-packages/ipykernel_launcher.py:2: LightkurveDeprecationWarning: The search_lightcurvefile function is deprecated and may be removed in a future version.\n",
      "        Use search_lightcurve() instead.\n",
      "  \n",
      "/Users/keatonb/anaconda3/lib/python3.7/site-packages/lightkurve/search.py:352: LightkurveWarning: Warning: 2 files available to download. Only the first file has been downloaded. Please use `download_all()` or specify additional criteria (e.g. quarter, campaign, or sector) to limit your search.\n",
      "  LightkurveWarning,\n",
      "Warning: 31% (5960/19412) of the cadences will be ignored due to the quality mask (quality_bitmask=175).\n"
     ]
    },
    {
     "ename": "AttributeError",
     "evalue": "object has no attribute get_lightcurve",
     "output_type": "error",
     "traceback": [
      "\u001b[0;31m---------------------------------------------------------------------------\u001b[0m",
      "\u001b[0;31mAttributeError\u001b[0m                            Traceback (most recent call last)",
      "\u001b[0;32m<ipython-input-3-8bf3a4eb66e9>\u001b[0m in \u001b[0;36m<module>\u001b[0;34m\u001b[0m\n\u001b[1;32m      1\u001b[0m \u001b[0;31m#Download light curve of a DBV white dwarf pulsator observed by TESS\u001b[0m\u001b[0;34m\u001b[0m\u001b[0;34m\u001b[0m\u001b[0;34m\u001b[0m\u001b[0m\n\u001b[0;32m----> 2\u001b[0;31m \u001b[0mlc\u001b[0m \u001b[0;34m=\u001b[0m \u001b[0mlk\u001b[0m\u001b[0;34m.\u001b[0m\u001b[0msearch_lightcurvefile\u001b[0m\u001b[0;34m(\u001b[0m\u001b[0;34m'TIC 257459955'\u001b[0m\u001b[0;34m,\u001b[0m\u001b[0mmission\u001b[0m\u001b[0;34m=\u001b[0m\u001b[0;34m'TESS'\u001b[0m\u001b[0;34m,\u001b[0m\u001b[0msector\u001b[0m\u001b[0;34m=\u001b[0m\u001b[0;36m3\u001b[0m\u001b[0;34m)\u001b[0m\u001b[0;34m.\u001b[0m\u001b[0mdownload\u001b[0m\u001b[0;34m(\u001b[0m\u001b[0;34m)\u001b[0m\u001b[0;34m.\u001b[0m\u001b[0mget_lightcurve\u001b[0m\u001b[0;34m(\u001b[0m\u001b[0;34m\"PDCSAP_FLUX\"\u001b[0m\u001b[0;34m)\u001b[0m\u001b[0;34m.\u001b[0m\u001b[0mflatten\u001b[0m\u001b[0;34m(\u001b[0m\u001b[0;36m2161\u001b[0m\u001b[0;34m)\u001b[0m\u001b[0;34m\u001b[0m\u001b[0;34m\u001b[0m\u001b[0m\n\u001b[0m\u001b[1;32m      3\u001b[0m \u001b[0;31m#lc = lk.LightCurve(1001+np.arange(400),1+np.sin(np.arange(400))+.1*np.random.randn(400))\u001b[0m\u001b[0;34m\u001b[0m\u001b[0;34m\u001b[0m\u001b[0;34m\u001b[0m\u001b[0m\n\u001b[1;32m      4\u001b[0m \u001b[0;31m#lc = lk.search_lightcurvefile('TIC 239678779',mission='TESS',sector=19).download().get_lightcurve(\"PDCSAP_FLUX\").flatten(2161)\u001b[0m\u001b[0;34m\u001b[0m\u001b[0;34m\u001b[0m\u001b[0;34m\u001b[0m\u001b[0m\n\u001b[1;32m      5\u001b[0m \u001b[0;31m#lc = lc.remove_nans()\u001b[0m\u001b[0;34m\u001b[0m\u001b[0;34m\u001b[0m\u001b[0;34m\u001b[0m\u001b[0m\n",
      "\u001b[0;32m~/anaconda3/lib/python3.7/site-packages/lightkurve/lightcurve.py\u001b[0m in \u001b[0;36m__getattr__\u001b[0;34m(self, name, **kwargs)\u001b[0m\n\u001b[1;32m    335\u001b[0m             \u001b[0;32melif\u001b[0m \u001b[0mname\u001b[0m\u001b[0;34m.\u001b[0m\u001b[0mupper\u001b[0m\u001b[0;34m(\u001b[0m\u001b[0;34m)\u001b[0m \u001b[0;32min\u001b[0m \u001b[0mself\u001b[0m\u001b[0;34m.\u001b[0m\u001b[0m__dict__\u001b[0m\u001b[0;34m[\u001b[0m\u001b[0;34m\"_meta\"\u001b[0m\u001b[0;34m]\u001b[0m\u001b[0;34m:\u001b[0m\u001b[0;34m\u001b[0m\u001b[0;34m\u001b[0m\u001b[0m\n\u001b[1;32m    336\u001b[0m                 \u001b[0;32mreturn\u001b[0m \u001b[0mself\u001b[0m\u001b[0;34m.\u001b[0m\u001b[0m__dict__\u001b[0m\u001b[0;34m[\u001b[0m\u001b[0;34m\"_meta\"\u001b[0m\u001b[0;34m]\u001b[0m\u001b[0;34m[\u001b[0m\u001b[0mname\u001b[0m\u001b[0;34m.\u001b[0m\u001b[0mupper\u001b[0m\u001b[0;34m(\u001b[0m\u001b[0;34m)\u001b[0m\u001b[0;34m]\u001b[0m\u001b[0;34m\u001b[0m\u001b[0;34m\u001b[0m\u001b[0m\n\u001b[0;32m--> 337\u001b[0;31m         \u001b[0;32mraise\u001b[0m \u001b[0mAttributeError\u001b[0m\u001b[0;34m(\u001b[0m\u001b[0;34mf\"object has no attribute {name}\"\u001b[0m\u001b[0;34m)\u001b[0m\u001b[0;34m\u001b[0m\u001b[0;34m\u001b[0m\u001b[0m\n\u001b[0m\u001b[1;32m    338\u001b[0m \u001b[0;34m\u001b[0m\u001b[0m\n\u001b[1;32m    339\u001b[0m     \u001b[0;32mdef\u001b[0m \u001b[0m__setattr__\u001b[0m\u001b[0;34m(\u001b[0m\u001b[0mself\u001b[0m\u001b[0;34m,\u001b[0m \u001b[0mname\u001b[0m\u001b[0;34m,\u001b[0m \u001b[0mvalue\u001b[0m\u001b[0;34m,\u001b[0m \u001b[0;34m**\u001b[0m\u001b[0mkwargs\u001b[0m\u001b[0;34m)\u001b[0m\u001b[0;34m:\u001b[0m\u001b[0;34m\u001b[0m\u001b[0;34m\u001b[0m\u001b[0m\n",
      "\u001b[0;31mAttributeError\u001b[0m: object has no attribute get_lightcurve"
     ]
    }
   ],
   "source": [
    "#Download light curve of a DBV white dwarf pulsator observed by TESS\n",
    "#lc = lk.search_lightcurvefile('TIC 257459955',mission='TESS',sector=3).download().get_lightcurve(\"PDCSAP_FLUX\").flatten(2161)\n",
    "#lc = lk.LightCurve(1001+np.arange(400),1+np.sin(np.arange(400))+.1*np.random.randn(400))\n",
    "#lc = lk.search_lightcurvefile('TIC 239678779',mission='TESS',sector=19).download().get_lightcurve(\"PDCSAP_FLUX\").flatten(2161)\n",
    "#lc = lc.remove_nans()"
   ]
  },
  {
   "cell_type": "code",
   "execution_count": 17,
   "metadata": {},
   "outputs": [
    {
     "name": "stderr",
     "output_type": "stream",
     "text": [
      "/Users/keatonb/anaconda3/lib/python3.7/site-packages/lightkurve-2.0.10.dev0-py3.7.egg/lightkurve/search.py:342: LightkurveWarning: Cannot download from an empty search result.\n",
      "  \"Cannot download from an empty search result.\", LightkurveWarning\n"
     ]
    },
    {
     "data": {
      "text/html": [
       "SearchResult containing 0 data products."
      ],
      "text/plain": [
       "SearchResult containing 0 data products."
      ]
     },
     "execution_count": 17,
     "metadata": {},
     "output_type": "execute_result"
    }
   ],
   "source": [
    "lc = lk.search_lightcurve('TIC 257459955',mission='TESS',sector=3,cadence='short').download()\n",
    "lk.search_lightcurve('TIC 257459955',mission='TESS',sector=3,cadence='short')\n",
    "#.download().get_lightcurve(\"PDCSAP_FLUX\").flatten(2161)"
   ]
  },
  {
   "cell_type": "code",
   "execution_count": 16,
   "metadata": {},
   "outputs": [],
   "source": [
    "lc."
   ]
  },
  {
   "cell_type": "code",
   "execution_count": 28,
   "metadata": {},
   "outputs": [
    {
     "ename": "UnitConversionError",
     "evalue": "Can only apply 'add' function to dimensionless quantities when other argument is not a quantity (unless the latter is all zero/infinity/nan)",
     "output_type": "error",
     "traceback": [
      "\u001b[0;31m---------------------------------------------------------------------------\u001b[0m",
      "\u001b[0;31mUnitConversionError\u001b[0m                       Traceback (most recent call last)",
      "\u001b[0;32m<ipython-input-28-e8373a1fda69>\u001b[0m in \u001b[0;36m<module>\u001b[0;34m\u001b[0m\n\u001b[1;32m      1\u001b[0m \u001b[0;31m#By default, a KeplerLightCurve will set the PDCSAP flux to its .flux property.\u001b[0m\u001b[0;34m\u001b[0m\u001b[0;34m\u001b[0m\u001b[0;34m\u001b[0m\u001b[0m\n\u001b[0;32m----> 2\u001b[0;31m \u001b[0mlc\u001b[0m\u001b[0;34m.\u001b[0m\u001b[0mflux\u001b[0m \u001b[0;34m+=\u001b[0m \u001b[0;36m1.2\u001b[0m\u001b[0;34m\u001b[0m\u001b[0;34m\u001b[0m\u001b[0m\n\u001b[0m",
      "\u001b[0;32m~/anaconda3/lib/python3.7/site-packages/astropy/units/quantity.py\u001b[0m in \u001b[0;36m__array_ufunc__\u001b[0;34m(self, function, method, *inputs, **kwargs)\u001b[0m\n\u001b[1;32m    457\u001b[0m         \u001b[0;31m# consistent units between two inputs (e.g., in np.add) --\u001b[0m\u001b[0;34m\u001b[0m\u001b[0;34m\u001b[0m\u001b[0;34m\u001b[0m\u001b[0m\n\u001b[1;32m    458\u001b[0m         \u001b[0;31m# and the unit of the result (or tuple of units for nout > 1).\u001b[0m\u001b[0;34m\u001b[0m\u001b[0;34m\u001b[0m\u001b[0;34m\u001b[0m\u001b[0m\n\u001b[0;32m--> 459\u001b[0;31m         \u001b[0mconverters\u001b[0m\u001b[0;34m,\u001b[0m \u001b[0munit\u001b[0m \u001b[0;34m=\u001b[0m \u001b[0mconverters_and_unit\u001b[0m\u001b[0;34m(\u001b[0m\u001b[0mfunction\u001b[0m\u001b[0;34m,\u001b[0m \u001b[0mmethod\u001b[0m\u001b[0;34m,\u001b[0m \u001b[0;34m*\u001b[0m\u001b[0minputs\u001b[0m\u001b[0;34m)\u001b[0m\u001b[0;34m\u001b[0m\u001b[0;34m\u001b[0m\u001b[0m\n\u001b[0m\u001b[1;32m    460\u001b[0m \u001b[0;34m\u001b[0m\u001b[0m\n\u001b[1;32m    461\u001b[0m         \u001b[0mout\u001b[0m \u001b[0;34m=\u001b[0m \u001b[0mkwargs\u001b[0m\u001b[0;34m.\u001b[0m\u001b[0mget\u001b[0m\u001b[0;34m(\u001b[0m\u001b[0;34m'out'\u001b[0m\u001b[0;34m,\u001b[0m \u001b[0;32mNone\u001b[0m\u001b[0;34m)\u001b[0m\u001b[0;34m\u001b[0m\u001b[0;34m\u001b[0m\u001b[0m\n",
      "\u001b[0;32m~/anaconda3/lib/python3.7/site-packages/astropy/units/quantity_helper/converters.py\u001b[0m in \u001b[0;36mconverters_and_unit\u001b[0;34m(function, method, *args)\u001b[0m\n\u001b[1;32m    187\u001b[0m                             \u001b[0;34m\"argument is not a quantity (unless the \"\u001b[0m\u001b[0;34m\u001b[0m\u001b[0;34m\u001b[0m\u001b[0m\n\u001b[1;32m    188\u001b[0m                             \u001b[0;34m\"latter is all zero/infinity/nan)\"\u001b[0m\u001b[0;34m\u001b[0m\u001b[0;34m\u001b[0m\u001b[0m\n\u001b[0;32m--> 189\u001b[0;31m                             .format(function.__name__))\n\u001b[0m\u001b[1;32m    190\u001b[0m             \u001b[0;32mexcept\u001b[0m \u001b[0mTypeError\u001b[0m\u001b[0;34m:\u001b[0m\u001b[0;34m\u001b[0m\u001b[0;34m\u001b[0m\u001b[0m\n\u001b[1;32m    191\u001b[0m                 \u001b[0;31m# _can_have_arbitrary_unit failed: arg could not be compared\u001b[0m\u001b[0;34m\u001b[0m\u001b[0;34m\u001b[0m\u001b[0;34m\u001b[0m\u001b[0m\n",
      "\u001b[0;31mUnitConversionError\u001b[0m: Can only apply 'add' function to dimensionless quantities when other argument is not a quantity (unless the latter is all zero/infinity/nan)"
     ]
    }
   ],
   "source": [
    "#By default, a KeplerLightCurve will set the PDCSAP flux to its .flux property.\n",
    "lc.flux += 1.2"
   ]
  },
  {
   "cell_type": "code",
   "execution_count": 5,
   "metadata": {},
   "outputs": [
    {
     "ename": "AttributeError",
     "evalue": "can't set attribute",
     "output_type": "error",
     "traceback": [
      "\u001b[0;31m---------------------------------------------------------------------------\u001b[0m",
      "\u001b[0;31mAttributeError\u001b[0m                            Traceback (most recent call last)",
      "\u001b[0;32m<ipython-input-5-58a7cf7ae78d>\u001b[0m in \u001b[0;36m<module>\u001b[0;34m\u001b[0m\n\u001b[1;32m      1\u001b[0m \u001b[0;31m#Instantiate Pyriod object\u001b[0m\u001b[0;34m\u001b[0m\u001b[0;34m\u001b[0m\u001b[0;34m\u001b[0m\u001b[0m\n\u001b[1;32m      2\u001b[0m \u001b[0;31m#pyriod = Pyriod(lc)\u001b[0m\u001b[0;34m\u001b[0m\u001b[0;34m\u001b[0m\u001b[0;34m\u001b[0m\u001b[0m\n\u001b[0;32m----> 3\u001b[0;31m \u001b[0mpyriod\u001b[0m \u001b[0;34m=\u001b[0m \u001b[0mPyriod\u001b[0m\u001b[0;34m(\u001b[0m\u001b[0mtime\u001b[0m\u001b[0;34m=\u001b[0m\u001b[0mtime\u001b[0m\u001b[0;34m[\u001b[0m\u001b[0mapril\u001b[0m\u001b[0;34m]\u001b[0m\u001b[0;34m,\u001b[0m\u001b[0mflux\u001b[0m\u001b[0;34m=\u001b[0m\u001b[0mflux\u001b[0m\u001b[0;34m[\u001b[0m\u001b[0mapril\u001b[0m\u001b[0;34m]\u001b[0m\u001b[0;34m,\u001b[0m\u001b[0mnyquist_factor\u001b[0m\u001b[0;34m=\u001b[0m\u001b[0;36m0.5\u001b[0m\u001b[0;34m)\u001b[0m\u001b[0;34m\u001b[0m\u001b[0;34m\u001b[0m\u001b[0m\n\u001b[0m",
      "\u001b[0;32m~/anaconda3/lib/python3.7/site-packages/Pyriod-0.0.10-py3.7.egg/Pyriod/Pyriod.py\u001b[0m in \u001b[0;36m__init__\u001b[0;34m(self, lc, time, flux, oversample_factor, nyquist_factor, amp_unit, freq_unit, time_unit)\u001b[0m\n\u001b[1;32m    192\u001b[0m             \u001b[0mself\u001b[0m\u001b[0;34m.\u001b[0m\u001b[0mlc_orig\u001b[0m \u001b[0;34m=\u001b[0m \u001b[0mlk\u001b[0m\u001b[0;34m.\u001b[0m\u001b[0mLightCurve\u001b[0m\u001b[0;34m(\u001b[0m\u001b[0mtime\u001b[0m\u001b[0;34m=\u001b[0m\u001b[0mtime\u001b[0m\u001b[0;34m.\u001b[0m\u001b[0mcopy\u001b[0m\u001b[0;34m(\u001b[0m\u001b[0;34m)\u001b[0m\u001b[0;34m,\u001b[0m \u001b[0mflux\u001b[0m\u001b[0;34m=\u001b[0m\u001b[0mflux\u001b[0m\u001b[0;34m.\u001b[0m\u001b[0mcopy\u001b[0m\u001b[0;34m(\u001b[0m\u001b[0;34m)\u001b[0m\u001b[0;34m)\u001b[0m\u001b[0;34m\u001b[0m\u001b[0;34m\u001b[0m\u001b[0m\n\u001b[1;32m    193\u001b[0m         \u001b[0;31m#Convert time to days\u001b[0m\u001b[0;34m\u001b[0m\u001b[0;34m\u001b[0m\u001b[0;34m\u001b[0m\u001b[0m\n\u001b[0;32m--> 194\u001b[0;31m         \u001b[0mself\u001b[0m\u001b[0;34m.\u001b[0m\u001b[0mlc_orig\u001b[0m\u001b[0;34m.\u001b[0m\u001b[0mtime\u001b[0m\u001b[0;34m.\u001b[0m\u001b[0mvalue\u001b[0m \u001b[0;34m*=\u001b[0m \u001b[0mself\u001b[0m\u001b[0;34m.\u001b[0m\u001b[0mtime_to_days\u001b[0m\u001b[0;34m\u001b[0m\u001b[0;34m\u001b[0m\u001b[0m\n\u001b[0m\u001b[1;32m    195\u001b[0m \u001b[0;34m\u001b[0m\u001b[0m\n\u001b[1;32m    196\u001b[0m         \u001b[0;31m#Maintain a mask of points to exclude from analysis\u001b[0m\u001b[0;34m\u001b[0m\u001b[0;34m\u001b[0m\u001b[0;34m\u001b[0m\u001b[0m\n",
      "\u001b[0;31mAttributeError\u001b[0m: can't set attribute"
     ]
    }
   ],
   "source": [
    "#Instantiate Pyriod object\n",
    "#pyriod = Pyriod(lc)\n",
    "pyriod = Pyriod(time=time[april],flux=flux[april],nyquist_factor=0.5)"
   ]
  },
  {
   "cell_type": "code",
   "execution_count": 4,
   "metadata": {
    "scrolled": false
   },
   "outputs": [
    {
     "data": {
      "application/vnd.jupyter.widget-view+json": {
       "model_id": "dd80ad5344a7470490364d18bd1190d3",
       "version_major": 2,
       "version_minor": 0
      },
      "text/plain": [
       "VBox(children=(Canvas(toolbar=Toolbar(toolitems=[('Home', 'Reset original view', 'home', 'home'), ('Back', 'Ba…"
      ]
     },
     "metadata": {},
     "output_type": "display_data"
    }
   ],
   "source": [
    "#Interact with time series\n",
    "pyriod.TimeSeries()"
   ]
  },
  {
   "cell_type": "code",
   "execution_count": 6,
   "metadata": {},
   "outputs": [
    {
     "data": {
      "text/plain": [
       "str"
      ]
     },
     "execution_count": 6,
     "metadata": {},
     "output_type": "execute_result"
    }
   ],
   "source": []
  },
  {
   "cell_type": "code",
   "execution_count": 7,
   "metadata": {},
   "outputs": [],
   "source": [
    "tab = pyriod.per_orig.to_table()"
   ]
  },
  {
   "cell_type": "code",
   "execution_count": 8,
   "metadata": {},
   "outputs": [],
   "source": [
    "np.savetxt('lightcurve.txt',np.vstack((pyriod.lc_orig.time,pyriod.lc_orig.flux)).T)"
   ]
  },
  {
   "cell_type": "code",
   "execution_count": 9,
   "metadata": {},
   "outputs": [],
   "source": [
    "np.savetxt('periodogram.txt',np.vstack((pyriod.per_orig.frequency.value,pyriod.per_orig.power.value)).T)\n"
   ]
  },
  {
   "cell_type": "code",
   "execution_count": 5,
   "metadata": {
    "scrolled": false
   },
   "outputs": [
    {
     "data": {
      "application/vnd.jupyter.widget-view+json": {
       "model_id": "e8b086af15194711bfe351b84c3d9489",
       "version_major": 2,
       "version_minor": 0
      },
      "text/plain": [
       "VBox(children=(HBox(children=(Text(value='2705.8339307598258', description='Frequency:', placeholder=''), Floa…"
      ]
     },
     "metadata": {},
     "output_type": "display_data"
    }
   ],
   "source": [
    "#Interact with periodogram\n",
    "pyriod.Periodogram()"
   ]
  },
  {
   "cell_type": "code",
   "execution_count": 6,
   "metadata": {
    "scrolled": false
   },
   "outputs": [
    {
     "data": {
      "application/vnd.jupyter.widget-view+json": {
       "model_id": "8297704cec00494aba6fa623c3472884",
       "version_major": 2,
       "version_minor": 0
      },
      "text/plain": [
       "VBox(children=(HBox(children=(Button(description='Refine fit', icon='refresh', style=ButtonStyle(), tooltip='R…"
      ]
     },
     "metadata": {},
     "output_type": "display_data"
    }
   ],
   "source": [
    "#Interact with frequency solution\n",
    "pyriod.Signals()"
   ]
  },
  {
   "cell_type": "code",
   "execution_count": 7,
   "metadata": {},
   "outputs": [
    {
     "data": {
      "application/vnd.jupyter.widget-view+json": {
       "model_id": "d894e4cb3ab54c4a8169138b15bd11ce",
       "version_major": 2,
       "version_minor": 0
      },
      "text/plain": [
       "VBox(children=(Box(children=(HTML(value=\"2020-08-26 22:36:56,745 - INFO - Periodogram properties: nterms 1 |\\n…"
      ]
     },
     "metadata": {},
     "output_type": "display_data"
    }
   ],
   "source": [
    "#Interact with log\n",
    "pyriod.Log()"
   ]
  },
  {
   "cell_type": "code",
   "execution_count": 12,
   "metadata": {},
   "outputs": [],
   "source": [
    "def sigthreshold(snr = 5., fmin=None, fmax=None, winspacing = 100, winwidth = 100):\n",
    "    if fmin is None:\n",
    "        fmin = np.min(pyriod.freqs)\n",
    "    if fmax is None:\n",
    "        fmax = np.max(pyriod.freqs)\n",
    "    wincenters = np.arange(fmin + winwidth/2.,fmax - winwidth/2.,winspacing)\n",
    "    means = np.zeros(wincenters.shape)\n",
    "    for i in range(len(wincenters)):\n",
    "        inwin = np.where((pyriod.freqs >= wincenters[i] - winwidth/2.) & (pyriod.freqs < wincenters[i] + winwidth/2.))[0]\n",
    "        if len(inwin) > 0:\n",
    "            means[i] = np.mean(pyriod.per_resid[inwin].power.value)\n",
    "        else:\n",
    "            means[i] = np.nan\n",
    "    return wincenters,means*snr\n",
    "    "
   ]
  },
  {
   "cell_type": "code",
   "execution_count": 13,
   "metadata": {},
   "outputs": [
    {
     "data": {
      "text/plain": [
       "[<matplotlib.lines.Line2D at 0x1c2f189850>]"
      ]
     },
     "execution_count": 13,
     "metadata": {},
     "output_type": "execute_result"
    }
   ],
   "source": [
    "pyriod.perax.plot(sigthreshold()[0],sigthreshold()[1],ls='--',c='r')"
   ]
  },
  {
   "cell_type": "code",
   "execution_count": 14,
   "metadata": {},
   "outputs": [],
   "source": [
    "pyriod.perfig.canvas.draw()"
   ]
  },
  {
   "cell_type": "code",
   "execution_count": 48,
   "metadata": {},
   "outputs": [
    {
     "data": {
      "text/plain": [
       "(array([  50.03989875,  150.03989875,  250.03989875,  350.03989875,\n",
       "         450.03989875,  550.03989875,  650.03989875,  750.03989875,\n",
       "         850.03989875,  950.03989875, 1050.03989875, 1150.03989875,\n",
       "        1250.03989875, 1350.03989875, 1450.03989875, 1550.03989875,\n",
       "        1650.03989875, 1750.03989875, 1850.03989875, 1950.03989875,\n",
       "        2050.03989875, 2150.03989875, 2250.03989875, 2350.03989875,\n",
       "        2450.03989875, 2550.03989875, 2650.03989875, 2750.03989875,\n",
       "        2850.03989875, 2950.03989875, 3050.03989875, 3150.03989875,\n",
       "        3250.03989875, 3350.03989875, 3450.03989875, 3550.03989875,\n",
       "        3650.03989875, 3750.03989875, 3850.03989875, 3950.03989875,\n",
       "        4050.03989875]),\n",
       " array([28.32273923, 23.97007747, 19.25694495, 17.9035875 , 16.97457346,\n",
       "        17.98858551, 17.67309004, 17.4528343 , 16.76670236, 15.69426128,\n",
       "        16.73878622, 15.93269047, 17.20388103, 16.28612921, 17.3003272 ,\n",
       "        16.79179852, 16.36991363, 15.26384776, 18.3224088 , 17.14840052,\n",
       "        17.02920947, 16.77896927, 17.13885406, 16.67120281, 16.45717655,\n",
       "        15.3763551 , 15.41167872, 16.80240221, 17.09069418, 16.26805354,\n",
       "        16.91176118, 16.43229422, 15.95367875, 17.10925769, 17.00603897,\n",
       "        16.06920237, 15.89288551, 16.31423578, 17.52224107, 16.43087831,\n",
       "        17.59327711]))"
      ]
     },
     "execution_count": 48,
     "metadata": {},
     "output_type": "execute_result"
    }
   ],
   "source": [
    "sigthreshold()"
   ]
  },
  {
   "cell_type": "code",
   "execution_count": 7,
   "metadata": {},
   "outputs": [
    {
     "data": {
      "text/html": [
       "<div>\n",
       "<style scoped>\n",
       "    .dataframe tbody tr th:only-of-type {\n",
       "        vertical-align: middle;\n",
       "    }\n",
       "\n",
       "    .dataframe tbody tr th {\n",
       "        vertical-align: top;\n",
       "    }\n",
       "\n",
       "    .dataframe thead th {\n",
       "        text-align: right;\n",
       "    }\n",
       "</style>\n",
       "<table border=\"1\" class=\"dataframe\">\n",
       "  <thead>\n",
       "    <tr style=\"text-align: right;\">\n",
       "      <th></th>\n",
       "      <th>include</th>\n",
       "      <th>freq</th>\n",
       "      <th>fixfreq</th>\n",
       "      <th>freqerr</th>\n",
       "      <th>amp</th>\n",
       "      <th>fixamp</th>\n",
       "      <th>amperr</th>\n",
       "      <th>phase</th>\n",
       "      <th>fixphase</th>\n",
       "      <th>phaseerr</th>\n",
       "    </tr>\n",
       "  </thead>\n",
       "  <tbody>\n",
       "    <tr>\n",
       "      <th>f0</th>\n",
       "      <td>True</td>\n",
       "      <td>2705.868500</td>\n",
       "      <td>False</td>\n",
       "      <td>0.0178148</td>\n",
       "      <td>0.10263</td>\n",
       "      <td>False</td>\n",
       "      <td>0.000477255</td>\n",
       "      <td>0.290194</td>\n",
       "      <td>False</td>\n",
       "      <td>0.00073837</td>\n",
       "    </tr>\n",
       "    <tr>\n",
       "      <th>f1</th>\n",
       "      <td>True</td>\n",
       "      <td>5411.697316</td>\n",
       "      <td>False</td>\n",
       "      <td>0.0455364</td>\n",
       "      <td>0.04016</td>\n",
       "      <td>False</td>\n",
       "      <td>0.000476896</td>\n",
       "      <td>0.604638</td>\n",
       "      <td>False</td>\n",
       "      <td>0.00188829</td>\n",
       "    </tr>\n",
       "  </tbody>\n",
       "</table>\n",
       "</div>"
      ],
      "text/plain": [
       "    include         freq  fixfreq    freqerr      amp  fixamp       amperr  \\\n",
       "f0     True  2705.868500    False  0.0178148  0.10263   False  0.000477255   \n",
       "f1     True  5411.697316    False  0.0455364  0.04016   False  0.000476896   \n",
       "\n",
       "       phase  fixphase    phaseerr  \n",
       "f0  0.290194     False  0.00073837  \n",
       "f1  0.604638     False  0.00188829  "
      ]
     },
     "execution_count": 7,
     "metadata": {},
     "output_type": "execute_result"
    }
   ],
   "source": [
    "pyriod.values"
   ]
  },
  {
   "cell_type": "code",
   "execution_count": 8,
   "metadata": {},
   "outputs": [],
   "source": [
    "pyriod.save_solution('SendToKeaton.dat')"
   ]
  },
  {
   "cell_type": "code",
   "execution_count": 29,
   "metadata": {},
   "outputs": [
    {
     "data": {
      "text/plain": [
       "lightkurve.lightcurve.TessLightCurve"
      ]
     },
     "execution_count": 29,
     "metadata": {},
     "output_type": "execute_result"
    }
   ],
   "source": [
    "lk.TessLightCurve"
   ]
  },
  {
   "cell_type": "code",
   "execution_count": 34,
   "metadata": {},
   "outputs": [
    {
     "data": {
      "text/plain": [
       "True"
      ]
     },
     "execution_count": 34,
     "metadata": {},
     "output_type": "execute_result"
    }
   ],
   "source": [
    "issubclass(lk.TessLightCurve,lk.LightCurve)"
   ]
  },
  {
   "cell_type": "code",
   "execution_count": null,
   "metadata": {},
   "outputs": [],
   "source": []
  }
 ],
 "metadata": {
  "kernelspec": {
   "display_name": "Python 3",
   "language": "python",
   "name": "python3"
  },
  "language_info": {
   "codemirror_mode": {
    "name": "ipython",
    "version": 3
   },
   "file_extension": ".py",
   "mimetype": "text/x-python",
   "name": "python",
   "nbconvert_exporter": "python",
   "pygments_lexer": "ipython3",
   "version": "3.7.5"
  }
 },
 "nbformat": 4,
 "nbformat_minor": 2
}
