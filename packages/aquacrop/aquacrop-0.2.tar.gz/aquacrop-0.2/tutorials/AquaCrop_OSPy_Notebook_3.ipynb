{
 "cells": [
  {
   "cell_type": "markdown",
   "metadata": {
    "id": "F46q9WuSNxCZ"
   },
   "source": [
    "# AquaCrop-OSPy: Bridging the gap between research and practice in crop-water modelling\n"
   ]
  },
  {
   "cell_type": "markdown",
   "metadata": {
    "id": "qrRbaHsji3A-"
   },
   "source": [
    "This series of notebooks provides users with an introduction to AquaCrop-OSPy, an open-source Python implementation of the U.N. Food and Agriculture Organization (FAO) AquaCrop model. AquaCrop-OSPy is accompanied by a series of Jupyter notebooks, which guide users interactively through a range of common applications of the model. Only basic Python experience is required, and the notebooks can easily be extended and adapted by users for their own applications and needs."
   ]
  },
  {
   "cell_type": "markdown",
   "metadata": {
    "id": "YDm931IGNxCb"
   },
   "source": [
    "\n",
    "This notebook series consists of four parts:\n",
    "\n",
    "1.   <a href=https://colab.research.google.com/github/thomasdkelly/aquacrop/blob/master/tutorials/AquaCrop_OSPy_Notebook_1.ipynb>Running an AquaCrop-OSPy model</a>\n",
    "2.   <a href=https://colab.research.google.com/github/thomasdkelly/aquacrop/blob/master/tutorials/AquaCrop_OSPy_Notebook_2.ipynb>Estimation of irrigation water demands</a>\n",
    "3.   <a href=https://colab.research.google.com/github/thomasdkelly/aquacrop/blob/master/tutorials/AquaCrop_OSPy_Notebook_3.ipynb>Optimisation of irrigation management strategies</a>\n",
    "4.  <a href=https://colab.research.google.com/github/thomasdkelly/aquacrop/blob/master/tutorials/AquaCrop_OSPy_Notebook_4.ipynb>Projection of climate change impacts</a>\n"
   ]
  },
  {
   "cell_type": "markdown",
   "metadata": {
    "id": "06mipdLvNxDM"
   },
   "source": [
    "# Notebook 3: Developing and optimizing irrigation stratgeies "
   ]
  },
  {
   "cell_type": "markdown",
   "metadata": {
    "id": "UtTYfAETdnap"
   },
   "source": [
    "In the previous notebook, we looked at how to simulate yields and water use for different pre-specified irrigation management practices or rules. However, what if you wanted to know which strategy would give you the maximum yield for a given amount of irrigation water use? In this notebook, we look at how optimal irrigation schedules can be identified by linking AquaCrop-OSPy with one of the many optimization modules in available in the python ecosystem.\n",
    "\n",
    "Our specific example focuses on optimizing soil-moisture thresholds which are commonly used both in practice and literature on optimizing irrigation decisions. During the growing season, if the soil-moisture content drops below the threshold, irrigation is applied to refill the soil profile back to field capacity subject to a maximum irrigation depth. AquaCrop-OSPy allows you to define four thresholds corresponding to four main growing periods (emergence, canopy growth, max canopy and senescence). Changing the threshold depending on crop growth stage reflects the fact that crop water requirements and drought stress responses vary over the course of the season. \n",
    "\n",
    "Using the optimization library `scipy.optimize` we will find sets of soil-moisture thresholds that maximize yields for a Maize crop located in Champion Nebraska. The optimization will be repeated for different water supply constraints (maximum amount of water that can be applied in a given season). The simulation will take place over 3 years (2016-2018)."
   ]
  },
  {
   "cell_type": "markdown",
   "metadata": {
    "id": "wRrE1XpNEDzd"
   },
   "source": [
    "Import and install AquaCrop-OSPy"
   ]
  },
  {
   "cell_type": "code",
   "execution_count": 1,
   "metadata": {
    "id": "YeE-XYevED-d",
    "tags": []
   },
   "outputs": [],
   "source": [
    "# !pip install aquacrop==0.2\n",
    "\n",
    "# from aquacrop.classes import    *\n",
    "# from aquacrop.core import       *\n",
    "\n",
    "# from google.colab import output\n",
    "# output.clear()"
   ]
  },
  {
   "cell_type": "code",
   "execution_count": 2,
   "metadata": {},
   "outputs": [],
   "source": [
    "# only used for local development\n",
    "\n",
    "import sys\n",
    "_=[sys.path.append(i) for i in ['.', '..']]\n",
    "\n",
    "from aquacrop.classes import    *\n",
    "from aquacrop.core import       *"
   ]
  },
  {
   "cell_type": "code",
   "execution_count": 3,
   "metadata": {
    "id": "pTbK0IL2FTX0"
   },
   "outputs": [],
   "source": [
    "path = get_filepath('champion_climate.txt')\n",
    "wdf = prepare_weather(path)"
   ]
  },
  {
   "cell_type": "markdown",
   "metadata": {
    "id": "SEHCszsGOs0V"
   },
   "source": [
    "Define a function called `run_model` that creates and runs an AquaCrop model (just like in the previous notebooks), and returns the final output."
   ]
  },
  {
   "cell_type": "code",
   "execution_count": 4,
   "metadata": {
    "id": "4iZrXVK31BHQ"
   },
   "outputs": [],
   "source": [
    "def run_model(smts,max_irr_season,year1,year2):\n",
    "    \"\"\"\n",
    "    funciton to run model and return results for given set of soil moisture targets\n",
    "    \"\"\"\n",
    "\n",
    "    maize = CropClass('Maize',PlantingDate='05/01') # define crop\n",
    "    loam = SoilClass('ClayLoam') # define soil\n",
    "    init_wc = InitWCClass(wc_type='Pct',value=[70]) # define initial soil water conditions\n",
    "\n",
    "    irrmngt = IrrMngtClass(IrrMethod=1,SMT=smts,MaxIrrSeason=max_irr_season) # define irrigation management\n",
    "\n",
    "    # create and run model\n",
    "    model = AquaCropModel(f'{year1}/05/01',f'{year2}/10/31',wdf,loam,maize,\n",
    "                          IrrMngt=irrmngt,InitWC=init_wc)\n",
    "    model.initialize()\n",
    "    model.step(till_termination=True)\n",
    "    return model.Outputs.Final\n"
   ]
  },
  {
   "cell_type": "code",
   "execution_count": 5,
   "metadata": {
    "colab": {
     "base_uri": "https://localhost:8080/",
     "height": 80
    },
    "id": "IvQmxGZjFEX0",
    "outputId": "89d46f21-91fe-4d77-c6ff-e11c4426fcef"
   },
   "outputs": [
    {
     "data": {
      "text/html": [
       "<div>\n",
       "<style scoped>\n",
       "    .dataframe tbody tr th:only-of-type {\n",
       "        vertical-align: middle;\n",
       "    }\n",
       "\n",
       "    .dataframe tbody tr th {\n",
       "        vertical-align: top;\n",
       "    }\n",
       "\n",
       "    .dataframe thead th {\n",
       "        text-align: right;\n",
       "    }\n",
       "</style>\n",
       "<table border=\"1\" class=\"dataframe\">\n",
       "  <thead>\n",
       "    <tr style=\"text-align: right;\">\n",
       "      <th></th>\n",
       "      <th>Season</th>\n",
       "      <th>Crop Type</th>\n",
       "      <th>Harvest Date (YYYY/MM/DD)</th>\n",
       "      <th>Harvest Date (Step)</th>\n",
       "      <th>Yield (tonne/ha)</th>\n",
       "      <th>Seasonal irrigation (mm)</th>\n",
       "    </tr>\n",
       "  </thead>\n",
       "  <tbody>\n",
       "    <tr>\n",
       "      <th>0</th>\n",
       "      <td>0</td>\n",
       "      <td>Maize</td>\n",
       "      <td>2018-09-16</td>\n",
       "      <td>137</td>\n",
       "      <td>14.240747</td>\n",
       "      <td>300.0</td>\n",
       "    </tr>\n",
       "  </tbody>\n",
       "</table>\n",
       "</div>"
      ],
      "text/plain": [
       "  Season Crop Type Harvest Date (YYYY/MM/DD) Harvest Date (Step)  \\\n",
       "0      0     Maize                2018-09-16                 137   \n",
       "\n",
       "   Yield (tonne/ha)  Seasonal irrigation (mm)  \n",
       "0         14.240747                     300.0  "
      ]
     },
     "execution_count": 5,
     "metadata": {},
     "output_type": "execute_result"
    }
   ],
   "source": [
    "run_model([70]*4,300,2018,2018)"
   ]
  },
  {
   "cell_type": "markdown",
   "metadata": {
    "id": "cJRQ_AK71BlK"
   },
   "source": [
    "Define `evaluate` will act as a reward function for the optimization library to optimize. Inside this function we run the model and return the reward (in this case the average yield).\n"
   ]
  },
  {
   "cell_type": "code",
   "execution_count": 6,
   "metadata": {
    "id": "jqDhsQX81Bvx"
   },
   "outputs": [],
   "source": [
    "import numpy as np # import numpy library\n",
    "\n",
    "def evaluate(smts,max_irr_season,test=False):\n",
    "    \"\"\"\n",
    "    funciton to run model and calculate reward (yield) for given set of soil moisture targets\n",
    "    \"\"\"\n",
    "    # run model\n",
    "    out = run_model(smts,max_irr_season,year1=2016,year2=2018)\n",
    "    # get yields and total irrigation\n",
    "    yld = out['Yield (tonne/ha)'].mean()\n",
    "    tirr = out['Seasonal irrigation (mm)'].mean()\n",
    "\n",
    "    reward=yld\n",
    "\n",
    "    # return either the negative reward (for the optimization)\n",
    "    # or the yield and total irrigation (for analysis)\n",
    "    if test:\n",
    "        return yld,tirr,reward\n",
    "    else:\n",
    "        return -reward\n"
   ]
  },
  {
   "cell_type": "code",
   "execution_count": 7,
   "metadata": {
    "colab": {
     "base_uri": "https://localhost:8080/"
    },
    "id": "qjd3YYIEnbCQ",
    "outputId": "44fc0b87-82bc-4ade-dcc1-e040852b7fc0"
   },
   "outputs": [
    {
     "data": {
      "text/plain": [
       "-13.34649322842047"
      ]
     },
     "execution_count": 7,
     "metadata": {},
     "output_type": "execute_result"
    }
   ],
   "source": [
    "evaluate([70]*4,300)"
   ]
  },
  {
   "cell_type": "markdown",
   "metadata": {
    "id": "5MHlW3OU1B5Y"
   },
   "source": [
    "Define `get_starting_point` that chooses a set of random irrigation strategies and evaluates them to give us a good starting point for our optimization. (Since we are only using a local minimization function this will help get a good result)"
   ]
  },
  {
   "cell_type": "code",
   "execution_count": 8,
   "metadata": {
    "id": "2vmaxOt51CCJ"
   },
   "outputs": [],
   "source": [
    "def get_starting_point(num_smts,max_irr_season,num_searches):\n",
    "    \"\"\"\n",
    "    find good starting threshold(s) for optimization\n",
    "    \"\"\"\n",
    "\n",
    "    # get random SMT's\n",
    "    x0list = np.random.rand(num_searches,num_smts)*100\n",
    "    rlist=[]\n",
    "    # evaluate random SMT's\n",
    "    for xtest in x0list:\n",
    "        r = evaluate(xtest,max_irr_season,)\n",
    "        rlist.append(r)\n",
    "\n",
    "    # save best SMT\n",
    "    x0=x0list[np.argmin(rlist)]\n",
    "    \n",
    "    return x0"
   ]
  },
  {
   "cell_type": "code",
   "execution_count": 9,
   "metadata": {
    "colab": {
     "base_uri": "https://localhost:8080/"
    },
    "id": "5n0uXS69oSht",
    "outputId": "8114ce0d-aa0a-4380-d1f5-36adf083bb63"
   },
   "outputs": [
    {
     "data": {
      "text/plain": [
       "array([54.55006524, 61.304644  , 60.43616017, 59.33358653])"
      ]
     },
     "execution_count": 9,
     "metadata": {},
     "output_type": "execute_result"
    }
   ],
   "source": [
    "get_starting_point(4,300,10)"
   ]
  },
  {
   "cell_type": "markdown",
   "metadata": {
    "id": "7jiBcJX21CLq"
   },
   "source": [
    "Define `optimize` that uses the `scipy.optimize.fmin` optimization package to find yield maximizing irrigation strategies for a maximum seasonal irrigation limit. \n"
   ]
  },
  {
   "cell_type": "code",
   "execution_count": 10,
   "metadata": {
    "id": "-DWJXZky09hD"
   },
   "outputs": [],
   "source": [
    "from scipy.optimize import fmin\n",
    "\n",
    "def optimize(num_smts,max_irr_season,num_searches=100):\n",
    "    \"\"\" \n",
    "    optimize thresholds to be profit maximising\n",
    "    \"\"\"\n",
    "    # get starting optimization strategy\n",
    "    x0=get_starting_point(num_smts,max_irr_season,num_searches)\n",
    "    # run optimization\n",
    "    res = fmin(evaluate, x0,disp=0,args=(max_irr_season,))\n",
    "    # reshape array\n",
    "    smts= res.squeeze()\n",
    "    # evaluate optimal strategy\n",
    "    return smts"
   ]
  },
  {
   "cell_type": "code",
   "execution_count": 11,
   "metadata": {
    "id": "BJzmQJRiJgBi"
   },
   "outputs": [],
   "source": [
    "smts=optimize(4,300)"
   ]
  },
  {
   "cell_type": "code",
   "execution_count": 12,
   "metadata": {
    "colab": {
     "base_uri": "https://localhost:8080/"
    },
    "id": "lqO0byzyMdzs",
    "outputId": "77716d13-0cb0-4ad8-a0aa-e87126864189"
   },
   "outputs": [
    {
     "data": {
      "text/plain": [
       "(13.906724094616036, 300.0, 13.906724094616036)"
      ]
     },
     "execution_count": 12,
     "metadata": {},
     "output_type": "execute_result"
    }
   ],
   "source": [
    "evaluate(smts,300,True)"
   ]
  },
  {
   "cell_type": "markdown",
   "metadata": {
    "id": "iv43bK1rPSPj"
   },
   "source": [
    "For a range of maximum seasonal irrigation limits (0-450mm), find the yield maximizing irrigation schedule."
   ]
  },
  {
   "cell_type": "code",
   "execution_count": 13,
   "metadata": {
    "colab": {
     "base_uri": "https://localhost:8080/",
     "height": 67,
     "referenced_widgets": [
      "16d4a0a9fb874664a594b305548d04a4",
      "7f7c71d9dbae40f6b3a69ca677be0e3a",
      "f5248ac50210423fbe9a2c9b4731f0e5",
      "c60073f87a7442d8a9ef28e073a6cabe",
      "731b323d2d68489895901fbbd8745642",
      "fbe8ed49f0ef44ab8192620a1868d68a",
      "84dcc4b2992d44918a13e58edc214ca4",
      "56d76fed5bcd4efea2ca860e8b2d73d0"
     ]
    },
    "id": "inrpfwj2NxDS",
    "outputId": "a94b556f-c02b-44f9-adcf-e3c12dec1a63"
   },
   "outputs": [
    {
     "data": {
      "application/vnd.jupyter.widget-view+json": {
       "model_id": "8658872388df4a049cafc4cf3f07e90f",
       "version_major": 2,
       "version_minor": 0
      },
      "text/plain": [
       "  0%|          | 0/10 [00:00<?, ?it/s]"
      ]
     },
     "metadata": {},
     "output_type": "display_data"
    }
   ],
   "source": [
    "from tqdm.notebook import tqdm # progress bar\n",
    "\n",
    "opt_smts=[]\n",
    "yld_list=[]\n",
    "tirr_list=[]\n",
    "for max_irr in tqdm(range(0,500,50)):\n",
    "    \n",
    "\n",
    "    # find optimal thresholds and save to list\n",
    "    smts=optimize(4,max_irr)\n",
    "    opt_smts.append(smts)\n",
    "\n",
    "    # save the optimal yield and total irrigation\n",
    "    yld,tirr,_=evaluate(smts,max_irr,True)\n",
    "    yld_list.append(yld)\n",
    "    tirr_list.append(tirr)"
   ]
  },
  {
   "cell_type": "markdown",
   "metadata": {
    "id": "Lw0iPcZ6pSKl"
   },
   "source": [
    "Visualize the optimal yield and total irrigation, creating a crop-water production function."
   ]
  },
  {
   "cell_type": "code",
   "execution_count": 14,
   "metadata": {
    "colab": {
     "base_uri": "https://localhost:8080/",
     "height": 505
    },
    "id": "8uXbVnWGQDuI",
    "outputId": "9edeac35-9715-4031-8e92-b71cdd752215"
   },
   "outputs": [
    {
     "data": {
      "image/png": "[encoded data removed]",
      "text/plain": [
       "<Figure size 936x576 with 1 Axes>"
      ]
     },
     "metadata": {
      "needs_background": "light"
     },
     "output_type": "display_data"
    }
   ],
   "source": [
    "# import plotting library\n",
    "import matplotlib.pyplot as plt\n",
    "\n",
    "# create plot\n",
    "fig,ax=plt.subplots(1,1,figsize=(13,8))\n",
    "\n",
    "# plot results\n",
    "ax.scatter(tirr_list,yld_list)\n",
    "ax.plot(tirr_list,yld_list)\n",
    "\n",
    "# labels\n",
    "ax.set_xlabel('Total Irrigation (ha-mm)',fontsize=18)\n",
    "ax.set_ylabel('Yield (tonne/ha)',fontsize=18)\n",
    "ax.set_xlim([-20,600])\n",
    "ax.set_ylim([2,15.5])\n",
    "\n",
    "# annotate with optimal thresholds\n",
    "bbox = dict(boxstyle=\"round\",fc=\"1\")\n",
    "offset = [15,15,15, 15,15,-125,-100,  -5, 10,10]\n",
    "yoffset= [0,-5,-10,-15, -15,  0,  10,15, -20,10]\n",
    "for i,smt in enumerate(opt_smts):\n",
    "    smt=smt.clip(0,100)\n",
    "    ax.annotate('(%.0f, %.0f, %.0f, %.0f)'%(smt[0],smt[1],smt[2],smt[3]),\n",
    "                (tirr_list[i], yld_list[i]), xytext=(offset[i], yoffset[i]), textcoords='offset points',\n",
    "                bbox=bbox,fontsize=12)\n",
    "\n"
   ]
  },
  {
   "cell_type": "markdown",
   "metadata": {
    "id": "PSge4VgJycbo"
   },
   "source": [
    "Note that fmin is a local optimizer and so optimal soil-moisture thresholds will vary over multiple repetitions"
   ]
  },
  {
   "cell_type": "markdown",
   "metadata": {
    "id": "HnEU_KRsNzRF"
   },
   "source": [
    "# Appendix: Parrallel\n",
    "\n",
    "Can also speed things up with a parallel approach. Though for Colab notebooks there are only 2 CPUs so we are not expecting a massive speed up. But this kind of approach can be useful when more CPUs are available either locally or in cloud computing infestructure. "
   ]
  },
  {
   "cell_type": "code",
   "execution_count": 15,
   "metadata": {
    "id": "FYCXPP0tRUUE"
   },
   "outputs": [],
   "source": [
    "# import multiprocessing library\n",
    "from multiprocessing import Pool\n",
    "\n",
    "# time library so we can check the speed up\n",
    "from time import time\n",
    "\n",
    "# define funciton to parallelize\n",
    "def func(max_irr):\n",
    "\n",
    "    # find optimal smts\n",
    "    smts=optimize(4,max_irr)\n",
    "\n",
    "    # return the optimal yield, total irrigaiton and thresholds\n",
    "    yld,tirr,_=evaluate(smts,max_irr,True)\n",
    "    print(f\"finished max_irr = {max_irr} at {round(time()-start)} seconds\")\n",
    "    return yld,tirr,smts\n"
   ]
  },
  {
   "cell_type": "markdown",
   "metadata": {
    "id": "v8DTCUkEqVtV"
   },
   "source": [
    "Multi processing in python can be done using the `Pool` object. The code below create a `Pool` object, passing in the number of CPU cores that you want to parallelize over. Then use `p.map` to evaluate the function `func` for each input given in the list. "
   ]
  },
  {
   "cell_type": "code",
   "execution_count": 16,
   "metadata": {
    "id": "IKoSrvxvqU5y"
   },
   "outputs": [
    {
     "name": "stdout",
     "output_type": "stream",
     "text": [
      "finished max_irr = 0 at 15 seconds\n",
      "finished max_irr = 100 at 17 seconds\n",
      "finished max_irr = 50 at 31 seconds\n",
      "finished max_irr = 150 at 34 seconds\n",
      "finished max_irr = 200 at 49 seconds\n",
      "finished max_irr = 300 at 51 seconds\n",
      "finished max_irr = 250 at 66 seconds\n",
      "finished max_irr = 350 at 70 seconds\n",
      "finished max_irr = 400 at 84 seconds\n",
      "finished max_irr = 450 at 104 seconds\n"
     ]
    }
   ],
   "source": [
    "start = time() # save start time \n",
    "with Pool(2) as p:\n",
    "    results = p.map(func, list(range(0,500,50)))"
   ]
  },
  {
   "cell_type": "markdown",
   "metadata": {
    "id": "YjfhsnSlX8jI"
   },
   "source": [
    "This approach in Colab does not give us a massive speed up, however this approach can be a big help if more CPU cores are available. Combine results for visualization."
   ]
  },
  {
   "cell_type": "code",
   "execution_count": 17,
   "metadata": {
    "id": "vwmEZ8x7ULTu"
   },
   "outputs": [],
   "source": [
    "parr_opt_smts=[]\n",
    "parr_yld_list=[]\n",
    "parr_tirr_list=[]\n",
    "for i in range(len(results)):\n",
    "    parr_yld_list.append(results[i][0])\n",
    "    parr_tirr_list.append(results[i][1])\n",
    "    parr_opt_smts.append(results[i][2])"
   ]
  },
  {
   "cell_type": "markdown",
   "metadata": {
    "id": "EY5oJJiGsBkT"
   },
   "source": [
    "Plot crop-water production function."
   ]
  },
  {
   "cell_type": "code",
   "execution_count": 18,
   "metadata": {
    "id": "tO3ec6bYUr98"
   },
   "outputs": [
    {
     "data": {
      "text/plain": [
       "Text(0, 0.5, 'Yield (tonne/ha)')"
      ]
     },
     "execution_count": 18,
     "metadata": {},
     "output_type": "execute_result"
    },
    {
     "data": {
      "image/png": "[encoded data removed]",
      "text/plain": [
       "<Figure size 720x504 with 1 Axes>"
      ]
     },
     "metadata": {
      "needs_background": "light"
     },
     "output_type": "display_data"
    }
   ],
   "source": [
    "fig,ax=plt.subplots(1,1,figsize=(10,7))\n",
    "\n",
    "ax.scatter(parr_tirr_list,parr_yld_list)\n",
    "ax.plot(parr_tirr_list,parr_yld_list)\n",
    "\n",
    "ax.set_xlabel('Total Irrigation (ha-mm)')\n",
    "ax.set_ylabel('Yield (tonne/ha)',fontsize=18)"
   ]
  },
  {
   "cell_type": "code",
   "execution_count": null,
   "metadata": {
    "id": "HFWYDsTLvtgm"
   },
   "outputs": [],
   "source": []
  }
 ],
 "metadata": {
  "colab": {
   "collapsed_sections": [],
   "name": "Copy of AquaCrop_OSPy_Notebook_3.ipynb",
   "provenance": [],
   "toc_visible": true
  },
  "kernelspec": {
   "display_name": "Python 3",
   "language": "python",
   "name": "python3"
  },
  "language_info": {
   "codemirror_mode": {
    "name": "ipython",
    "version": 3
   },
   "file_extension": ".py",
   "mimetype": "text/x-python",
   "name": "python",
   "nbconvert_exporter": "python",
   "pygments_lexer": "ipython3",
   "version": "3.9.5"
  },
  "widgets": {
   "application/vnd.jupyter.widget-state+json": {
    "16d4a0a9fb874664a594b305548d04a4": {
     "model_module": "@jupyter-widgets/controls",
     "model_name": "HBoxModel",
     "state": {
      "_dom_classes": [],
      "_model_module": "@jupyter-widgets/controls",
      "_model_module_version": "1.5.0",
      "_model_name": "HBoxModel",
      "_view_count": null,
      "_view_module": "@jupyter-widgets/controls",
      "_view_module_version": "1.5.0",
      "_view_name": "HBoxView",
      "box_style": "",
      "children": [
       "IPY_MODEL_f5248ac50210423fbe9a2c9b4731f0e5",
       "IPY_MODEL_c60073f87a7442d8a9ef28e073a6cabe"
      ],
      "layout": "IPY_MODEL_7f7c71d9dbae40f6b3a69ca677be0e3a"
     }
    },
    "56d76fed5bcd4efea2ca860e8b2d73d0": {
     "model_module": "@jupyter-widgets/base",
     "model_name": "LayoutModel",
     "state": {
      "_model_module": "@jupyter-widgets/base",
      "_model_module_version": "1.2.0",
      "_model_name": "LayoutModel",
      "_view_count": null,
      "_view_module": "@jupyter-widgets/base",
      "_view_module_version": "1.2.0",
      "_view_name": "LayoutView",
      "align_content": null,
      "align_items": null,
      "align_self": null,
      "border": null,
      "bottom": null,
      "display": null,
      "flex": null,
      "flex_flow": null,
      "grid_area": null,
      "grid_auto_columns": null,
      "grid_auto_flow": null,
      "grid_auto_rows": null,
      "grid_column": null,
      "grid_gap": null,
      "grid_row": null,
      "grid_template_areas": null,
      "grid_template_columns": null,
      "grid_template_rows": null,
      "height": null,
      "justify_content": null,
      "justify_items": null,
      "left": null,
      "margin": null,
      "max_height": null,
      "max_width": null,
      "min_height": null,
      "min_width": null,
      "object_fit": null,
      "object_position": null,
      "order": null,
      "overflow": null,
      "overflow_x": null,
      "overflow_y": null,
      "padding": null,
      "right": null,
      "top": null,
      "visibility": null,
      "width": null
     }
    },
    "731b323d2d68489895901fbbd8745642": {
     "model_module": "@jupyter-widgets/controls",
     "model_name": "ProgressStyleModel",
     "state": {
      "_model_module": "@jupyter-widgets/controls",
      "_model_module_version": "1.5.0",
      "_model_name": "ProgressStyleModel",
      "_view_count": null,
      "_view_module": "@jupyter-widgets/base",
      "_view_module_version": "1.2.0",
      "_view_name": "StyleView",
      "bar_color": null,
      "description_width": "initial"
     }
    },
    "7f7c71d9dbae40f6b3a69ca677be0e3a": {
     "model_module": "@jupyter-widgets/base",
     "model_name": "LayoutModel",
     "state": {
      "_model_module": "@jupyter-widgets/base",
      "_model_module_version": "1.2.0",
      "_model_name": "LayoutModel",
      "_view_count": null,
      "_view_module": "@jupyter-widgets/base",
      "_view_module_version": "1.2.0",
      "_view_name": "LayoutView",
      "align_content": null,
      "align_items": null,
      "align_self": null,
      "border": null,
      "bottom": null,
      "display": null,
      "flex": null,
      "flex_flow": null,
      "grid_area": null,
      "grid_auto_columns": null,
      "grid_auto_flow": null,
      "grid_auto_rows": null,
      "grid_column": null,
      "grid_gap": null,
      "grid_row": null,
      "grid_template_areas": null,
      "grid_template_columns": null,
      "grid_template_rows": null,
      "height": null,
      "justify_content": null,
      "justify_items": null,
      "left": null,
      "margin": null,
      "max_height": null,
      "max_width": null,
      "min_height": null,
      "min_width": null,
      "object_fit": null,
      "object_position": null,
      "order": null,
      "overflow": null,
      "overflow_x": null,
      "overflow_y": null,
      "padding": null,
      "right": null,
      "top": null,
      "visibility": null,
      "width": null
     }
    },
    "84dcc4b2992d44918a13e58edc214ca4": {
     "model_module": "@jupyter-widgets/controls",
     "model_name": "DescriptionStyleModel",
     "state": {
      "_model_module": "@jupyter-widgets/controls",
      "_model_module_version": "1.5.0",
      "_model_name": "DescriptionStyleModel",
      "_view_count": null,
      "_view_module": "@jupyter-widgets/base",
      "_view_module_version": "1.2.0",
      "_view_name": "StyleView",
      "description_width": ""
     }
    },
    "c60073f87a7442d8a9ef28e073a6cabe": {
     "model_module": "@jupyter-widgets/controls",
     "model_name": "HTMLModel",
     "state": {
      "_dom_classes": [],
      "_model_module": "@jupyter-widgets/controls",
      "_model_module_version": "1.5.0",
      "_model_name": "HTMLModel",
      "_view_count": null,
      "_view_module": "@jupyter-widgets/controls",
      "_view_module_version": "1.5.0",
      "_view_name": "HTMLView",
      "description": "",
      "description_tooltip": null,
      "layout": "IPY_MODEL_56d76fed5bcd4efea2ca860e8b2d73d0",
      "placeholder": "​",
      "style": "IPY_MODEL_84dcc4b2992d44918a13e58edc214ca4",
      "value": " 10/10 [06:25&lt;00:00, 38.53s/it]"
     }
    },
    "f5248ac50210423fbe9a2c9b4731f0e5": {
     "model_module": "@jupyter-widgets/controls",
     "model_name": "FloatProgressModel",
     "state": {
      "_dom_classes": [],
      "_model_module": "@jupyter-widgets/controls",
      "_model_module_version": "1.5.0",
      "_model_name": "FloatProgressModel",
      "_view_count": null,
      "_view_module": "@jupyter-widgets/controls",
      "_view_module_version": "1.5.0",
      "_view_name": "ProgressView",
      "bar_style": "success",
      "description": "100%",
      "description_tooltip": null,
      "layout": "IPY_MODEL_fbe8ed49f0ef44ab8192620a1868d68a",
      "max": 10,
      "min": 0,
      "orientation": "horizontal",
      "style": "IPY_MODEL_731b323d2d68489895901fbbd8745642",
      "value": 10
     }
    },
    "fbe8ed49f0ef44ab8192620a1868d68a": {
     "model_module": "@jupyter-widgets/base",
     "model_name": "LayoutModel",
     "state": {
      "_model_module": "@jupyter-widgets/base",
      "_model_module_version": "1.2.0",
      "_model_name": "LayoutModel",
      "_view_count": null,
      "_view_module": "@jupyter-widgets/base",
      "_view_module_version": "1.2.0",
      "_view_name": "LayoutView",
      "align_content": null,
      "align_items": null,
      "align_self": null,
      "border": null,
      "bottom": null,
      "display": null,
      "flex": null,
      "flex_flow": null,
      "grid_area": null,
      "grid_auto_columns": null,
      "grid_auto_flow": null,
      "grid_auto_rows": null,
      "grid_column": null,
      "grid_gap": null,
      "grid_row": null,
      "grid_template_areas": null,
      "grid_template_columns": null,
      "grid_template_rows": null,
      "height": null,
      "justify_content": null,
      "justify_items": null,
      "left": null,
      "margin": null,
      "max_height": null,
      "max_width": null,
      "min_height": null,
      "min_width": null,
      "object_fit": null,
      "object_position": null,
      "order": null,
      "overflow": null,
      "overflow_x": null,
      "overflow_y": null,
      "padding": null,
      "right": null,
      "top": null,
      "visibility": null,
      "width": null
     }
    }
   }
  }
 },
 "nbformat": 4,
 "nbformat_minor": 4
}
