{
 "metadata": {
  "language_info": {
   "codemirror_mode": {
    "name": "ipython",
    "version": 3
   },
   "file_extension": ".py",
   "mimetype": "text/x-python",
   "name": "python",
   "nbconvert_exporter": "python",
   "pygments_lexer": "ipython3",
   "version": "3.8.5"
  },
  "orig_nbformat": 4,
  "kernelspec": {
   "name": "python3",
   "display_name": "Python 3.8.5 64-bit ('venv': venv)"
  },
  "interpreter": {
   "hash": "2441c9e14f17fc493e5943cc44f2c05393095cedf34faf25aa9e333d081dfd4e"
  }
 },
 "nbformat": 4,
 "nbformat_minor": 2,
 "cells": [
  {
   "cell_type": "code",
   "execution_count": 1,
   "metadata": {},
   "outputs": [],
   "source": [
    "from bigote import plan_my_day, parse_time"
   ]
  },
  {
   "cell_type": "code",
   "execution_count": 2,
   "metadata": {},
   "outputs": [
    {
     "output_type": "stream",
     "name": "stdout",
     "text": [
      "Making a plan for a total of 4:20:00.\nR:\t22:00 - 22:57\nfelyn:\t17:40 - 18:37\ngtd:\t18:37 - 19:06\nbigote:\t19:06 - 19:35\ncuentas:\t19:35 - 20:04\npgtd:\t20:04 - 20:33\nhome:\t20:33 - 21:00\n"
     ]
    }
   ],
   "source": [
    "plan_my_day(\n",
    "    [\n",
    "        [parse_time(\"17:40\"), parse_time(\"21:00\")],\n",
    "        [parse_time(\"22:00\"), parse_time(\"23:00\")],\n",
    "    ],\n",
    "    {\n",
    "#        \"wgtd\": 1,\n",
    "#        \"free_work\": 1,\n",
    "#        \"processing\": 1,\n",
    "        \"felyn\": 2,\n",
    "        \"home\": 1,\n",
    "        \"pgtd\": 1,\n",
    "        \"cuentas\": 1,\n",
    "        \"bigote\": 1,\n",
    "        \"R\": 2,\n",
    "        \"gtd\": 1,\n",
    "    },\n",
    ")"
   ]
  }
 ]
}