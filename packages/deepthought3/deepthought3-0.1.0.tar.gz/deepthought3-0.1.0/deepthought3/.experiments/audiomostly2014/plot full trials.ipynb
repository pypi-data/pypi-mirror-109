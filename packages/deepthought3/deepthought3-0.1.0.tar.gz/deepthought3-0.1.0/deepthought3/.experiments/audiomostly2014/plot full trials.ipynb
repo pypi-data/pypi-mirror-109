{
 "worksheets": [
  {
   "cells": [
    {
     "cell_type": "code",
     "metadata": {},
     "outputs": [
      {
       "output_type": "stream",
       "stream": "stdout",
       "text": [
        "data path   : /Users/sstober/work/datasets/rwanda2013rhythms/eeg\n",
        "model path  : /Users/sstober/work/develop/deepthought-output/audiomostly2014/models\n",
        "output path : /Users/sstober/work/develop/deepthought-output/audiomostly2014/figures/trials\n"
       ]
      },
      {
       "output_type": "stream",
       "stream": "stderr",
       "text": [
        "Using gpu device 0: GeForce GT 650M\n"
       ]
      }
     ],
     "input": [
      "import logging\n",
      "logger = logging.getLogger()\n",
      "logger.setLevel(logging.DEBUG)\n",
      "\n",
      "import os;\n",
      "import deepthought;\n",
      "\n",
      "DATA_PATH = os.path.join(deepthought3.DATA_PATH, 'rwanda2013rhythms', 'eeg');\n",
      "MODEL_PATH = os.path.join(deepthought3.OUTPUT_PATH, 'audiomostly2014', 'models');\n",
      "OUTPUT_PATH = os.path.join(deepthought3.OUTPUT_PATH, 'audiomostly2014', 'figures', 'trials');\n",
      "\n",
      "print 'data path   : {}'.format(DATA_PATH);\n",
      "print 'model path  : {}'.format(MODEL_PATH);\n",
      "print 'output path : {}'.format(OUTPUT_PATH);"
     ],
     "language": "python",
     "prompt_number": 1
    },
    {
     "cell_type": "code",
     "metadata": {},
     "outputs": [
      {
       "output_type": "stream",
       "stream": "stderr",
       "text": [
        "INFO:deepthought3.util.yaml_util:parsing yaml...\n"
       ]
      },
      {
       "output_type": "stream",
       "stream": "stderr",
       "text": [
        "DEBUG:deepthought3.datasets.rwanda2013rhythms.EEGDataset:addding /Users/sstober/work/datasets/rwanda2013rhythms/eeg/Sub001TN010613/dataset_13goodchannels_plus4s.pklz\n"
       ]
      },
      {
       "output_type": "stream",
       "stream": "stderr",
       "text": [
        "DEBUG:deepthought3.datasets.rwanda2013rhythms.EEGDataset:addding /Users/sstober/work/datasets/rwanda2013rhythms/eeg/Sub002DI010613/dataset_13goodchannels_plus4s.pklz\n"
       ]
      },
      {
       "output_type": "stream",
       "stream": "stderr",
       "text": [
        "DEBUG:deepthought3.datasets.rwanda2013rhythms.EEGDataset:addding /Users/sstober/work/datasets/rwanda2013rhythms/eeg/Sub003TN020613/dataset_13goodchannels_plus4s.pklz\n"
       ]
      },
      {
       "output_type": "stream",
       "stream": "stderr",
       "text": [
        "DEBUG:deepthought3.datasets.rwanda2013rhythms.EEGDataset:addding /Users/sstober/work/datasets/rwanda2013rhythms/eeg/Sub004DN040613/dataset_13goodchannels_plus4s.pklz\n"
       ]
      },
      {
       "output_type": "stream",
       "stream": "stderr",
       "text": [
        "DEBUG:deepthought3.datasets.rwanda2013rhythms.EEGDataset:addding /Users/sstober/work/datasets/rwanda2013rhythms/eeg/Sub005NE040613/dataset_13goodchannels_plus4s.pklz\n"
       ]
      },
      {
       "output_type": "stream",
       "stream": "stderr",
       "text": [
        "DEBUG:deepthought3.datasets.rwanda2013rhythms.EEGDataset:addding /Users/sstober/work/datasets/rwanda2013rhythms/eeg/Sub006PN040613/dataset_13goodchannels_plus4s.pklz\n"
       ]
      },
      {
       "output_type": "stream",
       "stream": "stderr",
       "text": [
        "DEBUG:deepthought3.datasets.rwanda2013rhythms.EEGDataset:addding /Users/sstober/work/datasets/rwanda2013rhythms/eeg/Sub007FB050613/dataset_13goodchannels_plus4s.pklz\n"
       ]
      },
      {
       "output_type": "stream",
       "stream": "stderr",
       "text": [
        "DEBUG:deepthought3.datasets.rwanda2013rhythms.EEGDataset:addding /Users/sstober/work/datasets/rwanda2013rhythms/eeg/Sub008MN050613/dataset_13goodchannels_plus4s.pklz\n"
       ]
      },
      {
       "output_type": "stream",
       "stream": "stderr",
       "text": [
        "DEBUG:deepthought3.datasets.rwanda2013rhythms.EEGDataset:addding /Users/sstober/work/datasets/rwanda2013rhythms/eeg/Sub009DK050613/dataset_13goodchannels_plus4s.pklz\n"
       ]
      },
      {
       "output_type": "stream",
       "stream": "stderr",
       "text": [
        "DEBUG:deepthought3.datasets.rwanda2013rhythms.EEGDataset:addding /Users/sstober/work/datasets/rwanda2013rhythms/eeg/Sub010DO060613/dataset_13goodchannels_plus4s.pklz\n"
       ]
      },
      {
       "output_type": "stream",
       "stream": "stderr",
       "text": [
        "DEBUG:deepthought3.datasets.rwanda2013rhythms.EEGDataset:addding /Users/sstober/work/datasets/rwanda2013rhythms/eeg/Sub011AM060613/dataset_13goodchannels_plus4s.pklz\n"
       ]
      },
      {
       "output_type": "stream",
       "stream": "stderr",
       "text": [
        "DEBUG:deepthought3.datasets.rwanda2013rhythms.EEGDataset:addding /Users/sstober/work/datasets/rwanda2013rhythms/eeg/Sub012RN060613/dataset_13goodchannels_plus4s.pklz\n"
       ]
      },
      {
       "output_type": "stream",
       "stream": "stderr",
       "text": [
        "DEBUG:deepthought3.datasets.rwanda2013rhythms.EEGDataset:addding /Users/sstober/work/datasets/rwanda2013rhythms/eeg/Sub013MI080613/dataset_13goodchannels_plus4s.pklz\n"
       ]
      },
      {
       "output_type": "stream",
       "stream": "stderr",
       "text": [
        "INFO:deepthought3.datasets.rwanda2013rhythms.EEGDataset:loading data from /Users/sstober/work/datasets/rwanda2013rhythms/eeg/Sub004DN040613/dataset_13goodchannels_plus4s.pklz...\n"
       ]
      },
      {
       "output_type": "stream",
       "stream": "stderr",
       "text": [
        "INFO:deepthought3.datasets.rwanda2013rhythms.EEGDataset:loading data from /Users/sstober/work/datasets/rwanda2013rhythms/eeg/Sub004DN040613/dataset_13goodchannels_plus4s.pklz done. Time elapsed: 0.613512 seconds\n"
       ]
      },
      {
       "output_type": "stream",
       "stream": "stderr",
       "text": [
        "/Users/sstober/git/deepbeat/deepbeat/code/deepthought/datasets/rwanda2013rhythms/EEGDataset.py:243: UserWarning: pylearn2.utils.one_hot is deprecated. Use pylearn2.format.target_format.OneHotFormatter instead. pylearn2.utils.one_hot will be removed on or after 13 August 2014\n",
        "  one_hot_y = one_hot(labels);\n",
        "DEBUG:deepthought3.datasets.rwanda2013rhythms.EEGDataset:generated dataset \"dummy\" with shape X=(108288, 25) y=(108288, 2) labels=(108288,) \n"
       ]
      },
      {
       "output_type": "stream",
       "stream": "stderr",
       "text": [
        "INFO:deepthought3.util.yaml_util:parsing yaml done. Time elapsed: 1.771557 seconds\n"
       ]
      },
      {
       "output_type": "stream",
       "stream": "stdout",
       "text": [
        "None\n",
        "\n",
        "    !obj:deepbeat.eeg.EEGDataset.EEGDataset {\n",
        "        name : 'dummy',\n",
        "        path : /Users/sstober/work/datasets/rwanda2013rhythms/eeg,\n",
        "#       suffix : _channels,\n",
        "         suffix : _13goodchannels_plus4s,\n",
        "        subjects : [3],\n",
        "        resample : [400,400],\n",
        "        start_sample : 0,\n",
        "        stop_sample  : 400,     # None (empty) = end of sequence \n",
        "        frame_size : 25,\n",
        "        hop_size : 1,\n",
        "        label_mode : rhythm_type,\n",
        "        n_fft : ,\n",
        "        n_freq_bins : 1,\n",
        "        spectrum_log_amplitude : True,\n",
        "        spectrum_normalization_mode : linear_0_1,\n",
        "    }\n",
        "\n"
       ]
      }
     ],
     "input": [
      "from deepthought3.util.yaml_util import load_yaml;\n",
      "yaml = '''\n",
      "    !obj:deepbeat.eeg.EEGDataset.EEGDataset {\n",
      "        name : 'dummy',\n",
      "        path : ''' + str(DATA_PATH) + ''',\n",
      "#       suffix : _channels,\n",
      "         suffix : _13goodchannels_plus4s,\n",
      "        subjects : [3],\n",
      "        resample : [400,400],\n",
      "        start_sample : 0,\n",
      "        stop_sample  : 400,     # None (empty) = end of sequence \n",
      "        frame_size : 25,\n",
      "        hop_size : 1,\n",
      "        label_mode : rhythm_type,\n",
      "        n_fft : ,\n",
      "        n_freq_bins : 1,\n",
      "        spectrum_log_amplitude : True,\n",
      "        spectrum_normalization_mode : linear_0_1,\n",
      "    }\n",
      "'''\n",
      "dataset = load_yaml(yaml)[0];"
     ],
     "language": "python",
     "prompt_number": 2
    },
    {
     "cell_type": "code",
     "metadata": {},
     "outputs": [],
     "input": [
      "from deepthought3.util.fs_util import load;\n",
      "subject_sequences, subject_labels, channel_meta = load(dataset.datafiles[3]); # 0-indexed\n",
      "num_channels = 12;\n",
      "sample_rate = 400;\n",
      "n_fft = 96;\n",
      "hop_length = n_fft / 4;\n",
      "n_bins = 1 + n_fft / 2"
     ],
     "language": "python",
     "prompt_number": 3
    },
    {
     "cell_type": "code",
     "metadata": {},
     "outputs": [
      {
       "output_type": "stream",
       "stream": "stdout",
       "text": [
        "[7]\n",
        "[5, 6, 'w']\n",
        "/Users/sstober/work/develop/deepthought-output/audiomostly2014/figures/trials/spectrum_[5, 6, 'w'].png\n",
        "/Users/sstober/work/develop/deepthought-output/audiomostly2014/figures/trials/waveform_[5, 6, 'w'].png\n",
        "[21]"
       ]
      },
      {
       "output_type": "stream",
       "stream": "stdout",
       "text": [
        "\n",
        "[2, 3, 'w']\n",
        "/Users/sstober/work/develop/deepthought-output/audiomostly2014/figures/trials/spectrum_[2, 3, 'w'].png\n",
        "/Users/sstober/work/develop/deepthought-output/audiomostly2014/figures/trials/waveform_[2, 3, 'w'].png\n",
        "[20]"
       ]
      }
     ],
     "input": [
      "import os\n",
      "import matplotlib.gridspec as gridspec\n",
      "import librosa\n",
      "import matplotlib.pyplot as plt;\n",
      "import matplotlib as mpl\n",
      "import numpy as np\n",
      "from deepthought3.datasets.rwanda2013rhythms.LabelConverter import meta_labels\n",
      "import deepthought3.util.fs_util as fs_util;\n",
      "\n",
      "import warnings\n",
      "warnings.simplefilter('once', UserWarning)\n",
      "warnings.simplefilter('default')\n",
      "%matplotlib inline  \n",
      "\n",
      "def plot_channel_spectrum(sequences, channel_meta, spectrum_filepath=None):\n",
      "    num_channels = len(sequences);\n",
      "    \n",
      "    dpi = 100;\n",
      "    fig = plt.figure(figsize=(32000/dpi,6*num_channels), dpi=dpi) # big\n",
      "    gs = gridspec.GridSpec(num_channels, 1, hspace=0.5)\n",
      "\n",
      "    fft_labels = librosa.core.fft_frequencies(sr=sample_rate, n_fft=n_fft)    \n",
      "    for c in xrange(num_channels):\n",
      "        axes = plt.subplot(gs[c])\n",
      "        \n",
      "        spectrum = librosa.core.stft(sequences[c], n_fft=n_fft, hop_length=hop_length)\n",
      "        spectrum = np.abs(spectrum)\n",
      "        spectrum = spectrum **2\n",
      "        \n",
      "        spectrum = librosa.logamplitude(spectrum);\n",
      "        spectrum = spectrum / np.max(spectrum);\n",
      "        \n",
      "        im = librosa.display.specshow(spectrum, sr=sample_rate, hop_length=hop_length, x_axis='time', cmap='RdBu', vmin=-1, vmax=1)\n",
      "        plt.colorbar(im)\n",
      "        plt.ylabel('Frequency')\n",
      "        plt.title('Channel {}'.format(channel_meta[c]+1))\n",
      "        \n",
      "        axes.set_yticks(xrange(0,n_bins))\n",
      "        axes.set_yticklabels(fft_labels)\n",
      "        for label in axes.yaxis.get_ticklabels():\n",
      "            label.set_visible(False)\n",
      "        for label in axes.yaxis.get_ticklabels()[::3]:\n",
      "            label.set_visible(True)\n",
      "    \n",
      "#     plt.tight_layout()\n",
      "\n",
      "    if spectrum_filepath is not None:\n",
      "        fs_util.ensure_parent_dir_exists(spectrum_filepath);\n",
      "        plt.savefig(spectrum_filepath, bbox_inches='tight');\n",
      "    else:\n",
      "        plt.show();\n",
      "        \n",
      "def plot_channel_waveform(sequences, channel_meta, waveform_filepath=None):\n",
      "    num_channels = len(sequences);\n",
      "    \n",
      "    dpi = 100;\n",
      "    fig = plt.figure(figsize=(32000/dpi,6*num_channels), dpi=dpi) # big\n",
      "    gs = gridspec.GridSpec(num_channels, 1, hspace=0.5)\n",
      "    \n",
      "    for c in xrange(num_channels):\n",
      "        axes = plt.subplot(gs[c])\n",
      "        plt.plot(sequences[c])\n",
      "        plt.title('Channel {}'.format(channel_meta[c]+1))\n",
      "    \n",
      "    if waveform_filepath is not None:\n",
      "        fs_util.ensure_parent_dir_exists(waveform_filepath);\n",
      "        plt.savefig(waveform_filepath, bbox_inches='tight');\n",
      "    else:\n",
      "        plt.show();\n",
      "\n",
      "for i in xrange(len(subject_sequences)/num_channels):\n",
      "    start = i*num_channels;\n",
      "    label = subject_labels[start] % 24;\n",
      "    print label\n",
      "    label = meta_labels[label];\n",
      "    print label\n",
      "    spectrum_filepath = os.path.join(OUTPUT_PATH, 'spectrum_{}.png'.format(label));\n",
      "    print spectrum_filepath\n",
      "    waveform_filepath = os.path.join(OUTPUT_PATH, 'waveform_{}.png'.format(label));\n",
      "    print waveform_filepath\n",
      "    \n",
      "    plot_channel_spectrum(subject_sequences[start:start+num_channels], \n",
      "                          channel_meta=np.hstack(channel_meta[start:start+num_channels]), \n",
      "                          spectrum_filepath=spectrum_filepath)\n",
      "    plot_channel_waveform(subject_sequences[start:start+num_channels], \n",
      "                          channel_meta=np.hstack(channel_meta[start:start+num_channels]), \n",
      "                          waveform_filepath=waveform_filepath)\n",
      "#     break;"
     ],
     "language": "python"
    },
    {
     "cell_type": "code",
     "metadata": {},
     "outputs": [
      {
       "output_type": "stream",
       "stream": "stdout",
       "text": [
        "0 [7] [5, 6, 'w']\n",
        "1 [7] [5, 6, 'w']\n",
        "2 [7] [5, 6, 'w']\n",
        "3 [7] [5, 6, 'w']\n",
        "4 [7] [5, 6, 'w']\n",
        "5 [7] [5, 6, 'w']\n",
        "6 [7] [5, 6, 'w']\n",
        "7 [7] [5, 6, 'w']\n",
        "8 [7] [5, 6, 'w']\n",
        "9 [7] [5, 6, 'w']\n",
        "10 [7] [5, 6, 'w']\n",
        "11 [7] [5, 6, 'w']\n",
        "12 [21] [2, 3, 'w']\n",
        "13 [21] [2, 3, 'w']\n",
        "14 [21] [2, 3, 'w']\n",
        "15 [21] [2, 3, 'w']\n",
        "16 [21] [2, 3, 'w']\n",
        "17 [21] [2, 3, 'w']\n",
        "18 [21] [2, 3, 'w']\n",
        "19 [21] [2, 3, 'w']\n",
        "20 [21] [2, 3, 'w']\n",
        "21 [21] [2, 3, 'w']\n",
        "22 [21] [2, 3, 'w']\n",
        "23 [21] [2, 3, 'w']\n",
        "24 [20] [5, 6, 'a']\n",
        "25 [20] [5, 6, 'a']\n",
        "26 [20] [5, 6, 'a']\n",
        "27 [20] [5, 6, 'a']\n",
        "28 [20] [5, 6, 'a']\n",
        "29 [20] [5, 6, 'a']\n",
        "30 [20] [5, 6, 'a']\n",
        "31 [20] [5, 6, 'a']\n",
        "32 [20] [5, 6, 'a']\n",
        "33 [20] [5, 6, 'a']\n",
        "34 [20] [5, 6, 'a']\n",
        "35 [20] [5, 6, 'a']\n",
        "36 [13] [2, 3, 'a']\n",
        "37 [13] [2, 3, 'a']\n",
        "38 [13] [2, 3, 'a']\n",
        "39 [13] [2, 3, 'a']\n",
        "40 [13] [2, 3, 'a']\n",
        "41 [13] [2, 3, 'a']\n",
        "42 [13] [2, 3, 'a']\n",
        "43 [13] [2, 3, 'a']\n",
        "44 [13] [2, 3, 'a']\n",
        "45 [13] [2, 3, 'a']\n",
        "46 [13] [2, 3, 'a']\n",
        "47 [13] [2, 3, 'a']\n",
        "48 [0] [6, 4, 'a']\n",
        "49 [0] [6, 4, 'a']\n",
        "50 [0] [6, 4, 'a']\n",
        "51 [0] [6, 4, 'a']\n",
        "52 [0] [6, 4, 'a']\n",
        "53 [0] [6, 4, 'a']\n",
        "54 [0] [6, 4, 'a']\n",
        "55 [0] [6, 4, 'a']\n",
        "56 [0] [6, 4, 'a']\n",
        "57 [0] [6, 4, 'a']\n",
        "58 [0] [6, 4, 'a']\n",
        "59 [0] [6, 4, 'a']\n",
        "60 [15] [3, 2, 'a']\n",
        "61 [15] [3, 2, 'a']\n",
        "62 [15] [3, 2, 'a']\n",
        "63 [15] [3, 2, 'a']\n",
        "64 [15] [3, 2, 'a']\n",
        "65 [15] [3, 2, 'a']\n",
        "66 [15] [3, 2, 'a']\n",
        "67 [15] [3, 2, 'a']\n",
        "68 [15] [3, 2, 'a']\n",
        "69 [15] [3, 2, 'a']\n",
        "70 [15] [3, 2, 'a']\n",
        "71 [15] [3, 2, 'a']\n",
        "72 [10] [1, 2, 'a']\n",
        "73 [10] [1, 2, 'a']\n",
        "74 [10] [1, 2, 'a']\n",
        "75 [10] [1, 2, 'a']\n",
        "76 [10] [1, 2, 'a']\n",
        "77 [10] [1, 2, 'a']\n",
        "78 [10] [1, 2, 'a']\n",
        "79 [10] [1, 2, 'a']\n",
        "80 [10] [1, 2, 'a']\n",
        "81 [10] [1, 2, 'a']\n",
        "82 [10] [1, 2, 'a']\n",
        "83 [10] [1, 2, 'a']\n",
        "84 [1] [3, 1, 'w']\n",
        "85 [1] [3, 1, 'w']\n",
        "86 [1] [3, 1, 'w']\n",
        "87 [1] [3, 1, 'w']\n",
        "88 [1] [3, 1, 'w']\n",
        "89 [1] [3, 1, 'w']\n",
        "90 [1] [3, 1, 'w']\n",
        "91 [1] [3, 1, 'w']\n",
        "92 [1] [3, 1, 'w']\n",
        "93 [1] [3, 1, 'w']\n",
        "94 [1] [3, 1, 'w']\n",
        "95 [1] [3, 1, 'w']\n",
        "96 [8] [6, 4, 'w']\n",
        "97 [8] [6, 4, 'w']\n",
        "98 [8] [6, 4, 'w']\n",
        "99 [8] [6, 4, 'w']\n",
        "100 [8] [6, 4, 'w']\n",
        "101 [8] [6, 4, 'w']\n",
        "102 [8] [6, 4, 'w']\n",
        "103 [8] [6, 4, 'w']\n",
        "104 [8] [6, 4, 'w']\n",
        "105 [8] [6, 4, 'w']\n",
        "106 [8] [6, 4, 'w']\n",
        "107 [8] [6, 4, 'w']\n",
        "108 [5] [4, 6, 'w']\n",
        "109 [5] [4, 6, 'w']\n",
        "110 [5] [4, 6, 'w']\n",
        "111 [5] [4, 6, 'w']\n",
        "112 [5] [4, 6, 'w']\n",
        "113 [5] [4, 6, 'w']\n",
        "114 [5] [4, 6, 'w']\n",
        "115 [5] [4, 6, 'w']\n",
        "116 [5] [4, 6, 'w']\n",
        "117 [5] [4, 6, 'w']\n",
        "118 [5] [4, 6, 'w']\n",
        "119 [5] [4, 6, 'w']\n",
        "120 [23] [2, 1, 'w']\n",
        "121 [23] [2, 1, 'w']\n",
        "122 [23] [2, 1, 'w']\n",
        "123 [23] [2, 1, 'w']\n",
        "124 [23] [2, 1, 'w']\n",
        "125 [23] [2, 1, 'w']\n",
        "126 [23] [2, 1, 'w']\n",
        "127 [23] [2, 1, 'w']\n",
        "128 [23] [2, 1, 'w']\n",
        "129 [23] [2, 1, 'w']\n",
        "130 [23] [2, 1, 'w']\n",
        "131 [23] [2, 1, 'w']\n",
        "132 [19] [1, 2, 'w']\n",
        "133 [19] [1, 2, 'w']\n",
        "134 [19] [1, 2, 'w']\n",
        "135 [19] [1, 2, 'w']\n",
        "136 [19] [1, 2, 'w']\n",
        "137 [19] [1, 2, 'w']\n",
        "138 [19] [1, 2, 'w']\n",
        "139 [19] [1, 2, 'w']\n",
        "140 [19] [1, 2, 'w']\n",
        "141 [19] [1, 2, 'w']\n",
        "142 [19] [1, 2, 'w']\n",
        "143 [19] [1, 2, 'w']\n",
        "144 [14] [3, 1, 'a']\n",
        "145 [14] [3, 1, 'a']\n",
        "146 [14] [3, 1, 'a']\n",
        "147 [14] [3, 1, 'a']\n",
        "148 [14] [3, 1, 'a']\n",
        "149 [14] [3, 1, 'a']\n",
        "150 [14] [3, 1, 'a']\n",
        "151 [14] [3, 1, 'a']\n",
        "152 [14] [3, 1, 'a']\n",
        "153 [14] [3, 1, 'a']\n",
        "154 [14] [3, 1, 'a']\n",
        "155 [14] [3, 1, 'a']\n",
        "156 [22] [5, 4, 'a']\n",
        "157 [22] [5, 4, 'a']\n",
        "158 [22] [5, 4, 'a']\n",
        "159 [22] [5, 4, 'a']\n",
        "160 [22] [5, 4, 'a']\n",
        "161 [22] [5, 4, 'a']\n",
        "162 [22] [5, 4, 'a']\n",
        "163 [22] [5, 4, 'a']\n",
        "164 [22] [5, 4, 'a']\n",
        "165 [22] [5, 4, 'a']\n",
        "166 [22] [5, 4, 'a']\n",
        "167 [22] [5, 4, 'a']\n",
        "168 [3] [3, 2, 'w']\n",
        "169 [3] [3, 2, 'w']\n",
        "170 [3] [3, 2, 'w']\n",
        "171 [3] [3, 2, 'w']\n",
        "172 [3] [3, 2, 'w']\n",
        "173 [3] [3, 2, 'w']\n",
        "174 [3] [3, 2, 'w']\n",
        "175 [3] [3, 2, 'w']\n",
        "176 [3] [3, 2, 'w']\n",
        "177 [3] [3, 2, 'w']\n",
        "178 [3] [3, 2, 'w']\n",
        "179 [3] [3, 2, 'w']\n",
        "180 [4] [4, 5, 'w']\n",
        "181 [4] [4, 5, 'w']\n",
        "182 [4] [4, 5, 'w']\n",
        "183 [4] [4, 5, 'w']\n",
        "184 [4] [4, 5, 'w']\n",
        "185 [4] [4, 5, 'w']"
       ]
      },
      {
       "output_type": "stream",
       "stream": "stdout",
       "text": [
        "\n",
        "186 [4] [4, 5, 'w']\n",
        "187 [4] [4, 5, 'w']\n",
        "188 [4] [4, 5, 'w']\n",
        "189 [4] [4, 5, 'w']\n",
        "190 [4] [4, 5, 'w']\n",
        "191 [4] [4, 5, 'w']\n",
        "192 [9] [6, 5, 'w']\n",
        "193 [9] [6, 5, 'w']\n",
        "194 [9] [6, 5, 'w']\n",
        "195 [9] [6, 5, 'w']\n",
        "196 [9] [6, 5, 'w']\n",
        "197 [9] [6, 5, 'w']\n",
        "198 [9] [6, 5, 'w']\n",
        "199 [9] [6, 5, 'w']\n",
        "200 [9] [6, 5, 'w']\n",
        "201 [9] [6, 5, 'w']\n",
        "202 [9] [6, 5, 'w']\n",
        "203 [9] [6, 5, 'w']\n",
        "204 [2] [6, 5, 'a']\n",
        "205 [2] [6, 5, 'a']\n",
        "206 [2] [6, 5, 'a']\n",
        "207 [2] [6, 5, 'a']\n",
        "208 [2] [6, 5, 'a']\n",
        "209 [2] [6, 5, 'a']\n",
        "210 [2] [6, 5, 'a']\n",
        "211 [2] [6, 5, 'a']\n",
        "212 [2] [6, 5, 'a']\n",
        "213 [2] [6, 5, 'a']\n",
        "214 [2] [6, 5, 'a']\n",
        "215 [2] [6, 5, 'a']\n",
        "216 [11] [1, 3, 'a']\n",
        "217 [11] [1, 3, 'a']\n",
        "218 [11] [1, 3, 'a']\n",
        "219 [11] [1, 3, 'a']\n",
        "220 [11] [1, 3, 'a']\n",
        "221 [11] [1, 3, 'a']\n",
        "222 [11] [1, 3, 'a']\n",
        "223 [11] [1, 3, 'a']\n",
        "224 [11] [1, 3, 'a']\n",
        "225 [11] [1, 3, 'a']\n",
        "226 [11] [1, 3, 'a']\n",
        "227 [11] [1, 3, 'a']\n",
        "228 [18] [4, 5, 'a']\n",
        "229 [18] [4, 5, 'a']\n",
        "230 [18] [4, 5, 'a']\n",
        "231 [18] [4, 5, 'a']\n",
        "232 [18] [4, 5, 'a']\n",
        "233 [18] [4, 5, 'a']\n",
        "234 [18] [4, 5, 'a']\n",
        "235 [18] [4, 5, 'a']\n",
        "236 [18] [4, 5, 'a']\n",
        "237 [18] [4, 5, 'a']\n",
        "238 [18] [4, 5, 'a']\n",
        "239 [18] [4, 5, 'a']\n",
        "240 [16] [4, 6, 'a']\n",
        "241 [16] [4, 6, 'a']\n",
        "242 [16] [4, 6, 'a']\n",
        "243 [16] [4, 6, 'a']\n",
        "244 [16] [4, 6, 'a']\n",
        "245 [16] [4, 6, 'a']\n",
        "246 [16] [4, 6, 'a']\n",
        "247 [16] [4, 6, 'a']\n",
        "248 [16] [4, 6, 'a']\n",
        "249 [16] [4, 6, 'a']\n",
        "250 [16] [4, 6, 'a']\n",
        "251 [16] [4, 6, 'a']\n",
        "252 [12] [2, 1, 'a']\n",
        "253 [12] [2, 1, 'a']\n",
        "254 [12] [2, 1, 'a']\n",
        "255 [12] [2, 1, 'a']\n",
        "256 [12] [2, 1, 'a']\n",
        "257 [12] [2, 1, 'a']\n",
        "258 [12] [2, 1, 'a']\n",
        "259 [12] [2, 1, 'a']\n",
        "260 [12] [2, 1, 'a']\n",
        "261 [12] [2, 1, 'a']\n",
        "262 [12] [2, 1, 'a']\n",
        "263 [12] [2, 1, 'a']\n",
        "264 [17] [1, 3, 'w']\n",
        "265 [17] [1, 3, 'w']\n",
        "266 [17] [1, 3, 'w']\n",
        "267 [17] [1, 3, 'w']\n",
        "268 [17] [1, 3, 'w']\n",
        "269 [17] [1, 3, 'w']\n",
        "270 [17] [1, 3, 'w']\n",
        "271 [17] [1, 3, 'w']\n",
        "272 [17] [1, 3, 'w']\n",
        "273 [17] [1, 3, 'w']\n",
        "274 [17] [1, 3, 'w']\n",
        "275 [17] [1, 3, 'w']\n",
        "276 [6] [5, 4, 'w']\n",
        "277 [6] [5, 4, 'w']\n",
        "278 [6] [5, 4, 'w']\n",
        "279 [6] [5, 4, 'w']\n",
        "280 [6] [5, 4, 'w']\n",
        "281 [6] [5, 4, 'w']\n",
        "282 [6] [5, 4, 'w']\n",
        "283 [6] [5, 4, 'w']\n",
        "284 [6] [5, 4, 'w']\n",
        "285 [6] [5, 4, 'w']\n",
        "286 [6] [5, 4, 'w']\n",
        "287 [6] [5, 4, 'w']\n"
       ]
      }
     ],
     "input": [
      "for i in xrange(len(subject_sequences)):\n",
      "    label = subject_labels[i] % 24;\n",
      "    meta = meta_labels[label];\n",
      "    print '{} {} {}'.format(i, label, meta)"
     ],
     "language": "python",
     "prompt_number": 19
    },
    {
     "cell_type": "code",
     "metadata": {},
     "outputs": [],
     "input": [
      ""
     ],
     "language": "python"
    }
   ]
  }
 ],
 "cells": [],
 "metadata": {
  "name": "",
  "signature": "sha256:6a573cf9417df8bd7e817728271dc98aea5124c9ec010c90c747871028dfbba6"
 },
 "nbformat": 3,
 "nbformat_minor": 0
}