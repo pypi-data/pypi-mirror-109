{
 "metadata": {
  "name": ""
 },
 "nbformat": 3,
 "nbformat_minor": 0,
 "worksheets": [
  {
   "cells": [
    {
     "cell_type": "code",
     "collapsed": false,
     "input": [
      "import gzip, cPickle\n",
      "import numpy as np\n",
      "import matplotlib.pyplot as plt;\n",
      "import matplotlib as mpl\n",
      "import prettyplotlib as ppl\n",
      "\n",
      "import theano;\n",
      "import deepthought3.experiments.ismir2014.plot as P;\n",
      "\n",
      "%matplotlib inline  "
     ],
     "language": "python",
     "metadata": {},
     "outputs": [
      {
       "output_type": "stream",
       "stream": "stdout",
       "text": [
        "Couldn't import dot_parser, loading of dot files will not be possible.\n"
       ]
      },
      {
       "output_type": "stream",
       "stream": "stderr",
       "text": [
        "Using gpu device 0: GeForce GT 650M\n"
       ]
      }
     ],
     "prompt_number": 1
    },
    {
     "cell_type": "code",
     "collapsed": false,
     "input": [
      "from config import Config;\n",
      "config_file = '/Users/sstober/git/deepbeat/deepbeat/code/deepthought/experiments/ismir2014/train_fftconvnet.cfg';\n",
      "config = Config(file(config_file));\n",
      "root = '/Users/sstober/git/deepbeat/deepbeat/output/gpu/fftcnn/exp1.4';\n",
      "cube = P.extract_results(root, config);"
     ],
     "language": "python",
     "metadata": {},
     "outputs": [
      {
       "output_type": "stream",
       "stream": "stdout",
       "text": [
        "['test_objective', 'test_y_col_norms_max', 'test_h1_bar_kernel_norms_mean', 'test_h1_bar_kernel_norms_min', 'test_y_row_norms_mean', 'test_y_row_norms_max', 'test_y_misclass', 'test_y_mean_max_class', 'test_h1_bar_kernel_norms_max', 'test_h0_beat_kernel_norms_max', 'test_y_row_norms_min', 'test_y_col_norms_mean', 'test_y_nll', 'test_h0_beat_kernel_norms_min', 'test_y_max_max_class', 'test_y_min_max_class', 'test_h0_beat_kernel_norms_mean', 'test_y_col_norms_min', 'post_objective', 'post_y_col_norms_max', 'post_h1_bar_kernel_norms_mean', 'post_h1_bar_kernel_norms_min', 'post_y_row_norms_mean', 'post_y_row_norms_max', 'post_y_misclass', 'post_y_mean_max_class', 'post_h1_bar_kernel_norms_max', 'post_h0_beat_kernel_norms_max', 'post_y_row_norms_min', 'post_y_col_norms_mean', 'post_y_nll', 'post_h0_beat_kernel_norms_min', 'post_y_max_max_class', 'post_y_min_max_class', 'post_h0_beat_kernel_norms_mean', 'post_y_col_norms_min', 'train_objective', 'train_y_col_norms_max', 'train_h1_bar_kernel_norms_mean', 'train_h1_bar_kernel_norms_min', 'train_y_row_norms_mean', 'train_y_row_norms_max', 'train_y_misclass', 'train_y_mean_max_class', 'train_h1_bar_kernel_norms_max', 'train_h0_beat_kernel_norms_max', 'train_y_row_norms_min', 'train_y_col_norms_mean', 'train_y_nll', 'train_h0_beat_kernel_norms_min', 'train_y_max_max_class', 'train_y_min_max_class', 'train_h0_beat_kernel_norms_mean', 'train_y_col_norms_min', 'valid_objective', 'valid_y_col_norms_max', 'valid_h1_bar_kernel_norms_mean', 'valid_h1_bar_kernel_norms_min', 'valid_y_row_norms_mean', 'valid_y_row_norms_max', 'valid_y_misclass', 'valid_y_mean_max_class', 'valid_h1_bar_kernel_norms_max', 'valid_h0_beat_kernel_norms_max', 'valid_y_row_norms_min', 'valid_y_col_norms_mean', 'valid_y_nll', 'valid_h0_beat_kernel_norms_min', 'valid_y_max_max_class', 'valid_y_min_max_class', 'valid_h0_beat_kernel_norms_mean', 'valid_y_col_norms_min', 'learning_rate', 'momentum', 'train_f1_mean', 'train_seq_misclass_rate', 'train_wseq_misclass_rate', 'train_pseq_misclass_rate', 'train_trial_misclass_rate', 'train_wtrial_misclass_rate', 'train_ptrial_misclass_rate', 'train_wtrial_mean_f1', 'train_ptrial_mean_f1', 'train_wseq_mean_f1', 'train_pseq_mean_f1', 'valid_f1_mean', 'valid_seq_misclass_rate', 'valid_wseq_misclass_rate', 'valid_pseq_misclass_rate', 'valid_trial_misclass_rate', 'valid_wtrial_misclass_rate', 'valid_ptrial_misclass_rate', 'valid_wtrial_mean_f1', 'valid_ptrial_mean_f1', 'valid_wseq_mean_f1', 'valid_pseq_mean_f1', 'test_f1_mean', 'test_seq_misclass_rate', 'test_wseq_misclass_rate', 'test_pseq_misclass_rate', 'test_trial_misclass_rate', 'test_wtrial_misclass_rate', 'test_ptrial_misclass_rate', 'test_wtrial_mean_f1', 'test_ptrial_mean_f1', 'test_wseq_mean_f1', 'test_pseq_mean_f1', 'post_f1_mean', 'post_seq_misclass_rate', 'post_wseq_misclass_rate', 'post_pseq_misclass_rate', 'post_trial_misclass_rate', 'post_wtrial_misclass_rate', 'post_ptrial_misclass_rate', 'post_wtrial_mean_f1', 'post_ptrial_mean_f1', 'post_wseq_mean_f1', 'post_pseq_mean_f1', 'training_seconds_this_epoch', 'total_seconds_last_epoch']\n",
        "          valid_wtrial_mean_f1 : 0.7822 in [37]\n",
        "            valid_wseq_mean_f1 : 0.6951 in [3]\n",
        "                 valid_f1_mean : 0.6706 in [5]\n",
        "          valid_ptrial_mean_f1 : 0.4667 in [1]\n",
        "            valid_pseq_mean_f1 : 0.4077 in [1]\n",
        "overall best epochs: [37]\n",
        "test values for best epoch:\n",
        "     test_ptrial_misclass_rate : 0.5000\n",
        "     test_wtrial_misclass_rate : 0.2083\n",
        "      test_trial_misclass_rate : 0.2500\n",
        "       test_pseq_misclass_rate : 0.6615\n",
        "       test_wseq_misclass_rate : 0.3125\n",
        "        test_seq_misclass_rate : 0.3021\n",
        "               test_y_misclass : 0.3259\n",
        "           test_ptrial_mean_f1 : 0.3333\n",
        "           test_wtrial_mean_f1 : 0.7884\n",
        "             test_pseq_mean_f1 : 0.2643\n",
        "             test_wseq_mean_f1 : 0.6786\n",
        "                  test_f1_mean : 0.6647\n",
        "loading /Users/sstober/git/deepbeat/deepbeat/output/gpu/fftcnn/exp1.4/epochs/epoch37.pkl\n",
        "{'class_prf1_channels': False, 'dataset_suffix': '_channels', 'beat_pool_stride': 1, 'lr_exponential_decay_factor': 1.0, 'hop_size': 1, 'max_epochs': 2, 'rhyth_pattern_width': 301, 'momentum_start_epoch': 1, 'momentum_init': 0.5, 'bar_pool_stride': 1, 'label_mode': 'rhythm_type', 'rhythm_pool_stride': 1, 'subjects': [1], 'n_classes': 2, 'rhythm_pool_size': 1, 'logger': {'pattern': '%(relativeCreated)d\\t %(levelname)s\\t %(processName)s : %(funcName)s@%(filename)s:%(lineno)d : %(message)s', 'level': 'debug'}, 'experiment_root': '/Users/sstober/git/deepbeat/deepbeat/output/fftcnn/hyper1', 'beat_pool_size': 7, 'reset_logging': False, 'input_length': 25, 'random_seed': 13, 'n_bins': 13, 'learning_rate': 0.05, 'num_processes': 4, 'bar_pool_size': 7, 'batch_size': 100, 'momentum_saturate_epoch': 100, 'batch_subjects': [13, 3, 5, 6, 7, 8, 10], 'num_bar_patterns': 10, 'l2_weight_decay_coeffs': [1e-05, 1e-05, 1e-05, 1e-05, 1e-05], 'num_rhythm_patterns': 10, 'dataset_root': '/Users/sstober/work/datasets/Dan/eeg', 'confusion_channels': False, 'lr_exponential_decay_min_lr': 1e-06, 'momentum_final': 0.7, 'beat_pattern_width': 5, 'num_beat_patterns': 10, 'monitoring_batches': 10, 'bar_pattern_width': 5, 'input_range': 0.05, 'sample_rate': 100, 'n_fft': 25, 'l1_weight_decay_coeffs': [1e-05, 1e-05, 1e-05, 1e-05, 1e-05]}"
       ]
      },
      {
       "output_type": "stream",
       "stream": "stderr",
       "text": [
        "/Users/sstober/git/pylearn2/pylearn2/models/mlp.py:46: UserWarning: MLP changing the recursion limit.\n",
        "  warnings.warn(\"MLP changing the recursion limit.\")\n",
        "/Users/sstober/git/deepbeat/deepbeat/code/deepbeat/eeg/EEGDataset.py:184: UserWarning: pylearn2.utils.one_hot is deprecated. Use pylearn2.format.target_format.OneHotFomatter instead. pylearn2.utils.one_hot will be removed on or after 13 August 2014\n",
        "  one_hot_y = one_hot(labels);\n"
       ]
      },
      {
       "output_type": "stream",
       "stream": "stdout",
       "text": [
        "\n",
        "\n",
        "    !obj:deepbeat.eeg.EEGDataset.EEGDataset {\n",
        "        name : 'test',\n",
        "        path : /Users/sstober/work/datasets/Dan/eeg, \n",
        "        suffix : _channels,\n",
        "        subjects : [1],\n",
        "        resample : [400,100],\n",
        "        start_sample : 2800,\n",
        "        stop_sample  : 3200,     # None (empty) = end of sequence \n",
        "        frame_size : 25,\n",
        "        hop_size : 1,           \n",
        "        label_mode : rhythm_type,\n",
        "        n_fft : 25,\n",
        "        keep_metadata : True,\n",
        "    }\n",
        "    \n",
        "             precision    recall  f1-score   support\n",
        "\n",
        "          0       0.76      0.51      0.61      7488\n",
        "          1       0.63      0.84      0.72      7488\n",
        "\n",
        "avg / total       0.70      0.67      0.66     14976\n"
       ]
      },
      {
       "output_type": "stream",
       "stream": "stdout",
       "text": [
        "\n",
        "[[3788 3700]\n",
        " [1180 6308]]\n",
        "0.325854700855\n",
        "----- sequence aggregration -----\n",
        "             precision    recall  f1-score   support\n",
        "\n",
        "          0       0.78      0.52      0.62       192\n",
        "          1       0.64      0.85      0.73       192\n",
        "\n",
        "avg / total       0.71      0.69      0.68       384\n",
        "\n",
        "[[100  92]\n",
        " [ 28 164]]\n",
        "0.3125\n",
        "----- channel aggregration -----\n",
        "             precision    recall  f1-score   support\n",
        "\n",
        "          0       0.89      0.67      0.76        12\n",
        "          1       0.73      0.92      0.81        12\n",
        "\n",
        "avg / total       0.81      0.79      0.79        24\n",
        "\n",
        "[[ 8  4]\n",
        " [ 1 11]]\n",
        "0.208333333333\n",
        "stimulus\n",
        "                             0 : 0.559\n",
        "                             1 : 0.167\n",
        "                             2 : 0.154\n",
        "                             3 : 0.008\n",
        "                             4 : 0.157\n",
        "                             5 : 0.000\n",
        "                             6 : 0.139\n",
        "                             7 : 0.224\n",
        "                             8 : 0.228\n",
        "                             9 : 0.165\n",
        "                            10 : 0.386\n",
        "                            11 : 0.072\n",
        "                            12 : 0.686\n",
        "                            13 : 0.152\n",
        "                            14 : 0.077\n",
        "                            15 : 0.931\n",
        "                            16 : 0.561\n",
        "                            17 : 0.341\n",
        "                            18 : 0.917\n",
        "                            19 : 0.000\n",
        "                            20 : 0.434\n",
        "                            21 : 0.000\n",
        "                            22 : 1.000\n",
        "                            23 : 0.462\n",
        "trial_no\n",
        "                             0 : 0.686\n",
        "                             1 : 0.386\n",
        "                             2 : 1.000\n",
        "                             3 : 0.000\n",
        "                             4 : 0.152\n",
        "                             5 : 0.072\n",
        "                             6 : 0.462\n",
        "                             7 : 0.228\n",
        "                             8 : 0.224\n",
        "                             9 : 0.000\n",
        "                            10 : 0.931\n",
        "                            11 : 0.434\n",
        "                            12 : 0.008\n",
        "                            13 : 0.077\n",
        "                            14 : 0.165\n",
        "                            15 : 0.167\n",
        "                            16 : 0.139\n",
        "                            17 : 0.559\n",
        "                            18 : 0.154\n",
        "                            19 : 0.341\n",
        "                            20 : 0.157\n",
        "                            21 : 0.917\n",
        "                            22 : 0.000\n",
        "                            23 : 0.561\n",
        "channel\n",
        "                             0 : 0.432\n",
        "                             1 : 0.339\n",
        "                             2 : 0.328\n",
        "                             3 : 0.291\n",
        "                             4 : 0.307\n",
        "                             5 : 0.301\n",
        "                             8 : 0.334\n",
        "                             9 : 0.334\n",
        "                            10 : 0.234\n",
        "                            11 : 0.304\n",
        "                            12 : 0.388\n",
        "                            13 : 0.256\n",
        "                            14 : 0.372\n",
        "                            15 : 0.482\n",
        "                            16 : 0.192\n",
        "                            17 : 0.319\n",
        "subject\n",
        "                             1 : 0.326\n",
        "0.325854700855\n",
        "    |    0     1     2     3     4     5     6     7     8     9    10    11    12    13    14    15    16    17      avg  \n",
        "  0 |  0.615 0.744 0.000 0.128 0.000 1.000  ---   ---  1.000 0.769 0.462 0.667 0.000 0.564 1.000 1.000 0.000 1.000   0.559"
       ]
      },
      {
       "output_type": "stream",
       "stream": "stdout",
       "text": [
        "\n",
        "  1 |  0.000 0.000 0.308 0.077 0.615 0.000  ---   ---  0.000 0.000 0.077 0.000 0.000 0.077 0.359 0.000 0.538 0.615   0.167\n",
        "  2 |  0.513 0.205 0.000 0.282 0.000 0.000  ---   ---  0.103 0.051 0.000 0.000 0.000 0.000 0.000 1.000 0.308 0.000   0.154\n",
        "  3 |  0.077 0.000 0.000 0.000 0.000 0.000  ---   ---  0.000 0.000 0.000 0.051 0.000 0.000 0.000 0.000 0.000 0.000   0.008\n",
        "  4 |  0.000 0.000 0.000 0.000 0.000 0.000  ---   ---  0.000 0.000 0.000 0.590 0.641 0.000 0.077 0.000 0.513 0.692   0.157\n",
        "  5 |  0.000 0.000 0.000 0.000 0.000 0.000  ---   ---  0.000 0.000 0.000 0.000 0.000 0.000 0.000 0.000 0.000 0.000   0.000\n",
        "  6 |  0.000 0.026 0.333 0.128 0.590 0.000  ---   ---  0.205 0.077 0.000 0.179 0.564 0.128 0.000 0.000 0.000 0.000   0.139\n",
        "  7 |  0.205 0.256 0.205 0.000 0.000 0.000  ---   ---  0.154 0.000 0.154 0.564 1.000 0.026 0.256 0.744 0.000 0.026   0.224\n",
        "  8 |  0.718 0.385 0.000 0.000 0.436 0.103  ---   ---  0.000 0.308 0.154 0.000 0.359 0.000 0.000 0.462 0.000 0.718   0.228\n",
        "  9 |  0.308 0.000 0.359 0.205 0.436 0.308  ---   ---  0.000 0.256 0.000 0.179 0.179 0.410 0.000 0.000 0.000 0.000   0.165\n",
        " 10 |  1.000 0.410 0.641 0.359 0.000 0.000  ---   ---  0.487 0.974 0.308 0.000 0.000 0.000 1.000 1.000 0.000 0.000   0.386\n",
        " 11 |  0.000 0.000 0.000 0.000 0.000 0.000  ---   ---  0.000 0.154 0.000 0.000 0.000 0.000 0.000 1.000 0.000 0.000   0.072\n",
        " 12 |  1.000 1.000 0.462 0.692 0.282 1.000  ---   ---  1.000 1.000 0.179 1.000 0.359 0.154 1.000 1.000 0.256 0.590   0.686\n",
        " 13 |  1.000 0.000 0.128 0.000 0.000 0.000  ---   ---  0.000 0.000 0.000 0.000 0.000 0.000 0.308 1.000 0.000 0.000   0.152\n",
        " 14 |  0.000 0.538 0.000 0.000 0.000 0.000  ---   ---  0.000 0.000 0.000 0.000 0.000 0.000 0.000 0.692 0.000 0.000   0.077\n",
        " 15 |  1.000 1.000 1.000 1.000 0.872 1.000  ---   ---  1.000 1.000 1.000 0.897 1.000 1.000 1.000 0.564 1.000 0.564   0.931\n",
        " 16 |  0.923 0.949 1.000 0.897 0.436 0.385  ---   ---  0.410 0.282 0.385 0.436 0.513 0.359 1.000 0.538 0.000 0.462   0.561\n",
        " 17 |  0.000 0.205 0.718 0.590 0.359 0.821  ---   ---  0.436 0.256 0.436 0.000 1.000 0.205 0.436 0.000 0.000 0.000   0.341\n",
        " 18 |  1.000 0.923 1.000 0.821 1.000 0.538  ---   ---  1.000 1.000 0.846 1.000 1.000 0.974 1.000 0.564 1.000 1.000   0.917\n",
        " 19 |  0.000 0.000 0.000 0.000 0.000 0.000  ---   ---  0.000 0.000 0.000 0.000 0.000 0.000 0.000 0.000 0.000 0.000   0.000\n",
        " 20 |  0.000 0.000 0.128 0.359 0.385 0.462  ---   ---  1.000 0.436 0.487 0.744 1.000 0.949 0.000 1.000 0.000 0.000   0.434\n",
        " 21 |  0.000 0.000 0.000 0.000 0.000 0.000  ---   ---  0.000 0.000 0.000 0.000 0.000 0.000 0.000 0.000 0.000 0.000   0.000\n",
        " 22 |  1.000 1.000 1.000 1.000 1.000 1.000  ---   ---  1.000 1.000 1.000 1.000 1.000 1.000 1.000 1.000 1.000 1.000   1.000\n",
        " 23 |  1.000 0.487 0.590 0.436 0.949 0.615  ---   ---  0.231 0.462 0.128 0.000 0.692 0.308 0.487 0.000 0.000 1.000   0.462\n",
        " 24 |   ---   ---   ---   ---   ---   ---   ---   ---   ---   ---   ---   ---   ---   ---   ---   ---   ---   ---     --- \n",
        " 25 |   ---   ---   ---   ---   ---   ---   ---   ---   ---   ---   ---   ---   ---   ---   ---   ---   ---   ---     --- \n",
        " 26 |   ---   ---   ---   ---   ---   ---   ---   ---   ---   ---   ---   ---   ---   ---   ---   ---   ---   ---     --- \n",
        " 27 |   ---   ---   ---   ---   ---   ---   ---   ---   ---   ---   ---   ---   ---   ---   ---   ---   ---   ---     --- \n",
        " 28 |   ---   ---   ---   ---   ---   ---   ---   ---   ---   ---   ---   ---   ---   ---   ---   ---   ---   ---     --- \n",
        " 29 |   ---   ---   ---   ---   ---   ---   ---   ---   ---   ---   ---   ---   ---   ---   ---   ---   ---   ---     --- \n",
        " 30 |   ---   ---   ---   ---   ---   ---   ---   ---   ---   ---   ---   ---   ---   ---   ---   ---   ---   ---     --- \n",
        " 31 |   ---   ---   ---   ---   ---   ---   ---   ---   ---   ---   ---   ---   ---   ---   ---   ---   ---   ---     --- \n",
        " 32 |   ---   ---   ---   ---   ---   ---   ---   ---   ---   ---   ---   ---   ---   ---   ---   ---   ---   ---     --- \n",
        " 33 |   ---   ---   ---   ---   ---   ---   ---   ---   ---   ---   ---   ---   ---   ---   ---   ---   ---   ---     --- \n",
        " 34 |   ---   ---   ---   ---   ---   ---   ---   ---   ---   ---   ---   ---   ---   ---   ---   ---   ---   ---     --- \n",
        " 35 |   ---   ---   ---   ---   ---   ---   ---   ---   ---   ---   ---   ---   ---   ---   ---   ---   ---   ---     --- \n",
        " 36 |   ---   ---   ---   ---   ---   ---   ---   ---   ---   ---   ---   ---   ---   ---   ---   ---   ---   ---     --- \n",
        " 37 |   ---   ---   ---   ---   ---   ---   ---   ---   ---   ---   ---   ---   ---   ---   ---   ---   ---   ---     --- \n",
        " 38 |   ---   ---   ---   ---   ---   ---   ---   ---   ---   ---   ---   ---   ---   ---   ---   ---   ---   ---     --- \n",
        " 39 |   ---   ---   ---   ---   ---   ---   ---   ---   ---   ---   ---   ---   ---   ---   ---   ---   ---   ---     --- \n",
        " 40 |   ---   ---   ---   ---   ---   ---   ---   ---   ---   ---   ---   ---   ---   ---   ---   ---   ---   ---     --- \n",
        " 41 |   ---   ---   ---   ---   ---   ---   ---   ---   ---   ---   ---   ---   ---   ---   ---   ---   ---   ---     --- \n",
        " 42 |   ---   ---   ---   ---   ---   ---   ---   ---   ---   ---   ---   ---   ---   ---   ---   ---   ---   ---     --- \n",
        " 43 |   ---   ---   ---   ---   ---   ---   ---   ---   ---   ---   ---   ---   ---   ---   ---   ---   ---   ---     --- \n",
        " 44 |   ---   ---   ---   ---   ---   ---   ---   ---   ---   ---   ---   ---   ---   ---   ---   ---   ---   ---     --- \n",
        " 45 |   ---   ---   ---   ---   ---   ---   ---   ---   ---   ---   ---   ---   ---   ---   ---   ---   ---   ---     --- \n",
        " 46 |   ---   ---   ---   ---   ---   ---   ---   ---   ---   ---   ---   ---   ---   ---   ---   ---   ---   ---     --- \n",
        " 47 |   ---   ---   ---   ---   ---   ---   ---   ---   ---   ---   ---   ---   ---   ---   ---   ---   ---   ---     --- \n",
        "\n",
        "avg |  0.432 0.339 0.328 0.291 0.307 0.301  ---   ---  0.334 0.334 0.234 0.304 0.388 0.256 0.372 0.482 0.192 0.319   0.326\n"
       ]
      },
      {
       "output_type": "stream",
       "stream": "stderr",
       "text": [
        "/Users/sstober/git/pylearn2/pylearn2/datasets/dense_design_matrix.py:1373: UserWarning: It looks like DefaultViewConverter.axes has been changed directly, please use the set_axes() method instead.\n",
        "  \"instead.\" % self.__class__.__name__)\n"
       ]
      }
     ],
     "prompt_number": 10
    },
    {
     "cell_type": "code",
     "collapsed": false,
     "input": [
      "from prettyplotlib.colors import reds, blue_red, blues_r\n",
      "\n",
      "grid = np.zeros(shape=[18,48])\n",
      "for r in xrange(48):    \n",
      "    for c in xrange(18):\n",
      "        values = cube.get_entries(channels=[c], stimuli=[r]);\n",
      "        if len(values) > 0:\n",
      "            grid[c,r] = np.mean(values);\n",
      "            \n",
      "c_mean = np.zeros(shape=[18,1])\n",
      "for c in xrange(18):\n",
      "    values = cube.get_entries(channels=[c]);\n",
      "    if len(values) > 0:\n",
      "        c_mean[c,0] = np.mean(values);\n",
      "            \n",
      "r_mean = np.zeros(shape=[1,48])\n",
      "for r in xrange(48):\n",
      "    values = cube.get_entries(stimuli=[r]);\n",
      "    if len(values) > 0:\n",
      "        r_mean[0,r] = np.mean(values);\n",
      "\n",
      "            \n",
      "fig = plt.figure()\n",
      "#ax = fig.add_subplot(111)\n",
      "im = plt.matshow(grid, cmap=blues_r);\n",
      "plt.colorbar(im)\n",
      "\n",
      "plt.xlabel('stimulus')\n",
      "plt.ylabel('channel')\n",
      "\n",
      "plt.show();\n",
      "\n",
      "im = plt.matshow(c_mean, cmap=blues_r);\n",
      "im = plt.matshow(r_mean, cmap=blues_r);\n",
      "\n",
      "\n",
      "#fig, ax = ppl.subplots(1);\n",
      "#p = ax.pcolormesh(grid, cmap=blue_red)\n",
      "#fig.colorbar(p)"
     ],
     "language": "python",
     "metadata": {},
     "outputs": [
      {
       "metadata": {},
       "output_type": "display_data",
       "text": [
        "<matplotlib.figure.Figure at 0x10fa41b50>"
       ]
      },
      {
       "metadata": {},
       "output_type": "display_data",
       "png": "[encoded data removed]",
       "text": [
        "<matplotlib.figure.Figure at 0x111473990>"
       ]
      },
      {
       "metadata": {},
       "output_type": "display_data",
       "png": "[encoded data removed]",
       "text": [
        "<matplotlib.figure.Figure at 0x113ce6e50>"
       ]
      },
      {
       "metadata": {},
       "output_type": "display_data",
       "png": "[encoded data removed]",
       "text": [
        "<matplotlib.figure.Figure at 0x113cd9810>"
       ]
      }
     ],
     "prompt_number": 46
    },
    {
     "cell_type": "code",
     "collapsed": false,
     "input": [],
     "language": "python",
     "metadata": {},
     "outputs": []
    }
   ],
   "metadata": {}
  }
 ]
}