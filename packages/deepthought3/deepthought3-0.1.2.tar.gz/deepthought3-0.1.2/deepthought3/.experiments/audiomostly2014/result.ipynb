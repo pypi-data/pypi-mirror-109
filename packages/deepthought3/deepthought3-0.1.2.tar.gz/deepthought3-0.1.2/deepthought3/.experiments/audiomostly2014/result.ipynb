{
 "metadata": {
  "name": "",
  "signature": "sha256:ae0fc04a797fddca4d06417c9f96205a69680197cc8494429e60282736a22bfa"
 },
 "nbformat": 3,
 "nbformat_minor": 0,
 "worksheets": [
  {
   "cells": [
    {
     "cell_type": "code",
     "collapsed": false,
     "input": [
      "import logging\n",
      "logger = logging.getLogger()\n",
      "logger.setLevel(logging.DEBUG)\n",
      "\n",
      "import os;\n",
      "import deepthought;\n",
      "\n",
      "DATA_PATH = os.path.join(deepthought3.DATA_PATH, 'rwanda2013rhythms', 'eeg');\n",
      "MODEL_PATH = os.path.join(deepthought3.OUTPUT_PATH, 'audiomostly2014', 'models');\n",
      "OUTPUT_PATH = os.path.join(deepthought3.OUTPUT_PATH, 'audiomostly2014', 'figures');\n",
      "\n",
      "print 'data path   : {}'.format(DATA_PATH);\n",
      "print 'model path  : {}'.format(MODEL_PATH);\n",
      "print 'output path : {}'.format(OUTPUT_PATH);"
     ],
     "language": "python",
     "metadata": {},
     "outputs": [
      {
       "output_type": "stream",
       "stream": "stdout",
       "text": [
        "data path   : /Users/sstober/work/datasets/rwanda2013rhythms/eeg\n",
        "model path  : /Users/sstober/work/develop/deepthought-output/audiomostly2014/models\n",
        "output path : /Users/sstober/work/develop/deepthought-output/audiomostly2014/figures\n"
       ]
      },
      {
       "output_type": "stream",
       "stream": "stderr",
       "text": [
        "Using gpu device 0: GeForce GT 650M\n"
       ]
      }
     ],
     "prompt_number": 1
    },
    {
     "cell_type": "code",
     "collapsed": false,
     "input": [
      "import numpy as np;\n",
      "best = np.asarray([\n",
      "        0.829861,\n",
      "        0.729167,  # was 0.746528 for 45\n",
      "        0.829861,  # was 0.774306 for 45\n",
      "        0.684028,\n",
      "        0.854167,\n",
      "        \n",
      "        0.701923,\n",
      "        0.801282,  # was 0.762821 for 45\n",
      "        0.875000,  # was 0.826923 for 45\n",
      "        0.717949,  # was 0.711538 for 45\n",
      "        0.714744,\n",
      "        \n",
      "        0.772436,\n",
      "        0.737179,\n",
      "        0.807692\n",
      "        ]);\n",
      "\n",
      "acc = 100 * (1-best)\n",
      "\n",
      "for a in acc:\n",
      "    print '{:.1f}'.format(a);\n",
      "    \n",
      "for i,a in enumerate(acc):\n",
      "    print '{} {:.1f}'.format(i+1,a);\n",
      "    \n",
      "print 'mean: {:.1f}'.format(acc.mean());"
     ],
     "language": "python",
     "metadata": {},
     "outputs": [
      {
       "output_type": "stream",
       "stream": "stdout",
       "text": [
        "17.0\n",
        "27.1\n",
        "17.0\n",
        "31.6\n",
        "14.6\n",
        "29.8\n",
        "19.9\n",
        "12.5\n",
        "28.2\n",
        "28.5\n",
        "22.8\n",
        "26.3\n",
        "19.2\n",
        "1 17.0\n",
        "2 27.1\n",
        "3 17.0\n",
        "4 31.6\n",
        "5 14.6\n",
        "6 29.8\n",
        "7 19.9\n",
        "8 12.5\n",
        "9 28.2\n",
        "10 28.5\n",
        "11 22.8\n",
        "12 26.3\n",
        "13 19.2\n",
        "mean: 22.7\n"
       ]
      }
     ],
     "prompt_number": 2
    },
    {
     "cell_type": "code",
     "collapsed": false,
     "input": [
      "import numpy as np;\n",
      "import os, gzip, cPickle;\n",
      "# exp_root = '/Users/sstober/git/deepbeat/deepbeat/spearmint/best/export/'\n",
      "exp_root = os.path.join(MODEL_PATH, '1layer');\n",
      "\n",
      "y_real = [];\n",
      "y_pred = [];\n",
      "output = [];\n",
      "for i in xrange(13):\n",
      "    file_path = os.path.join(exp_root, '{}'.format(i+1), 'cache', 'test_output.pklz');\n",
      "    with gzip.open(file_path, 'rb') as f:\n",
      "        _y_real, _y_pred, _output = cPickle.load(f)\n",
      "        y_real.append(_y_real);\n",
      "        y_pred.append(_y_pred);\n",
      "        output.append(_output);\n",
      "        del _y_real, _y_pred, _output;\n",
      "        print file_path;\n",
      "y_real = np.asarray(y_real);\n",
      "y_pred = np.asarray(y_pred);\n",
      "output = np.asarray(output);\n",
      "print y_real.shape\n",
      "print y_pred.shape\n",
      "print output.shape"
     ],
     "language": "python",
     "metadata": {},
     "outputs": [
      {
       "output_type": "stream",
       "stream": "stdout",
       "text": [
        "/Users/sstober/work/develop/deepthought-output/audiomostly2014/models/1layer/1/cache/test_output.pklz\n",
        "/Users/sstober/work/develop/deepthought-output/audiomostly2014/models/1layer/2/cache/test_output.pklz\n",
        "/Users/sstober/work/develop/deepthought-output/audiomostly2014/models/1layer/3/cache/test_output.pklz\n",
        "/Users/sstober/work/develop/deepthought-output/audiomostly2014/models/1layer/4/cache/test_output.pklz\n",
        "/Users/sstober/work/develop/deepthought-output/audiomostly2014/models/1layer/5/cache/test_output.pklz\n",
        "/Users/sstober/work/develop/deepthought-output/audiomostly2014/models/1layer/6/cache/test_output.pklz\n",
        "/Users/sstober/work/develop/deepthought-output/audiomostly2014/models/1layer/7/cache/test_output.pklz\n",
        "/Users/sstober/work/develop/deepthought-output/audiomostly2014/models/1layer/8/cache/test_output.pklz\n",
        "/Users/sstober/work/develop/deepthought-output/audiomostly2014/models/1layer/9/cache/test_output.pklz\n",
        "/Users/sstober/work/develop/deepthought-output/audiomostly2014/models/1layer/10/cache/test_output.pklz\n",
        "/Users/sstober/work/develop/deepthought-output/audiomostly2014/models/1layer/11/cache/test_output.pklz\n",
        "/Users/sstober/work/develop/deepthought-output/audiomostly2014/models/1layer/12/cache/test_output.pklz\n",
        "/Users/sstober/work/develop/deepthought-output/audiomostly2014/models/1layer/13/cache/test_output.pklz\n",
        "(13,)\n",
        "(13,)\n",
        "(13,)\n"
       ]
      }
     ],
     "prompt_number": 3
    },
    {
     "cell_type": "code",
     "collapsed": false,
     "input": [
      "MRR = np.zeros(13);\n",
      "prec1 = np.zeros(13);\n",
      "prec3 = np.zeros(13);\n",
      "\n",
      "line_MRR = 'mean reciprocal rank'\n",
      "line_prec1 = 'accuracy'\n",
      "line_prec3 = 'precision \\@ 3'\n",
      "\n",
      "def measure_performance(output, y_real):\n",
      "    rank_count = np.zeros(24);\n",
      "    rank = np.zeros(len(output)); # saves rank for each instance\n",
      "#     print rank.shape\n",
      "    for i, out in enumerate(output):\n",
      "#         print out;\n",
      "#         print np.argsort(out)\n",
      "#         for rank in np.argsort(out)[::-1]:     \n",
      "#             print out[rank]\n",
      "        ranking = np.argsort(out)[::-1];  # [::-1] reverses the array \n",
      "        true_class = y_real[i];\n",
      "        \n",
      "#         print ranking\n",
      "#         print true_class\n",
      "        r = np.where(ranking == true_class)[0][0];\n",
      "        rank[i] = r;\n",
      "        rank_count[r] += 1;\n",
      "#         break\n",
      "#     print rank_count\n",
      "    \n",
      "    prec_at_k = np.zeros(24);\n",
      "    total = np.sum(rank_count);\n",
      "#     print total\n",
      "    for k in xrange(24):\n",
      "       prec_at_k[k] = 100. * np.sum( rank_count[0:k+1] ) / float(total) \n",
      "#     print prec_at_k[0:5]\n",
      "    \n",
      "    mrr = (1. / (rank+1)).mean();\n",
      "\n",
      "    return prec_at_k, mrr\n",
      "    \n",
      "#     prec1[subj] = prec_at_k[0] * 100;\n",
      "#     prec3[subj] = prec_at_k[2] * 100;\n",
      "\n",
      "for subj in xrange(13):\n",
      "#     rank_count = np.zeros(24);\n",
      "#     rank = np.zeros(len(output[subj]));\n",
      "#     print rank.shape\n",
      "#     for i, out in enumerate(output[subj]):\n",
      "# #         print out;\n",
      "# #         print np.argsort(out)\n",
      "# #         for rank in np.argsort(out)[::-1]:     # [::-1] reverses the array \n",
      "# #             print out[rank]\n",
      "#         ranking = np.argsort(out)[::-1];\n",
      "#         true_class = y_real[subj][i];\n",
      "        \n",
      "# #         print ranking\n",
      "# #         print true_class\n",
      "#         r = np.where(ranking == true_class)[0][0];\n",
      "#         rank[i] = r;\n",
      "#         rank_count[r] += 1;\n",
      "# #         break\n",
      "# #     print rank_count\n",
      "    \n",
      "#     prec_at_k = np.zeros(24);\n",
      "#     total = np.sum(rank_count);\n",
      "# #     print total\n",
      "#     for k in xrange(24):\n",
      "#        prec_at_k[k] = np.sum( rank_count[0:k+1] ) / float(total) \n",
      "#     print prec_at_k[0:5]\n",
      "    \n",
      "#     MRR[subj] = (1. / (rank+1)).mean();\n",
      "#     print MRR[subj]\n",
      "\n",
      "    prec_at_k, MRR[subj] = measure_performance(output[subj], y_real[subj]);\n",
      "    \n",
      "    prec1[subj] = prec_at_k[0];\n",
      "    prec3[subj] = prec_at_k[2];\n",
      "    \n",
      "    line_MRR = line_MRR + '\\t& {:.2f}'.format(MRR[subj]);\n",
      "    line_prec1 = line_prec1 + '\\t& {:.1f}\\%'.format(prec1[subj]);\n",
      "    line_prec3 = line_prec3 + '\\t& {:.1f}\\%'.format(prec3[subj]);\n",
      "#     break;\n",
      "\n",
      "line_MRR = line_MRR + '\\t& {:.2f}'.format(np.mean(MRR));\n",
      "line_prec1 = line_prec1 + '\\t& {:.1f}\\%'.format(np.mean(prec1));\n",
      "line_prec3 = line_prec3 + '\\t& {:.1f}\\%'.format(np.mean(prec3));\n",
      "\n",
      "\n",
      "print MRR[subj]\n",
      "print line_prec1\n",
      "print line_prec3\n",
      "print line_MRR\n",
      "\n",
      "print '{:.2f}'.format(np.mean(MRR));\n",
      "print '{:.1f}\\%'.format(np.mean(prec1));\n",
      "print '{:.1f}\\%'.format(np.mean(prec3));\n",
      "\n",
      "for i in xrange(13):\n",
      "    print '{} {:.1f} {:.1f} {:.2f}'.format(i+1, prec1[i], prec3[i], MRR[i]);\n",
      "\n",
      "for i in xrange(13):\n",
      "    print '{:.1f}\\%\\t& {:.1f}\\%\\t& {:.2f}\\t\\\\tabularnewline'.format(prec1[i], prec3[i], MRR[i]);\n",
      "\n",
      "print 'mean \\t& {:.1f}\\%\\t& {:.1f}\\%\\t& {:.2f}\\t\\\\tabularnewline'.format(prec1.mean(), prec3.mean(), MRR.mean());\n"
     ],
     "language": "python",
     "metadata": {},
     "outputs": [
      {
       "output_type": "stream",
       "stream": "stdout",
       "text": [
        "0.378633643025\n",
        "accuracy\t& 15.6\\%\t& 27.8\\%\t& 17.4\\%\t& 31.6\\%\t& 14.6\\%\t& 29.8\\%\t& 21.2\\%\t& 16.7\\%\t& 28.2\\%\t& 27.2\\%\t& 22.8\\%\t& 26.3\\%\t& 19.2\\%\t& 22.9\\%\n",
        "precision \\@ 3\t& 32.6\\%\t& 46.2\\%\t& 34.4\\%\t& 63.2\\%\t& 27.4\\%\t& 52.6\\%\t& 42.0\\%\t& 38.1\\%\t& 50.0\\%\t& 55.8\\%\t& 51.6\\%\t& 65.7\\%\t& 43.9\\%\t& 46.4\\%\n",
        "mean reciprocal rank\t& 0.31\t& 0.42\t& 0.31\t& 0.52\t& 0.29\t& 0.48\t& 0.38\t& 0.33\t& 0.45\t& 0.46\t& 0.41\t& 0.49\t& 0.38\t& 0.40\n",
        "0.40\n",
        "22.9\\%\n",
        "46.4\\%\n",
        "1 15.6 32.6 0.31\n",
        "2 27.8 46.2 0.42\n",
        "3 17.4 34.4 0.31\n",
        "4 31.6 63.2 0.52\n",
        "5 14.6 27.4 0.29\n",
        "6 29.8 52.6 0.48\n",
        "7 21.2 42.0 0.38\n",
        "8 16.7 38.1 0.33\n",
        "9 28.2 50.0 0.45\n",
        "10 27.2 55.8 0.46\n",
        "11 22.8 51.6 0.41\n",
        "12 26.3 65.7 0.49\n",
        "13 19.2 43.9 0.38\n",
        "15.6\\%\t& 32.6\\%\t& 0.31\t\\tabularnewline\n",
        "27.8\\%\t& 46.2\\%\t& 0.42\t\\tabularnewline\n",
        "17.4\\%\t& 34.4\\%\t& 0.31\t\\tabularnewline\n",
        "31.6\\%\t& 63.2\\%\t& 0.52\t\\tabularnewline\n",
        "14.6\\%\t& 27.4\\%\t& 0.29\t\\tabularnewline\n",
        "29.8\\%\t& 52.6\\%\t& 0.48\t\\tabularnewline\n",
        "21.2\\%\t& 42.0\\%\t& 0.38\t\\tabularnewline\n",
        "16.7\\%\t& 38.1\\%\t& 0.33\t\\tabularnewline\n",
        "28.2\\%\t& 50.0\\%\t& 0.45\t\\tabularnewline\n",
        "27.2\\%\t& 55.8\\%\t& 0.46\t\\tabularnewline\n",
        "22.8\\%\t& 51.6\\%\t& 0.41\t\\tabularnewline\n",
        "26.3\\%\t& 65.7\\%\t& 0.49\t\\tabularnewline\n",
        "19.2\\%\t& 43.9\\%\t& 0.38\t\\tabularnewline\n",
        "mean \t& 22.9\\%\t& 46.4\\%\t& 0.40\t\\tabularnewline\n"
       ]
      }
     ],
     "prompt_number": 4
    },
    {
     "cell_type": "code",
     "collapsed": false,
     "input": [
      "acc = np.zeros(13);\n",
      "for i in xrange(13):\n",
      "    acc[i] = 100 * (1 - (y_real[i] != y_pred[i]).mean());\n",
      "    print '{} {:.1f}'.format(i+1,acc[i]);"
     ],
     "language": "python",
     "metadata": {},
     "outputs": [
      {
       "output_type": "stream",
       "stream": "stdout",
       "text": [
        "1 15.6\n",
        "2 27.8\n",
        "3 17.4\n",
        "4 31.6\n",
        "5 14.6\n",
        "6 29.8\n",
        "7 21.2\n",
        "8 16.7\n",
        "9 28.2\n",
        "10 27.2\n",
        "11 22.8\n",
        "12 26.3\n",
        "13 19.2\n"
       ]
      }
     ],
     "prompt_number": 5
    },
    {
     "cell_type": "code",
     "collapsed": false,
     "input": [
      "def evalutate(exp_root):\n",
      "    file_path = os.path.join(exp_root, 'cache', 'test_output.pklz');\n",
      "    with gzip.open(file_path, 'rb') as f:\n",
      "        y_real, y_pred, output = cPickle.load(f);\n",
      "    prec_at_k, mrr = measure_performance(output, y_real);\n",
      "    print '{:.1f}\\%\\t& {:.1f}\\%\\t& {:.2f}\\t\\\\tabularnewline'.format(prec_at_k[0], prec_at_k[3], mrr);"
     ],
     "language": "python",
     "metadata": {},
     "outputs": [],
     "prompt_number": 6
    },
    {
     "cell_type": "code",
     "collapsed": false,
     "input": [
      "evalutate(os.path.join(MODEL_PATH, '2layers', 'h1_1bar_nophase_49bins.beats/best'));"
     ],
     "language": "python",
     "metadata": {},
     "outputs": [
      {
       "output_type": "stream",
       "stream": "stdout",
       "text": [
        "28.8\\%\t& 73.3\\%\t& 0.50\t\\tabularnewline\n"
       ]
      }
     ],
     "prompt_number": 7
    },
    {
     "cell_type": "code",
     "collapsed": false,
     "input": [
      "evalutate(os.path.join(MODEL_PATH, '2layers', 'h1_1bar_nophase_49bins.bars/best'));"
     ],
     "language": "python",
     "metadata": {},
     "outputs": [
      {
       "output_type": "stream",
       "stream": "stdout",
       "text": [
        "30.9\\%\t& 69.4\\%\t& 0.50\t\\tabularnewline\n"
       ]
      }
     ],
     "prompt_number": 8
    },
    {
     "cell_type": "code",
     "collapsed": false,
     "input": [
      "evalutate(os.path.join(MODEL_PATH, '2layers', 'h1_1bar_nophase_49bins.3-fixedLR/best'));"
     ],
     "language": "python",
     "metadata": {},
     "outputs": [
      {
       "output_type": "stream",
       "stream": "stdout",
       "text": [
        "34.4\\%\t& 81.6\\%\t& 0.55\t\\tabularnewline\n"
       ]
      }
     ],
     "prompt_number": 9
    },
    {
     "cell_type": "code",
     "collapsed": false,
     "input": [],
     "language": "python",
     "metadata": {},
     "outputs": []
    }
   ],
   "metadata": {}
  }
 ]
}