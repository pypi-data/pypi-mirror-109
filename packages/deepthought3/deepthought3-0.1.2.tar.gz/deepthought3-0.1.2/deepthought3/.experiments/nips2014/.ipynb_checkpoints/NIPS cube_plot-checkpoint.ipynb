{
 "metadata": {
  "name": ""
 },
 "nbformat": 3,
 "nbformat_minor": 0,
 "worksheets": [
  {
   "cells": [
    {
     "cell_type": "code",
     "collapsed": false,
     "input": [
      "import gzip, cPickle\n",
      "import numpy as np\n",
      "import matplotlib.pyplot as plt;\n",
      "import matplotlib as mpl\n",
      "import prettyplotlib as ppl\n",
      "\n",
      "%matplotlib inline  \n",
      "\n",
      "import logging\n",
      "logger = logging.getLogger()\n",
      "logger.setLevel(logging.DEBUG)\n",
      "\n",
      "from deepthought3.scripts.generate_plots import load_results\n",
      "from deepthought3.analysis.extract_results import _extract_cube;\n",
      "import os, cPickle, gzip;\n",
      "\n",
      "path4 = '/Users/sstober/git/deepbeat/deepbeat/spearmint/nips/h0/4/best'\n",
      "train, model = load_results(path4)\n",
      "with gzip.open(os.path.join(path4, 'cache', 'test_output.pklz'), 'rb') as f:\n",
      "        y_real, y_pred, output = cPickle.load(f)\n",
      "\n",
      "dataset = train.algorithm.monitoring_dataset['test'];\n",
      "cube = _extract_cube(dataset.metadata, y_real, y_pred);"
     ],
     "language": "python",
     "metadata": {},
     "outputs": [
      {
       "output_type": "stream",
       "stream": "stderr",
       "text": [
        "INFO:deepthought3.scripts.generate_plots:loading model from /Users/sstober/git/deepbeat/deepbeat/spearmint/nips/h0/4/best/mlp_best.pkl...\n"
       ]
      },
      {
       "output_type": "stream",
       "stream": "stderr",
       "text": [
        "/Users/sstober/git/pylearn2/pylearn2/models/mlp.py:46: UserWarning: MLP changing the recursion limit.\n",
        "  warnings.warn(\"MLP changing the recursion limit.\")\n",
        "INFO:deepthought3.scripts.generate_plots:loading model from /Users/sstober/git/deepbeat/deepbeat/spearmint/nips/h0/4/best/mlp_best.pkl done. Time elapsed: 1.020193 seconds\n"
       ]
      },
      {
       "output_type": "stream",
       "stream": "stderr",
       "text": [
        "INFO:deepthought3.scripts.generate_plots:applying hostname path fix for: Jeep2.local\n"
       ]
      },
      {
       "output_type": "stream",
       "stream": "stderr",
       "text": [
        "INFO:deepthought3.scripts.generate_plots:loading train from /Users/sstober/git/deepbeat/deepbeat/spearmint/nips/h0/4/best/train.yaml...\n"
       ]
      },
      {
       "output_type": "stream",
       "stream": "stdout",
       "text": [
        "Couldn't import dot_parser, loading of dot files will not be possible.\n",
        "None"
       ]
      },
      {
       "output_type": "stream",
       "stream": "stderr",
       "text": [
        "INFO:deepthought3.util.yaml_util:parsing yaml...\n"
       ]
      },
      {
       "output_type": "stream",
       "stream": "stderr",
       "text": [
        "DEBUG:deepthought3.datasets.rwanda2013rhythms.EEGDataset:addding /Users/sstober/work/datasets/Dan/eeg/Sub001TN010613/dataset_13goodchannels_plus4s.pklz\n"
       ]
      },
      {
       "output_type": "stream",
       "stream": "stderr",
       "text": [
        "DEBUG:deepthought3.datasets.rwanda2013rhythms.EEGDataset:addding /Users/sstober/work/datasets/Dan/eeg/Sub002DI010613/dataset_13goodchannels_plus4s.pklz\n"
       ]
      },
      {
       "output_type": "stream",
       "stream": "stderr",
       "text": [
        "DEBUG:deepthought3.datasets.rwanda2013rhythms.EEGDataset:addding /Users/sstober/work/datasets/Dan/eeg/Sub003TN020613/dataset_13goodchannels_plus4s.pklz\n"
       ]
      },
      {
       "output_type": "stream",
       "stream": "stderr",
       "text": [
        "DEBUG:deepthought3.datasets.rwanda2013rhythms.EEGDataset:addding /Users/sstober/work/datasets/Dan/eeg/Sub004DN040613/dataset_13goodchannels_plus4s.pklz\n"
       ]
      },
      {
       "output_type": "stream",
       "stream": "stderr",
       "text": [
        "DEBUG:deepthought3.datasets.rwanda2013rhythms.EEGDataset:addding /Users/sstober/work/datasets/Dan/eeg/Sub005NE040613/dataset_13goodchannels_plus4s.pklz\n"
       ]
      },
      {
       "output_type": "stream",
       "stream": "stderr",
       "text": [
        "DEBUG:deepthought3.datasets.rwanda2013rhythms.EEGDataset:addding /Users/sstober/work/datasets/Dan/eeg/Sub006PN040613/dataset_13goodchannels_plus4s.pklz\n"
       ]
      },
      {
       "output_type": "stream",
       "stream": "stderr",
       "text": [
        "DEBUG:deepthought3.datasets.rwanda2013rhythms.EEGDataset:addding /Users/sstober/work/datasets/Dan/eeg/Sub007FB050613/dataset_13goodchannels_plus4s.pklz\n"
       ]
      },
      {
       "output_type": "stream",
       "stream": "stderr",
       "text": [
        "DEBUG:deepthought3.datasets.rwanda2013rhythms.EEGDataset:addding /Users/sstober/work/datasets/Dan/eeg/Sub008MN050613/dataset_13goodchannels_plus4s.pklz\n"
       ]
      },
      {
       "output_type": "stream",
       "stream": "stderr",
       "text": [
        "DEBUG:deepthought3.datasets.rwanda2013rhythms.EEGDataset:addding /Users/sstober/work/datasets/Dan/eeg/Sub009DK050613/dataset_13goodchannels_plus4s.pklz\n"
       ]
      },
      {
       "output_type": "stream",
       "stream": "stderr",
       "text": [
        "DEBUG:deepthought3.datasets.rwanda2013rhythms.EEGDataset:addding /Users/sstober/work/datasets/Dan/eeg/Sub010DO060613/dataset_13goodchannels_plus4s.pklz\n"
       ]
      },
      {
       "output_type": "stream",
       "stream": "stderr",
       "text": [
        "DEBUG:deepthought3.datasets.rwanda2013rhythms.EEGDataset:addding /Users/sstober/work/datasets/Dan/eeg/Sub011AM060613/dataset_13goodchannels_plus4s.pklz\n"
       ]
      },
      {
       "output_type": "stream",
       "stream": "stderr",
       "text": [
        "DEBUG:deepthought3.datasets.rwanda2013rhythms.EEGDataset:addding /Users/sstober/work/datasets/Dan/eeg/Sub012RN060613/dataset_13goodchannels_plus4s.pklz\n"
       ]
      },
      {
       "output_type": "stream",
       "stream": "stderr",
       "text": [
        "DEBUG:deepthought3.datasets.rwanda2013rhythms.EEGDataset:addding /Users/sstober/work/datasets/Dan/eeg/Sub013MI080613/dataset_13goodchannels_plus4s.pklz\n"
       ]
      },
      {
       "output_type": "stream",
       "stream": "stderr",
       "text": [
        "INFO:deepthought3.datasets.rwanda2013rhythms.EEGDataset:loading data from /Users/sstober/work/datasets/Dan/eeg/Sub004DN040613/dataset_13goodchannels_plus4s.pklz...\n"
       ]
      },
      {
       "output_type": "stream",
       "stream": "stderr",
       "text": [
        "INFO:deepthought3.datasets.rwanda2013rhythms.EEGDataset:loading data from /Users/sstober/work/datasets/Dan/eeg/Sub004DN040613/dataset_13goodchannels_plus4s.pklz done. Time elapsed: 0.682014 seconds\n"
       ]
      },
      {
       "output_type": "stream",
       "stream": "stderr",
       "text": [
        "/Users/sstober/git/deepbeat/deepbeat/code/deepthought/datasets/rwanda2013rhythms/EEGDataset.py:243: UserWarning: pylearn2.utils.one_hot is deprecated. Use pylearn2.format.target_format.OneHotFomatter instead. pylearn2.utils.one_hot will be removed on or after 13 August 2014\n",
        "  one_hot_y = one_hot(labels);\n",
        "DEBUG:deepthought3.datasets.rwanda2013rhythms.EEGDataset:final dataset shape: (288, 45, 49, 1) (b,0,1,c)\n"
       ]
      },
      {
       "output_type": "stream",
       "stream": "stderr",
       "text": [
        "DEBUG:deepthought3.datasets.rwanda2013rhythms.EEGDataset:generated dataset \"test\" with shape X=(288, 2205) y=(288, 24) labels=(288,) \n"
       ]
      },
      {
       "output_type": "stream",
       "stream": "stderr",
       "text": [
        "DEBUG:deepthought3.datasets.rwanda2013rhythms.EEGDataset:addding /Users/sstober/work/datasets/Dan/eeg/Sub001TN010613/dataset_13goodchannels_plus4s.pklz\n"
       ]
      },
      {
       "output_type": "stream",
       "stream": "stderr",
       "text": [
        "DEBUG:deepthought3.datasets.rwanda2013rhythms.EEGDataset:addding /Users/sstober/work/datasets/Dan/eeg/Sub002DI010613/dataset_13goodchannels_plus4s.pklz\n"
       ]
      },
      {
       "output_type": "stream",
       "stream": "stderr",
       "text": [
        "DEBUG:deepthought3.datasets.rwanda2013rhythms.EEGDataset:addding /Users/sstober/work/datasets/Dan/eeg/Sub003TN020613/dataset_13goodchannels_plus4s.pklz\n"
       ]
      },
      {
       "output_type": "stream",
       "stream": "stderr",
       "text": [
        "DEBUG:deepthought3.datasets.rwanda2013rhythms.EEGDataset:addding /Users/sstober/work/datasets/Dan/eeg/Sub004DN040613/dataset_13goodchannels_plus4s.pklz\n"
       ]
      },
      {
       "output_type": "stream",
       "stream": "stderr",
       "text": [
        "DEBUG:deepthought3.datasets.rwanda2013rhythms.EEGDataset:addding /Users/sstober/work/datasets/Dan/eeg/Sub005NE040613/dataset_13goodchannels_plus4s.pklz\n"
       ]
      },
      {
       "output_type": "stream",
       "stream": "stderr",
       "text": [
        "DEBUG:deepthought3.datasets.rwanda2013rhythms.EEGDataset:addding /Users/sstober/work/datasets/Dan/eeg/Sub006PN040613/dataset_13goodchannels_plus4s.pklz\n"
       ]
      },
      {
       "output_type": "stream",
       "stream": "stderr",
       "text": [
        "DEBUG:deepthought3.datasets.rwanda2013rhythms.EEGDataset:addding /Users/sstober/work/datasets/Dan/eeg/Sub007FB050613/dataset_13goodchannels_plus4s.pklz\n"
       ]
      },
      {
       "output_type": "stream",
       "stream": "stderr",
       "text": [
        "DEBUG:deepthought3.datasets.rwanda2013rhythms.EEGDataset:addding /Users/sstober/work/datasets/Dan/eeg/Sub008MN050613/dataset_13goodchannels_plus4s.pklz\n"
       ]
      },
      {
       "output_type": "stream",
       "stream": "stderr",
       "text": [
        "DEBUG:deepthought3.datasets.rwanda2013rhythms.EEGDataset:addding /Users/sstober/work/datasets/Dan/eeg/Sub009DK050613/dataset_13goodchannels_plus4s.pklz\n"
       ]
      },
      {
       "output_type": "stream",
       "stream": "stderr",
       "text": [
        "DEBUG:deepthought3.datasets.rwanda2013rhythms.EEGDataset:addding /Users/sstober/work/datasets/Dan/eeg/Sub010DO060613/dataset_13goodchannels_plus4s.pklz\n"
       ]
      },
      {
       "output_type": "stream",
       "stream": "stderr",
       "text": [
        "DEBUG:deepthought3.datasets.rwanda2013rhythms.EEGDataset:addding /Users/sstober/work/datasets/Dan/eeg/Sub011AM060613/dataset_13goodchannels_plus4s.pklz\n"
       ]
      },
      {
       "output_type": "stream",
       "stream": "stderr",
       "text": [
        "DEBUG:deepthought3.datasets.rwanda2013rhythms.EEGDataset:addding /Users/sstober/work/datasets/Dan/eeg/Sub012RN060613/dataset_13goodchannels_plus4s.pklz\n"
       ]
      },
      {
       "output_type": "stream",
       "stream": "stderr",
       "text": [
        "DEBUG:deepthought3.datasets.rwanda2013rhythms.EEGDataset:addding /Users/sstober/work/datasets/Dan/eeg/Sub013MI080613/dataset_13goodchannels_plus4s.pklz\n"
       ]
      },
      {
       "output_type": "stream",
       "stream": "stderr",
       "text": [
        "INFO:deepthought3.datasets.rwanda2013rhythms.EEGDataset:loading data from /Users/sstober/work/datasets/Dan/eeg/Sub004DN040613/dataset_13goodchannels_plus4s.pklz...\n"
       ]
      },
      {
       "output_type": "stream",
       "stream": "stderr",
       "text": [
        "INFO:deepthought3.datasets.rwanda2013rhythms.EEGDataset:loading data from /Users/sstober/work/datasets/Dan/eeg/Sub004DN040613/dataset_13goodchannels_plus4s.pklz done. Time elapsed: 0.902526 seconds\n"
       ]
      },
      {
       "output_type": "stream",
       "stream": "stderr",
       "text": [
        "DEBUG:deepthought3.datasets.rwanda2013rhythms.EEGDataset:final dataset shape: (2592, 45, 49, 1) (b,0,1,c)\n"
       ]
      },
      {
       "output_type": "stream",
       "stream": "stderr",
       "text": [
        "DEBUG:deepthought3.datasets.rwanda2013rhythms.EEGDataset:generated dataset \"train\" with shape X=(2592, 2205) y=(2592, 24) labels=(2592,) \n"
       ]
      },
      {
       "output_type": "stream",
       "stream": "stderr",
       "text": [
        "DEBUG:deepthought3.datasets.rwanda2013rhythms.EEGDataset:addding /Users/sstober/work/datasets/Dan/eeg/Sub001TN010613/dataset_13goodchannels_plus4s.pklz\n"
       ]
      },
      {
       "output_type": "stream",
       "stream": "stderr",
       "text": [
        "DEBUG:deepthought3.datasets.rwanda2013rhythms.EEGDataset:addding /Users/sstober/work/datasets/Dan/eeg/Sub002DI010613/dataset_13goodchannels_plus4s.pklz\n"
       ]
      },
      {
       "output_type": "stream",
       "stream": "stderr",
       "text": [
        "DEBUG:deepthought3.datasets.rwanda2013rhythms.EEGDataset:addding /Users/sstober/work/datasets/Dan/eeg/Sub003TN020613/dataset_13goodchannels_plus4s.pklz\n"
       ]
      },
      {
       "output_type": "stream",
       "stream": "stderr",
       "text": [
        "DEBUG:deepthought3.datasets.rwanda2013rhythms.EEGDataset:addding /Users/sstober/work/datasets/Dan/eeg/Sub004DN040613/dataset_13goodchannels_plus4s.pklz\n"
       ]
      },
      {
       "output_type": "stream",
       "stream": "stderr",
       "text": [
        "DEBUG:deepthought3.datasets.rwanda2013rhythms.EEGDataset:addding /Users/sstober/work/datasets/Dan/eeg/Sub005NE040613/dataset_13goodchannels_plus4s.pklz\n"
       ]
      },
      {
       "output_type": "stream",
       "stream": "stderr",
       "text": [
        "DEBUG:deepthought3.datasets.rwanda2013rhythms.EEGDataset:addding /Users/sstober/work/datasets/Dan/eeg/Sub006PN040613/dataset_13goodchannels_plus4s.pklz\n"
       ]
      },
      {
       "output_type": "stream",
       "stream": "stderr",
       "text": [
        "DEBUG:deepthought3.datasets.rwanda2013rhythms.EEGDataset:addding /Users/sstober/work/datasets/Dan/eeg/Sub007FB050613/dataset_13goodchannels_plus4s.pklz\n"
       ]
      },
      {
       "output_type": "stream",
       "stream": "stderr",
       "text": [
        "DEBUG:deepthought3.datasets.rwanda2013rhythms.EEGDataset:addding /Users/sstober/work/datasets/Dan/eeg/Sub008MN050613/dataset_13goodchannels_plus4s.pklz\n"
       ]
      },
      {
       "output_type": "stream",
       "stream": "stderr",
       "text": [
        "DEBUG:deepthought3.datasets.rwanda2013rhythms.EEGDataset:addding /Users/sstober/work/datasets/Dan/eeg/Sub009DK050613/dataset_13goodchannels_plus4s.pklz\n"
       ]
      },
      {
       "output_type": "stream",
       "stream": "stderr",
       "text": [
        "DEBUG:deepthought3.datasets.rwanda2013rhythms.EEGDataset:addding /Users/sstober/work/datasets/Dan/eeg/Sub010DO060613/dataset_13goodchannels_plus4s.pklz\n"
       ]
      },
      {
       "output_type": "stream",
       "stream": "stderr",
       "text": [
        "DEBUG:deepthought3.datasets.rwanda2013rhythms.EEGDataset:addding /Users/sstober/work/datasets/Dan/eeg/Sub011AM060613/dataset_13goodchannels_plus4s.pklz\n"
       ]
      },
      {
       "output_type": "stream",
       "stream": "stderr",
       "text": [
        "DEBUG:deepthought3.datasets.rwanda2013rhythms.EEGDataset:addding /Users/sstober/work/datasets/Dan/eeg/Sub012RN060613/dataset_13goodchannels_plus4s.pklz\n"
       ]
      },
      {
       "output_type": "stream",
       "stream": "stderr",
       "text": [
        "DEBUG:deepthought3.datasets.rwanda2013rhythms.EEGDataset:addding /Users/sstober/work/datasets/Dan/eeg/Sub013MI080613/dataset_13goodchannels_plus4s.pklz\n"
       ]
      },
      {
       "output_type": "stream",
       "stream": "stderr",
       "text": [
        "INFO:deepthought3.datasets.rwanda2013rhythms.EEGDataset:loading data from /Users/sstober/work/datasets/Dan/eeg/Sub004DN040613/dataset_13goodchannels_plus4s.pklz...\n"
       ]
      },
      {
       "output_type": "stream",
       "stream": "stderr",
       "text": [
        "INFO:deepthought3.datasets.rwanda2013rhythms.EEGDataset:loading data from /Users/sstober/work/datasets/Dan/eeg/Sub004DN040613/dataset_13goodchannels_plus4s.pklz done. Time elapsed: 0.648979 seconds\n"
       ]
      },
      {
       "output_type": "stream",
       "stream": "stderr",
       "text": [
        "DEBUG:deepthought3.datasets.rwanda2013rhythms.EEGDataset:final dataset shape: (288, 45, 49, 1) (b,0,1,c)\n"
       ]
      },
      {
       "output_type": "stream",
       "stream": "stderr",
       "text": [
        "DEBUG:deepthought3.datasets.rwanda2013rhythms.EEGDataset:generated dataset \"valid\" with shape X=(288, 2205) y=(288, 24) labels=(288,) \n"
       ]
      },
      {
       "output_type": "stream",
       "stream": "stdout",
       "text": [
        "\n",
        "!obj:pylearn2.train.Train {\n",
        "    dataset: &train !obj:deepbeat.eeg.EEGDataset.EEGDataset {\n",
        "        name : 'train',\n",
        "        path : /Users/sstober/work/datasets/Dan/eeg,\n",
        "        suffix : _13goodchannels_plus4s,\n",
        "        subjects : [3],\n",
        "        resample : [400,400],\n",
        "        # start_sample : 1152,\n",
        "        start_sample : 1472,\n",
        "        stop_sample  : 11648,                   # None (empty) = end of sequence \n",
        "        frame_size : 45,\n",
        "        hop_size : 45,\n",
        "        label_mode : rhythm,\n",
        "        n_fft : 96,                      # None (empty) = raw signal\n",
        "        n_freq_bins : 49,\n",
        "        include_phase : False,\n",
        "        spectrum_log_amplitude : True,\n",
        "        spectrum_normalization_mode : linear_0_1,\n",
        "    },\n",
        "    \n",
        "    model: &model !obj:pylearn2.models.mlp.MLP {\n",
        "        seed : 13,                                        # controls initialization\n",
        "        batch_size: 100,\n",
        "        input_space: !obj:pylearn2.space.Conv2DSpace {\n",
        "                        shape: [45, 49],                  # just 1d\n",
        "                        num_channels: 1,\n",
        "                    },\n",
        "        layers: [\n",
        "                !obj:pylearn2.models.mlp.ConvRectifiedLinear {\n",
        "                    layer_name: 'h0',\n",
        "                    output_channels: 30,            # number of feature maps\n",
        "                    irange: 0.050000,\n",
        "                    # init_bias: ,                    \n",
        "                    # max_kernel_norm: 1.9365,\n",
        "                    kernel_shape: [35, 49],         \n",
        "                    pool_shape: [1, 1],                # if 1 -> no aggregation / smoothing / time-invariance\n",
        "                    pool_stride: [1, 1],             # if 1 -> no sub-sampling / dimension reduction\n",
        "                    pool_type: 'max',\n",
        "                    tied_b: True\n",
        "                },\n",
        "\n",
        "                !obj:deepbeat.pylearn2ext.HingeLoss.HingeLoss {\n",
        "                    # max_col_norm: 1.9365,\n",
        "                    layer_name: 'y',\n",
        "                    n_classes: 24,\n",
        "                    irange: 0.050000,\n",
        "                    # istdev: .05,\n",
        "                    # max_col_norm: 1.9365,\n",
        "                 }\n",
        "                \n",
        "               ]\n",
        "    },\n",
        "    \n",
        "    algorithm: !obj:pylearn2.training_algorithms.sgd.SGD {\n",
        "        seed: 13,                                  # controls dataset traversal\n",
        "        batch_size: 100,\n",
        "        learning_rate: 0.00447388603312,\n",
        "\n",
        "        monitoring_dataset:\n",
        "            {\n",
        "                'train' : *train,\n",
        "                'valid'  : &valid !obj:deepbeat.eeg.EEGDataset.EEGDataset {\n",
        "                                name : 'valid',\n",
        "                                path : /Users/sstober/work/datasets/Dan/eeg, \n",
        "                                suffix : _13goodchannels_plus4s,\n",
        "                                subjects : [3],\n",
        "                                resample : [400,400],\n",
        "                                start_sample : 320,\n",
        "                                stop_sample  : 1472, # None (empty) = end of sequence \n",
        "                                frame_size : 45,\n",
        "                                hop_size : 45,           \n",
        "                                label_mode : rhythm,\n",
        "                                n_fft : 96,\n",
        "                                n_freq_bins : 49,\n",
        "                                include_phase : False,\n",
        "                                spectrum_log_amplitude : True,\n",
        "                                spectrum_normalization_mode : linear_0_1,\n",
        "                            },\n",
        "                'test'  : &test !obj:deepbeat.eeg.EEGDataset.EEGDataset {\n",
        "                                name : 'test',\n",
        "                                path : /Users/sstober/work/datasets/Dan/eeg, \n",
        "                                suffix : _13goodchannels_plus4s,\n",
        "                                subjects : [3],\n",
        "                                resample : [400,400],\n",
        "                                start_sample : 11648,\n",
        "                                stop_sample  : 12800,    # None (empty) = end of sequence \n",
        "                                frame_size : 45,\n",
        "                                hop_size : 45,           \n",
        "                                label_mode : rhythm,\n",
        "                                n_fft : 96,\n",
        "                                n_freq_bins : 49,\n",
        "                                include_phase : False,\n",
        "                                spectrum_log_amplitude : True,\n",
        "                                spectrum_normalization_mode : linear_0_1,\n",
        "                                keep_metadata : True,\n",
        "                            },\n",
        "            },\n",
        "        # cost: &cost !obj:pylearn2.models.mlp.Default {},\n",
        "        \n",
        "        cost: &cost\n",
        "        #     # !obj:pylearn2.costs.cost.SumOfCosts { \n",
        "        #     #     costs: [\n",
        "                    !obj:pylearn2.costs.mlp.dropout.Dropout {\n",
        "                        input_include_probs: { 'h0' : .8 },\n",
        "                            input_scales: { 'h0': 1. }\n",
        "                    },\n",
        "        #             # !obj:pylearn2.costs.mlp.L1WeightDecay {\n",
        "        #             #     coeffs: [1e-05, 1e-05, 1e-05, 1e-05, 1e-05], #[ .000001, .000001, .000001, .000001 ]\n",
        "        #             # },\n",
        "        #             # !obj:pylearn2.costs.mlp.WeightDecay {\n",
        "        #             #     coeffs: [1e-05, 1e-05, 1e-05, 1e-05, 1e-05], #[ .000005, .000005, .000005, .000005 ]\n",
        "        #             # },\n",
        "        #     #     ]\n",
        "        #     # },\n",
        "\n",
        "        termination_criterion: \n",
        "            # !obj:pylearn2.termination_criteria.And {\n",
        "                # criteria: [\n",
        "                    # !obj:pylearn2.termination_criteria.MonitorBased {\n",
        "                    #     channel_name: \"valid_y_misclass\",\n",
        "                    #     prop_decrease: 0.50,\n",
        "                    #     N: 10\n",
        "                    # },\n",
        "                    !obj:pylearn2.termination_criteria.EpochCounter {\n",
        "                        max_epochs: 50\n",
        "                    },\n",
        "                # ]\n",
        "            # },\n",
        "\n",
        "        learning_rule: \n",
        "            !obj:pylearn2.training_algorithms.learning_rule.Momentum {\n",
        "                init_momentum: 0.500000,\n",
        "            },\n",
        "            # !obj:pylearn2.training_algorithms.learning_rule.AdaDelta {},\n",
        "\n",
        "    },\n",
        "    \n",
        "    extensions:\n",
        "        [\n",
        "            # like pylearn2.training_algorithms.sgd.ExponentialDecay\n",
        "            # but only applied once per epoch (i.e. independent of batch_size)\n",
        "            # decay factor needs to be adjusted as x ** num_batches_per_epoch\n",
        "            !obj:deepbeat.pylearn2ext.ExponentialDecay.ExponentialDecay {\n",
        "                decay_factor: 1.056452, \n",
        "                min_lr: 0.000001, \n",
        "            },\n",
        "\n",
        "            !obj:pylearn2.training_algorithms.learning_rule.MomentumAdjustor {\n",
        "                start: 1,\n",
        "                saturate: 50,\n",
        "                final_momentum: 0.990000,\n",
        "            },            \n",
        "             \n",
        "            !obj:deepbeat.pylearn2ext.util.LoggingCallback {\n",
        "                name: '20120_h0_pattern_width_35_h0_patterns_30_h0_pool_size_1_learning_rate_0.00447388603312_lr_exponential_decay_factor_1.05645219425',\n",
        "                obj_channels: ['train_objective', 'train_y_misclass', 'valid_y_misclass', 'test_y_misclass'],\n",
        "            },\n",
        "\n",
        "            # should be extension last (after all computations are done)\n",
        "            !obj:pylearn2.train_extensions.best_params.MonitorBasedSaveBest {\n",
        "                channel_name: 'valid_y_misclass',\n",
        "                higher_is_better: False,\n",
        "                save_path: \"/imaging/sstober/spearmint.jobs/nips/fftbins/49/cache/_h0_pattern_width_35_h0_patterns_30_h0_pool_size_1_learning_rate_0.00447388603312_lr_exponential_decay_factor_1.05645219425/mlp_best.pkl\",\n",
        "            },\n",
        "\n",
        "            # !obj:deepbeat.pylearn2ext.util.SaveEveryEpoch {\n",
        "            #     save_path: \"/imaging/sstober/spearmint.jobs/nips/fftbins/49/cache/_h0_pattern_width_35_h0_patterns_30_h0_pool_size_1_learning_rate_0.00447388603312_lr_exponential_decay_factor_1.05645219425/epochs/\",\n",
        "            #     save_prefix: \"epoch\",\n",
        "            # },\n",
        "    ],\n",
        "    \n",
        "    save_freq: 1,\n",
        "    save_path: \"/imaging/sstober/spearmint.jobs/nips/fftbins/49/cache/_h0_pattern_width_35_h0_patterns_30_h0_pool_size_1_learning_rate_0.00447388603312_lr_exponential_decay_factor_1.05645219425/mlp.pkl\",\n",
        "    allow_overwrite: True,\n",
        "}\n",
        "\n",
        "Input shape: (45, 49)\n"
       ]
      },
      {
       "output_type": "stream",
       "stream": "stdout",
       "text": [
        "Detector space: (11, 1)\n"
       ]
      },
      {
       "output_type": "stream",
       "stream": "stdout",
       "text": [
        "Output space: (11, 1)\n"
       ]
      },
      {
       "output_type": "stream",
       "stream": "stderr",
       "text": [
        "INFO:deepthought3.util.yaml_util:parsing yaml done. Time elapsed: 4.194913 seconds\n"
       ]
      },
      {
       "output_type": "stream",
       "stream": "stderr",
       "text": [
        "INFO:deepthought3.scripts.generate_plots:loading train from /Users/sstober/git/deepbeat/deepbeat/spearmint/nips/h0/4/best/train.yaml done. Time elapsed: 4.195797 seconds\n"
       ]
      }
     ],
     "prompt_number": 1
    },
    {
     "cell_type": "code",
     "collapsed": false,
     "input": [
      "misclass = np.not_equal(y_real, y_pred).astype(int);\n",
      "print misclass\n",
      "print dataset.metadata\n",
      "\n",
      "#cube = _extract_cube(dataset.metadata, y_real, y_pred);\n",
      "\n",
      "for cat, entry in cube.store.items():\n",
      "    print cat;\n",
      "    for key, values in cube.store[cat].items():\n",
      "        print '{:>30} : {:.3f}'.format(key, np.mean(values));\n",
      "\n",
      "print np.mean(cube.get_entries());\n",
      "\n",
      "header = '    | ';\n",
      "for c in xrange(18):\n",
      "    header += '  {:2}  '.format(c);\n",
      "header += '    avg  ';\n",
      "print header;\n",
      "\n",
      "for r in xrange(48):\n",
      "    line = '{:>3} | '.format(r); \n",
      "    for c in xrange(18):\n",
      "        line += ' '+cube.get_entries_mean_str(channels=[c], stimuli=[r]);\n",
      "    line += '   '+cube.get_entries_mean_str(stimuli=[r]); # average over all channels        \n",
      "    print line;\n",
      "\n",
      "print\n",
      "line = '{:>3} | '.format('avg'); \n",
      "for c in xrange(18):\n",
      "    line += ' '+cube.get_entries_mean_str(channels=[c]); # average over all stimuli\n",
      "line += '   '+cube.get_entries_mean_str(); # average over all stimuli and channels        \n",
      "print line;"
     ],
     "language": "python",
     "metadata": {},
     "outputs": [
      {
       "output_type": "stream",
       "stream": "stdout",
       "text": [
        "[0 1 1 1 0 1 0 1 0 0 1 1 0 0 0 0 0 0 0 0 0 0 0 0 0 0 0 0 1 1 1 0 1 1 0 1 1\n",
        " 1 1 1 1 1 1 1 1 1 1 1 0 0 1 0 1 1 1 1 0 1 1 1 0 0 0 0 0 0 0 0 0 0 0 0 1 1\n",
        " 1 1 1 1 1 1 0 0 1 0 1 0 0 0 1 1 0 0 1 0 1 1 0 1 1 0 0 0 1 0 0 1 0 0 1 1 1\n",
        " 1 1 1 1 1 1 1 1 1 1 0 1 1 1 1 1 1 1 1 1 1 1 1 0 1 1 0 0 0 1 1 0 0 1 0 0 1\n",
        " 1 1 1 1 0 1 1 1 1 1 0 1 1 1 1 1 1 1 1 1 1 1 1 1 1 1 1 1 1 1 1 1 1 1 0 0 1\n",
        " 1 0 0 0 1 1 1 1 1 1 1 1 1 1 1 1 1 1 1 0 0 1 0 1 1 0 1 1 1 1 0 1 1 1 1 1 1\n",
        " 1 1 1 1 1 1 0 0 0 0 0 1 0 1 0 1 0 0 0 0 1 0 0 1 0 0 0 0 0 0 1 1 0 0 1 1 1\n",
        " 0 1 0 1 0 1 1 1 1 1 0 1 1 0 0 1 1 1 1 1 1 1 1 1 1 1 1 1 1]\n",
        "[{'stimulus': 31, 'stop': 1, 'start': 0, 'trial_no': 0, 'channel': 0, 'subject': 3}, {'stimulus': 31, 'stop': 2, 'start': 1, 'trial_no': 0, 'channel': 1, 'subject': 3}, {'stimulus': 31, 'stop': 3, 'start': 2, 'trial_no': 0, 'channel': 2, 'subject': 3}, {'stimulus': 31, 'stop': 4, 'start': 3, 'trial_no': 0, 'channel': 3, 'subject': 3}, {'stimulus': 31, 'stop': 5, 'start': 4, 'trial_no': 0, 'channel': 4, 'subject': 3}, {'stimulus': 31, 'stop': 6, 'start': 5, 'trial_no': 0, 'channel': 5, 'subject': 3}, {'stimulus': 31, 'stop': 7, 'start': 6, 'trial_no': 0, 'channel': 8, 'subject': 3}, {'stimulus': 31, 'stop': 8, 'start': 7, 'trial_no': 0, 'channel': 9, 'subject': 3}, {'stimulus': 31, 'stop': 9, 'start': 8, 'trial_no': 0, 'channel': 10, 'subject': 3}, {'stimulus': 31, 'stop': 10, 'start': 9, 'trial_no': 0, 'channel': 11, 'subject': 3}, {'stimulus': 31, 'stop': 11, 'start': 10, 'trial_no': 0, 'channel': 12, 'subject': 3}, {'stimulus': 31, 'stop': 12, 'start': 11, 'trial_no': 0, 'channel': 13, 'subject': 3}, {'stimulus': 45, 'stop': 13, 'start': 12, 'trial_no': 1, 'channel': 0, 'subject': 3}, {'stimulus': 45, 'stop': 14, 'start': 13, 'trial_no': 1, 'channel': 1, 'subject': 3}, {'stimulus': 45, 'stop': 15, 'start': 14, 'trial_no': 1, 'channel': 2, 'subject': 3}, {'stimulus': 45, 'stop': 16, 'start': 15, 'trial_no': 1, 'channel': 3, 'subject': 3}, {'stimulus': 45, 'stop': 17, 'start': 16, 'trial_no': 1, 'channel': 4, 'subject': 3}, {'stimulus': 45, 'stop': 18, 'start': 17, 'trial_no': 1, 'channel': 5, 'subject': 3}, {'stimulus': 45, 'stop': 19, 'start': 18, 'trial_no': 1, 'channel': 8, 'subject': 3}, {'stimulus': 45, 'stop': 20, 'start': 19, 'trial_no': 1, 'channel': 9, 'subject': 3}, {'stimulus': 45, 'stop': 21, 'start': 20, 'trial_no': 1, 'channel': 10, 'subject': 3}, {'stimulus': 45, 'stop': 22, 'start': 21, 'trial_no': 1, 'channel': 11, 'subject': 3}, {'stimulus': 45, 'stop': 23, 'start': 22, 'trial_no': 1, 'channel': 12, 'subject': 3}, {'stimulus': 45, 'stop': 24, 'start': 23, 'trial_no': 1, 'channel': 13, 'subject': 3}, {'stimulus': 44, 'stop': 25, 'start': 24, 'trial_no': 2, 'channel': 0, 'subject': 3}, {'stimulus': 44, 'stop': 26, 'start': 25, 'trial_no': 2, 'channel': 1, 'subject': 3}, {'stimulus': 44, 'stop': 27, 'start': 26, 'trial_no': 2, 'channel': 2, 'subject': 3}, {'stimulus': 44, 'stop': 28, 'start': 27, 'trial_no': 2, 'channel': 3, 'subject': 3}, {'stimulus': 44, 'stop': 29, 'start': 28, 'trial_no': 2, 'channel': 4, 'subject': 3}, {'stimulus': 44, 'stop': 30, 'start': 29, 'trial_no': 2, 'channel': 5, 'subject': 3}, {'stimulus': 44, 'stop': 31, 'start': 30, 'trial_no': 2, 'channel': 8, 'subject': 3}, {'stimulus': 44, 'stop': 32, 'start': 31, 'trial_no': 2, 'channel': 9, 'subject': 3}, {'stimulus': 44, 'stop': 33, 'start': 32, 'trial_no': 2, 'channel': 10, 'subject': 3}, {'stimulus': 44, 'stop': 34, 'start': 33, 'trial_no': 2, 'channel': 11, 'subject': 3}, {'stimulus': 44, 'stop': 35, 'start': 34, 'trial_no': 2, 'channel': 12, 'subject': 3}, {'stimulus': 44, 'stop': 36, 'start': 35, 'trial_no': 2, 'channel': 13, 'subject': 3}, {'stimulus': 37, 'stop': 37, 'start': 36, 'trial_no': 3, 'channel': 0, 'subject': 3}, {'stimulus': 37, 'stop': 38, 'start': 37, 'trial_no': 3, 'channel': 1, 'subject': 3}, {'stimulus': 37, 'stop': 39, 'start': 38, 'trial_no': 3, 'channel': 2, 'subject': 3}, {'stimulus': 37, 'stop': 40, 'start': 39, 'trial_no': 3, 'channel': 3, 'subject': 3}, {'stimulus': 37, 'stop': 41, 'start': 40, 'trial_no': 3, 'channel': 4, 'subject': 3}, {'stimulus': 37, 'stop': 42, 'start': 41, 'trial_no': 3, 'channel': 5, 'subject': 3}, {'stimulus': 37, 'stop': 43, 'start': 42, 'trial_no': 3, 'channel': 8, 'subject': 3}, {'stimulus': 37, 'stop': 44, 'start': 43, 'trial_no': 3, 'channel': 9, 'subject': 3}, {'stimulus': 37, 'stop': 45, 'start': 44, 'trial_no': 3, 'channel': 10, 'subject': 3}, {'stimulus': 37, 'stop': 46, 'start': 45, 'trial_no': 3, 'channel': 11, 'subject': 3}, {'stimulus': 37, 'stop': 47, 'start': 46, 'trial_no': 3, 'channel': 12, 'subject': 3}, {'stimulus': 37, 'stop': 48, 'start': 47, 'trial_no': 3, 'channel': 13, 'subject': 3}, {'stimulus': 24, 'stop': 49, 'start': 48, 'trial_no': 4, 'channel': 0, 'subject': 3}, {'stimulus': 24, 'stop': 50, 'start': 49, 'trial_no': 4, 'channel': 1, 'subject': 3}, {'stimulus': 24, 'stop': 51, 'start': 50, 'trial_no': 4, 'channel': 2, 'subject': 3}, {'stimulus': 24, 'stop': 52, 'start': 51, 'trial_no': 4, 'channel': 3, 'subject': 3}, {'stimulus': 24, 'stop': 53, 'start': 52, 'trial_no': 4, 'channel': 4, 'subject': 3}, {'stimulus': 24, 'stop': 54, 'start': 53, 'trial_no': 4, 'channel': 5, 'subject': 3}, {'stimulus': 24, 'stop': 55, 'start': 54, 'trial_no': 4, 'channel': 8, 'subject': 3}, {'stimulus': 24, 'stop': 56, 'start': 55, 'trial_no': 4, 'channel': 9, 'subject': 3}, {'stimulus': 24, 'stop': 57, 'start': 56, 'trial_no': 4, 'channel': 10, 'subject': 3}, {'stimulus': 24, 'stop': 58, 'start': 57, 'trial_no': 4, 'channel': 11, 'subject': 3}, {'stimulus': 24, 'stop': 59, 'start': 58, 'trial_no': 4, 'channel': 12, 'subject': 3}, {'stimulus': 24, 'stop': 60, 'start': 59, 'trial_no': 4, 'channel': 13, 'subject': 3}, {'stimulus': 39, 'stop': 61, 'start': 60, 'trial_no': 5, 'channel': 0, 'subject': 3}, {'stimulus': 39, 'stop': 62, 'start': 61, 'trial_no': 5, 'channel': 1, 'subject': 3}, {'stimulus': 39, 'stop': 63, 'start': 62, 'trial_no': 5, 'channel': 2, 'subject': 3}, {'stimulus': 39, 'stop': 64, 'start': 63, 'trial_no': 5, 'channel': 3, 'subject': 3}, {'stimulus': 39, 'stop': 65, 'start': 64, 'trial_no': 5, 'channel': 4, 'subject': 3}, {'stimulus': 39, 'stop': 66, 'start': 65, 'trial_no': 5, 'channel': 5, 'subject': 3}, {'stimulus': 39, 'stop': 67, 'start': 66, 'trial_no': 5, 'channel': 8, 'subject': 3}, {'stimulus': 39, 'stop': 68, 'start': 67, 'trial_no': 5, 'channel': 9, 'subject': 3}, {'stimulus': 39, 'stop': 69, 'start': 68, 'trial_no': 5, 'channel': 10, 'subject': 3}, {'stimulus': 39, 'stop': 70, 'start': 69, 'trial_no': 5, 'channel': 11, 'subject': 3}, {'stimulus': 39, 'stop': 71, 'start': 70, 'trial_no': 5, 'channel': 12, 'subject': 3}, {'stimulus': 39, 'stop': 72, 'start': 71, 'trial_no': 5, 'channel': 13, 'subject': 3}, {'stimulus': 34, 'stop': 73, 'start': 72, 'trial_no': 6, 'channel': 0, 'subject': 3}, {'stimulus': 34, 'stop': 74, 'start': 73, 'trial_no': 6, 'channel': 1, 'subject': 3}, {'stimulus': 34, 'stop': 75, 'start': 74, 'trial_no': 6, 'channel': 2, 'subject': 3}, {'stimulus': 34, 'stop': 76, 'start': 75, 'trial_no': 6, 'channel': 3, 'subject': 3}, {'stimulus': 34, 'stop': 77, 'start': 76, 'trial_no': 6, 'channel': 4, 'subject': 3}, {'stimulus': 34, 'stop': 78, 'start': 77, 'trial_no': 6, 'channel': 5, 'subject': 3}, {'stimulus': 34, 'stop': 79, 'start': 78, 'trial_no': 6, 'channel': 8, 'subject': 3}, {'stimulus': 34, 'stop': 80, 'start': 79, 'trial_no': 6, 'channel': 9, 'subject': 3}, {'stimulus': 34, 'stop': 81, 'start': 80, 'trial_no': 6, 'channel': 10, 'subject': 3}, {'stimulus': 34, 'stop': 82, 'start': 81, 'trial_no': 6, 'channel': 11, 'subject': 3}, {'stimulus': 34, 'stop': 83, 'start': 82, 'trial_no': 6, 'channel': 12, 'subject': 3}, {'stimulus': 34, 'stop': 84, 'start': 83, 'trial_no': 6, 'channel': 13, 'subject': 3}, {'stimulus': 25, 'stop': 85, 'start': 84, 'trial_no': 7, 'channel': 0, 'subject': 3}, {'stimulus': 25, 'stop': 86, 'start': 85, 'trial_no': 7, 'channel': 1, 'subject': 3}, {'stimulus': 25, 'stop': 87, 'start': 86, 'trial_no': 7, 'channel': 2, 'subject': 3}, {'stimulus': 25, 'stop': 88, 'start': 87, 'trial_no': 7, 'channel': 3, 'subject': 3}, {'stimulus': 25, 'stop': 89, 'start': 88, 'trial_no': 7, 'channel': 4, 'subject': 3}, {'stimulus': 25, 'stop': 90, 'start': 89, 'trial_no': 7, 'channel': 5, 'subject': 3}, {'stimulus': 25, 'stop': 91, 'start': 90, 'trial_no': 7, 'channel': 8, 'subject': 3}, {'stimulus': 25, 'stop': 92, 'start': 91, 'trial_no': 7, 'channel': 9, 'subject': 3}, {'stimulus': 25, 'stop': 93, 'start': 92, 'trial_no': 7, 'channel': 10, 'subject': 3}, {'stimulus': 25, 'stop': 94, 'start': 93, 'trial_no': 7, 'channel': 11, 'subject': 3}, {'stimulus': 25, 'stop': 95, 'start': 94, 'trial_no': 7, 'channel': 12, 'subject': 3}, {'stimulus': 25, 'stop': 96, 'start': 95, 'trial_no': 7, 'channel': 13, 'subject': 3}, {'stimulus': 32, 'stop': 97, 'start': 96, 'trial_no': 8, 'channel': 0, 'subject': 3}, {'stimulus': 32, 'stop': 98, 'start': 97, 'trial_no': 8, 'channel': 1, 'subject': 3}, {'stimulus': 32, 'stop': 99, 'start': 98, 'trial_no': 8, 'channel': 2, 'subject': 3}, {'stimulus': 32, 'stop': 100, 'start': 99, 'trial_no': 8, 'channel': 3, 'subject': 3}, {'stimulus': 32, 'stop': 101, 'start': 100, 'trial_no': 8, 'channel': 4, 'subject': 3}, {'stimulus': 32, 'stop': 102, 'start': 101, 'trial_no': 8, 'channel': 5, 'subject': 3}, {'stimulus': 32, 'stop': 103, 'start': 102, 'trial_no': 8, 'channel': 8, 'subject': 3}, {'stimulus': 32, 'stop': 104, 'start': 103, 'trial_no': 8, 'channel': 9, 'subject': 3}, {'stimulus': 32, 'stop': 105, 'start': 104, 'trial_no': 8, 'channel': 10, 'subject': 3}, {'stimulus': 32, 'stop': 106, 'start': 105, 'trial_no': 8, 'channel': 11, 'subject': 3}, {'stimulus': 32, 'stop': 107, 'start': 106, 'trial_no': 8, 'channel': 12, 'subject': 3}, {'stimulus': 32, 'stop': 108, 'start': 107, 'trial_no': 8, 'channel': 13, 'subject': 3}, {'stimulus': 29, 'stop': 109, 'start': 108, 'trial_no': 9, 'channel': 0, 'subject': 3}, {'stimulus': 29, 'stop': 110, 'start': 109, 'trial_no': 9, 'channel': 1, 'subject': 3}, {'stimulus': 29, 'stop': 111, 'start': 110, 'trial_no': 9, 'channel': 2, 'subject': 3}, {'stimulus': 29, 'stop': 112, 'start': 111, 'trial_no': 9, 'channel': 3, 'subject': 3}, {'stimulus': 29, 'stop': 113, 'start': 112, 'trial_no': 9, 'channel': 4, 'subject': 3}, {'stimulus': 29, 'stop': 114, 'start': 113, 'trial_no': 9, 'channel': 5, 'subject': 3}, {'stimulus': 29, 'stop': 115, 'start': 114, 'trial_no': 9, 'channel': 8, 'subject': 3}, {'stimulus': 29, 'stop': 116, 'start': 115, 'trial_no': 9, 'channel': 9, 'subject': 3}, {'stimulus': 29, 'stop': 117, 'start': 116, 'trial_no': 9, 'channel': 10, 'subject': 3}, {'stimulus': 29, 'stop': 118, 'start': 117, 'trial_no': 9, 'channel': 11, 'subject': 3}, {'stimulus': 29, 'stop': 119, 'start': 118, 'trial_no': 9, 'channel': 12, 'subject': 3}, {'stimulus': 29, 'stop': 120, 'start': 119, 'trial_no': 9, 'channel': 13, 'subject': 3}, {'stimulus': 47, 'stop': 121, 'start': 120, 'trial_no': 10, 'channel': 0, 'subject': 3}, {'stimulus': 47, 'stop': 122, 'start': 121, 'trial_no': 10, 'channel': 1, 'subject': 3}, {'stimulus': 47, 'stop': 123, 'start': 122, 'trial_no': 10, 'channel': 2, 'subject': 3}, {'stimulus': 47, 'stop': 124, 'start': 123, 'trial_no': 10, 'channel': 3, 'subject': 3}, {'stimulus': 47, 'stop': 125, 'start': 124, 'trial_no': 10, 'channel': 4, 'subject': 3}, {'stimulus': 47, 'stop': 126, 'start': 125, 'trial_no': 10, 'channel': 5, 'subject': 3}, {'stimulus': 47, 'stop': 127, 'start': 126, 'trial_no': 10, 'channel': 8, 'subject': 3}, {'stimulus': 47, 'stop': 128, 'start': 127, 'trial_no': 10, 'channel': 9, 'subject': 3}, {'stimulus': 47, 'stop': 129, 'start': 128, 'trial_no': 10, 'channel': 10, 'subject': 3}, {'stimulus': 47, 'stop': 130, 'start': 129, 'trial_no': 10, 'channel': 11, 'subject': 3}, {'stimulus': 47, 'stop': 131, 'start': 130, 'trial_no': 10, 'channel': 12, 'subject': 3}, {'stimulus': 47, 'stop': 132, 'start': 131, 'trial_no': 10, 'channel': 13, 'subject': 3}, {'stimulus': 43, 'stop': 133, 'start': 132, 'trial_no': 11, 'channel': 0, 'subject': 3}, {'stimulus': 43, 'stop': 134, 'start': 133, 'trial_no': 11, 'channel': 1, 'subject': 3}, {'stimulus': 43, 'stop': 135, 'start': 134, 'trial_no': 11, 'channel': 2, 'subject': 3}, {'stimulus': 43, 'stop': 136, 'start': 135, 'trial_no': 11, 'channel': 3, 'subject': 3}, {'stimulus': 43, 'stop': 137, 'start': 136, 'trial_no': 11, 'channel': 4, 'subject': 3}, {'stimulus': 43, 'stop': 138, 'start': 137, 'trial_no': 11, 'channel': 5, 'subject': 3}, {'stimulus': 43, 'stop': 139, 'start': 138, 'trial_no': 11, 'channel': 8, 'subject': 3}, {'stimulus': 43, 'stop': 140, 'start': 139, 'trial_no': 11, 'channel': 9, 'subject': 3}, {'stimulus': 43, 'stop': 141, 'start': 140, 'trial_no': 11, 'channel': 10, 'subject': 3}, {'stimulus': 43, 'stop': 142, 'start': 141, 'trial_no': 11, 'channel': 11, 'subject': 3}, {'stimulus': 43, 'stop': 143, 'start': 142, 'trial_no': 11, 'channel': 12, 'subject': 3}, {'stimulus': 43, 'stop': 144, 'start': 143, 'trial_no': 11, 'channel': 13, 'subject': 3}, {'stimulus': 38, 'stop': 145, 'start': 144, 'trial_no': 12, 'channel': 0, 'subject': 3}, {'stimulus': 38, 'stop': 146, 'start': 145, 'trial_no': 12, 'channel': 1, 'subject': 3}, {'stimulus': 38, 'stop': 147, 'start': 146, 'trial_no': 12, 'channel': 2, 'subject': 3}, {'stimulus': 38, 'stop': 148, 'start': 147, 'trial_no': 12, 'channel': 3, 'subject': 3}, {'stimulus': 38, 'stop': 149, 'start': 148, 'trial_no': 12, 'channel': 4, 'subject': 3}, {'stimulus': 38, 'stop': 150, 'start': 149, 'trial_no': 12, 'channel': 5, 'subject': 3}, {'stimulus': 38, 'stop': 151, 'start': 150, 'trial_no': 12, 'channel': 8, 'subject': 3}, {'stimulus': 38, 'stop': 152, 'start': 151, 'trial_no': 12, 'channel': 9, 'subject': 3}, {'stimulus': 38, 'stop': 153, 'start': 152, 'trial_no': 12, 'channel': 10, 'subject': 3}, {'stimulus': 38, 'stop': 154, 'start': 153, 'trial_no': 12, 'channel': 11, 'subject': 3}, {'stimulus': 38, 'stop': 155, 'start': 154, 'trial_no': 12, 'channel': 12, 'subject': 3}, {'stimulus': 38, 'stop': 156, 'start': 155, 'trial_no': 12, 'channel': 13, 'subject': 3}, {'stimulus': 46, 'stop': 157, 'start': 156, 'trial_no': 13, 'channel': 0, 'subject': 3}, {'stimulus': 46, 'stop': 158, 'start': 157, 'trial_no': 13, 'channel': 1, 'subject': 3}, {'stimulus': 46, 'stop': 159, 'start': 158, 'trial_no': 13, 'channel': 2, 'subject': 3}, {'stimulus': 46, 'stop': 160, 'start': 159, 'trial_no': 13, 'channel': 3, 'subject': 3}, {'stimulus': 46, 'stop': 161, 'start': 160, 'trial_no': 13, 'channel': 4, 'subject': 3}, {'stimulus': 46, 'stop': 162, 'start': 161, 'trial_no': 13, 'channel': 5, 'subject': 3}, {'stimulus': 46, 'stop': 163, 'start': 162, 'trial_no': 13, 'channel': 8, 'subject': 3}, {'stimulus': 46, 'stop': 164, 'start': 163, 'trial_no': 13, 'channel': 9, 'subject': 3}, {'stimulus': 46, 'stop': 165, 'start': 164, 'trial_no': 13, 'channel': 10, 'subject': 3}, {'stimulus': 46, 'stop': 166, 'start': 165, 'trial_no': 13, 'channel': 11, 'subject': 3}, {'stimulus': 46, 'stop': 167, 'start': 166, 'trial_no': 13, 'channel': 12, 'subject': 3}, {'stimulus': 46, 'stop': 168, 'start': 167, 'trial_no': 13, 'channel': 13, 'subject': 3}, {'stimulus': 27, 'stop': 169, 'start': 168, 'trial_no': 14, 'channel': 0, 'subject': 3}, {'stimulus': 27, 'stop': 170, 'start': 169, 'trial_no': 14, 'channel': 1, 'subject': 3}, {'stimulus': 27, 'stop': 171, 'start': 170, 'trial_no': 14, 'channel': 2, 'subject': 3}, {'stimulus': 27, 'stop': 172, 'start': 171, 'trial_no': 14, 'channel': 3, 'subject': 3}, {'stimulus': 27, 'stop': 173, 'start': 172, 'trial_no': 14, 'channel': 4, 'subject': 3}, {'stimulus': 27, 'stop': 174, 'start': 173, 'trial_no': 14, 'channel': 5, 'subject': 3}, {'stimulus': 27, 'stop': 175, 'start': 174, 'trial_no': 14, 'channel': 8, 'subject': 3}, {'stimulus': 27, 'stop': 176, 'start': 175, 'trial_no': 14, 'channel': 9, 'subject': 3}, {'stimulus': 27, 'stop': 177, 'start': 176, 'trial_no': 14, 'channel': 10, 'subject': 3}, {'stimulus': 27, 'stop': 178, 'start': 177, 'trial_no': 14, 'channel': 11, 'subject': 3}, {'stimulus': 27, 'stop': 179, 'start': 178, 'trial_no': 14, 'channel': 12, 'subject': 3}, {'stimulus': 27, 'stop': 180, 'start': 179, 'trial_no': 14, 'channel': 13, 'subject': 3}, {'stimulus': 28, 'stop': 181, 'start': 180, 'trial_no': 15, 'channel': 0, 'subject': 3}, {'stimulus': 28, 'stop': 182, 'start': 181, 'trial_no': 15, 'channel': 1, 'subject': 3}, {'stimulus': 28, 'stop': 183, 'start': 182, 'trial_no': 15, 'channel': 2, 'subject': 3}, {'stimulus': 28, 'stop': 184, 'start': 183, 'trial_no': 15, 'channel': 3, 'subject': 3}, {'stimulus': 28, 'stop': 185, 'start': 184, 'trial_no': 15, 'channel': 4, 'subject': 3}, {'stimulus': 28, 'stop': 186, 'start': 185, 'trial_no': 15, 'channel': 5, 'subject': 3}, {'stimulus': 28, 'stop': 187, 'start': 186, 'trial_no': 15, 'channel': 8, 'subject': 3}, {'stimulus': 28, 'stop': 188, 'start': 187, 'trial_no': 15, 'channel': 9, 'subject': 3}, {'stimulus': 28, 'stop': 189, 'start': 188, 'trial_no': 15, 'channel': 10, 'subject': 3}, {'stimulus': 28, 'stop': 190, 'start': 189, 'trial_no': 15, 'channel': 11, 'subject': 3}, {'stimulus': 28, 'stop': 191, 'start': 190, 'trial_no': 15, 'channel': 12, 'subject': 3}, {'stimulus': 28, 'stop': 192, 'start': 191, 'trial_no': 15, 'channel': 13, 'subject': 3}, {'stimulus': 33, 'stop': 193, 'start': 192, 'trial_no': 16, 'channel': 0, 'subject': 3}, {'stimulus': 33, 'stop': 194, 'start': 193, 'trial_no': 16, 'channel': 1, 'subject': 3}, {'stimulus': 33, 'stop': 195, 'start': 194, 'trial_no': 16, 'channel': 2, 'subject': 3}, {'stimulus': 33, 'stop': 196, 'start': 195, 'trial_no': 16, 'channel': 3, 'subject': 3}, {'stimulus': 33, 'stop': 197, 'start': 196, 'trial_no': 16, 'channel': 4, 'subject': 3}, {'stimulus': 33, 'stop': 198, 'start': 197, 'trial_no': 16, 'channel': 5, 'subject': 3}, {'stimulus': 33, 'stop': 199, 'start': 198, 'trial_no': 16, 'channel': 8, 'subject': 3}, {'stimulus': 33, 'stop': 200, 'start': 199, 'trial_no': 16, 'channel': 9, 'subject': 3}, {'stimulus': 33, 'stop': 201, 'start': 200, 'trial_no': 16, 'channel': 10, 'subject': 3}, {'stimulus': 33, 'stop': 202, 'start': 201, 'trial_no': 16, 'channel': 11, 'subject': 3}, {'stimulus': 33, 'stop': 203, 'start': 202, 'trial_no': 16, 'channel': 12, 'subject': 3}, {'stimulus': 33, 'stop': 204, 'start': 203, 'trial_no': 16, 'channel': 13, 'subject': 3}, {'stimulus': 26, 'stop': 205, 'start': 204, 'trial_no': 17, 'channel': 0, 'subject': 3}, {'stimulus': 26, 'stop': 206, 'start': 205, 'trial_no': 17, 'channel': 1, 'subject': 3}, {'stimulus': 26, 'stop': 207, 'start': 206, 'trial_no': 17, 'channel': 2, 'subject': 3}, {'stimulus': 26, 'stop': 208, 'start': 207, 'trial_no': 17, 'channel': 3, 'subject': 3}, {'stimulus': 26, 'stop': 209, 'start': 208, 'trial_no': 17, 'channel': 4, 'subject': 3}, {'stimulus': 26, 'stop': 210, 'start': 209, 'trial_no': 17, 'channel': 5, 'subject': 3}, {'stimulus': 26, 'stop': 211, 'start': 210, 'trial_no': 17, 'channel': 8, 'subject': 3}, {'stimulus': 26, 'stop': 212, 'start': 211, 'trial_no': 17, 'channel': 9, 'subject': 3}, {'stimulus': 26, 'stop': 213, 'start': 212, 'trial_no': 17, 'channel': 10, 'subject': 3}, {'stimulus': 26, 'stop': 214, 'start': 213, 'trial_no': 17, 'channel': 11, 'subject': 3}, {'stimulus': 26, 'stop': 215, 'start': 214, 'trial_no': 17, 'channel': 12, 'subject': 3}, {'stimulus': 26, 'stop': 216, 'start': 215, 'trial_no': 17, 'channel': 13, 'subject': 3}, {'stimulus': 35, 'stop': 217, 'start': 216, 'trial_no': 18, 'channel': 0, 'subject': 3}, {'stimulus': 35, 'stop': 218, 'start': 217, 'trial_no': 18, 'channel': 1, 'subject': 3}, {'stimulus': 35, 'stop': 219, 'start': 218, 'trial_no': 18, 'channel': 2, 'subject': 3}, {'stimulus': 35, 'stop': 220, 'start': 219, 'trial_no': 18, 'channel': 3, 'subject': 3}, {'stimulus': 35, 'stop': 221, 'start': 220, 'trial_no': 18, 'channel': 4, 'subject': 3}, {'stimulus': 35, 'stop': 222, 'start': 221, 'trial_no': 18, 'channel': 5, 'subject': 3}, {'stimulus': 35, 'stop': 223, 'start': 222, 'trial_no': 18, 'channel': 8, 'subject': 3}, {'stimulus': 35, 'stop': 224, 'start': 223, 'trial_no': 18, 'channel': 9, 'subject': 3}, {'stimulus': 35, 'stop': 225, 'start': 224, 'trial_no': 18, 'channel': 10, 'subject': 3}, {'stimulus': 35, 'stop': 226, 'start': 225, 'trial_no': 18, 'channel': 11, 'subject': 3}, {'stimulus': 35, 'stop': 227, 'start': 226, 'trial_no': 18, 'channel': 12, 'subject': 3}, {'stimulus': 35, 'stop': 228, 'start': 227, 'trial_no': 18, 'channel': 13, 'subject': 3}, {'stimulus': 42, 'stop': 229, 'start': 228, 'trial_no': 19, 'channel': 0, 'subject': 3}, {'stimulus': 42, 'stop': 230, 'start': 229, 'trial_no': 19, 'channel': 1, 'subject': 3}, {'stimulus': 42, 'stop': 231, 'start': 230, 'trial_no': 19, 'channel': 2, 'subject': 3}, {'stimulus': 42, 'stop': 232, 'start': 231, 'trial_no': 19, 'channel': 3, 'subject': 3}, {'stimulus': 42, 'stop': 233, 'start': 232, 'trial_no': 19, 'channel': 4, 'subject': 3}, {'stimulus': 42, 'stop': 234, 'start': 233, 'trial_no': 19, 'channel': 5, 'subject': 3}, {'stimulus': 42, 'stop': 235, 'start': 234, 'trial_no': 19, 'channel': 8, 'subject': 3}, {'stimulus': 42, 'stop': 236, 'start': 235, 'trial_no': 19, 'channel': 9, 'subject': 3}, {'stimulus': 42, 'stop': 237, 'start': 236, 'trial_no': 19, 'channel': 10, 'subject': 3}, {'stimulus': 42, 'stop': 238, 'start': 237, 'trial_no': 19, 'channel': 11, 'subject': 3}, {'stimulus': 42, 'stop': 239, 'start': 238, 'trial_no': 19, 'channel': 12, 'subject': 3}, {'stimulus': 42, 'stop': 240, 'start': 239, 'trial_no': 19, 'channel': 13, 'subject': 3}, {'stimulus': 40, 'stop': 241, 'start': 240, 'trial_no': 20, 'channel': 0, 'subject': 3}, {'stimulus': 40, 'stop': 242, 'start': 241, 'trial_no': 20, 'channel': 1, 'subject': 3}, {'stimulus': 40, 'stop': 243, 'start': 242, 'trial_no': 20, 'channel': 2, 'subject': 3}, {'stimulus': 40, 'stop': 244, 'start': 243, 'trial_no': 20, 'channel': 3, 'subject': 3}, {'stimulus': 40, 'stop': 245, 'start': 244, 'trial_no': 20, 'channel': 4, 'subject': 3}, {'stimulus': 40, 'stop': 246, 'start': 245, 'trial_no': 20, 'channel': 5, 'subject': 3}, {'stimulus': 40, 'stop': 247, 'start': 246, 'trial_no': 20, 'channel': 8, 'subject': 3}, {'stimulus': 40, 'stop': 248, 'start': 247, 'trial_no': 20, 'channel': 9, 'subject': 3}, {'stimulus': 40, 'stop': 249, 'start': 248, 'trial_no': 20, 'channel': 10, 'subject': 3}, {'stimulus': 40, 'stop': 250, 'start': 249, 'trial_no': 20, 'channel': 11, 'subject': 3}, {'stimulus': 40, 'stop': 251, 'start': 250, 'trial_no': 20, 'channel': 12, 'subject': 3}, {'stimulus': 40, 'stop': 252, 'start': 251, 'trial_no': 20, 'channel': 13, 'subject': 3}, {'stimulus': 36, 'stop': 253, 'start': 252, 'trial_no': 21, 'channel': 0, 'subject': 3}, {'stimulus': 36, 'stop': 254, 'start': 253, 'trial_no': 21, 'channel': 1, 'subject': 3}, {'stimulus': 36, 'stop': 255, 'start': 254, 'trial_no': 21, 'channel': 2, 'subject': 3}, {'stimulus': 36, 'stop': 256, 'start': 255, 'trial_no': 21, 'channel': 3, 'subject': 3}, {'stimulus': 36, 'stop': 257, 'start': 256, 'trial_no': 21, 'channel': 4, 'subject': 3}, {'stimulus': 36, 'stop': 258, 'start': 257, 'trial_no': 21, 'channel': 5, 'subject': 3}, {'stimulus': 36, 'stop': 259, 'start': 258, 'trial_no': 21, 'channel': 8, 'subject': 3}, {'stimulus': 36, 'stop': 260, 'start': 259, 'trial_no': 21, 'channel': 9, 'subject': 3}, {'stimulus': 36, 'stop': 261, 'start': 260, 'trial_no': 21, 'channel': 10, 'subject': 3}, {'stimulus': 36, 'stop': 262, 'start': 261, 'trial_no': 21, 'channel': 11, 'subject': 3}, {'stimulus': 36, 'stop': 263, 'start': 262, 'trial_no': 21, 'channel': 12, 'subject': 3}, {'stimulus': 36, 'stop': 264, 'start': 263, 'trial_no': 21, 'channel': 13, 'subject': 3}, {'stimulus': 41, 'stop': 265, 'start': 264, 'trial_no': 22, 'channel': 0, 'subject': 3}, {'stimulus': 41, 'stop': 266, 'start': 265, 'trial_no': 22, 'channel': 1, 'subject': 3}, {'stimulus': 41, 'stop': 267, 'start': 266, 'trial_no': 22, 'channel': 2, 'subject': 3}, {'stimulus': 41, 'stop': 268, 'start': 267, 'trial_no': 22, 'channel': 3, 'subject': 3}, {'stimulus': 41, 'stop': 269, 'start': 268, 'trial_no': 22, 'channel': 4, 'subject': 3}, {'stimulus': 41, 'stop': 270, 'start': 269, 'trial_no': 22, 'channel': 5, 'subject': 3}, {'stimulus': 41, 'stop': 271, 'start': 270, 'trial_no': 22, 'channel': 8, 'subject': 3}, {'stimulus': 41, 'stop': 272, 'start': 271, 'trial_no': 22, 'channel': 9, 'subject': 3}, {'stimulus': 41, 'stop': 273, 'start': 272, 'trial_no': 22, 'channel': 10, 'subject': 3}, {'stimulus': 41, 'stop': 274, 'start': 273, 'trial_no': 22, 'channel': 11, 'subject': 3}, {'stimulus': 41, 'stop': 275, 'start': 274, 'trial_no': 22, 'channel': 12, 'subject': 3}, {'stimulus': 41, 'stop': 276, 'start': 275, 'trial_no': 22, 'channel': 13, 'subject': 3}, {'stimulus': 30, 'stop': 277, 'start': 276, 'trial_no': 23, 'channel': 0, 'subject': 3}, {'stimulus': 30, 'stop': 278, 'start': 277, 'trial_no': 23, 'channel': 1, 'subject': 3}, {'stimulus': 30, 'stop': 279, 'start': 278, 'trial_no': 23, 'channel': 2, 'subject': 3}, {'stimulus': 30, 'stop': 280, 'start': 279, 'trial_no': 23, 'channel': 3, 'subject': 3}, {'stimulus': 30, 'stop': 281, 'start': 280, 'trial_no': 23, 'channel': 4, 'subject': 3}, {'stimulus': 30, 'stop': 282, 'start': 281, 'trial_no': 23, 'channel': 5, 'subject': 3}, {'stimulus': 30, 'stop': 283, 'start': 282, 'trial_no': 23, 'channel': 8, 'subject': 3}, {'stimulus': 30, 'stop': 284, 'start': 283, 'trial_no': 23, 'channel': 9, 'subject': 3}, {'stimulus': 30, 'stop': 285, 'start': 284, 'trial_no': 23, 'channel': 10, 'subject': 3}, {'stimulus': 30, 'stop': 286, 'start': 285, 'trial_no': 23, 'channel': 11, 'subject': 3}, {'stimulus': 30, 'stop': 287, 'start': 286, 'trial_no': 23, 'channel': 12, 'subject': 3}, {'stimulus': 30, 'stop': 288, 'start': 287, 'trial_no': 23, 'channel': 13, 'subject': 3}]\n",
        "stimulus\n",
        "                            24 : 0.667\n",
        "                            25 : 0.500\n",
        "                            26 : 0.583\n",
        "                            27 : 1.000\n",
        "                            28 : 0.583\n",
        "                            29 : 1.000\n",
        "                            30 : 1.000\n",
        "                            31 : 0.583\n",
        "                            32 : 0.333\n",
        "                            33 : 1.000\n",
        "                            34 : 0.750\n",
        "                            35 : 1.000\n",
        "                            36 : 0.583\n",
        "                            37 : 1.000\n",
        "                            38 : 0.750\n",
        "                            39 : 0.000\n",
        "                            40 : 0.167\n",
        "                            41 : 0.750\n",
        "                            42 : 0.250\n",
        "                            43 : 0.500\n",
        "                            44 : 0.500\n",
        "                            45 : 0.000\n",
        "                            46 : 0.917\n",
        "                            47 : 0.917\n",
        "trial_no\n",
        "                             0 : 0.583\n",
        "                             1 : 0.000\n",
        "                             2 : 0.500\n",
        "                             3 : 1.000\n",
        "                             4 : 0.667\n",
        "                             5 : 0.000\n",
        "                             6 : 0.750\n",
        "                             7 : 0.500\n",
        "                             8 : 0.333\n",
        "                             9 : 1.000\n",
        "                            10 : 0.917\n",
        "                            11 : 0.500\n",
        "                            12 : 0.750\n",
        "                            13 : 0.917\n",
        "                            14 : 1.000\n",
        "                            15 : 0.583\n",
        "                            16 : 1.000\n",
        "                            17 : 0.583\n",
        "                            18 : 1.000\n",
        "                            19 : 0.250\n",
        "                            20 : 0.167\n",
        "                            21 : 0.583\n",
        "                            22 : 0.750\n",
        "                            23 : 1.000\n",
        "channel\n",
        "                             0 : 0.625\n",
        "                             1 : 0.583\n",
        "                             2 : 0.583\n",
        "                             3 : 0.542\n",
        "                             4 : 0.750\n",
        "                             5 : 0.792\n",
        "                             8 : 0.625\n",
        "                             9 : 0.625\n",
        "                            10 : 0.542\n",
        "                            11 : 0.667\n",
        "                            12 : 0.708\n",
        "                            13 : 0.625\n",
        "subject\n",
        "                             3 : 0.639\n",
        "0.638888888889\n",
        "    |    0     1     2     3     4     5     6     7     8     9    10    11    12    13    14    15    16    17      avg  \n",
        "  0 |   ---   ---   ---   ---   ---   ---   ---   ---   ---   ---   ---   ---   ---   ---   ---   ---   ---   ---     --- \n",
        "  1 |   ---   ---   ---   ---   ---   ---   ---   ---   ---   ---   ---   ---   ---   ---   ---   ---   ---   ---     --- \n",
        "  2 |   ---   ---   ---   ---   ---   ---   ---   ---   ---   ---   ---   ---   ---   ---   ---   ---   ---   ---     --- \n",
        "  3 |   ---   ---   ---   ---   ---   ---   ---   ---   ---   ---   ---   ---   ---   ---   ---   ---   ---   ---     --- \n",
        "  4 |   ---   ---   ---   ---   ---   ---   ---   ---   ---   ---   ---   ---   ---   ---   ---   ---   ---   ---     --- \n",
        "  5 |   ---   ---   ---   ---   ---   ---   ---   ---   ---   ---   ---   ---   ---   ---   ---   ---   ---   ---     --- \n",
        "  6 |   ---   ---   ---   ---   ---   ---   ---   ---   ---   ---   ---   ---   ---   ---   ---   ---   ---   ---     --- \n",
        "  7 |   ---   ---   ---   ---   ---   ---   ---   ---   ---   ---   ---   ---   ---   ---   ---   ---   ---   ---     --- \n",
        "  8 |   ---   ---   ---   ---   ---   ---   ---   ---   ---   ---   ---   ---   ---   ---   ---   ---   ---   ---     --- \n",
        "  9 |   ---   ---   ---   ---   ---   ---   ---   ---   ---   ---   ---   ---   ---   ---   ---   ---   ---   ---     --- \n",
        " 10 |   ---   ---   ---   ---   ---   ---   ---   ---   ---   ---   ---   ---   ---   ---   ---   ---   ---   ---     --- \n",
        " 11 |   ---   ---   ---   ---   ---   ---   ---   ---   ---   ---   ---   ---   ---   ---   ---   ---   ---   ---     --- \n",
        " 12 |   ---   ---   ---   ---   ---   ---   ---   ---   ---   ---   ---   ---   ---   ---   ---   ---   ---   ---     --- \n",
        " 13 |   ---   ---   ---   ---   ---   ---   ---   ---   ---   ---   ---   ---   ---   ---   ---   ---   ---   ---     --- \n",
        " 14 |   ---   ---   ---   ---   ---   ---   ---   ---   ---   ---   ---   ---   ---   ---   ---   ---   ---   ---     --- \n",
        " 15 |   ---   ---   ---   ---   ---   ---   ---   ---   ---   ---   ---   ---   ---   ---   ---   ---   ---   ---     --- \n",
        " 16 |   ---   ---   ---   ---   ---   ---   ---   ---   ---   ---   ---   ---   ---   ---   ---   ---   ---   ---     --- \n",
        " 17 |   ---   ---   ---   ---   ---   ---   ---   ---   ---   ---   ---   ---   ---   ---   ---   ---   ---   ---     --- \n",
        " 18 |   ---   ---   ---   ---   ---   ---   ---   ---   ---   ---   ---   ---   ---   ---   ---   ---   ---   ---     --- \n",
        " 19 |   ---   ---   ---   ---   ---   ---   ---   ---   ---   ---   ---   ---   ---   ---   ---   ---   ---   ---     --- \n",
        " 20 |   ---   ---   ---   ---   ---   ---   ---   ---   ---   ---   ---   ---   ---   ---   ---   ---   ---   ---     --- \n",
        " 21 |   ---   ---   ---   ---   ---   ---   ---   ---   ---   ---   ---   ---   ---   ---   ---   ---   ---   ---     --- \n",
        " 22 |   ---   ---   ---   ---   ---   ---   ---   ---   ---   ---   ---   ---   ---   ---   ---   ---   ---   ---     --- \n",
        " 23 |   ---   ---   ---   ---   ---   ---   ---   ---   ---   ---   ---   ---   ---   ---   ---   ---   ---   ---     --- \n",
        " 24 |  0.000 0.000 1.000 0.000 1.000 1.000  ---   ---  1.000 1.000 0.000 1.000 1.000 1.000  ---   ---   ---   ---    0.667\n",
        " 25 |  1.000 0.000 0.000 0.000 1.000 1.000  ---   ---  0.000 0.000 1.000 0.000 1.000 1.000  ---   ---   ---   ---    0.500\n",
        " 26 |  0.000 0.000 1.000 0.000 1.000 1.000  ---   ---  0.000 1.000 1.000 1.000 1.000 0.000  ---   ---   ---   ---    0.583\n",
        " 27 |  1.000 1.000 1.000 1.000 1.000 1.000  ---   ---  1.000 1.000 1.000 1.000 1.000 1.000  ---   ---   ---   ---    1.000\n",
        " 28 |  1.000 1.000 0.000 0.000 1.000 1.000  ---   ---  0.000 0.000 0.000 1.000 1.000 1.000  ---   ---   ---   ---    0.583\n",
        " 29 |  1.000 1.000 1.000 1.000 1.000 1.000  ---   ---  1.000 1.000 1.000 1.000 1.000 1.000  ---   ---   ---   ---    1.000\n",
        " 30 |  1.000 1.000 1.000 1.000 1.000 1.000  ---   ---  1.000 1.000 1.000 1.000 1.000 1.000  ---   ---   ---   ---    1.000\n",
        " 31 |  0.000 1.000 1.000 1.000 0.000 1.000  ---   ---  0.000 1.000 0.000 0.000 1.000 1.000  ---   ---   ---   ---    0.583\n",
        " 32 |  0.000 1.000 1.000 0.000 0.000 0.000  ---   ---  1.000 0.000 0.000 1.000 0.000 0.000  ---   ---   ---   ---    0.333\n",
        " 33 |  1.000 1.000 1.000 1.000 1.000 1.000  ---   ---  1.000 1.000 1.000 1.000 1.000 1.000  ---   ---   ---   ---    1.000\n",
        " 34 |  1.000 1.000 1.000 1.000 1.000 1.000  ---   ---  1.000 1.000 0.000 0.000 1.000 0.000  ---   ---   ---   ---    0.750\n",
        " 35 |  1.000 1.000 1.000 1.000 1.000 1.000  ---   ---  1.000 1.000 1.000 1.000 1.000 1.000  ---   ---   ---   ---    1.000\n",
        " 36 |  1.000 1.000 0.000 0.000 1.000 1.000  ---   ---  1.000 0.000 1.000 0.000 1.000 0.000  ---   ---   ---   ---    0.583\n",
        " 37 |  1.000 1.000 1.000 1.000 1.000 1.000  ---   ---  1.000 1.000 1.000 1.000 1.000 1.000  ---   ---   ---   ---    1.000\n",
        " 38 |  1.000 0.000 0.000 1.000 1.000 1.000  ---   ---  1.000 1.000 0.000 1.000 1.000 1.000  ---   ---   ---   ---    0.750\n",
        " 39 |  0.000 0.000 0.000 0.000 0.000 0.000  ---   ---  0.000 0.000 0.000 0.000 0.000 0.000  ---   ---   ---   ---    0.000\n",
        " 40 |  0.000 0.000 1.000 0.000 0.000 1.000  ---   ---  0.000 0.000 0.000 0.000 0.000 0.000  ---   ---   ---   ---    0.167\n",
        " 41 |  1.000 1.000 1.000 1.000 1.000 0.000  ---   ---  1.000 1.000 0.000 0.000 1.000 1.000  ---   ---   ---   ---    0.750\n",
        " 42 |  0.000 0.000 0.000 0.000 0.000 1.000  ---   ---  0.000 1.000 0.000 1.000 0.000 0.000  ---   ---   ---   ---    0.250\n",
        " 43 |  1.000 1.000 0.000 1.000 1.000 0.000  ---   ---  0.000 0.000 1.000 1.000 0.000 0.000  ---   ---   ---   ---    0.500\n",
        " 44 |  0.000 0.000 0.000 0.000 1.000 1.000  ---   ---  1.000 0.000 1.000 1.000 0.000 1.000  ---   ---   ---   ---    0.500\n",
        " 45 |  0.000 0.000 0.000 0.000 0.000 0.000  ---   ---  0.000 0.000 0.000 0.000 0.000 0.000  ---   ---   ---   ---    0.000\n",
        " 46 |  1.000 1.000 0.000 1.000 1.000 1.000  ---   ---  1.000 1.000 1.000 1.000 1.000 1.000  ---   ---   ---   ---    0.917\n",
        " 47 |  1.000 0.000 1.000 1.000 1.000 1.000  ---   ---  1.000 1.000 1.000 1.000 1.000 1.000  ---   ---   ---   ---    0.917\n",
        "\n",
        "avg |  0.625 0.583 0.583 0.542 0.750 0.792  ---   ---  0.625 0.625 0.542 0.667 0.708 0.625  ---   ---   ---   ---    0.639\n"
       ]
      }
     ],
     "prompt_number": 2
    },
    {
     "cell_type": "code",
     "collapsed": false,
     "input": [
      "from prettyplotlib.colors import reds, blue_red, blues_r\n",
      "\n",
      "grid = np.zeros(shape=[18,48])\n",
      "for r in xrange(48):    \n",
      "    for c in xrange(18):\n",
      "        values = cube.get_entries(channels=[c], stimuli=[r]);\n",
      "        if len(values) > 0:\n",
      "            grid[c,r] = np.mean(values);\n",
      "            \n",
      "c_mean = np.zeros(shape=[18,1])\n",
      "for c in xrange(18):\n",
      "    values = cube.get_entries(channels=[c]);\n",
      "    if len(values) > 0:\n",
      "        c_mean[c,0] = np.mean(values);\n",
      "            \n",
      "r_mean = np.zeros(shape=[1,48])\n",
      "for r in xrange(48):\n",
      "    values = cube.get_entries(stimuli=[r]);\n",
      "    if len(values) > 0:\n",
      "        r_mean[0,r] = np.mean(values);\n",
      "\n",
      "            \n",
      "fig = plt.figure()\n",
      "#ax = fig.add_subplot(111)\n",
      "im = plt.matshow(grid, cmap='binary'); #blues_r);\n",
      "plt.colorbar(im)\n",
      "\n",
      "plt.xlabel('stimulus')\n",
      "plt.ylabel('channel')\n",
      "\n",
      "plt.show();\n",
      "\n",
      "im = plt.matshow(c_mean, cmap=blues_r);\n",
      "im = plt.matshow(r_mean, cmap=blues_r);\n",
      "\n",
      "\n",
      "#fig, ax = ppl.subplots(1);\n",
      "#p = ax.pcolormesh(grid, cmap=blue_red)\n",
      "#fig.colorbar(p)"
     ],
     "language": "python",
     "metadata": {},
     "outputs": [
      {
       "metadata": {},
       "output_type": "display_data",
       "text": [
        "<matplotlib.figure.Figure at 0x1138ad090>"
       ]
      },
      {
       "metadata": {},
       "output_type": "display_data",
       "png": "[encoded data removed]",
       "text": [
        "<matplotlib.figure.Figure at 0x109a68a10>"
       ]
      },
      {
       "metadata": {},
       "output_type": "display_data",
       "png": "[encoded data removed]",
       "text": [
        "<matplotlib.figure.Figure at 0x1142cf990>"
       ]
      },
      {
       "metadata": {},
       "output_type": "display_data",
       "png": "[encoded data removed]",
       "text": [
        "<matplotlib.figure.Figure at 0x1142bd990>"
       ]
      }
     ],
     "prompt_number": 3
    },
    {
     "cell_type": "code",
     "collapsed": false,
     "input": [],
     "language": "python",
     "metadata": {},
     "outputs": []
    }
   ],
   "metadata": {}
  }
 ]
}