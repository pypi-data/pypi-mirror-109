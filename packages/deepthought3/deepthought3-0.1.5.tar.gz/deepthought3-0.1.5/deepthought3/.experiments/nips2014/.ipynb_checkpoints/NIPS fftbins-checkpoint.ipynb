{
 "metadata": {
  "name": "",
  "signature": "sha256:c16615235961dba9559b0d08fba9cee79b1acb941e487747472d469b4e85a497"
 },
 "nbformat": 3,
 "nbformat_minor": 0,
 "worksheets": [
  {
   "cells": [
    {
     "cell_type": "code",
     "collapsed": false,
     "input": [
      "import os;\n",
      "import deepthought;\n",
      "OUTPUT_PATH = os.path.join(deepthought3.OUTPUT_PATH, 'nips2014', 'figures');\n",
      "print OUTPUT_PATH;"
     ],
     "language": "python",
     "metadata": {},
     "outputs": [
      {
       "output_type": "stream",
       "stream": "stdout",
       "text": [
        "/Users/sstober/work/develop/deepthought-output/nips2014/figures\n"
       ]
      },
      {
       "output_type": "stream",
       "stream": "stderr",
       "text": [
        "Using gpu device 0: GeForce GT 650M\n"
       ]
      }
     ],
     "prompt_number": 1
    },
    {
     "cell_type": "code",
     "collapsed": false,
     "input": [
      "def as_accuracy(misclass):\n",
      "    return 100. * (1 - misclass);"
     ],
     "language": "python",
     "metadata": {},
     "outputs": [],
     "prompt_number": 2
    },
    {
     "cell_type": "code",
     "collapsed": false,
     "input": [
      "print as_accuracy(0.715)"
     ],
     "language": "python",
     "metadata": {},
     "outputs": [
      {
       "output_type": "stream",
       "stream": "stdout",
       "text": [
        "28.5\n"
       ]
      }
     ],
     "prompt_number": 3
    },
    {
     "cell_type": "code",
     "collapsed": false,
     "input": [
      "import numpy as np\n",
      "values = [\n",
      "          [1, 0.927083],\n",
      "          [3, 0.909722],\n",
      "          [6, 0.875000],\n",
      "          [9, 0.885417],  # outlier\n",
      "          [12, 0.840278],\n",
      "          [15, 0.743056],\n",
      "          [18, 0.739583],\n",
      "          [21, 0.718750],\n",
      "          [24, 0.708333],\n",
      "          [28, 0.725694], # outlier\n",
      "          [32, 0.694444],\n",
      "          [36, 0.649306],\n",
      "          [40, 0.638889],\n",
      "          [44, 0.635417],\n",
      "          [49, 0.6389],\n",
      "        ];\n",
      "values = np.asarray(values);\n",
      "values[:,1] = 100. * (1 - values[:,1])\n",
      "print values"
     ],
     "language": "python",
     "metadata": {},
     "outputs": [
      {
       "output_type": "stream",
       "stream": "stdout",
       "text": [
        "[[  1.       7.2917]\n",
        " [  3.       9.0278]\n",
        " [  6.      12.5   ]\n",
        " [  9.      11.4583]\n",
        " [ 12.      15.9722]\n",
        " [ 15.      25.6944]\n",
        " [ 18.      26.0417]\n",
        " [ 21.      28.125 ]\n",
        " [ 24.      29.1667]\n",
        " [ 28.      27.4306]\n",
        " [ 32.      30.5556]\n",
        " [ 36.      35.0694]\n",
        " [ 40.      36.1111]\n",
        " [ 44.      36.4583]\n",
        " [ 49.      36.11  ]]\n"
       ]
      }
     ],
     "prompt_number": 4
    },
    {
     "cell_type": "code",
     "collapsed": false,
     "input": [
      "import matplotlib.pyplot as plt;\n",
      "import matplotlib as mpl\n",
      "import prettyplotlib as ppl\n",
      "import warnings\n",
      "warnings.simplefilter('once', UserWarning)\n",
      "warnings.simplefilter('default')\n",
      "%matplotlib inline \n",
      "\n",
      "# avoid type3 fonts\n",
      "mpl.rcParams['pdf.fonttype'] = 42\n",
      "mpl.rcParams['ps.fonttype'] = 42\n",
      "\n",
      "# set font\n",
      "font = {\n",
      "#       'family' : 'normal',\n",
      "#       'weight' : 'bold',\n",
      "        'size'   : 16}\n",
      "\n",
      "mpl.rc('font', **font)\n",
      "\n",
      "\n",
      "fig = plt.figure(figsize=(6.1,3.7), dpi=600) # big\n",
      "axes = plt.gca();\n",
      "axes.scatter(values[:,0],values[:,1], color='blue')\n",
      "axes.plot(values[:,0],values[:,1], color='blue')\n",
      "plt.xlim(0,50)\n",
      "plt.ylim(0,40)\n",
      "\n",
      "axes.set_xlabel('number of frequency bins (4.167 Hz per bin)');\n",
      "axes.set_ylabel('accuracy (%)');\n",
      "\n",
      "plt.savefig(os.path.join(OUTPUT_PATH,'fftbins.pdf'), bbox_inches='tight')\n",
      "plt.show()"
     ],
     "language": "python",
     "metadata": {},
     "outputs": [
      {
       "metadata": {},
       "output_type": "display_data",
       "png": "[encoded data removed]",
       "text": [
        "<matplotlib.figure.Figure at 0x10fffcb90>"
       ]
      }
     ],
     "prompt_number": 5
    },
    {
     "cell_type": "code",
     "collapsed": false,
     "input": [
      "import librosa\n",
      "labels = librosa.core.fft_frequencies(sr=400, n_fft=96)\n",
      "print labels\n",
      "print labels[11]\n",
      "print labels[15]\n",
      "print labels[35]"
     ],
     "language": "python",
     "metadata": {},
     "outputs": [
      {
       "output_type": "stream",
       "stream": "stdout",
       "text": [
        "[   0.            4.16666667    8.33333333   12.5          16.66666667\n",
        "   20.83333333   25.           29.16666667   33.33333333   37.5\n",
        "   41.66666667   45.83333333   50.           54.16666667   58.33333333\n",
        "   62.5          66.66666667   70.83333333   75.           79.16666667\n",
        "   83.33333333   87.5          91.66666667   95.83333333  100.\n",
        "  104.16666667  108.33333333  112.5         116.66666667  120.83333333\n",
        "  125.          129.16666667  133.33333333  137.5         141.66666667\n",
        "  145.83333333  150.          154.16666667  158.33333333  162.5\n",
        "  166.66666667  170.83333333  175.          179.16666667  183.33333333\n",
        "  187.5         191.66666667  195.83333333  200.        ]\n",
        "45.8333333333\n",
        "62.5\n",
        "145.833333333\n"
       ]
      }
     ],
     "prompt_number": 6
    },
    {
     "cell_type": "code",
     "collapsed": false,
     "input": [
      "h0 = [ # subject, misclass, prec3, MRR\n",
      "      [\n",
      "      \n",
      "      ]"
     ],
     "language": "python",
     "metadata": {},
     "outputs": [
      {
       "ename": "SyntaxError",
       "evalue": "invalid syntax (<ipython-input-7-ccc65ca8acfb>, line 4)",
       "output_type": "pyerr",
       "traceback": [
        "\u001b[0;36m  File \u001b[0;32m\"<ipython-input-7-ccc65ca8acfb>\"\u001b[0;36m, line \u001b[0;32m4\u001b[0m\n\u001b[0;31m    ]\u001b[0m\n\u001b[0m     ^\u001b[0m\n\u001b[0;31mSyntaxError\u001b[0m\u001b[0;31m:\u001b[0m invalid syntax\n"
       ]
      }
     ],
     "prompt_number": 7
    },
    {
     "cell_type": "code",
     "collapsed": false,
     "input": [],
     "language": "python",
     "metadata": {},
     "outputs": []
    }
   ],
   "metadata": {}
  }
 ]
}