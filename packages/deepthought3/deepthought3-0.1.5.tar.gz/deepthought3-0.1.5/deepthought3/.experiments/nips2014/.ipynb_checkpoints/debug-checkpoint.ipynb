{
 "metadata": {
  "name": "",
  "signature": "sha256:57b2a182fcf8faca9905a24f8cb00124748ce7b7bd6496c92f02b8591d4b71cd"
 },
 "nbformat": 3,
 "nbformat_minor": 0,
 "worksheets": [
  {
   "cells": [
    {
     "cell_type": "code",
     "collapsed": false,
     "input": [
      "import logging\n",
      "logger = logging.getLogger()\n",
      "logger.setLevel(logging.DEBUG)\n",
      "\n",
      "import os;\n",
      "import deepthought;\n",
      "DATA_PATH = os.path.join(deepthought3.DATA_PATH, 'rwanda2013rhythms');\n",
      "MODEL_PATH = os.path.join(deepthought3.OUTPUT_PATH, 'nips2014', 'models', 'h0');\n",
      "OUTPUT_PATH = os.path.join(deepthought3.OUTPUT_PATH, 'nips2014', 'figures', 'h0');\n",
      "print 'data path  : {}'.format(DATA_PATH);\n",
      "print 'model path : {}'.format(MODEL_PATH);\n",
      "print 'output path: {}'.format(OUTPUT_PATH);"
     ],
     "language": "python",
     "metadata": {},
     "outputs": [
      {
       "output_type": "stream",
       "stream": "stdout",
       "text": [
        "data path  : /Users/sstober/work/datasets/rwanda2013rhythms\n",
        "model path : /Users/sstober/work/develop/deepthought-output/nips2014/models/h0\n",
        "output path: /Users/sstober/work/develop/deepthought-output/nips2014/figures/h0\n"
       ]
      }
     ],
     "prompt_number": 2
    },
    {
     "cell_type": "code",
     "collapsed": false,
     "input": [
      "# test with subject 4\n",
      "from deepthought3.experiments.nips2014.scripts.generate_plots import load_results;\n",
      "from deepthought3.pylearn2ext.util import process_dataset;\n",
      "path4 = os.path.join(MODEL_PATH, '4', 'best');\n",
      "train, model = load_results(path4);\n",
      "dataset = train.algorithm.monitoring_dataset['test'];\n",
      "y_real, y_pred, output = process_dataset(model, dataset);"
     ],
     "language": "python",
     "metadata": {},
     "outputs": [
      {
       "output_type": "stream",
       "stream": "stderr",
       "text": [
        "INFO:deepthought3.experiments.nips2014.scripts.generate_plots:loading model from /Users/sstober/work/develop/deepthought-output/nips2014/models/h0/4/best/mlp_best.pkl...\n"
       ]
      },
      {
       "output_type": "stream",
       "stream": "stderr",
       "text": [
        "INFO:deepthought3.experiments.nips2014.scripts.generate_plots:loading model from /Users/sstober/work/develop/deepthought-output/nips2014/models/h0/4/best/mlp_best.pkl done. Time elapsed: 0.146533 seconds\n"
       ]
      },
      {
       "output_type": "stream",
       "stream": "stderr",
       "text": [
        "INFO:deepthought3.datasets.rwanda2013rhythms.PathLocalizer:changing data path to: /Users/sstober/work/datasets/rwanda2013rhythms/eeg\n"
       ]
      },
      {
       "output_type": "stream",
       "stream": "stderr",
       "text": [
        "INFO:deepthought3.experiments.nips2014.scripts.generate_plots:loading train from /Users/sstober/work/develop/deepthought-output/nips2014/models/h0/4/best/train.yaml...\n"
       ]
      },
      {
       "output_type": "stream",
       "stream": "stderr",
       "text": [
        "INFO:deepthought3.util.yaml_util:parsing yaml...\n"
       ]
      },
      {
       "output_type": "stream",
       "stream": "stderr",
       "text": [
        "DEBUG:deepthought3.datasets.rwanda2013rhythms.EEGDataset:addding /Users/sstober/work/datasets/rwanda2013rhythms/eeg/Sub001TN010613/dataset_13goodchannels_plus4s.pklz\n"
       ]
      },
      {
       "output_type": "stream",
       "stream": "stderr",
       "text": [
        "DEBUG:deepthought3.datasets.rwanda2013rhythms.EEGDataset:addding /Users/sstober/work/datasets/rwanda2013rhythms/eeg/Sub002DI010613/dataset_13goodchannels_plus4s.pklz\n"
       ]
      },
      {
       "output_type": "stream",
       "stream": "stderr",
       "text": [
        "DEBUG:deepthought3.datasets.rwanda2013rhythms.EEGDataset:addding /Users/sstober/work/datasets/rwanda2013rhythms/eeg/Sub003TN020613/dataset_13goodchannels_plus4s.pklz\n"
       ]
      },
      {
       "output_type": "stream",
       "stream": "stderr",
       "text": [
        "DEBUG:deepthought3.datasets.rwanda2013rhythms.EEGDataset:addding /Users/sstober/work/datasets/rwanda2013rhythms/eeg/Sub004DN040613/dataset_13goodchannels_plus4s.pklz\n"
       ]
      },
      {
       "output_type": "stream",
       "stream": "stderr",
       "text": [
        "DEBUG:deepthought3.datasets.rwanda2013rhythms.EEGDataset:addding /Users/sstober/work/datasets/rwanda2013rhythms/eeg/Sub005NE040613/dataset_13goodchannels_plus4s.pklz\n"
       ]
      },
      {
       "output_type": "stream",
       "stream": "stderr",
       "text": [
        "DEBUG:deepthought3.datasets.rwanda2013rhythms.EEGDataset:addding /Users/sstober/work/datasets/rwanda2013rhythms/eeg/Sub006PN040613/dataset_13goodchannels_plus4s.pklz\n"
       ]
      },
      {
       "output_type": "stream",
       "stream": "stderr",
       "text": [
        "DEBUG:deepthought3.datasets.rwanda2013rhythms.EEGDataset:addding /Users/sstober/work/datasets/rwanda2013rhythms/eeg/Sub007FB050613/dataset_13goodchannels_plus4s.pklz\n"
       ]
      },
      {
       "output_type": "stream",
       "stream": "stderr",
       "text": [
        "DEBUG:deepthought3.datasets.rwanda2013rhythms.EEGDataset:addding /Users/sstober/work/datasets/rwanda2013rhythms/eeg/Sub008MN050613/dataset_13goodchannels_plus4s.pklz\n"
       ]
      },
      {
       "output_type": "stream",
       "stream": "stderr",
       "text": [
        "DEBUG:deepthought3.datasets.rwanda2013rhythms.EEGDataset:addding /Users/sstober/work/datasets/rwanda2013rhythms/eeg/Sub009DK050613/dataset_13goodchannels_plus4s.pklz\n"
       ]
      },
      {
       "output_type": "stream",
       "stream": "stderr",
       "text": [
        "DEBUG:deepthought3.datasets.rwanda2013rhythms.EEGDataset:addding /Users/sstober/work/datasets/rwanda2013rhythms/eeg/Sub010DO060613/dataset_13goodchannels_plus4s.pklz\n"
       ]
      },
      {
       "output_type": "stream",
       "stream": "stderr",
       "text": [
        "DEBUG:deepthought3.datasets.rwanda2013rhythms.EEGDataset:addding /Users/sstober/work/datasets/rwanda2013rhythms/eeg/Sub011AM060613/dataset_13goodchannels_plus4s.pklz\n"
       ]
      },
      {
       "output_type": "stream",
       "stream": "stderr",
       "text": [
        "DEBUG:deepthought3.datasets.rwanda2013rhythms.EEGDataset:addding /Users/sstober/work/datasets/rwanda2013rhythms/eeg/Sub012RN060613/dataset_13goodchannels_plus4s.pklz\n"
       ]
      },
      {
       "output_type": "stream",
       "stream": "stderr",
       "text": [
        "DEBUG:deepthought3.datasets.rwanda2013rhythms.EEGDataset:addding /Users/sstober/work/datasets/rwanda2013rhythms/eeg/Sub013MI080613/dataset_13goodchannels_plus4s.pklz\n"
       ]
      },
      {
       "output_type": "stream",
       "stream": "stderr",
       "text": [
        "INFO:deepthought3.datasets.rwanda2013rhythms.EEGDataset:loading data from /Users/sstober/work/datasets/rwanda2013rhythms/eeg/Sub004DN040613/dataset_13goodchannels_plus4s.pklz...\n"
       ]
      },
      {
       "output_type": "stream",
       "stream": "stderr",
       "text": [
        "INFO:deepthought3.datasets.rwanda2013rhythms.EEGDataset:loading data from /Users/sstober/work/datasets/rwanda2013rhythms/eeg/Sub004DN040613/dataset_13goodchannels_plus4s.pklz done. Time elapsed: 0.661157 seconds\n"
       ]
      },
      {
       "output_type": "stream",
       "stream": "stderr",
       "text": [
        "/Users/sstober/git/deepbeat/deepbeat/code/deepthought/datasets/rwanda2013rhythms/EEGDataset.py:243: UserWarning: pylearn2.utils.one_hot is deprecated. Use pylearn2.format.target_format.OneHotFormatter instead. pylearn2.utils.one_hot will be removed on or after 13 August 2014\n",
        "  one_hot_y = one_hot(labels);\n",
        "DEBUG:deepthought3.datasets.rwanda2013rhythms.EEGDataset:final dataset shape: (288, 45, 49, 1) (b,0,1,c)\n"
       ]
      },
      {
       "output_type": "stream",
       "stream": "stderr",
       "text": [
        "DEBUG:deepthought3.datasets.rwanda2013rhythms.EEGDataset:generated dataset \"test\" with shape X=(288, 2205) y=(288, 24) labels=(288,) \n"
       ]
      },
      {
       "output_type": "stream",
       "stream": "stderr",
       "text": [
        "DEBUG:deepthought3.datasets.rwanda2013rhythms.EEGDataset:addding /Users/sstober/work/datasets/rwanda2013rhythms/eeg/Sub001TN010613/dataset_13goodchannels_plus4s.pklz\n"
       ]
      },
      {
       "output_type": "stream",
       "stream": "stderr",
       "text": [
        "DEBUG:deepthought3.datasets.rwanda2013rhythms.EEGDataset:addding /Users/sstober/work/datasets/rwanda2013rhythms/eeg/Sub002DI010613/dataset_13goodchannels_plus4s.pklz\n"
       ]
      },
      {
       "output_type": "stream",
       "stream": "stderr",
       "text": [
        "DEBUG:deepthought3.datasets.rwanda2013rhythms.EEGDataset:addding /Users/sstober/work/datasets/rwanda2013rhythms/eeg/Sub003TN020613/dataset_13goodchannels_plus4s.pklz\n"
       ]
      },
      {
       "output_type": "stream",
       "stream": "stderr",
       "text": [
        "DEBUG:deepthought3.datasets.rwanda2013rhythms.EEGDataset:addding /Users/sstober/work/datasets/rwanda2013rhythms/eeg/Sub004DN040613/dataset_13goodchannels_plus4s.pklz\n"
       ]
      },
      {
       "output_type": "stream",
       "stream": "stderr",
       "text": [
        "DEBUG:deepthought3.datasets.rwanda2013rhythms.EEGDataset:addding /Users/sstober/work/datasets/rwanda2013rhythms/eeg/Sub005NE040613/dataset_13goodchannels_plus4s.pklz\n"
       ]
      },
      {
       "output_type": "stream",
       "stream": "stderr",
       "text": [
        "DEBUG:deepthought3.datasets.rwanda2013rhythms.EEGDataset:addding /Users/sstober/work/datasets/rwanda2013rhythms/eeg/Sub006PN040613/dataset_13goodchannels_plus4s.pklz\n"
       ]
      },
      {
       "output_type": "stream",
       "stream": "stderr",
       "text": [
        "DEBUG:deepthought3.datasets.rwanda2013rhythms.EEGDataset:addding /Users/sstober/work/datasets/rwanda2013rhythms/eeg/Sub007FB050613/dataset_13goodchannels_plus4s.pklz\n"
       ]
      },
      {
       "output_type": "stream",
       "stream": "stderr",
       "text": [
        "DEBUG:deepthought3.datasets.rwanda2013rhythms.EEGDataset:addding /Users/sstober/work/datasets/rwanda2013rhythms/eeg/Sub008MN050613/dataset_13goodchannels_plus4s.pklz\n"
       ]
      },
      {
       "output_type": "stream",
       "stream": "stderr",
       "text": [
        "DEBUG:deepthought3.datasets.rwanda2013rhythms.EEGDataset:addding /Users/sstober/work/datasets/rwanda2013rhythms/eeg/Sub009DK050613/dataset_13goodchannels_plus4s.pklz\n"
       ]
      },
      {
       "output_type": "stream",
       "stream": "stderr",
       "text": [
        "DEBUG:deepthought3.datasets.rwanda2013rhythms.EEGDataset:addding /Users/sstober/work/datasets/rwanda2013rhythms/eeg/Sub010DO060613/dataset_13goodchannels_plus4s.pklz\n"
       ]
      },
      {
       "output_type": "stream",
       "stream": "stderr",
       "text": [
        "DEBUG:deepthought3.datasets.rwanda2013rhythms.EEGDataset:addding /Users/sstober/work/datasets/rwanda2013rhythms/eeg/Sub011AM060613/dataset_13goodchannels_plus4s.pklz\n"
       ]
      },
      {
       "output_type": "stream",
       "stream": "stderr",
       "text": [
        "DEBUG:deepthought3.datasets.rwanda2013rhythms.EEGDataset:addding /Users/sstober/work/datasets/rwanda2013rhythms/eeg/Sub012RN060613/dataset_13goodchannels_plus4s.pklz\n"
       ]
      },
      {
       "output_type": "stream",
       "stream": "stderr",
       "text": [
        "DEBUG:deepthought3.datasets.rwanda2013rhythms.EEGDataset:addding /Users/sstober/work/datasets/rwanda2013rhythms/eeg/Sub013MI080613/dataset_13goodchannels_plus4s.pklz\n"
       ]
      },
      {
       "output_type": "stream",
       "stream": "stderr",
       "text": [
        "INFO:deepthought3.datasets.rwanda2013rhythms.EEGDataset:loading data from /Users/sstober/work/datasets/rwanda2013rhythms/eeg/Sub004DN040613/dataset_13goodchannels_plus4s.pklz...\n"
       ]
      },
      {
       "output_type": "stream",
       "stream": "stderr",
       "text": [
        "INFO:deepthought3.datasets.rwanda2013rhythms.EEGDataset:loading data from /Users/sstober/work/datasets/rwanda2013rhythms/eeg/Sub004DN040613/dataset_13goodchannels_plus4s.pklz done. Time elapsed: 0.877791 seconds\n"
       ]
      },
      {
       "output_type": "stream",
       "stream": "stderr",
       "text": [
        "DEBUG:deepthought3.datasets.rwanda2013rhythms.EEGDataset:final dataset shape: (2592, 45, 49, 1) (b,0,1,c)\n"
       ]
      },
      {
       "output_type": "stream",
       "stream": "stderr",
       "text": [
        "DEBUG:deepthought3.datasets.rwanda2013rhythms.EEGDataset:generated dataset \"train\" with shape X=(2592, 2205) y=(2592, 24) labels=(2592,) \n"
       ]
      },
      {
       "output_type": "stream",
       "stream": "stderr",
       "text": [
        "DEBUG:deepthought3.datasets.rwanda2013rhythms.EEGDataset:addding /Users/sstober/work/datasets/rwanda2013rhythms/eeg/Sub001TN010613/dataset_13goodchannels_plus4s.pklz\n"
       ]
      },
      {
       "output_type": "stream",
       "stream": "stderr",
       "text": [
        "DEBUG:deepthought3.datasets.rwanda2013rhythms.EEGDataset:addding /Users/sstober/work/datasets/rwanda2013rhythms/eeg/Sub002DI010613/dataset_13goodchannels_plus4s.pklz\n"
       ]
      },
      {
       "output_type": "stream",
       "stream": "stderr",
       "text": [
        "DEBUG:deepthought3.datasets.rwanda2013rhythms.EEGDataset:addding /Users/sstober/work/datasets/rwanda2013rhythms/eeg/Sub003TN020613/dataset_13goodchannels_plus4s.pklz\n"
       ]
      },
      {
       "output_type": "stream",
       "stream": "stderr",
       "text": [
        "DEBUG:deepthought3.datasets.rwanda2013rhythms.EEGDataset:addding /Users/sstober/work/datasets/rwanda2013rhythms/eeg/Sub004DN040613/dataset_13goodchannels_plus4s.pklz\n"
       ]
      },
      {
       "output_type": "stream",
       "stream": "stderr",
       "text": [
        "DEBUG:deepthought3.datasets.rwanda2013rhythms.EEGDataset:addding /Users/sstober/work/datasets/rwanda2013rhythms/eeg/Sub005NE040613/dataset_13goodchannels_plus4s.pklz\n"
       ]
      },
      {
       "output_type": "stream",
       "stream": "stderr",
       "text": [
        "DEBUG:deepthought3.datasets.rwanda2013rhythms.EEGDataset:addding /Users/sstober/work/datasets/rwanda2013rhythms/eeg/Sub006PN040613/dataset_13goodchannels_plus4s.pklz\n"
       ]
      },
      {
       "output_type": "stream",
       "stream": "stderr",
       "text": [
        "DEBUG:deepthought3.datasets.rwanda2013rhythms.EEGDataset:addding /Users/sstober/work/datasets/rwanda2013rhythms/eeg/Sub007FB050613/dataset_13goodchannels_plus4s.pklz\n"
       ]
      },
      {
       "output_type": "stream",
       "stream": "stderr",
       "text": [
        "DEBUG:deepthought3.datasets.rwanda2013rhythms.EEGDataset:addding /Users/sstober/work/datasets/rwanda2013rhythms/eeg/Sub008MN050613/dataset_13goodchannels_plus4s.pklz\n"
       ]
      },
      {
       "output_type": "stream",
       "stream": "stderr",
       "text": [
        "DEBUG:deepthought3.datasets.rwanda2013rhythms.EEGDataset:addding /Users/sstober/work/datasets/rwanda2013rhythms/eeg/Sub009DK050613/dataset_13goodchannels_plus4s.pklz\n"
       ]
      },
      {
       "output_type": "stream",
       "stream": "stderr",
       "text": [
        "DEBUG:deepthought3.datasets.rwanda2013rhythms.EEGDataset:addding /Users/sstober/work/datasets/rwanda2013rhythms/eeg/Sub010DO060613/dataset_13goodchannels_plus4s.pklz\n"
       ]
      },
      {
       "output_type": "stream",
       "stream": "stderr",
       "text": [
        "DEBUG:deepthought3.datasets.rwanda2013rhythms.EEGDataset:addding /Users/sstober/work/datasets/rwanda2013rhythms/eeg/Sub011AM060613/dataset_13goodchannels_plus4s.pklz\n"
       ]
      },
      {
       "output_type": "stream",
       "stream": "stderr",
       "text": [
        "DEBUG:deepthought3.datasets.rwanda2013rhythms.EEGDataset:addding /Users/sstober/work/datasets/rwanda2013rhythms/eeg/Sub012RN060613/dataset_13goodchannels_plus4s.pklz\n"
       ]
      },
      {
       "output_type": "stream",
       "stream": "stderr",
       "text": [
        "DEBUG:deepthought3.datasets.rwanda2013rhythms.EEGDataset:addding /Users/sstober/work/datasets/rwanda2013rhythms/eeg/Sub013MI080613/dataset_13goodchannels_plus4s.pklz\n"
       ]
      },
      {
       "output_type": "stream",
       "stream": "stderr",
       "text": [
        "INFO:deepthought3.datasets.rwanda2013rhythms.EEGDataset:loading data from /Users/sstober/work/datasets/rwanda2013rhythms/eeg/Sub004DN040613/dataset_13goodchannels_plus4s.pklz...\n"
       ]
      },
      {
       "output_type": "stream",
       "stream": "stderr",
       "text": [
        "INFO:deepthought3.datasets.rwanda2013rhythms.EEGDataset:loading data from /Users/sstober/work/datasets/rwanda2013rhythms/eeg/Sub004DN040613/dataset_13goodchannels_plus4s.pklz done. Time elapsed: 0.669567 seconds\n"
       ]
      },
      {
       "output_type": "stream",
       "stream": "stderr",
       "text": [
        "DEBUG:deepthought3.datasets.rwanda2013rhythms.EEGDataset:final dataset shape: (288, 45, 49, 1) (b,0,1,c)\n"
       ]
      },
      {
       "output_type": "stream",
       "stream": "stderr",
       "text": [
        "DEBUG:deepthought3.datasets.rwanda2013rhythms.EEGDataset:generated dataset \"valid\" with shape X=(288, 2205) y=(288, 24) labels=(288,) \n"
       ]
      },
      {
       "output_type": "stream",
       "stream": "stdout",
       "text": [
        "None\n",
        "!obj:pylearn2.train.Train {\n",
        "    dataset: &train !obj:deepbeat.eeg.EEGDataset.EEGDataset {\n",
        "        name : 'train',\n",
        "        path : /Users/sstober/work/datasets/rwanda2013rhythms/eeg,\n",
        "        suffix : _13goodchannels_plus4s,\n",
        "        subjects : [3],\n",
        "        resample : [400,400],\n",
        "        # start_sample : 1152,\n",
        "        start_sample : 1472,\n",
        "        stop_sample  : 11648,                   # None (empty) = end of sequence \n",
        "        frame_size : 45,\n",
        "        hop_size : 45,\n",
        "        label_mode : rhythm,\n",
        "        n_fft : 96,                      # None (empty) = raw signal\n",
        "        n_freq_bins : 49,\n",
        "        include_phase : False,\n",
        "        spectrum_log_amplitude : True,\n",
        "        spectrum_normalization_mode : linear_0_1,\n",
        "    },\n",
        "    \n",
        "    model: &model !obj:pylearn2.models.mlp.MLP {\n",
        "        seed : 13,                                        # controls initialization\n",
        "        batch_size: 100,\n",
        "        input_space: !obj:pylearn2.space.Conv2DSpace {\n",
        "                        shape: [45, 49],                  # just 1d\n",
        "                        num_channels: 1,\n",
        "                    },\n",
        "        layers: [\n",
        "                !obj:pylearn2.models.mlp.ConvRectifiedLinear {\n",
        "                    layer_name: 'h0',\n",
        "                    output_channels: 30,            # number of feature maps\n",
        "                    irange: 0.050000,\n",
        "                    # init_bias: ,                    \n",
        "                    # max_kernel_norm: 1.9365,\n",
        "                    kernel_shape: [35, 49],         \n",
        "                    pool_shape: [1, 1],                # if 1 -> no aggregation / smoothing / time-invariance\n",
        "                    pool_stride: [1, 1],             # if 1 -> no sub-sampling / dimension reduction\n",
        "                    pool_type: 'max',\n",
        "                    tied_b: True\n",
        "                },\n",
        "\n",
        "                !obj:deepbeat.pylearn2ext.HingeLoss.HingeLoss {\n",
        "                    # max_col_norm: 1.9365,\n",
        "                    layer_name: 'y',\n",
        "                    n_classes: 24,\n",
        "                    irange: 0.050000,\n",
        "                    # istdev: .05,\n",
        "                    # max_col_norm: 1.9365,\n",
        "                 }\n",
        "                \n",
        "               ]\n",
        "    },\n",
        "    \n",
        "    algorithm: !obj:pylearn2.training_algorithms.sgd.SGD {\n",
        "        seed: 13,                                  # controls dataset traversal\n",
        "        batch_size: 100,\n",
        "        learning_rate: 0.00447388603312,\n",
        "\n",
        "        monitoring_dataset:\n",
        "            {\n",
        "                'train' : *train,\n",
        "                'valid'  : &valid !obj:deepbeat.eeg.EEGDataset.EEGDataset {\n",
        "                                name : 'valid',\n",
        "                                path : /Users/sstober/work/datasets/rwanda2013rhythms/eeg, \n",
        "                                suffix : _13goodchannels_plus4s,\n",
        "                                subjects : [3],\n",
        "                                resample : [400,400],\n",
        "                                start_sample : 320,\n",
        "                                stop_sample  : 1472, # None (empty) = end of sequence \n",
        "                                frame_size : 45,\n",
        "                                hop_size : 45,           \n",
        "                                label_mode : rhythm,\n",
        "                                n_fft : 96,\n",
        "                                n_freq_bins : 49,\n",
        "                                include_phase : False,\n",
        "                                spectrum_log_amplitude : True,\n",
        "                                spectrum_normalization_mode : linear_0_1,\n",
        "                            },\n",
        "                'test'  : &test !obj:deepbeat.eeg.EEGDataset.EEGDataset {\n",
        "                                name : 'test',\n",
        "                                path : /Users/sstober/work/datasets/rwanda2013rhythms/eeg, \n",
        "                                suffix : _13goodchannels_plus4s,\n",
        "                                subjects : [3],\n",
        "                                resample : [400,400],\n",
        "                                start_sample : 11648,\n",
        "                                stop_sample  : 12800,    # None (empty) = end of sequence \n",
        "                                frame_size : 45,\n",
        "                                hop_size : 45,           \n",
        "                                label_mode : rhythm,\n",
        "                                n_fft : 96,\n",
        "                                n_freq_bins : 49,\n",
        "                                include_phase : False,\n",
        "                                spectrum_log_amplitude : True,\n",
        "                                spectrum_normalization_mode : linear_0_1,\n",
        "                                keep_metadata : True,\n",
        "                            },\n",
        "            },\n",
        "        # cost: &cost !obj:pylearn2.models.mlp.Default {},\n",
        "        \n",
        "        cost: &cost\n",
        "        #     # !obj:pylearn2.costs.cost.SumOfCosts { \n",
        "        #     #     costs: [\n",
        "                    !obj:pylearn2.costs.mlp.dropout.Dropout {\n",
        "                        input_include_probs: { 'h0' : .8 },\n",
        "                            input_scales: { 'h0': 1. }\n",
        "                    },\n",
        "        #             # !obj:pylearn2.costs.mlp.L1WeightDecay {\n",
        "        #             #     coeffs: [1e-05, 1e-05, 1e-05, 1e-05, 1e-05], #[ .000001, .000001, .000001, .000001 ]\n",
        "        #             # },\n",
        "        #             # !obj:pylearn2.costs.mlp.WeightDecay {\n",
        "        #             #     coeffs: [1e-05, 1e-05, 1e-05, 1e-05, 1e-05], #[ .000005, .000005, .000005, .000005 ]\n",
        "        #             # },\n",
        "        #     #     ]\n",
        "        #     # },\n",
        "\n",
        "        termination_criterion: \n",
        "            # !obj:pylearn2.termination_criteria.And {\n",
        "                # criteria: [\n",
        "                    # !obj:pylearn2.termination_criteria.MonitorBased {\n",
        "                    #     channel_name: \"valid_y_misclass\",\n",
        "                    #     prop_decrease: 0.50,\n",
        "                    #     N: 10\n",
        "                    # },\n",
        "                    !obj:pylearn2.termination_criteria.EpochCounter {\n",
        "                        max_epochs: 50\n",
        "                    },\n",
        "                # ]\n",
        "            # },\n",
        "\n",
        "        learning_rule: \n",
        "            !obj:pylearn2.training_algorithms.learning_rule.Momentum {\n",
        "                init_momentum: 0.500000,\n",
        "            },\n",
        "            # !obj:pylearn2.training_algorithms.learning_rule.AdaDelta {},\n",
        "\n",
        "    },\n",
        "    \n",
        "    extensions:\n",
        "        [\n",
        "            # like pylearn2.training_algorithms.sgd.ExponentialDecay\n",
        "            # but only applied once per epoch (i.e. independent of batch_size)\n",
        "            # decay factor needs to be adjusted as x ** num_batches_per_epoch\n",
        "            !obj:deepbeat.pylearn2ext.ExponentialDecay.ExponentialDecay {\n",
        "                decay_factor: 1.056452, \n",
        "                min_lr: 0.000001, \n",
        "            },\n",
        "\n",
        "            !obj:pylearn2.training_algorithms.learning_rule.MomentumAdjustor {\n",
        "                start: 1,\n",
        "                saturate: 50,\n",
        "                final_momentum: 0.990000,\n",
        "            },            \n",
        "             \n",
        "            !obj:deepbeat.pylearn2ext.util.LoggingCallback {\n",
        "                name: '20120_h0_pattern_width_35_h0_patterns_30_h0_pool_size_1_learning_rate_0.00447388603312_lr_exponential_decay_factor_1.05645219425',\n",
        "                obj_channels: ['train_objective', 'train_y_misclass', 'valid_y_misclass', 'test_y_misclass'],\n",
        "            },\n",
        "\n",
        "            # should be extension last (after all computations are done)\n",
        "            !obj:pylearn2.train_extensions.best_params.MonitorBasedSaveBest {\n",
        "                channel_name: 'valid_y_misclass',\n",
        "                higher_is_better: False,\n",
        "                save_path: \"/imaging/sstober/spearmint.jobs/nips/fftbins/49/cache/_h0_pattern_width_35_h0_patterns_30_h0_pool_size_1_learning_rate_0.00447388603312_lr_exponential_decay_factor_1.05645219425/mlp_best.pkl\",\n",
        "            },\n",
        "\n",
        "            # !obj:deepbeat.pylearn2ext.util.SaveEveryEpoch {\n",
        "            #     save_path: \"/imaging/sstober/spearmint.jobs/nips/fftbins/49/cache/_h0_pattern_width_35_h0_patterns_30_h0_pool_size_1_learning_rate_0.00447388603312_lr_exponential_decay_factor_1.05645219425/epochs/\",\n",
        "            #     save_prefix: \"epoch\",\n",
        "            # },\n",
        "    ],\n",
        "    \n",
        "    save_freq: 1,\n",
        "    save_path: \"/imaging/sstober/spearmint.jobs/nips/fftbins/49/cache/_h0_pattern_width_35_h0_patterns_30_h0_pool_size_1_learning_rate_0.00447388603312_lr_exponential_decay_factor_1.05645219425/mlp.pkl\",\n",
        "    allow_overwrite: True,\n",
        "}\n",
        "\n",
        "Input shape: (45, 49)\n"
       ]
      },
      {
       "output_type": "stream",
       "stream": "stdout",
       "text": [
        "Detector space: (11, 1)\n"
       ]
      },
      {
       "output_type": "stream",
       "stream": "stdout",
       "text": [
        "Output space: (11, 1)\n"
       ]
      },
      {
       "output_type": "stream",
       "stream": "stderr",
       "text": [
        "/Users/sstober/.virtualenvs/deep-learning/lib/python2.7/site-packages/theano/tensor/subtensor.py:110: FutureWarning: comparison to `None` will result in an elementwise object comparison in the future.\n",
        "  start in [None, 0] or\n",
        "/Users/sstober/.virtualenvs/deep-learning/lib/python2.7/site-packages/theano/tensor/subtensor.py:114: FutureWarning: comparison to `None` will result in an elementwise object comparison in the future.\n",
        "  stop in [None, length, maxsize] or\n"
       ]
      },
      {
       "output_type": "stream",
       "stream": "stderr",
       "text": [
        "INFO:deepthought3.util.yaml_util:parsing yaml done. Time elapsed: 2.629220 seconds\n"
       ]
      },
      {
       "output_type": "stream",
       "stream": "stderr",
       "text": [
        "INFO:deepthought3.experiments.nips2014.scripts.generate_plots:loading train from /Users/sstober/work/develop/deepthought-output/nips2014/models/h0/4/best/train.yaml done. Time elapsed: 2.629912 seconds\n"
       ]
      },
      {
       "output_type": "stream",
       "stream": "stderr",
       "text": [
        "INFO:deepthought3.pylearn2ext.util:compiling output_fn...\n"
       ]
      },
      {
       "output_type": "stream",
       "stream": "stderr",
       "text": [
        "INFO:deepthought3.pylearn2ext.util:compiling output_fn done. Time elapsed: 0.418286 seconds\n"
       ]
      },
      {
       "output_type": "stream",
       "stream": "stderr",
       "text": [
        "/Users/sstober/git/pylearn2/pylearn2/datasets/dense_design_matrix.py:1449: UserWarning: It looks like DefaultViewConverter.axes has been changed directly, please use the set_axes() method instead.\n",
        "  \"instead.\" % self.__class__.__name__)\n"
       ]
      }
     ],
     "prompt_number": 3
    },
    {
     "cell_type": "code",
     "collapsed": false,
     "input": [
      "print y_real\n",
      "print y_pred"
     ],
     "language": "python",
     "metadata": {},
     "outputs": [
      {
       "output_type": "stream",
       "stream": "stdout",
       "text": [
        "[ 7  7  7  7  7  7  7  7  7  7  7  7 21 21 21 21 21 21 21 21 21 21 21 21 20\n",
        " 20 20 20 20 20 20 20 20 20 20 20 13 13 13 13 13 13 13 13 13 13 13 13  0  0\n",
        "  0  0  0  0  0  0  0  0  0  0 15 15 15 15 15 15 15 15 15 15 15 15 10 10 10\n",
        " 10 10 10 10 10 10 10 10 10  1  1  1  1  1  1  1  1  1  1  1  1  8  8  8  8\n",
        "  8  8  8  8  8  8  8  8  5  5  5  5  5  5  5  5  5  5  5  5 23 23 23 23 23\n",
        " 23 23 23 23 23 23 23 19 19 19 19 19 19 19 19 19 19 19 19 14 14 14 14 14 14\n",
        " 14 14 14 14 14 14 22 22 22 22 22 22 22 22 22 22 22 22  3  3  3  3  3  3  3\n",
        "  3  3  3  3  3  4  4  4  4  4  4  4  4  4  4  4  4  9  9  9  9  9  9  9  9\n",
        "  9  9  9  9  2  2  2  2  2  2  2  2  2  2  2  2 11 11 11 11 11 11 11 11 11\n",
        " 11 11 11 18 18 18 18 18 18 18 18 18 18 18 18 16 16 16 16 16 16 16 16 16 16\n",
        " 16 16 12 12 12 12 12 12 12 12 12 12 12 12 17 17 17 17 17 17 17 17 17 17 17\n",
        " 17  6  6  6  6  6  6  6  6  6  6  6  6]\n",
        "[21 21 21 21 21 21  0 21 21  6 21 21 21 21 21 21 21 21 21 21 21 21 21 21  0\n",
        "  0  0  0 20  6  2  0 12 12 20  6  0  0  0 15 15 15 15 15 15 10 15 10  0  0\n",
        "  0  0  2  2  0  0  0  0  2  2 15  0  2 15 15 15 15 15 15 15 15 15 13 13 14\n",
        " 13  3 13 13 13 10 10 13 20  0 21  1 21  6  0 21 21 12  6 21  2 20  0  2  0\n",
        " 20  0  2 20  0  1  0  0  0  0  0  0  0 21  0  0 19 19 21 21 10  6 10 13 13\n",
        " 13 20 13 10 10 10 10  0  0  0  0 21  0  0  0  4 19  0 21 20  6 20 20 20 20\n",
        " 20 20 12 12 10 13  0  0  0  0  6  0  0  0  0  0  0  2 18 18 18 18 18 10 18\n",
        " 18 18 18 18 18  0  0  0  0 21  0  0  2 11 19  0 21 15 15 15  0 15  3 15 15\n",
        " 10 10 10 13  2  2  0  2  0  2  2  0  0  0  2  2 13 15  2 15 13 13 15 13 10\n",
        " 10 20 20 18 18 18 18  3  3 18 15 18 18  3  3  0  6 15 15  3 13  0 13  2  6\n",
        " 20 13  0  0  0  0  0 21  0  0 12 12  2 21  0  0  0  2  8  0  0  0 19 19  0\n",
        "  0 21 21 21 21 21 21 21 21 21 21 21 21]\n"
       ]
      }
     ],
     "prompt_number": 16
    },
    {
     "cell_type": "code",
     "collapsed": false,
     "input": [
      "import deepthought3.util.fs_util as fs_util;\n",
      "output_file = os.path.join(path4, 'cache', 'test_output.pklz');\n",
      "y_real_cache, y_pred_cache, output_cache = fs_util.load(output_file);\n",
      "# print y_real_cache\n",
      "print y_pred_cache"
     ],
     "language": "python",
     "metadata": {},
     "outputs": [
      {
       "output_type": "stream",
       "stream": "stdout",
       "text": [
        "[ 7  6  1  1  7 21  7  1  7  7 21 21 21 21 21 21 21 21 21 21 21 21 21 21 20\n",
        " 20 20 20 10  6 22 20  6  6 20  6 14 15 15 15 15 15 15 15 15 15 15 10  0  0\n",
        "  2  0 22 12  2 10  0  2  2 22 15 15 15 15 15 15 15 15 15 15 15 15 13 13 14\n",
        "  3  3  3  3  3 10 10  3 10  7  1  1  1  6  7  1  1  6  1 12 12  8 16  4  8\n",
        "  8  8  4  8  8 17  8  8 19  8 19  8 19 19  4  8 17 17 19 19 10 23 10 10 13\n",
        " 11  3 13 15 10 10 10  8  8 19  4 17 19 19 19 17 17 19 19 11 14 14 11 10 11\n",
        " 10 10 14 20 10 10  0  6 22  0  6  0 12  0  0  0  0  2 18 18 18 18 18 18 18\n",
        " 18 18 18 18 18 19  8  4  4 17 17  4  4  4 17 19 19 15 15 15 15 10 10 15 15\n",
        " 10 10 10 10  2  2  0  2  0 22  2  0  0  0 12  2 10 14 14 10 10 10 15 10 10\n",
        " 10 10 10 18 18 18 18 18 16 18 16 18 16 18 18 16 16  8 16 16  8 16 16 16 16\n",
        " 16 16 22  1 12 12 22  7  0 12  7 12  2 12  4  8  4  4 19 17  8 19 17 17 19\n",
        " 19 21 21 21 21 21 21 21 21 21 21 21 21]\n"
       ]
      }
     ],
     "prompt_number": 17
    },
    {
     "cell_type": "code",
     "collapsed": false,
     "input": [
      "print output\n",
      "print output_cache"
     ],
     "language": "python",
     "metadata": {},
     "outputs": [
      {
       "output_type": "stream",
       "stream": "stdout",
       "text": [
        "[[-0.37137237 -0.47191083 -0.51785249 ..., -0.2582987  -0.46400985\n",
        "  -1.03727484]\n",
        " [-0.42385423 -0.55418897 -0.5311265  ..., -0.4200449  -0.5872919\n",
        "  -0.99473393]\n",
        " [-0.30522779 -0.35452437 -0.42374116 ..., -0.21643233 -0.41884315\n",
        "  -1.11414146]\n",
        " ..., \n",
        " [-0.31659535  0.09560354 -0.5471828  ...,  0.66109681 -0.33740035\n",
        "  -1.3158673 ]\n",
        " [-0.05077753 -0.28229797 -0.29880571 ...,  0.59417838 -0.32502621\n",
        "  -1.49688709]\n",
        " [-0.16027689 -0.22359987 -0.43014163 ...,  0.62160087 -0.38032365\n",
        "  -1.50715232]]\n",
        "[[-0.86788487 -0.83958948 -1.04602778 ..., -0.74370563 -0.89025092\n",
        "  -1.5055759 ]\n",
        " [-1.07211244 -0.96029711 -1.19168794 ..., -0.95839554 -1.13788414\n",
        "  -1.39815509]\n",
        " [-0.81013387 -0.67536968 -0.97715282 ..., -0.71752369 -0.87863714\n",
        "  -1.58197987]\n",
        " ..., \n",
        " [-1.56570232 -0.2311956  -1.86434567 ...,  0.32211065 -1.44742715\n",
        "  -1.8883146 ]\n",
        " [-0.73023951 -0.68170691 -0.98088264 ...,  0.39831179 -0.88588214\n",
        "  -1.98068917]\n",
        " [-0.90652061 -0.58967084 -1.20945072 ...,  0.42346555 -1.0186367\n",
        "  -2.03418946]]\n"
       ]
      }
     ],
     "prompt_number": 18
    },
    {
     "cell_type": "code",
     "collapsed": false,
     "input": [
      "# subject 4 analysis\n",
      "from deepthought3.experiments.nips2014.scripts.generate_plots import multi_level_accuracy_analysis;\n",
      "multi_level_accuracy_analysis(y_real, y_pred)"
     ],
     "language": "python",
     "metadata": {},
     "outputs": [
      {
       "output_type": "stream",
       "stream": "stdout",
       "text": [
        "18.06% rhythm level accuracy (24 classes, chance level 4.17%)\n",
        "22.92% rhythm pair level accuracy (12 classes, chance level 8.33%)\n",
        "42.36% rhythm group level accuracy (4 classes, chance level 25.00%)\n",
        "66.32% rhythm type level accuracy (2 classes, chance level 50.00%)\n"
       ]
      },
      {
       "metadata": {},
       "output_type": "pyout",
       "prompt_number": 6,
       "text": [
        "(18.055555555555557,\n",
        " 22.916666666666664,\n",
        " 42.361111111111114,\n",
        " 66.319444444444443)"
       ]
      }
     ],
     "prompt_number": 6
    },
    {
     "cell_type": "code",
     "collapsed": false,
     "input": [
      "from deepthought3.pylearn2ext.util import aggregate_classification\n",
      "t_real, t_pred, t_predf, t_predp = aggregate_classification(dataset.trial_partitions, y_real, y_pred, output);  \n",
      "multi_level_accuracy_analysis(t_real, t_pred);"
     ],
     "language": "python",
     "metadata": {},
     "outputs": [
      {
       "output_type": "stream",
       "stream": "stdout",
       "text": [
        "20.83% rhythm level accuracy (24 classes, chance level 4.17%)\n",
        "20.83% rhythm pair level accuracy (12 classes, chance level 8.33%)\n",
        "45.83% rhythm group level accuracy (4 classes, chance level 25.00%)\n",
        "66.67% rhythm type level accuracy (2 classes, chance level 50.00%)\n"
       ]
      }
     ],
     "prompt_number": 7
    },
    {
     "cell_type": "code",
     "collapsed": false,
     "input": [
      "multi_level_accuracy_analysis(t_real, t_predf);"
     ],
     "language": "python",
     "metadata": {},
     "outputs": [
      {
       "output_type": "stream",
       "stream": "stdout",
       "text": [
        "16.67% rhythm level accuracy (24 classes, chance level 4.17%)\n",
        "29.17% rhythm pair level accuracy (12 classes, chance level 8.33%)\n",
        "50.00% rhythm group level accuracy (4 classes, chance level 25.00%)\n",
        "66.67% rhythm type level accuracy (2 classes, chance level 50.00%)\n"
       ]
      }
     ],
     "prompt_number": 8
    }
   ],
   "metadata": {}
  }
 ]
}