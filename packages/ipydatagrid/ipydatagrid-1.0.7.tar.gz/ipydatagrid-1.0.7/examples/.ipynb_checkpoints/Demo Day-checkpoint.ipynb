{
 "cells": [
  {
   "cell_type": "markdown",
   "id": "potential-suspect",
   "metadata": {},
   "source": [
    "## `ipydatagrid`"
   ]
  },
  {
   "cell_type": "markdown",
   "id": "damaged-soldier",
   "metadata": {},
   "source": [
    "### Click and change event handlers"
   ]
  },
  {
   "cell_type": "code",
   "execution_count": null,
   "id": "protective-trigger",
   "metadata": {},
   "outputs": [],
   "source": [
    "import pandas as pd\n",
    "from ipydatagrid import DataGrid\n",
    "\n",
    "def on_click(evt):\n",
    "    print(str(evt))\n",
    "  \n",
    "def on_change(e):\n",
    "    print(str(e))\n",
    "        \n",
    "click_df = pd.DataFrame({'Click/Change': ['A', 'B', 'C', 'D']})\n",
    "grid = DataGrid(click_df,\n",
    "                layout={'height':'150px'}, \n",
    "                editable=True, \n",
    "                selection_mode=\"row\", \n",
    "                base_column_size=100,\n",
    "                base_row_size=30)\n",
    "\n",
    "grid.on_cell_click(on_click)\n",
    "grid.on_cell_change(on_change)\n",
    "grid"
   ]
  },
  {
   "cell_type": "markdown",
   "id": "generic-wonder",
   "metadata": {},
   "source": [
    "### Upstream Lumino changes"
   ]
  },
  {
   "cell_type": "markdown",
   "id": "mobile-penny",
   "metadata": {},
   "source": [
    "### Row/Column selection toggling"
   ]
  },
  {
   "cell_type": "code",
   "execution_count": null,
   "id": "positive-platform",
   "metadata": {},
   "outputs": [],
   "source": [
    "import pandas as pd\n",
    "from ipydatagrid import DataGrid\n",
    "\n",
    "        \n",
    "click_df = pd.DataFrame({'Col1': 'A B C D'.split(), \n",
    "                         'Col2': 'D E F G'.split(),\n",
    "                         'Col3': 'H I J K'.split()})\n",
    "grid = DataGrid(click_df,\n",
    "                layout={'height':'150px'}, \n",
    "                editable=True, \n",
    "                selection_mode=\"cell\", \n",
    "                base_column_size=100,\n",
    "                base_row_size=30)\n",
    "\n",
    "grid"
   ]
  },
  {
   "cell_type": "code",
   "execution_count": null,
   "id": "earlier-parameter",
   "metadata": {},
   "outputs": [],
   "source": [
    "grid.selections"
   ]
  },
  {
   "cell_type": "code",
   "execution_count": null,
   "id": "advised-investment",
   "metadata": {},
   "outputs": [],
   "source": [
    "import pandas as pd\n",
    "from ipydatagrid import DataGrid, TextRenderer\n",
    "\n",
    "        \n",
    "click_df = pd.DataFrame({\n",
    "    'ReallyLongColumnName': 'A B'.split(),\n",
    "    'Columns with many words baaahh': 'A B'.split()\n",
    "})\n",
    "grid = DataGrid(click_df,\n",
    "                layout={'height':'200px'}, \n",
    "                editable=True, \n",
    "                selection_mode=\"cell\", \n",
    "                base_column_size=200,\n",
    "                base_column_header_size=80)\n",
    "\n",
    "grid"
   ]
  },
  {
   "cell_type": "code",
   "execution_count": null,
   "id": "incomplete-richards",
   "metadata": {},
   "outputs": [],
   "source": [
    "grid.header_renderer = TextRenderer(\n",
    "    font='bold 16px monospace',\n",
    "    text_color='white',\n",
    "    background_color='gray',\n",
    "    text_wrap=False,\n",
    "    horizontal_alignment='center'\n",
    ")"
   ]
  }
 ],
 "metadata": {
  "kernelspec": {
   "display_name": "Python 3",
   "language": "python",
   "name": "python3"
  },
  "language_info": {
   "codemirror_mode": {
    "name": "ipython",
    "version": 3
   },
   "file_extension": ".py",
   "mimetype": "text/x-python",
   "name": "python",
   "nbconvert_exporter": "python",
   "pygments_lexer": "ipython3",
   "version": "3.9.2"
  }
 },
 "nbformat": 4,
 "nbformat_minor": 5
}
