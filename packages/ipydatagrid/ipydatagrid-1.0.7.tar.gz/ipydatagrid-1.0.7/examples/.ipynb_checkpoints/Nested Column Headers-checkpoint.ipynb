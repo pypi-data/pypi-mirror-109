{
 "cells": [
  {
   "cell_type": "code",
   "execution_count": 1,
   "id": "annual-profile",
   "metadata": {},
   "outputs": [
    {
     "data": {
      "text/html": [
       "<div>\n",
       "<style scoped>\n",
       "    .dataframe tbody tr th:only-of-type {\n",
       "        vertical-align: middle;\n",
       "    }\n",
       "\n",
       "    .dataframe tbody tr th {\n",
       "        vertical-align: top;\n",
       "    }\n",
       "\n",
       "    .dataframe thead tr th {\n",
       "        text-align: left;\n",
       "    }\n",
       "\n",
       "    .dataframe thead tr:last-of-type th {\n",
       "        text-align: right;\n",
       "    }\n",
       "</style>\n",
       "<table border=\"1\" class=\"dataframe\">\n",
       "  <thead>\n",
       "    <tr>\n",
       "      <th></th>\n",
       "      <th>subject</th>\n",
       "      <th colspan=\"2\" halign=\"left\">Bob</th>\n",
       "      <th colspan=\"2\" halign=\"left\">Guido</th>\n",
       "      <th colspan=\"2\" halign=\"left\">Sue</th>\n",
       "    </tr>\n",
       "    <tr>\n",
       "      <th></th>\n",
       "      <th>type</th>\n",
       "      <th>HR</th>\n",
       "      <th>Temp</th>\n",
       "      <th>HR</th>\n",
       "      <th>Temp</th>\n",
       "      <th>HR</th>\n",
       "      <th>Temp</th>\n",
       "    </tr>\n",
       "    <tr>\n",
       "      <th>year</th>\n",
       "      <th>visit</th>\n",
       "      <th></th>\n",
       "      <th></th>\n",
       "      <th></th>\n",
       "      <th></th>\n",
       "      <th></th>\n",
       "      <th></th>\n",
       "    </tr>\n",
       "  </thead>\n",
       "  <tbody>\n",
       "    <tr>\n",
       "      <th rowspan=\"2\" valign=\"top\">2013</th>\n",
       "      <th>1</th>\n",
       "      <td>32.0</td>\n",
       "      <td>36.3</td>\n",
       "      <td>38.0</td>\n",
       "      <td>36.7</td>\n",
       "      <td>48.0</td>\n",
       "      <td>37.6</td>\n",
       "    </tr>\n",
       "    <tr>\n",
       "      <th>2</th>\n",
       "      <td>46.0</td>\n",
       "      <td>35.8</td>\n",
       "      <td>50.0</td>\n",
       "      <td>36.9</td>\n",
       "      <td>29.0</td>\n",
       "      <td>38.2</td>\n",
       "    </tr>\n",
       "    <tr>\n",
       "      <th rowspan=\"2\" valign=\"top\">2014</th>\n",
       "      <th>1</th>\n",
       "      <td>43.0</td>\n",
       "      <td>37.2</td>\n",
       "      <td>42.0</td>\n",
       "      <td>37.6</td>\n",
       "      <td>33.0</td>\n",
       "      <td>37.1</td>\n",
       "    </tr>\n",
       "    <tr>\n",
       "      <th>2</th>\n",
       "      <td>37.0</td>\n",
       "      <td>35.7</td>\n",
       "      <td>44.0</td>\n",
       "      <td>37.6</td>\n",
       "      <td>25.0</td>\n",
       "      <td>37.9</td>\n",
       "    </tr>\n",
       "  </tbody>\n",
       "</table>\n",
       "</div>"
      ],
      "text/plain": [
       "subject      Bob       Guido         Sue      \n",
       "type          HR  Temp    HR  Temp    HR  Temp\n",
       "year visit                                    \n",
       "2013 1      32.0  36.3  38.0  36.7  48.0  37.6\n",
       "     2      46.0  35.8  50.0  36.9  29.0  38.2\n",
       "2014 1      43.0  37.2  42.0  37.6  33.0  37.1\n",
       "     2      37.0  35.7  44.0  37.6  25.0  37.9"
      ]
     },
     "execution_count": 1,
     "metadata": {},
     "output_type": "execute_result"
    }
   ],
   "source": [
    "import pandas as pd\n",
    "import numpy as np\n",
    "\n",
    "index = pd.MultiIndex.from_product([[2013, 2014], [1, 2]],\n",
    "                                   names=['year', 'visit'])\n",
    "columns = pd.MultiIndex.from_product([['Bob', 'Guido', 'Sue'], ['HR', 'Temp']],\n",
    "                                     names=['subject', 'type'])\n",
    "\n",
    "data = np.array([[32. , 36.3, 38. , 36.7, 48. , 37.6],\n",
    "                 [46. , 35.8, 50. , 36.9, 29. , 38.2],\n",
    "                 [43. , 37.2, 42. , 37.6, 33. , 37.1],\n",
    "                 [37. , 35.7, 44. , 37.6, 25. , 37.9]])\n",
    "\n",
    "# create the DataFrame\n",
    "df = pd.DataFrame(data, index=index, columns=columns)\n",
    "df"
   ]
  },
  {
   "cell_type": "code",
   "execution_count": 2,
   "id": "specified-monday",
   "metadata": {},
   "outputs": [],
   "source": [
    "from ipydatagrid import DataGrid"
   ]
  },
  {
   "cell_type": "code",
   "execution_count": 3,
   "id": "dedicated-mileage",
   "metadata": {},
   "outputs": [
    {
     "data": {
      "application/vnd.jupyter.widget-view+json": {
       "model_id": "16c2bf079eb34d1bbbd45ba7cdb0cc3f",
       "version_major": 2,
       "version_minor": 0
      },
      "text/plain": [
       "DataGrid(default_renderer=TextRenderer(), header_renderer=None, layout=Layout(height='140px'))"
      ]
     },
     "metadata": {},
     "output_type": "display_data"
    }
   ],
   "source": [
    "grid = DataGrid(df, layout={'height':'140px'}, selection_mode=\"cell\")\n",
    "grid"
   ]
  },
  {
   "cell_type": "code",
   "execution_count": 15,
   "id": "damaged-steam",
   "metadata": {},
   "outputs": [
    {
     "data": {
      "application/vnd.jupyter.widget-view+json": {
       "model_id": "431849936eba41ba8caa1b3f84c2bc1f",
       "version_major": 2,
       "version_minor": 0
      },
      "text/plain": [
       "DataGrid(base_column_size=90, default_renderer=TextRenderer(background_color=Expr(value='(((cell.value > -0) &…"
      ]
     },
     "metadata": {},
     "output_type": "display_data"
    }
   ],
   "source": [
    "import ipydatagrid as ipg\n",
    "from ipydatagrid import Expr\n",
    "import pandas as pd\n",
    "import numpy as np\n",
    "\n",
    "top_level = [\n",
    "    \"Value Factors\",\n",
    "    \"Value Factors\",\n",
    "    \"Momentum Factors\",\n",
    "    \"Momentum Factors\",\n",
    "]\n",
    "bottom_level = [\"Factor A\", \"Factor B\", \"Factor C\", \"Factor D\"]\n",
    "\n",
    "nested_df = pd.DataFrame(\n",
    "    np.random.randn(4, 4).round(2),\n",
    "    columns=pd.MultiIndex.from_arrays([top_level, bottom_level]),\n",
    "    index=pd.MultiIndex.from_product([['Sector 1', 'Sector 2'], ['X', 'Y']],\n",
    "                                   names=['Sector', 'Stock']),\n",
    ")\n",
    "\n",
    "\n",
    "# Formatting Factor B rows based on their siblings in the Factor C column\n",
    "def format_based_on_other_column(cell):\n",
    "    return (\n",
    "        \"green\"\n",
    "        if cell.value > -0\n",
    "        and cell.metadata.data[\"('Value Factors', 'Factor B')\"] > 0.0\n",
    "        else \"yellow\"\n",
    "    )\n",
    "\n",
    "\n",
    "nested_grid = ipg.DataGrid(\n",
    "    nested_df,\n",
    "    base_column_size=90,\n",
    "    layout={\"height\": \"140px\"},\n",
    "    default_renderer=ipg.TextRenderer(\n",
    "        horizontal_alignment=\"right\",\n",
    "        background_color=Expr(format_based_on_other_column),\n",
    "    ),\n",
    ")\n",
    "\n",
    "nested_grid"
   ]
  }
 ],
 "metadata": {
  "kernelspec": {
   "display_name": "Python 3",
   "language": "python",
   "name": "python3"
  },
  "language_info": {
   "codemirror_mode": {
    "name": "ipython",
    "version": 3
   },
   "file_extension": ".py",
   "mimetype": "text/x-python",
   "name": "python",
   "nbconvert_exporter": "python",
   "pygments_lexer": "ipython3",
   "version": "3.9.2"
  }
 },
 "nbformat": 4,
 "nbformat_minor": 5
}
