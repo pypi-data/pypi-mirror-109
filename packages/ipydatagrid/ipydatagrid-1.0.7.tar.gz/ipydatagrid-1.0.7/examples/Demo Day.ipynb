{
 "cells": [
  {
   "cell_type": "markdown",
   "id": "precise-search",
   "metadata": {},
   "source": [
    "## `ipydatagrid`"
   ]
  },
  {
   "cell_type": "markdown",
   "id": "damaged-soldier",
   "metadata": {},
   "source": [
    "### Click and change event handlers"
   ]
  },
  {
   "cell_type": "code",
   "execution_count": 1,
   "id": "protective-trigger",
   "metadata": {},
   "outputs": [
    {
     "data": {
      "application/vnd.jupyter.widget-view+json": {
       "model_id": "d048eda160af4c0cb9c94da84b3a7660",
       "version_major": 2,
       "version_minor": 0
      },
      "text/plain": [
       "DataGrid(base_column_size=100, base_row_size=30, default_renderer=TextRenderer(), editable=True, header_render…"
      ]
     },
     "metadata": {},
     "output_type": "display_data"
    },
    {
     "name": "stdout",
     "output_type": "stream",
     "text": [
      "{'region': 'body', 'column': 'Click/Change', 'column_index': 0, 'row': 0, 'primary_key_row': 0, 'cell_value': 'A'}\n",
      "{'region': 'body', 'column': 'Click/Change', 'column_index': 0, 'row': 1, 'primary_key_row': 1, 'cell_value': 'B'}\n",
      "{'region': 'body', 'column': 'Click/Change', 'column_index': 0, 'row': 3, 'primary_key_row': 3, 'cell_value': 'D'}\n"
     ]
    }
   ],
   "source": [
    "import pandas as pd\n",
    "from ipydatagrid import DataGrid\n",
    "\n",
    "def on_click(evt):\n",
    "    print(str(evt))\n",
    "  \n",
    "def on_change(e):\n",
    "    print(str(e))\n",
    "        \n",
    "click_df = pd.DataFrame({'Click/Change': ['A', 'B', 'C', 'D']})\n",
    "grid = DataGrid(click_df,\n",
    "                layout={'height':'150px'}, \n",
    "                editable=True, \n",
    "                selection_mode=\"row\", \n",
    "                base_column_size=100,\n",
    "                base_row_size=30)\n",
    "\n",
    "grid.on_cell_click(on_click)\n",
    "grid.on_cell_change(on_change)\n",
    "grid"
   ]
  },
  {
   "cell_type": "markdown",
   "id": "located-dispatch",
   "metadata": {},
   "source": [
    "### Upstream Lumino changes"
   ]
  },
  {
   "cell_type": "markdown",
   "id": "mobile-penny",
   "metadata": {},
   "source": [
    "### Row/Column selection toggling"
   ]
  },
  {
   "cell_type": "code",
   "execution_count": 2,
   "id": "positive-platform",
   "metadata": {},
   "outputs": [
    {
     "data": {
      "application/vnd.jupyter.widget-view+json": {
       "model_id": "b28f562fab424516a707d481e5ec0303",
       "version_major": 2,
       "version_minor": 0
      },
      "text/plain": [
       "DataGrid(base_column_size=100, base_row_size=30, default_renderer=TextRenderer(), editable=True, header_render…"
      ]
     },
     "metadata": {},
     "output_type": "display_data"
    }
   ],
   "source": [
    "import pandas as pd\n",
    "from ipydatagrid import DataGrid\n",
    "\n",
    "        \n",
    "click_df = pd.DataFrame({'Col1': 'A B C D'.split(), \n",
    "                         'Col2': 'D E F G'.split(),\n",
    "                         'Col3': 'H I J K'.split()})\n",
    "grid = DataGrid(click_df,\n",
    "                layout={'height':'150px'}, \n",
    "                editable=True, \n",
    "                selection_mode=\"cell\", \n",
    "                base_column_size=100,\n",
    "                base_row_size=30)\n",
    "\n",
    "grid"
   ]
  },
  {
   "cell_type": "code",
   "execution_count": 3,
   "id": "earlier-parameter",
   "metadata": {},
   "outputs": [
    {
     "data": {
      "text/plain": [
       "[{'r1': 0, 'r2': 0, 'c1': 0, 'c2': 2},\n",
       " {'r1': 3, 'r2': 3, 'c1': 0, 'c2': 2},\n",
       " {'r1': 1, 'r2': 1, 'c1': 0, 'c2': 2}]"
      ]
     },
     "execution_count": 3,
     "metadata": {},
     "output_type": "execute_result"
    }
   ],
   "source": [
    "grid.selections"
   ]
  },
  {
   "cell_type": "markdown",
   "id": "standing-endorsement",
   "metadata": {},
   "source": [
    "### Text wrapping/eliding"
   ]
  },
  {
   "cell_type": "code",
   "execution_count": 3,
   "id": "advised-investment",
   "metadata": {},
   "outputs": [
    {
     "data": {
      "application/vnd.jupyter.widget-view+json": {
       "model_id": "cda3d53d6b3749f5bbf7ffb316090ae9",
       "version_major": 2,
       "version_minor": 0
      },
      "text/plain": [
       "DataGrid(base_column_header_size=80, base_column_size=200, default_renderer=TextRenderer(), editable=True, hea…"
      ]
     },
     "metadata": {},
     "output_type": "display_data"
    }
   ],
   "source": [
    "import pandas as pd\n",
    "from ipydatagrid import DataGrid, TextRenderer\n",
    "\n",
    "        \n",
    "click_df = pd.DataFrame({\n",
    "    'ReallyLongColumnName': 'A B'.split(),\n",
    "    'Columns with many words baaahh': 'A B'.split()\n",
    "})\n",
    "grid = DataGrid(click_df,\n",
    "                layout={'height':'200px'}, \n",
    "                editable=True, \n",
    "                selection_mode=\"cell\", \n",
    "                base_column_size=200,\n",
    "                base_column_header_size=80)\n",
    "\n",
    "grid"
   ]
  },
  {
   "cell_type": "code",
   "execution_count": 5,
   "id": "incomplete-richards",
   "metadata": {},
   "outputs": [],
   "source": [
    "grid.header_renderer = TextRenderer(\n",
    "    font='bold 16px monospace',\n",
    "    text_color='white',\n",
    "    background_color='gray',\n",
    "    text_wrap=False,\n",
    "    horizontal_alignment='center'\n",
    ")"
   ]
  }
 ],
 "metadata": {
  "kernelspec": {
   "display_name": "Python 3",
   "language": "python",
   "name": "python3"
  },
  "language_info": {
   "codemirror_mode": {
    "name": "ipython",
    "version": 3
   },
   "file_extension": ".py",
   "mimetype": "text/x-python",
   "name": "python",
   "nbconvert_exporter": "python",
   "pygments_lexer": "ipython3",
   "version": "3.9.2"
  }
 },
 "nbformat": 4,
 "nbformat_minor": 5
}
