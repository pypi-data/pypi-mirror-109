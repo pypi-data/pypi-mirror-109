{
 "cells": [
  {
   "cell_type": "markdown",
   "metadata": {},
   "source": [
    "# Header Rendering\n",
    "\n",
    "ipydatagrid allows you to easily create custom renderers, here we use a `TextRenderer` widget for customizing our column headers display."
   ]
  },
  {
   "cell_type": "code",
   "execution_count": 1,
   "metadata": {},
   "outputs": [
    {
     "data": {
      "application/vnd.jupyter.widget-view+json": {
       "model_id": "af725c95cfa74e58aa5823c7b7c663f2",
       "version_major": 2,
       "version_minor": 0
      },
      "text/plain": [
       "DataGrid(base_column_size=150, base_row_size=30, default_renderer=TextRenderer(), header_renderer=TextRenderer…"
      ]
     },
     "metadata": {},
     "output_type": "display_data"
    }
   ],
   "source": [
    "import pandas as pd\n",
    "import numpy as np\n",
    "\n",
    "from ipydatagrid import DataGrid, TextRenderer, VegaExpr, Expr\n",
    "\n",
    "n = 5\n",
    "\n",
    "df = pd.DataFrame({\n",
    "    'Value 1': np.random.randn(n),\n",
    "    'Value 2': np.random.randn(n),\n",
    "    'Value 3': np.random.choice([True, False], n),\n",
    "    'Value 4': np.random.choice([True, False], n),\n",
    "})\n",
    "\n",
    "grid = DataGrid(df, base_row_size=30, base_column_size=150, layout={'height':'200px'}, \n",
    "                header_renderer=TextRenderer(\n",
    "                    background_color= \"rgb(238,238,238)\",\n",
    "                    horizontal_alignment='center')\n",
    "               )\n",
    "grid"
   ]
  },
  {
   "cell_type": "code",
   "execution_count": 4,
   "metadata": {},
   "outputs": [],
   "source": [
    "grid.header_renderer = TextRenderer(\n",
    "    font='italic 12px fontawesome',\n",
    "    text_color='black',\n",
    "    background_color= Expr('\"yellow\" if cell.value in [\"Value 3\", \"Value 4\"] else \"limegreen\"'),\n",
    "    horizontal_alignment='center'\n",
    ")"
   ]
  },
  {
   "cell_type": "code",
   "execution_count": 3,
   "metadata": {},
   "outputs": [],
   "source": [
    "renderers = {\n",
    "    'index': TextRenderer(\n",
    "    text_color='black',\n",
    "    background_color='darkmagenta'\n",
    "    )}\n",
    "    \n",
    "grid.renderers = renderers"
   ]
  }
 ],
 "metadata": {
  "kernelspec": {
   "display_name": "Python 3",
   "language": "python",
   "name": "python3"
  },
  "language_info": {
   "codemirror_mode": {
    "name": "ipython",
    "version": 3
   },
   "file_extension": ".py",
   "mimetype": "text/x-python",
   "name": "python",
   "nbconvert_exporter": "python",
   "pygments_lexer": "ipython3",
   "version": "3.9.2"
  }
 },
 "nbformat": 4,
 "nbformat_minor": 4
}
