{
 "cells": [
  {
   "cell_type": "markdown",
   "metadata": {},
   "source": [
    "# Introduction"
   ]
  },
  {
   "cell_type": "code",
   "execution_count": null,
   "metadata": {},
   "outputs": [],
   "source": [
    "from pymotif import Motif\n",
    "import networkx as nx\n",
    "\n",
    "# NETWORKX GRAPH\n",
    "gml1 = 'karate.gml'\n",
    "g1 = nx.read_gml(gml1)\n",
    "\n",
    "gml2 = 'adjnoun.gml'\n",
    "g2 = nx.read_gml(gml2)"
   ]
  },
  {
   "cell_type": "code",
   "execution_count": null,
   "metadata": {},
   "outputs": [],
   "source": [
    "motif = Motif(nx_graph=g1, title='FOO')\n",
    "\n",
    "# style = { 'layout': { 'type': 'grid' } }\n",
    "# motif = Motif(nx_graph=g1, style=style)\n",
    "\n",
    "motif.plot()\n",
    "\n",
    "# motif.state"
   ]
  },
  {
   "cell_type": "code",
   "execution_count": null,
   "metadata": {},
   "outputs": [],
   "source": [
    "motif_json = Motif(json_path='group.json', group_edges=False)\n",
    "motif_json"
   ]
  },
  {
   "cell_type": "code",
   "execution_count": null,
   "metadata": {},
   "outputs": [],
   "source": [
    "# motif_csv = Motif(csv_path='test.csv')\n",
    "motif_csv = Motif(csv_path='test.csv', group_edges=False)\n",
    "# motif_csv = Motif(csv_path='demo.csv', group_edges=True)\n",
    "motif_csv"
   ]
  },
  {
   "cell_type": "code",
   "execution_count": null,
   "metadata": {},
   "outputs": [],
   "source": [
    "# motif_json.add_graph(csv_path='test.csv')\n",
    "motif_json.state"
   ]
  },
  {
   "cell_type": "code",
   "execution_count": null,
   "metadata": {},
   "outputs": [],
   "source": [
    "style = { 'layout': { 'type': 'radial' } }\n",
    "# motif.set_style(style, True)\n",
    "motif.set_style(style)\n",
    "\n",
    "motif"
   ]
  },
  {
   "cell_type": "code",
   "execution_count": null,
   "metadata": {},
   "outputs": [],
   "source": [
    "# motif.add_graph(nx_graph=g1)\n",
    "# motif.add_nx_graph(g2)\n",
    "\n",
    "style = { 'layout': { 'type': 'radial' } }\n",
    "# motif.add_graph(nx_graph=g1, title='BAR', style=style)\n",
    "motif.add_graph(csv_path='edgelist.csv', title='BAR')\n",
    "# motif.add_graph(json_path='test.json', title='BAR')\n",
    "\n",
    "motif.plot()"
   ]
  },
  {
   "cell_type": "code",
   "execution_count": null,
   "metadata": {},
   "outputs": [],
   "source": [
    "motif"
   ]
  }
 ],
 "metadata": {
  "kernelspec": {
   "display_name": "Python 3",
   "language": "python",
   "name": "python3"
  },
  "language_info": {
   "codemirror_mode": {
    "name": "ipython",
    "version": 3
   },
   "file_extension": ".py",
   "mimetype": "text/x-python",
   "name": "python",
   "nbconvert_exporter": "python",
   "pygments_lexer": "ipython3",
   "version": "3.8.5"
  }
 },
 "nbformat": 4,
 "nbformat_minor": 4
}
