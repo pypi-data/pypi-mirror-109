{
 "cells": [
  {
   "cell_type": "markdown",
   "metadata": {},
   "source": [
    "# Introduction"
   ]
  },
  {
   "cell_type": "markdown",
   "metadata": {},
   "source": [
    "A brief introduction to Pymotif's functionality. Start by importing it:"
   ]
  },
  {
   "cell_type": "code",
   "execution_count": null,
   "metadata": {},
   "outputs": [],
   "source": [
    "from pymotif import Motif"
   ]
  },
  {
   "cell_type": "markdown",
   "metadata": {},
   "source": [
    "## 1. Data Import\n",
    "\n",
    "Pymotif offers a variety of data import options:"
   ]
  },
  {
   "cell_type": "markdown",
   "metadata": {},
   "source": [
    "#### JSON Data\n",
    "\n",
    "If you download your graph data from the Motif UI (floppy disk button right above 'Data Sources'), it will be saved as a JSON file. This makes it easy to share your graph with someone else - you just have to send the file to them and they can import it like this:"
   ]
  },
  {
   "cell_type": "code",
   "execution_count": null,
   "metadata": {},
   "outputs": [],
   "source": [
    "# path to local dataset\n",
    "json_path = 'data/sample.json'\n",
    "\n",
    "motif_json = Motif(json_path=json_path)\n",
    "motif_json.plot()"
   ]
  },
  {
   "cell_type": "markdown",
   "metadata": {},
   "source": [
    "Note the message that appears: `Reading JSON file, all other params will be ignored...`, which means the `json_path` parameter overwrites any other parameter passed to the `Motif()` object."
   ]
  },
  {
   "cell_type": "markdown",
   "metadata": {},
   "source": [
    "#### NetworkX Graphs\n",
    "\n",
    "If you have NetworkX or NetworkX-compatible graph data, it can be imported into Motif. In this example, we convert a `.gml` file into a NetworkX graph, then plot it in Motif:"
   ]
  },
  {
   "cell_type": "code",
   "execution_count": null,
   "metadata": {},
   "outputs": [],
   "source": [
    "import networkx as nx\n",
    "\n",
    "# path to local dataset\n",
    "gml = 'data/karate.gml'\n",
    "\n",
    "# read using networkx\n",
    "nx_graph = nx.read_gml(gml)"
   ]
  },
  {
   "cell_type": "code",
   "execution_count": null,
   "metadata": {},
   "outputs": [],
   "source": [
    "motif_nx = Motif(nx_graph=nx_graph, title='NetworkX')\n",
    "motif_nx.plot()"
   ]
  },
  {
   "cell_type": "markdown",
   "metadata": {},
   "source": [
    "#### Neo4j Data\n",
    "\n",
    "If you have data stored in a Neo4j database, it can also be plotted in Motif (change the placeholders to your own connection data):"
   ]
  },
  {
   "cell_type": "code",
   "execution_count": null,
   "metadata": {},
   "outputs": [],
   "source": [
    "import neo4j\n",
    "\n",
    "neo4j_uri = 'bolt://<IP ADDRESS>:7687'\n",
    "neo4j_auth = ('<USERNAME>', '<PASSWORD>')\n",
    "neo4j_driver = neo4j.GraphDatabase.driver(uri=neo4j_uri, auth=neo4j_auth)\n",
    "neo4j_query = '<CYPHER QUERY>'\n",
    "\n",
    "# get query results and create a Motif object from it\n",
    "neo4j_results = neo4j_driver.session().run(neo4j_query)\n",
    "motif_neo4j = Motif(neo4j_graph=neo4j_results.graph(), title='Neo4j')\n",
    "\n",
    "# motif_neo4j.plot()"
   ]
  },
  {
   "cell_type": "markdown",
   "metadata": {},
   "source": [
    "See `neo4j_demo.ipynb` for more examples."
   ]
  },
  {
   "cell_type": "markdown",
   "metadata": {},
   "source": [
    "#### CSV Edgelists\n",
    "\n",
    "Plot graphs stored in CSV edgelists:"
   ]
  },
  {
   "cell_type": "code",
   "execution_count": null,
   "metadata": {},
   "outputs": [],
   "source": [
    "# path to local dataset\n",
    "csv_path = 'data/edgelist.csv'\n",
    "\n",
    "motif_csv = Motif(csv_path=csv_path, title='CSV')\n",
    "motif_csv.plot()"
   ]
  },
  {
   "cell_type": "markdown",
   "metadata": {},
   "source": [
    "---\n",
    "\n",
    "## 2. Save Data And Style\n",
    "\n",
    "You might have noticed a button at the bottom of each Motif widget. It will be useful when interacting with the graph via the UI. We'll import a graph, make a small change via the UI, then save it:"
   ]
  },
  {
   "cell_type": "code",
   "execution_count": null,
   "metadata": {},
   "outputs": [],
   "source": [
    "motif_saved_style = Motif(json_path=json_path)\n",
    "motif_saved_style"
   ]
  },
  {
   "cell_type": "markdown",
   "metadata": {},
   "source": [
    "In the graph above, change the layout with these steps:\n",
    "- Click on the 'Styles' icon on the left panel\n",
    "- Under `Layout`, change the selection from `Concentric` to `Radial`\n",
    "\n",
    "The nodes and edges should now be arranged differently.\n",
    "\n",
    "Save the current style by clicking on the `SAVE DATA AND STYLE` button, then plot the graph again in the following cell:"
   ]
  },
  {
   "cell_type": "code",
   "execution_count": null,
   "metadata": {},
   "outputs": [],
   "source": [
    "motif_saved_style"
   ]
  },
  {
   "cell_type": "markdown",
   "metadata": {},
   "source": [
    "Note how the style persists and the graph is still in a radial layout!"
   ]
  },
  {
   "cell_type": "markdown",
   "metadata": {},
   "source": [
    "---\n",
    "\n",
    "## 3. Set Style With Code\n",
    "\n",
    "We can also set styles via code. Let's change the graph above back to a `Concentric` layout:"
   ]
  },
  {
   "cell_type": "code",
   "execution_count": null,
   "metadata": {},
   "outputs": [],
   "source": [
    "style = {'layout': {'type': 'concentric'}}\n",
    "motif_saved_style.set_style(style)\n",
    "\n",
    "motif_saved_style"
   ]
  },
  {
   "cell_type": "markdown",
   "metadata": {},
   "source": [
    "You can also apply the current styling of one graph to another. An example:"
   ]
  },
  {
   "cell_type": "code",
   "execution_count": null,
   "metadata": {},
   "outputs": [],
   "source": [
    "nice_graph = Motif()\n",
    "\n",
    "# do styling here via UI / code\n",
    "# ...\n",
    "\n",
    "# extract the styles from graph\n",
    "nice_style = nice_graph.state['style']\n",
    "\n",
    "# apply style to another graph\n",
    "# ugly_graph = Motif(...)\n",
    "ugly_graph.set_style(nice_style)"
   ]
  },
  {
   "cell_type": "markdown",
   "metadata": {},
   "source": [
    "---\n",
    "\n",
    "## 4. Add Graphs\n",
    "\n",
    "You can add new graphs to existing Motif objects. We'll create a graph with the same JSON data as above, then add the CSV data into it:"
   ]
  },
  {
   "cell_type": "code",
   "execution_count": null,
   "metadata": {},
   "outputs": [],
   "source": [
    "# create initial graph with just json data\n",
    "motif_json_and_csv = Motif(json_path=json_path)\n",
    "\n",
    "# add csv data to it\n",
    "motif_json_and_csv.add_graph(csv_path=csv_path)\n",
    "\n",
    "motif_json_and_csv"
   ]
  },
  {
   "cell_type": "markdown",
   "metadata": {},
   "source": [
    "Hopefully the graphs you combine turn out more meaningful than this!"
   ]
  },
  {
   "cell_type": "markdown",
   "metadata": {},
   "source": [
    "---\n",
    "\n",
    "## 5. Plotting\n",
    "\n",
    "You've already done a lot of this - just know that for now, a graph can be plotted with or without using the `.plot()` method:"
   ]
  },
  {
   "cell_type": "code",
   "execution_count": null,
   "metadata": {},
   "outputs": [],
   "source": [
    "m = Motif()\n",
    "\n",
    "# this\n",
    "m\n",
    "\n",
    "# is the same as this\n",
    "m.plot()"
   ]
  },
  {
   "cell_type": "markdown",
   "metadata": {},
   "source": [
    "---\n",
    "\n",
    "## 6. State\n",
    "\n",
    "To find out the underlying state of a Motif object at a point in time, access the `.state` instance attribute. It will show its graph data (i.e. the nodes and edges) and style:"
   ]
  },
  {
   "cell_type": "code",
   "execution_count": null,
   "metadata": {},
   "outputs": [],
   "source": [
    "# should be empty since nothing was defined above\n",
    "m.state"
   ]
  }
 ],
 "metadata": {
  "kernelspec": {
   "display_name": "Python 3",
   "language": "python",
   "name": "python3"
  },
  "language_info": {
   "codemirror_mode": {
    "name": "ipython",
    "version": 3
   },
   "file_extension": ".py",
   "mimetype": "text/x-python",
   "name": "python",
   "nbconvert_exporter": "python",
   "pygments_lexer": "ipython3",
   "version": "3.9.4"
  },
  "widgets": {
   "application/vnd.jupyter.widget-state+json": {
    "state": {},
    "version_major": 2,
    "version_minor": 0
   }
  }
 },
 "nbformat": 4,
 "nbformat_minor": 4
}
