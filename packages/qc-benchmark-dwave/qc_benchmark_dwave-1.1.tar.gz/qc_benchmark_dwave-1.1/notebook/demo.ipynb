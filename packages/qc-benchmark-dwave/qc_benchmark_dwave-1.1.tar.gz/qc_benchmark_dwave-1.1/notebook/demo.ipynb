{
 "cells": [
  {
   "cell_type": "code",
   "execution_count": 1,
   "metadata": {
    "ExecuteTime": {
     "end_time": "2021-06-09T01:23:40.858755Z",
     "start_time": "2021-06-09T01:23:40.851174Z"
    }
   },
   "outputs": [
    {
     "data": {
      "text/plain": [
       "'\\ndwave testing client GET/POST to agent via RESTFUL API, loaded json testing config file\\n'"
      ]
     },
     "execution_count": 1,
     "metadata": {},
     "output_type": "execute_result"
    }
   ],
   "source": [
    "# -*- coding: utf-8 -*-\n",
    "'''\n",
    "dwave testing client GET/POST to agent via RESTFUL API, loaded json testing config file\n",
    "'''"
   ]
  },
  {
   "cell_type": "code",
   "execution_count": 2,
   "metadata": {
    "ExecuteTime": {
     "end_time": "2021-06-09T01:23:55.893943Z",
     "start_time": "2021-06-09T01:23:55.815608Z"
    }
   },
   "outputs": [],
   "source": [
    "import requests\n",
    "import json\n",
    "import time\n",
    "import random"
   ]
  },
  {
   "cell_type": "code",
   "execution_count": 3,
   "metadata": {
    "ExecuteTime": {
     "end_time": "2021-06-09T01:24:12.522506Z",
     "start_time": "2021-06-09T01:24:12.517178Z"
    }
   },
   "outputs": [],
   "source": [
    "def login_agent_server(body):\n",
    "    time1 = time.time()\n",
    "    ret = requests.post(\"http://8.140.123.60:1981/login\", json.dumps(body))\n",
    "    print('login time:')\n",
    "    time2 = time.time()\n",
    "    print(\"ELAPSED: \", time2 - time1)\n",
    "    print(\"RESULT:\", ret.json())\n",
    "\n",
    "def query_runtime(body):\n",
    "    time1 = time.time()\n",
    "    ret = requests.post(\"http://8.140.123.60:1981/query_runtime/\" + str(body['tester']), json.dumps(body))\n",
    "    print('serving time of query_runtime:')\n",
    "    time2 = time.time()\n",
    "    print(\"ELAPSED: \", time2 - time1)\n",
    "    print(\"RESULT:\", ret.json())\n",
    "\n",
    "def query_solver(body):\n",
    "    time1 = time.time()\n",
    "    ret = requests.post(\"http://8.140.123.60:1981/query_solver/\" + str(body['tester']), json.dumps(body))\n",
    "    print('serving time of query_solver:')\n",
    "    time2 = time.time()\n",
    "    print(\"ELAPSED: \", time2 - time1)\n",
    "    #print(\"RESULT:\", ret.json())"
   ]
  },
  {
   "cell_type": "code",
   "execution_count": 5,
   "metadata": {
    "ExecuteTime": {
     "end_time": "2021-06-09T01:50:53.664061Z",
     "start_time": "2021-06-09T01:50:53.659361Z"
    }
   },
   "outputs": [
    {
     "name": "stdout",
     "output_type": "stream",
     "text": [
      "{'tester': 'lvbo-caict', 'ip': '8.140.123.60', 'port': '1981', 'provider': 'dwave-leap', 'operation_time': '2021/06/09 09:50:53', 'token': '*********your token*****************', 'if_mq': 'True', 'query_type': 'qpu_2000q', 'operation_item': 'query_runtime', 'category_item': 'operation_maintenance', 'testing_epoch': '10'}\n",
      "successfully save config file!!!!!!!\n"
     ]
    }
   ],
   "source": [
    "'''\n",
    "qc testing config parameters as json format\n",
    "@ tester: name of tester\n",
    "@ ip: ip address of agent server\n",
    "@ port: port number of agent server\n",
    "@ provider: provider of remote qc cloud platform via Internet\n",
    "@ operation_time: time of testing operation. e.g. 2021-06-09 09:40:30\n",
    "@ token: token to login qc cloud platform\n",
    "@ if_mq: if or not writing the recording results to MQ. e.g. datahub of aliyun\n",
    "@ query_type: type of qpu or simulator with qc provider. e.g. qpu_2000q is 2000qubit Quantum Annealing QPU provided by Dwave\n",
    "@ operation_item: type of testing operation. e.g. query runtime means checking the runtime of excuting qc task\n",
    "@ category_item: selected category of benchmarking framework designed by CAICT\n",
    "@ testing_epoch: epoch for testing or attempts\n",
    "'''\n",
    "\n",
    "config_body = {\n",
    "    'tester': 'lvbo-caict',\n",
    "    'ip': '8.140.123.60',\n",
    "    'port': '1981',\n",
    "    'provider': 'dwave-leap',\n",
    "    'operation_time': time.strftime('%Y/%m/%d %H:%M:%S'),\n",
    "    'token': '*********your token*****************',\n",
    "    'if_mq': 'True',\n",
    "    'query_type': 'qpu_2000q',\n",
    "    'operation_item': 'query_runtime',\n",
    "    'category_item': 'operation_maintenance',\n",
    "    'testing_epoch': '10',\n",
    "}\n",
    "print(config_body)\n",
    "with open(\"testing_config.json\", \"w\") as f:\n",
    "    json.dump(config_body, f)\n",
    "    print(\"successfully save config file!!!!!!!\")"
   ]
  },
  {
   "cell_type": "code",
   "execution_count": 25,
   "metadata": {
    "ExecuteTime": {
     "end_time": "2021-06-09T03:04:10.930845Z",
     "start_time": "2021-06-09T03:04:10.916540Z"
    }
   },
   "outputs": [],
   "source": [
    "class Testing_Client_Dwave_Leap:\n",
    "    def __init__(self):\n",
    "        '''\n",
    "        qc testing config parameters as json format\n",
    "        @ tester: name of tester\n",
    "        @ ip: ip address of agent server\n",
    "        @ port: port number of agent server\n",
    "        @ provider: provider of remote qc cloud platform via Internet\n",
    "        @ operation_time: time of testing operation. e.g. 2021-06-09 09:40:30\n",
    "        @ token: token to login qc cloud platform\n",
    "        @ if_mq: if or not writing the recording results to MQ. e.g. datahub of aliyun\n",
    "        @ query_type: type of qpu or simulator with qc provider. e.g. qpu_2000q is 2000qubit Quantum Annealing QPU provided by Dwave\n",
    "        @ operation_item: type of testing operation. e.g. query runtime means checking the runtime of excuting qc task\n",
    "        @ category_item: selected category of benchmarking framework designed by CAICT\n",
    "        @ testing_epoch: epoch for testing or attempts\n",
    "        '''\n",
    "        self.config_params = {\n",
    "            'tester': 'xx-caict',\n",
    "            'ip': '8.140.123.60',\n",
    "            'provider': 'dwave-leap',\n",
    "            'operation_time': time.strftime('%Y/%m/%d %H:%M:%S'),\n",
    "            'token': '*********your token*****************',\n",
    "            'if_mq': 'True',\n",
    "            'query_type': 'qpu_2000q',\n",
    "            'operation_item': 'query_runtime',\n",
    "            'category_item': 'operation_maintenance',\n",
    "            'testing_epoch': '10',\n",
    "        }\n",
    "        print('successfully create instance of dwave leap testing client!!!!')\n",
    "    \n",
    "    def testing_params_config(self, config_params):\n",
    "        keys = config_params.keys()\n",
    "        for key in keys:\n",
    "            self.config_params[key] = config_params[key]\n",
    "        print('successfully config testing params of testing client!!!!!!')\n",
    "        print(self.config_params)\n",
    "        return self.config_params\n",
    "      \n",
    "    def save_config_file(self, config_params):\n",
    "        self.config_params = config_params\n",
    "        with open(\"testing_config.json\", \"w\") as f:\n",
    "            json.dump(self.config_params, f)\n",
    "            print(\"successfully save config file!!!!!!!\")\n",
    "\n",
    "    def load_config_file(self, filename):\n",
    "        with open(filename) as f:\n",
    "            self.config_params = json.load(f)\n",
    "            print('successfully load config file!!!!!')\n",
    "            print(self.config_params)\n",
    "        return self.config_params\n",
    "\n",
    "    def login_agent_server(self):\n",
    "        body = self.config_params\n",
    "        url = 'http://' + body['ip'] + ':' + body['port'] + '/login'\n",
    "        time1 = time.time()\n",
    "        # ret = requests.post(\"http://8.140.123.60:1981/login\", json.dumps(body))\n",
    "        ret = requests.post(url, json.dumps(body))\n",
    "        print('login time:')\n",
    "        time2 = time.time()\n",
    "        print(\"ELAPSED: \", time2 - time1)\n",
    "        print(\"RESULT:\", ret.json())\n",
    "        return ret.json()\n",
    "\n",
    "    def query_runtime(self):\n",
    "        body = self.config_params\n",
    "        url = 'http://' + body['ip'] + ':' + body['port'] + '/query_runtime/' + str(body['tester'])\n",
    "        epoch = int(body['testing_epoch'])\n",
    "        if body['operation_item'] == 'query_runtime':\n",
    "            for num in range(epoch):\n",
    "                time1 = time.time()\n",
    "                ret = requests.post(url, json.dumps(body))\n",
    "                print('serving time of query_runtime:')\n",
    "                time2 = time.time()\n",
    "                print(\"ELAPSED: \", time2 - time1)\n",
    "                print(\"RESULT:\", ret.json())\n",
    "        else:\n",
    "            return {'query_status': False, 'debug_info': 'wrong testing param for query runtime:' + body['operation_item']}\n",
    "        return ret.json()\n",
    "\n",
    "    def query_solver(self):\n",
    "        body = self.config_params\n",
    "        url='http://' + body['ip'] + ':' + body['port'] + '/query_solver/' + str(body['tester'])\n",
    "        epoch = int(body['testing_epoch'])\n",
    "        if body['operation_item'] == 'query_solver':\n",
    "            for num in range(epoch):            \n",
    "                time1 = time.time()\n",
    "                ret = requests.post(url, json.dumps(body))\n",
    "                print('serving time of query_solver:')\n",
    "                time2 = time.time()\n",
    "                print(\"ELAPSED: \", time2 - time1)\n",
    "        else:\n",
    "            return {'query_status': False, 'debug_info': 'wrong testing param for query solver:' + body['operation_item']}\n",
    "        return ret.json()\n",
    "        # print(\"RESULT:\", ret.json())"
   ]
  },
  {
   "cell_type": "code",
   "execution_count": 26,
   "metadata": {
    "ExecuteTime": {
     "end_time": "2021-06-09T03:04:14.560669Z",
     "start_time": "2021-06-09T03:04:14.557979Z"
    }
   },
   "outputs": [
    {
     "name": "stdout",
     "output_type": "stream",
     "text": [
      "successfully create instance of dwave leap testing client!!!!\n"
     ]
    }
   ],
   "source": [
    "dwave_client = Testing_Client_Dwave_Leap()"
   ]
  },
  {
   "cell_type": "code",
   "execution_count": 27,
   "metadata": {
    "ExecuteTime": {
     "end_time": "2021-06-09T03:04:17.100445Z",
     "start_time": "2021-06-09T03:04:17.095759Z"
    }
   },
   "outputs": [
    {
     "name": "stdout",
     "output_type": "stream",
     "text": [
      "successfully config testing params of testing client!!!!!!\n",
      "{'tester': 'heheheheheheheh', 'ip': 'xxx.xxx.xxx.xxx', 'provider': 'dwave-leap', 'operation_time': '2021/06/09 11:04:14', 'token': '*********your token*****************', 'if_mq': 'True', 'query_type': 'qpu_2000q', 'operation_item': 'query_runtime', 'category_item': 'operation_maintenance', 'testing_epoch': '1024'}\n"
     ]
    },
    {
     "data": {
      "text/plain": [
       "{'tester': 'heheheheheheheh',\n",
       " 'ip': 'xxx.xxx.xxx.xxx',\n",
       " 'provider': 'dwave-leap',\n",
       " 'operation_time': '2021/06/09 11:04:14',\n",
       " 'token': '*********your token*****************',\n",
       " 'if_mq': 'True',\n",
       " 'query_type': 'qpu_2000q',\n",
       " 'operation_item': 'query_runtime',\n",
       " 'category_item': 'operation_maintenance',\n",
       " 'testing_epoch': '1024'}"
      ]
     },
     "execution_count": 27,
     "metadata": {},
     "output_type": "execute_result"
    }
   ],
   "source": [
    "config_body = {\n",
    "    'tester': 'heheheheheheheh',\n",
    "    'ip': 'xxx.xxx.xxx.xxx',\n",
    "    'testing_epoch': '1024',\n",
    "}\n",
    "dwave_client.testing_params_config(config_body)"
   ]
  },
  {
   "cell_type": "code",
   "execution_count": 20,
   "metadata": {
    "ExecuteTime": {
     "end_time": "2021-06-09T02:29:09.649749Z",
     "start_time": "2021-06-09T02:28:39.005478Z"
    }
   },
   "outputs": [
    {
     "name": "stdout",
     "output_type": "stream",
     "text": [
      "serving time of query_runtime:\n",
      "ELAPSED:  6.378620624542236\n",
      "RESULT: {'qpu_sampling_time': 239, 'qpu_anneal_time_per_sample': 20, 'qpu_readout_time_per_sample': 198, 'qpu_access_time': 11056, 'qpu_access_overhead_time': 3218, 'qpu_programming_time': 10817, 'qpu_delay_time_per_sample': 21, 'total_post_processing_time': 67, 'post_processing_overhead_time': 67, 'problem_id': '2b779814-1a4a-4b9d-aa51-78c70bc1dd96', 'mq_write_state': True, 'code': 200, 'msg': 'success'}\n",
      "serving time of query_runtime:\n",
      "ELAPSED:  3.9107444286346436\n",
      "RESULT: {'qpu_sampling_time': 239, 'qpu_anneal_time_per_sample': 20, 'qpu_readout_time_per_sample': 198, 'qpu_access_time': 11032, 'qpu_access_overhead_time': 1925, 'qpu_programming_time': 10793, 'qpu_delay_time_per_sample': 21, 'total_post_processing_time': 3576, 'post_processing_overhead_time': 3576, 'problem_id': '08405101-a395-491e-b388-0a8197977bd2', 'mq_write_state': True, 'code': 200, 'msg': 'success'}\n",
      "serving time of query_runtime:\n",
      "ELAPSED:  5.518504619598389\n",
      "RESULT: {'qpu_sampling_time': 239, 'qpu_anneal_time_per_sample': 20, 'qpu_readout_time_per_sample': 198, 'qpu_access_time': 11037, 'qpu_access_overhead_time': 3481, 'qpu_programming_time': 10798, 'qpu_delay_time_per_sample': 21, 'total_post_processing_time': 199, 'post_processing_overhead_time': 199, 'problem_id': 'e75ea8e5-7de3-4ac7-ab5b-6ff415706329', 'mq_write_state': True, 'code': 200, 'msg': 'success'}\n",
      "serving time of query_runtime:\n",
      "ELAPSED:  2.5786261558532715\n",
      "RESULT: {'qpu_sampling_time': 239, 'qpu_anneal_time_per_sample': 20, 'qpu_readout_time_per_sample': 198, 'qpu_access_time': 11052, 'qpu_access_overhead_time': 1911, 'qpu_programming_time': 10813, 'qpu_delay_time_per_sample': 21, 'total_post_processing_time': 203, 'post_processing_overhead_time': 203, 'problem_id': '98a519dd-c554-4eda-83c5-654e99de0c99', 'mq_write_state': True, 'code': 200, 'msg': 'success'}\n",
      "serving time of query_runtime:\n",
      "ELAPSED:  7.336214542388916\n",
      "RESULT: {'qpu_sampling_time': 239, 'qpu_anneal_time_per_sample': 20, 'qpu_readout_time_per_sample': 198, 'qpu_access_time': 11036, 'qpu_access_overhead_time': 6508, 'qpu_programming_time': 10797, 'qpu_delay_time_per_sample': 21, 'total_post_processing_time': 731, 'post_processing_overhead_time': 731, 'problem_id': 'c14257f9-e7a3-43e1-83ae-1ebe9835418f', 'mq_write_state': True, 'code': 200, 'msg': 'success'}\n",
      "serving time of query_runtime:\n",
      "ELAPSED:  0.9027643203735352\n",
      "RESULT: {'qpu_sampling_time': 239, 'qpu_anneal_time_per_sample': 20, 'qpu_readout_time_per_sample': 198, 'qpu_access_time': 11037, 'qpu_access_overhead_time': 1490, 'qpu_programming_time': 10798, 'qpu_delay_time_per_sample': 21, 'total_post_processing_time': 3576, 'post_processing_overhead_time': 3576, 'problem_id': '6f1db789-5000-4de7-852e-98f33c9800b3', 'mq_write_state': True, 'code': 200, 'msg': 'success'}\n",
      "serving time of query_runtime:\n",
      "ELAPSED:  0.9089891910552979\n",
      "RESULT: {'qpu_sampling_time': 239, 'qpu_anneal_time_per_sample': 20, 'qpu_readout_time_per_sample': 198, 'qpu_access_time': 11036, 'qpu_access_overhead_time': 1501, 'qpu_programming_time': 10797, 'qpu_delay_time_per_sample': 21, 'total_post_processing_time': 435, 'post_processing_overhead_time': 435, 'problem_id': '67576be7-d2a4-4f71-92b3-83bbb62aa3bc', 'mq_write_state': True, 'code': 200, 'msg': 'success'}\n",
      "serving time of query_runtime:\n",
      "ELAPSED:  1.1848955154418945\n",
      "RESULT: {'qpu_sampling_time': 239, 'qpu_anneal_time_per_sample': 20, 'qpu_readout_time_per_sample': 198, 'qpu_access_time': 11051, 'qpu_access_overhead_time': 4512, 'qpu_programming_time': 10812, 'qpu_delay_time_per_sample': 21, 'total_post_processing_time': 476, 'post_processing_overhead_time': 476, 'problem_id': '642dd403-90b8-4296-83cd-0fcf80402a26', 'mq_write_state': True, 'code': 200, 'msg': 'success'}\n",
      "serving time of query_runtime:\n",
      "ELAPSED:  0.9560756683349609\n",
      "RESULT: {'qpu_sampling_time': 239, 'qpu_anneal_time_per_sample': 20, 'qpu_readout_time_per_sample': 198, 'qpu_access_time': 11052, 'qpu_access_overhead_time': 2824, 'qpu_programming_time': 10813, 'qpu_delay_time_per_sample': 21, 'total_post_processing_time': 541, 'post_processing_overhead_time': 541, 'problem_id': 'e938ebf3-77c4-4e28-82a9-71d325ee53a2', 'mq_write_state': True, 'code': 200, 'msg': 'success'}\n",
      "serving time of query_runtime:\n",
      "ELAPSED:  0.9626264572143555\n",
      "RESULT: {'qpu_sampling_time': 239, 'qpu_anneal_time_per_sample': 20, 'qpu_readout_time_per_sample': 198, 'qpu_access_time': 11051, 'qpu_access_overhead_time': 1682, 'qpu_programming_time': 10812, 'qpu_delay_time_per_sample': 21, 'total_post_processing_time': 1771, 'post_processing_overhead_time': 1771, 'problem_id': '20b98da4-374a-4af4-be39-6473bd6f294f', 'mq_write_state': True, 'code': 200, 'msg': 'success'}\n"
     ]
    },
    {
     "data": {
      "text/plain": [
       "{'qpu_sampling_time': 239,\n",
       " 'qpu_anneal_time_per_sample': 20,\n",
       " 'qpu_readout_time_per_sample': 198,\n",
       " 'qpu_access_time': 11051,\n",
       " 'qpu_access_overhead_time': 1682,\n",
       " 'qpu_programming_time': 10812,\n",
       " 'qpu_delay_time_per_sample': 21,\n",
       " 'total_post_processing_time': 1771,\n",
       " 'post_processing_overhead_time': 1771,\n",
       " 'problem_id': '20b98da4-374a-4af4-be39-6473bd6f294f',\n",
       " 'mq_write_state': True,\n",
       " 'code': 200,\n",
       " 'msg': 'success'}"
      ]
     },
     "execution_count": 20,
     "metadata": {},
     "output_type": "execute_result"
    }
   ],
   "source": [
    "dwave_client.query_runtime()"
   ]
  },
  {
   "cell_type": "code",
   "execution_count": 2,
   "metadata": {
    "ExecuteTime": {
     "end_time": "2021-06-09T03:57:11.786447Z",
     "start_time": "2021-06-09T03:57:11.783267Z"
    }
   },
   "outputs": [],
   "source": [
    "import argparse\n",
    "parser = argparse.ArgumentParser(description = 'caict testing qc benchmark platform project')"
   ]
  },
  {
   "cell_type": "code",
   "execution_count": null,
   "metadata": {},
   "outputs": [],
   "source": [
    "parser.add_argument()"
   ]
  }
 ],
 "metadata": {
  "kernelspec": {
   "display_name": "Python 3",
   "language": "python",
   "name": "python3"
  },
  "language_info": {
   "codemirror_mode": {
    "name": "ipython",
    "version": 3
   },
   "file_extension": ".py",
   "mimetype": "text/x-python",
   "name": "python",
   "nbconvert_exporter": "python",
   "pygments_lexer": "ipython3",
   "version": "3.6.9"
  },
  "toc": {
   "base_numbering": 1,
   "nav_menu": {},
   "number_sections": true,
   "sideBar": true,
   "skip_h1_title": false,
   "title_cell": "Table of Contents",
   "title_sidebar": "Contents",
   "toc_cell": false,
   "toc_position": {},
   "toc_section_display": true,
   "toc_window_display": false
  },
  "varInspector": {
   "cols": {
    "lenName": 16,
    "lenType": 16,
    "lenVar": 40
   },
   "kernels_config": {
    "python": {
     "delete_cmd_postfix": "",
     "delete_cmd_prefix": "del ",
     "library": "var_list.py",
     "varRefreshCmd": "print(var_dic_list())"
    },
    "r": {
     "delete_cmd_postfix": ") ",
     "delete_cmd_prefix": "rm(",
     "library": "var_list.r",
     "varRefreshCmd": "cat(var_dic_list()) "
    }
   },
   "position": {
    "height": "756px",
    "left": "1550px",
    "right": "20px",
    "top": "120px",
    "width": "350px"
   },
   "types_to_exclude": [
    "module",
    "function",
    "builtin_function_or_method",
    "instance",
    "_Feature"
   ],
   "window_display": true
  }
 },
 "nbformat": 4,
 "nbformat_minor": 2
}
