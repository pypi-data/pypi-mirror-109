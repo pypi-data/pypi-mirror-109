{
 "cells": [
  {
   "cell_type": "code",
   "execution_count": null,
   "metadata": {},
   "outputs": [],
   "source": [
    "import numpy as np\n",
    "import matplotlib.pyplot as plt\n",
    "import h5py\n",
    "import scipy.io as sio\n",
    "\n",
    "import scanning_drift_corr.api as sdc"
   ]
  },
  {
   "cell_type": "markdown",
   "metadata": {},
   "source": [
    "# Read the simulated data"
   ]
  },
  {
   "cell_type": "code",
   "execution_count": null,
   "metadata": {},
   "outputs": [],
   "source": [
    "with h5py.File('../tests/nonlinear_drift_correction_synthetic_dataset_for_testing.mat', 'r') as f:\n",
    "    image00deg = np.array(f['image00deg']).T\n",
    "    image90deg = np.array(f['image90deg']).T\n",
    "    imageIdeal = np.array(f['imageIdeal']).T"
   ]
  },
  {
   "cell_type": "code",
   "execution_count": null,
   "metadata": {},
   "outputs": [],
   "source": [
    "fig, ax = plt.subplots(1,2, figsize=(16,9))\n",
    "ax[0].matshow(image00deg, cmap='gray')\n",
    "ax[1].matshow(image90deg, cmap='gray')\n",
    "ax[0].set_title('0 deg')\n",
    "ax[1].set_title('90 deg')"
   ]
  },
  {
   "cell_type": "markdown",
   "metadata": {},
   "source": [
    "# Set the scan direction of the input images"
   ]
  },
  {
   "cell_type": "code",
   "execution_count": null,
   "metadata": {},
   "outputs": [],
   "source": [
    "scanAngles = (0, 90)"
   ]
  },
  {
   "cell_type": "markdown",
   "metadata": {},
   "source": [
    "# Correct linear drift\n",
    "The function returns the `sMerge` class which contains information for correcting distortion."
   ]
  },
  {
   "cell_type": "code",
   "execution_count": null,
   "metadata": {},
   "outputs": [],
   "source": [
    "sm = sdc.SPmerge01linear(scanAngles, image00deg, image90deg)"
   ]
  },
  {
   "cell_type": "markdown",
   "metadata": {},
   "source": [
    "# Correct non-linear drift\n",
    "A lot of things are happening in the function...\n",
    "\n",
    "\n"
   ]
  },
  {
   "cell_type": "code",
   "execution_count": null,
   "metadata": {},
   "outputs": [],
   "source": [
    "sm = sdc.SPmerge02(sm, refineMaxSteps=32, initialRefineSteps=8)"
   ]
  },
  {
   "cell_type": "markdown",
   "metadata": {},
   "source": [
    "# Generate the final image"
   ]
  },
  {
   "cell_type": "code",
   "execution_count": null,
   "metadata": {},
   "outputs": [],
   "source": [
    "imageFinal, signalArray, densityArray = sdc.SPmerge03(sm)"
   ]
  },
  {
   "cell_type": "markdown",
   "metadata": {},
   "source": [
    "# Compare with the ideal image"
   ]
  },
  {
   "cell_type": "code",
   "execution_count": null,
   "metadata": {},
   "outputs": [],
   "source": [
    "fig, ax = plt.subplots(1,2, figsize=(16,9))\n",
    "ax[0].matshow(imageFinal, cmap='gray', vmin=5.5, vmax=7)\n",
    "ax[1].matshow(imageIdeal, cmap='gray', vmin=5.5, vmax=7)\n",
    "ax[0].set_title('Corrected image')\n",
    "ax[1].set_title('Ideal image')"
   ]
  },
  {
   "cell_type": "markdown",
   "metadata": {},
   "source": [
    "# Estimated images on each scan"
   ]
  },
  {
   "cell_type": "code",
   "execution_count": null,
   "metadata": {},
   "outputs": [],
   "source": [
    "fig, ax = plt.subplots(1,2, figsize=(16,9))\n",
    "\n",
    "ax[0].matshow(image00deg, cmap='gray')\n",
    "ax[1].matshow(signalArray[0,...], cmap='gray')\n",
    "ax[0].set_title('Original 0 deg image')\n",
    "ax[1].set_title('Estimated 0 deg image')"
   ]
  },
  {
   "cell_type": "code",
   "execution_count": null,
   "metadata": {},
   "outputs": [],
   "source": [
    "fig, ax = plt.subplots(1,2, figsize=(16,9))\n",
    "\n",
    "ax[0].matshow(image90deg, cmap='gray')\n",
    "ax[1].matshow(signalArray[1,...], cmap='gray')\n",
    "ax[0].set_title('Original 90 deg image')\n",
    "ax[1].set_title('Estimated 90 deg image at 0 deg')"
   ]
  },
  {
   "cell_type": "markdown",
   "metadata": {},
   "source": [
    "# Estimated density on each scan"
   ]
  },
  {
   "cell_type": "code",
   "execution_count": null,
   "metadata": {},
   "outputs": [],
   "source": [
    "fig, ax = plt.subplots(1,2, figsize=(16,9))\n",
    "ax[0].matshow(densityArray[0,...], cmap='gray')\n",
    "ax[1].matshow(densityArray[1,...], cmap='gray')\n",
    "ax[0].set_title('Estimated density at 0 deg')\n",
    "ax[1].set_title('Estimated denstiy at 90 deg')"
   ]
  },
  {
   "cell_type": "code",
   "execution_count": null,
   "metadata": {},
   "outputs": [],
   "source": []
  }
 ],
 "metadata": {
  "kernelspec": {
   "display_name": "Python 3",
   "language": "python",
   "name": "python3"
  },
  "language_info": {
   "codemirror_mode": {
    "name": "ipython",
    "version": 3
   },
   "file_extension": ".py",
   "mimetype": "text/x-python",
   "name": "python",
   "nbconvert_exporter": "python",
   "pygments_lexer": "ipython3",
   "version": "3.8.5"
  }
 },
 "nbformat": 4,
 "nbformat_minor": 4
}
