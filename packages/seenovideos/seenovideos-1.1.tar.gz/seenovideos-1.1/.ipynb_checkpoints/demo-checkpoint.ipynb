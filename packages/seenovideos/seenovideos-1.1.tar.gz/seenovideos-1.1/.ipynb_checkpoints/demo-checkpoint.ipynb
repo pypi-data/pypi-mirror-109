{
 "cells": [
  {
   "cell_type": "markdown",
   "id": "activated-church",
   "metadata": {},
   "source": [
    "# FAQ"
   ]
  },
  {
   "cell_type": "markdown",
   "id": "endangered-concord",
   "metadata": {},
   "source": [
    "- Since this is a notebook, I am using the %%python - cell magic\n",
    "- In a normal script just run it as it is and replace the %%python - with python\n",
    "- eg: python runner.py -f testVideos -t \"{name:movie.mp4,trim:00-01-00;00-5-10,A:song.mp3,}\";"
   ]
  },
  {
   "cell_type": "code",
   "execution_count": null,
   "id": "identical-liberal",
   "metadata": {},
   "outputs": [],
   "source": []
  },
  {
   "cell_type": "code",
   "execution_count": 224,
   "id": "declared-badge",
   "metadata": {
    "execution": {
     "iopub.execute_input": "2021-06-10T13:22:22.000277Z",
     "iopub.status.busy": "2021-06-10T13:22:21.999911Z",
     "iopub.status.idle": "2021-06-10T13:22:22.178798Z",
     "shell.execute_reply": "2021-06-10T13:22:22.178367Z",
     "shell.execute_reply.started": "2021-06-10T13:22:22.000230Z"
    }
   },
   "outputs": [
    {
     "name": "stdout",
     "output_type": "stream",
     "text": [
      "Namespace(d=True, t='{name:venus.mp4}+{name:grassTutorialNew.mp4}', f='testVideos/', o=None)\n",
      "testVideos\n",
      "Executing: <function namer at 0x7f43a196faf0>\n",
      "testVideos/tmp_venus.mp4\n",
      "Executing: <function namer at 0x7f43a196faf0>\n",
      "testVideos/tmp_grassTutorialNew.mp4\n"
     ]
    },
    {
     "name": "stderr",
     "output_type": "stream",
     "text": [
      "100%|████████████████████████████████████████████████| 2/2 [00:00<00:00, 219.82it/s]\n"
     ]
    }
   ],
   "source": [
    "%%python - -f testVideos/ -d -t \"{name:venus.mp4}+{name:grassTutorialNew.mp4}\"\n",
    "import seenovideo"
   ]
  },
  {
   "cell_type": "markdown",
   "id": "based-western",
   "metadata": {},
   "source": [
    "# Demo : Merge two files with different settings\n",
    "- Take file 1 -> Remove the audio\n",
    "- Take file 2 -> remove audio, resize the video\n",
    "- Merge them both"
   ]
  },
  {
   "cell_type": "code",
   "execution_count": 222,
   "id": "legislative-slovak",
   "metadata": {
    "execution": {
     "iopub.execute_input": "2021-06-10T13:11:04.694504Z",
     "iopub.status.busy": "2021-06-10T13:11:04.694335Z",
     "iopub.status.idle": "2021-06-10T13:11:04.779840Z",
     "shell.execute_reply": "2021-06-10T13:11:04.779303Z",
     "shell.execute_reply.started": "2021-06-10T13:11:04.694477Z"
    }
   },
   "outputs": [
    {
     "name": "stdout",
     "output_type": "stream",
     "text": [
      "Namespace(d=True, t='{name:venus.mp4,A:1}+{name:grassTutorialNew.mp4, A:1}', f='testVideos/', o=None)\n",
      "testVideos\n",
      "Executing: <function remove_audio at 0x7f0620aa93a0>\n",
      "testVideos/tmp_venus.mp4\n",
      "Executing: <function remove_audio at 0x7f0620aa93a0>\n",
      "testVideos/tmp_grassTutorialNew.mp4\n"
     ]
    },
    {
     "name": "stderr",
     "output_type": "stream",
     "text": [
      "100%|██████████████████████████████████████████████| 2/2 [00:00<00:00, 33288.13it/s]\n"
     ]
    }
   ],
   "source": [
    "%%python - -f testVideos/ -d -t \"{name:venus.mp4,A:0,}+{name:grassTutorialNew.mp4,A:0,resize:128;128,}\"\n",
    "import seenovideo"
   ]
  },
  {
   "cell_type": "code",
   "execution_count": null,
   "id": "harmful-colorado",
   "metadata": {},
   "outputs": [],
   "source": []
  },
  {
   "cell_type": "markdown",
   "id": "fancy-adobe",
   "metadata": {},
   "source": [
    "# Demo : direct text\n",
    "- Take a file \n",
    "- Cut it it from 1 min to 5:10 min\n",
    "- Replace the audio with a song"
   ]
  },
  {
   "cell_type": "code",
   "execution_count": 199,
   "id": "legislative-words",
   "metadata": {
    "execution": {
     "iopub.execute_input": "2021-06-10T11:38:07.582826Z",
     "iopub.status.busy": "2021-06-10T11:38:07.582555Z",
     "iopub.status.idle": "2021-06-10T11:38:10.241133Z",
     "shell.execute_reply": "2021-06-10T11:38:10.240771Z",
     "shell.execute_reply.started": "2021-06-10T11:38:07.582794Z"
    }
   },
   "outputs": [
    {
     "name": "stdout",
     "output_type": "stream",
     "text": [
      "Namespace(d=True, t='{name:movie.mp4,trim:00-01-00;00-5-10,A:song.mp3}', f='testVideos/', o=None)\n",
      "testVideos\n",
      "Executing: <function trim_video at 0x7f14f230ee50>\n",
      "Executing: <function remove_audio at 0x7f14f230ed30>\n",
      "Replacing audio with testVideos/song.mp3\n",
      "testVideos/tmp_movie.mp4\n"
     ]
    },
    {
     "name": "stderr",
     "output_type": "stream",
     "text": [
      "100%|█████████████████████████████████████████████████| 1/1 [00:02<00:00,  2.59s/it]\n"
     ]
    }
   ],
   "source": [
    "%%python - -f testVideos/ -d -t \"{name:movie.mp4,trim:00-01-00;00-5-10,A:song.mp3}\"\n",
    "import runner"
   ]
  },
  {
   "cell_type": "markdown",
   "id": "public-jacket",
   "metadata": {},
   "source": [
    "# Demo : Simple video stabilization\n",
    "- Take a file \n",
    "- Cut it it from 1 min to 5:10 min\n",
    "- Replace the audio with a song"
   ]
  },
  {
   "cell_type": "code",
   "execution_count": 219,
   "id": "successful-portuguese",
   "metadata": {
    "execution": {
     "iopub.execute_input": "2021-06-10T12:12:33.694544Z",
     "iopub.status.busy": "2021-06-10T12:12:33.694400Z",
     "iopub.status.idle": "2021-06-10T12:12:37.408814Z",
     "shell.execute_reply": "2021-06-10T12:12:37.408362Z",
     "shell.execute_reply.started": "2021-06-10T12:12:33.694528Z"
    }
   },
   "outputs": [
    {
     "name": "stdout",
     "output_type": "stream",
     "text": [
      "Namespace(d=True, t='{name:shaky.mp4,stabilize:1,A:song.mp3}', f='testVideos/', o=None)\n",
      "testVideos\n",
      "Executing: <function vidstab at 0x7f9b16bed310>\n",
      "ffmpeg version n4.4 Copyright (c) 2000-2021 the FFmpeg developers\n",
      "  built with gcc 10.2.0 (GCC)\n",
      "  configuration: --prefix=/usr --disable-debug --disable-static --disable-stripping --enable-amf --enable-avisynth --enable-cuda-llvm --enable-lto --enable-fontconfig --enable-gmp --enable-gnutls --enable-gpl --enable-ladspa --enable-libaom --enable-libass --enable-libbluray --enable-libdav1d --enable-libdrm --enable-libfreetype --enable-libfribidi --enable-libgsm --enable-libiec61883 --enable-libjack --enable-libmfx --enable-libmodplug --enable-libmp3lame --enable-libopencore_amrnb --enable-libopencore_amrwb --enable-libopenjpeg --enable-libopus --enable-libpulse --enable-librav1e --enable-librsvg --enable-libsoxr --enable-libspeex --enable-libsrt --enable-libssh --enable-libsvtav1 --enable-libtheora --enable-libv4l2 --enable-libvidstab --enable-libvmaf --enable-libvorbis --enable-libvpx --enable-libwebp --enable-libx264 --enable-libx265 --enable-libxcb --enable-libxml2 --enable-libxvid --enable-libzimg --enable-nvdec --enable-nvenc --enable-shared --enable-version3\n",
      "  libavutil      56. 70.100 / 56. 70.100\n",
      "  libavcodec     58.134.100 / 58.134.100\n",
      "  libavformat    58. 76.100 / 58. 76.100\n",
      "  libavdevice    58. 13.100 / 58. 13.100\n",
      "  libavfilter     7.110.100 /  7.110.100\n",
      "  libswscale      5.  9.100 /  5.  9.100\n",
      "  libswresample   3.  9.100 /  3.  9.100\n",
      "  libpostproc    55.  9.100 / 55.  9.100\n",
      "Input #0, mov,mp4,m4a,3gp,3g2,mj2, from 'testVideos/shaky.mp4':\n",
      "  Metadata:\n",
      "    major_brand     : isom\n",
      "    minor_version   : 512\n",
      "    compatible_brands: isomiso2avc1mp41\n",
      "    title           : African Running meme |FULL VERSION| #shorts\n",
      "    artist          : M1xOzi\n",
      "    date            : 20200916\n",
      "    encoder         : Lavf58.76.100\n",
      "    comment         : Road to 1k👍\n",
      "    description     : Road to 1k👍\n",
      "  Duration: 00:00:19.74, start: 0.000000, bitrate: 529 kb/s\n",
      "  Stream #0:0(und): Video: h264 (Constrained Baseline) (avc1 / 0x31637661), yuv420p(tv, bt709), 636x360 [SAR 1:1 DAR 53:30], 428 kb/s, 24.59 fps, 24.59 tbr, 24593 tbn, 49.19 tbc (default)\n",
      "    Metadata:\n",
      "      handler_name    : ISO Media file produced by Google Inc. Created on: 09/16/2020.\n",
      "      vendor_id       : [0][0][0][0]\n",
      "  Stream #0:1(und): Audio: aac (LC) (mp4a / 0x6134706D), 44100 Hz, stereo, fltp, 95 kb/s (default)\n",
      "    Metadata:\n",
      "      handler_name    : ISO Media file produced by Google Inc. Created on: 09/16/2020.\n",
      "      vendor_id       : [0][0][0][0]\n",
      "Stream mapping:\n",
      "  Stream #0:0 -> #0:0 (h264 (native) -> h264 (libx264))\n",
      "  Stream #0:1 -> #0:1 (aac (native) -> aac (native))\n",
      "Press [q] to stop, [?] for help\n",
      "[Parsed_vidstabtransform_0 @ 0x55f2f8aeba80] Video transformation/stabilization settings (pass 2/2):\n",
      "[Parsed_vidstabtransform_0 @ 0x55f2f8aeba80]     input     = testVideos/tfs.trf\n",
      "[Parsed_vidstabtransform_0 @ 0x55f2f8aeba80]     smoothing = 15\n",
      "[Parsed_vidstabtransform_0 @ 0x55f2f8aeba80]     optalgo   = gauss\n",
      "[Parsed_vidstabtransform_0 @ 0x55f2f8aeba80]     maxshift  = -1\n",
      "[Parsed_vidstabtransform_0 @ 0x55f2f8aeba80]     maxangle  = -1.000000\n",
      "[Parsed_vidstabtransform_0 @ 0x55f2f8aeba80]     crop      = Keep\n",
      "[Parsed_vidstabtransform_0 @ 0x55f2f8aeba80]     relative  = True\n",
      "[Parsed_vidstabtransform_0 @ 0x55f2f8aeba80]     invert    = False\n",
      "[Parsed_vidstabtransform_0 @ 0x55f2f8aeba80]     zoom      = 5.000000\n",
      "[Parsed_vidstabtransform_0 @ 0x55f2f8aeba80]     optzoom   = Static (1)\n",
      "[Parsed_vidstabtransform_0 @ 0x55f2f8aeba80]     interpol  = Bi-Linear (2)\n",
      "[vidstabtransform @ 0x7ffc2f257888] Final zoom: 24.633227\n",
      "[libx264 @ 0x55f2f865c700] using SAR=1/1\n",
      "[libx264 @ 0x55f2f865c700] using cpu capabilities: MMX2 SSE2Fast SSSE3 SSE4.2 AVX FMA3 BMI2 AVX2\n",
      "[libx264 @ 0x55f2f865c700] profile High, level 3.0, 4:2:0, 8-bit\n",
      "[libx264 @ 0x55f2f865c700] 264 - core 161 r3039 544c61f - H.264/MPEG-4 AVC codec - Copyleft 2003-2021 - http://www.videolan.org/x264.html - options: cabac=1 ref=3 deblock=1:0:0 analyse=0x3:0x113 me=hex subme=7 psy=1 psy_rd=1.00:0.00 mixed_ref=1 me_range=16 chroma_me=1 trellis=1 8x8dct=1 cqm=0 deadzone=21,11 fast_pskip=1 chroma_qp_offset=-2 threads=11 lookahead_threads=1 sliced_threads=0 nr=0 decimate=1 interlaced=0 bluray_compat=0 constrained_intra=0 bframes=3 b_pyramid=2 b_adapt=1 b_bias=0 direct=1 weightb=1 open_gop=0 weightp=2 keyint=250 keyint_min=24 scenecut=40 intra_refresh=0 rc_lookahead=40 rc=crf mbtree=1 crf=23.0 qcomp=0.60 qpmin=0 qpmax=69 qpstep=4 ip_ratio=1.40 aq=1:1.00\n",
      "Output #0, mp4, to 'testVideos/tmp_shaky.mp4':\n",
      "  Metadata:\n",
      "    major_brand     : isom\n",
      "    minor_version   : 512\n",
      "    compatible_brands: isomiso2avc1mp41\n",
      "    title           : African Running meme |FULL VERSION| #shorts\n",
      "    artist          : M1xOzi\n",
      "    date            : 20200916\n",
      "    description     : Road to 1k👍\n",
      "    comment         : Road to 1k👍\n",
      "    encoder         : Lavf58.76.100\n",
      "  Stream #0:0(und): Video: h264 (avc1 / 0x31637661), yuv420p(tv, bt709, progressive), 636x360 [SAR 1:1 DAR 53:30], q=2-31, 24.59 fps, 24593 tbn (default)\n",
      "    Metadata:\n",
      "      handler_name    : ISO Media file produced by Google Inc. Created on: 09/16/2020.\n",
      "      vendor_id       : [0][0][0][0]\n",
      "      encoder         : Lavc58.134.100 libx264\n",
      "    Side data:\n",
      "      cpb: bitrate max/min/avg: 0/0/0 buffer size: 0 vbv_delay: N/A\n",
      "  Stream #0:1(und): Audio: aac (LC) (mp4a / 0x6134706D), 44100 Hz, stereo, fltp, 128 kb/s (default)\n",
      "    Metadata:\n",
      "      handler_name    : ISO Media file produced by Google Inc. Created on: 09/16/2020.\n",
      "      vendor_id       : [0][0][0][0]\n",
      "      encoder         : Lavc58.134.100 aac\n",
      "frame=    1 fps=0.0 q=0.0 size=       0kB time=00:00:00.44 bitrate=   0.9kbits/s speed=  33x    \n",
      "frame=   97 fps=0.0 q=28.0 size=       0kB time=00:00:04.36 bitrate=   0.1kbits/s speed=8.48x    \n",
      "frame=  219 fps=216 q=28.0 size=     512kB time=00:00:09.31 bitrate= 450.5kbits/s speed=9.17x    \n",
      "frame=  329 fps=217 q=28.0 size=    1024kB time=00:00:13.79 bitrate= 608.2kbits/s speed= 9.1x    \n",
      "frame=  440 fps=218 q=28.0 size=    1792kB time=00:00:18.29 bitrate= 802.3kbits/s speed=9.06x    \n",
      "frame=  484 fps=206 q=-1.0 Lsize=    2306kB time=00:00:19.71 bitrate= 958.1kbits/s speed=8.39x    \n",
      "video:1977kB audio:312kB subtitle:0kB other streams:0kB global headers:0kB muxing overhead: 0.751543%\n",
      "[libx264 @ 0x55f2f865c700] frame I:11    Avg QP:22.27  size:  9173\n",
      "[libx264 @ 0x55f2f865c700] frame P:135   Avg QP:24.97  size:  7673\n",
      "[libx264 @ 0x55f2f865c700] frame B:338   Avg QP:27.89  size:  2624\n",
      "[libx264 @ 0x55f2f865c700] consecutive B-frames:  5.2%  3.7%  4.3% 86.8%\n",
      "[libx264 @ 0x55f2f865c700] mb I  I16..4: 10.9% 83.4%  5.7%\n",
      "[libx264 @ 0x55f2f865c700] mb P  I16..4:  8.0% 40.4%  2.4%  P16..4: 21.8% 17.4%  6.8%  0.0%  0.0%    skip: 3.2%\n",
      "[libx264 @ 0x55f2f865c700] mb B  I16..4:  1.9%  8.3%  0.4%  B16..8: 40.6% 11.2%  1.8%  direct: 3.1%  skip:32.7%  L0:46.9% L1:48.6% BI: 4.5%\n",
      "[libx264 @ 0x55f2f865c700] 8x8 transform intra:79.4% inter:79.3%\n",
      "[libx264 @ 0x55f2f865c700] coded y,uvDC,uvAC intra: 56.9% 77.8% 27.2% inter: 19.0% 19.7% 0.3%\n",
      "[libx264 @ 0x55f2f865c700] i16 v,h,dc,p: 14% 26%  4% 56%\n",
      "[libx264 @ 0x55f2f865c700] i8 v,h,dc,ddl,ddr,vr,hd,vl,hu: 25% 25% 10%  4%  7%  7%  9%  7%  7%\n",
      "[libx264 @ 0x55f2f865c700] i4 v,h,dc,ddl,ddr,vr,hd,vl,hu: 24% 23%  9%  5% 10%  9%  9%  6%  5%\n",
      "[libx264 @ 0x55f2f865c700] i8c dc,h,v,p: 45% 24% 16% 15%\n",
      "[libx264 @ 0x55f2f865c700] Weighted P-Frames: Y:3.7% UV:3.7%\n",
      "[libx264 @ 0x55f2f865c700] ref P L0: 64.0% 14.7% 17.9%  3.3%  0.1%\n",
      "[libx264 @ 0x55f2f865c700] ref B L0: 94.1%  4.9%  1.0%\n",
      "[libx264 @ 0x55f2f865c700] ref B L1: 98.4%  1.6%\n",
      "[libx264 @ 0x55f2f865c700] kb/s:822.55\n",
      "[aac @ 0x55f2f864fe40] Qavg: 557.023\n",
      "Executing: <function remove_audio at 0x7f9b16bed3a0>\n",
      "Replacing audio with testVideos/song.mp3\n",
      "testVideos/tmp_shaky.mp4\n"
     ]
    },
    {
     "name": "stderr",
     "output_type": "stream",
     "text": [
      "100%|█████████████████████████████████████████████████| 1/1 [00:03<00:00,  3.66s/it]\n"
     ]
    }
   ],
   "source": [
    "%%python - -f testVideos/ -d -t \"{name:shaky.mp4,stabilize:1,A:song.mp3}\"\n",
    "import runner"
   ]
  },
  {
   "cell_type": "markdown",
   "id": "ranking-attendance",
   "metadata": {},
   "source": [
    "# Demo : from file\n",
    "- Take a file \n",
    "- Cut it it from 1 min to 5:10 min\n",
    "- Replace the audio with a song"
   ]
  },
  {
   "cell_type": "code",
   "execution_count": 203,
   "id": "modern-detector",
   "metadata": {
    "execution": {
     "iopub.execute_input": "2021-06-10T11:38:58.696586Z",
     "iopub.status.busy": "2021-06-10T11:38:58.696452Z",
     "iopub.status.idle": "2021-06-10T11:39:01.304058Z",
     "shell.execute_reply": "2021-06-10T11:39:01.303493Z",
     "shell.execute_reply.started": "2021-06-10T11:38:58.696572Z"
    }
   },
   "outputs": [
    {
     "name": "stdout",
     "output_type": "stream",
     "text": [
      "Namespace(d=False, t='movDemo.txt', f='testVideos/', o=None)\n",
      "testVideos\n",
      "Executing: <function trim_video at 0x7fdfc18cde50>\n",
      "Executing: <function remove_audio at 0x7fdfc18cdd30>\n",
      "Replacing audio with testVideos/song.mp3\n",
      "testVideos/tmp_movie.mp4\n"
     ]
    },
    {
     "name": "stderr",
     "output_type": "stream",
     "text": [
      "100%|█████████████████████████████████████████████████| 1/1 [00:02<00:00,  2.55s/it]\n"
     ]
    }
   ],
   "source": [
    "%%python - -f testVideos/ -t \"movDemo.txt\"\n",
    "import runner"
   ]
  },
  {
   "cell_type": "code",
   "execution_count": null,
   "id": "native-mercury",
   "metadata": {},
   "outputs": [],
   "source": []
  }
 ],
 "metadata": {
  "kernelspec": {
   "display_name": "Python 3",
   "language": "python",
   "name": "python3"
  },
  "language_info": {
   "codemirror_mode": {
    "name": "ipython",
    "version": 3
   },
   "file_extension": ".py",
   "mimetype": "text/x-python",
   "name": "python",
   "nbconvert_exporter": "python",
   "pygments_lexer": "ipython3",
   "version": "3.9.5"
  }
 },
 "nbformat": 4,
 "nbformat_minor": 5
}
