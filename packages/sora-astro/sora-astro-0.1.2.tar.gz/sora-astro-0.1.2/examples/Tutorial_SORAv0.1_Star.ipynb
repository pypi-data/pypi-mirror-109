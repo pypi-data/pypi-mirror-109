{
 "cells": [
  {
   "cell_type": "markdown",
   "metadata": {},
   "source": [
    "# SORA - Stellar Occultation Reduction and Analysis\n",
    "\n",
    "## Star Class\n",
    "\n",
    "The Star Class within SORA was created to deal with the star information. The documentation at <font color=blue>add link</font> contains the details about every step.  \n",
    "\n",
    "This Jupyter-Notebook was designed as a tutorial for how to work with the Star Class. Any further question, please contact the core team: Altair Ramos Gomes Júnior, Bruno Eduardo Morgado, Gustavo Benedetti Rossi, and Rodrigo Carlos Boufleur.\n",
    "\n",
    "### Index\n",
    "\n",
    "1. [Instantiating a Star Object](#section_1)\n",
    "2. [Changing or adding magnitudes](#section_2)\n",
    "3. [Geocentric and Barycentric positions](#section_3)\n",
    "4. [Adding offsets](#section_4)\n",
    "5. [The Apparent Diameter of the star](#section_5)"
   ]
  },
  {
   "cell_type": "code",
   "execution_count": 1,
   "metadata": {},
   "outputs": [],
   "source": [
    "from sora.star import Star"
   ]
  },
  {
   "cell_type": "markdown",
   "metadata": {},
   "source": [
    "<a id=\"section_1\"></a>\n",
    "### 1. Instantiating Star Object\n",
    "\n",
    "The Star Class can be instantiated in different ways. Using the Gaia-EDR3 Source ID, then all the informations of the stars (RA, DEC, parallax, proper motions, G magnitude and star radius) will be downloaded from VizieR. Using a coordinate, then the Gaia-EDR3 star will be searched in VizieR within a radius of 2 arcsec. If more than 1 star is found, the user will be asked to choose the correct one.\n",
    "\n",
    "Star can also download the B, V, R, J, H and K magnitudes from the NOMAD catalogue. This is useful for calculating the apparent diameter of a star using van Belle's or Kevella's methods. If more than 1 star is found within 2 arcsec from the given coordinate, the user will be asked to choose the correct one.\n",
    "\n",
    "**The Star Docstring was designed to help the users. Also, each function has its Docstring containing its main purpose and the needed parameters (physical description and formats). Please, do not hesitate to use it.**"
   ]
  },
  {
   "cell_type": "code",
   "execution_count": 2,
   "metadata": {},
   "outputs": [
    {
     "data": {
      "text/plain": [
       "\u001b[0;31mInit signature:\u001b[0m \u001b[0mStar\u001b[0m\u001b[0;34m(\u001b[0m\u001b[0mcatalogue\u001b[0m\u001b[0;34m=\u001b[0m\u001b[0;34m'gaiaedr3'\u001b[0m\u001b[0;34m,\u001b[0m \u001b[0;34m**\u001b[0m\u001b[0mkwargs\u001b[0m\u001b[0;34m)\u001b[0m\u001b[0;34m\u001b[0m\u001b[0;34m\u001b[0m\u001b[0m\n",
       "\u001b[0;31mDocstring:\u001b[0m      docstring for MetaStar\n",
       "\u001b[0;31mInit docstring:\u001b[0m\n",
       "Defines a star\n",
       "\n",
       "Parameters:\n",
       "    catalogue (str): The catalogue to download data. It can be \"gaiadr2\" or \"gaiaedr3\"\n",
       "    code (str): Gaia Source code for searching in VizieR.\n",
       "    coord (str, SkyCoord): if code is not given, coord nust have the coordinates\n",
       "        RA and DEC of the star to search in VizieR: 'hh mm ss.ss +dd mm ss.ss'\n",
       "    ra (int, float): Right Ascension, in deg.\n",
       "    dec (int, float): Declination, in deg.\n",
       "    parallax (int, float): Parallax, in mas. Default = 0\n",
       "    pmra (int, float): Proper Motion in RA*, in mas/year. Default = 0\n",
       "    pmdec (int, float): Proper Motion in DEC, in mas/year. Default = 0\n",
       "    rad_vel (int, float): Radial Velocity, in km/s. Default = 0 km/s\n",
       "    epoch (str, Time): Epoch of the coordinates. Default = 'J2000'\n",
       "    nomad (bool): If true, it tries to download the magnitudes from NOMAD\n",
       "        catalogue. Default = True\n",
       "    bjones (bool): If true, it uses de star distance from Bailer-Jones et al. (2018)\n",
       "        Default = True\n",
       "    log (bool): If true, it prints the downloaded information. Default = True\n",
       "    local (bool): If true, it uses the given coordinate in 'coord'\n",
       "        as final coordinate. Default = False\n",
       "\n",
       "- The user can only give (\"coord\") or (\"ra\" and \"dec\"), but not both.\n",
       "- To download the coordinates from Gaia, \"local\" must be set as False\n",
       "    and the (\"code\") or (\"coord\") or (\"ra\" and \"dec\") must be given.\n",
       "    All values downloaded from Gaia will replace the ones given by the user.\n",
       "\u001b[0;31mFile:\u001b[0m           ~/Documentos/códigos/SORA/sora/star/core.py\n",
       "\u001b[0;31mType:\u001b[0m           type\n",
       "\u001b[0;31mSubclasses:\u001b[0m     \n"
      ]
     },
     "metadata": {},
     "output_type": "display_data"
    }
   ],
   "source": [
    "Star?"
   ]
  },
  {
   "cell_type": "markdown",
   "metadata": {},
   "source": [
    "**Searching by Gaia Source ID**"
   ]
  },
  {
   "cell_type": "code",
   "execution_count": 3,
   "metadata": {},
   "outputs": [
    {
     "name": "stdout",
     "output_type": "stream",
     "text": [
      "\n",
      "Downloading star parameters from I/350/gaiaedr3\n",
      "1 Gaia-EDR3 star found G=15.341292\n",
      "star coordinate at J2016.0: RA=15h04m17.67141s +/- 0.0307 mas, DEC=-16d19m38.9718s +/- 0.0241 mas\n",
      "\n",
      "Downloading star parameters from I/297/out\n"
     ]
    }
   ],
   "source": [
    "star = Star(code='6306109685386306688')"
   ]
  },
  {
   "cell_type": "code",
   "execution_count": 4,
   "metadata": {},
   "outputs": [
    {
     "name": "stdout",
     "output_type": "stream",
     "text": [
      "Gaia-EDR3 star Source ID: 6306109685386306688\n",
      "ICRS star coordinate at J2016.0:\n",
      "RA=15h04m17.67141s +/- 0.0307 mas, DEC=-16d19m38.9718s +/- 0.0241 mas\n",
      "pmRA=6.286 +/- 0.040 mas/yr, pmDEC=-9.632 +/- 0.033 mas/yr\n",
      "Plx=0.8595 +/- 0.0332 mas, Rad. Vel.=0.00 +/- 0.00 km/s \n",
      "\n",
      "Magnitudes: G: 15.341, B: 15.460, V: 14.680, R: 15.240, J: 14.121, H: 13.773,\n",
      "            K: 13.643\n",
      "\n",
      "Apparent diameter from Kervella et. al (2004):\n",
      "    V: 0.0074 mas, B: 0.0077 mas\n",
      "Apparent diameter from van Belle (1999):\n",
      "    sg: B: 0.0090 mas, V: 0.0092 mas\n",
      "    ms: B: 0.0086 mas, V: 0.0069 mas\n",
      "    vs: B: 0.0135 mas, V: 0.0120 mas\n"
     ]
    }
   ],
   "source": [
    "print(star)"
   ]
  },
  {
   "cell_type": "markdown",
   "metadata": {},
   "source": [
    "**Searching by coordinate**"
   ]
  },
  {
   "cell_type": "code",
   "execution_count": 5,
   "metadata": {},
   "outputs": [
    {
     "name": "stdout",
     "output_type": "stream",
     "text": [
      "\n",
      "Downloading star parameters from I/350/gaiaedr3\n",
      "2 stars were found within 2 arcsec from given coordinate.\n",
      "The list below is sorted by distance. Please select the correct star\n",
      "num dist(\")  Gmag         RA___ICRS___DEC        \n",
      "--- ------- ------ ------------------------------\n",
      "  1   0.022 15.589 18h22m00.2584s -22d28m10.6860s\n",
      "  2   2.009 19.981 18h22m00.3855s -22d28m09.7559s\n",
      "  0: Cancel\n"
     ]
    },
    {
     "name": "stdin",
     "output_type": "stream",
     "text": [
      "Choose the corresponding number of the correct star:  1\n"
     ]
    },
    {
     "name": "stdout",
     "output_type": "stream",
     "text": [
      "1 Gaia-EDR3 star found G=15.589052\n",
      "star coordinate at J2016.0: RA=18h22m00.25843s +/- 0.0357 mas, DEC=-22d28m10.6860s +/- 0.0313 mas\n",
      "\n",
      "Downloading star parameters from I/297/out\n",
      "2 stars were found within 2 arcsec from given coordinate.\n",
      "The list below is sorted by distance. Please select the correct star\n",
      "num dist(\")  Bmag   Vmag   Rmag   Jmag   Hmag   Kmag         RA___ICRS___DEC        \n",
      "--- ------- ------ ------ ------ ------ ------ ------ ------------------------------\n",
      "  1   0.718 17.600    nan    nan    nan    nan    nan 18h22m00.2627s -22d28m09.9700s\n",
      "  2   1.774 18.330    nan 14.500 12.419 11.471 11.128 18h22m00.1313s -22d28m10.8901s\n",
      "  0: Cancel\n"
     ]
    },
    {
     "name": "stdin",
     "output_type": "stream",
     "text": [
      "Choose the corresponding number of the correct star:  2\n"
     ]
    },
    {
     "name": "stdout",
     "output_type": "stream",
     "text": [
      "Magnitudes in ['V'] were not located in NOMAD\n"
     ]
    }
   ],
   "source": [
    "star2 = Star(coord='18 22 00.25777 -22 28 10.7057')"
   ]
  },
  {
   "cell_type": "markdown",
   "metadata": {},
   "source": [
    "**The default catalogue is the Gaia EDR3. However, the user can also use Gaia DR2.**"
   ]
  },
  {
   "cell_type": "code",
   "execution_count": 6,
   "metadata": {},
   "outputs": [
    {
     "name": "stdout",
     "output_type": "stream",
     "text": [
      "\n",
      "Downloading star parameters from I/345/gaia2\n",
      "1 Gaia-DR2 star found G=15.6153\n",
      "star coordinate at J2015.5: RA=18h22m00.25856s +/- 0.0565 mas, DEC=-22d28m10.6819s +/- 0.0537 mas\n",
      "\n",
      "Downloading star parameters from I/297/out\n",
      "2 stars were found within 2 arcsec from given coordinate.\n",
      "The list below is sorted by distance. Please select the correct star\n",
      "num dist(\")  Bmag   Vmag   Rmag   Jmag   Hmag   Kmag         RA___ICRS___DEC        \n",
      "--- ------- ------ ------ ------ ------ ------ ------ ------------------------------\n",
      "  1   0.714 17.600    nan    nan    nan    nan    nan 18h22m00.2627s -22d28m09.9700s\n",
      "  2   1.776 18.330    nan 14.500 12.419 11.471 11.128 18h22m00.1313s -22d28m10.8901s\n",
      "  0: Cancel\n"
     ]
    },
    {
     "name": "stdin",
     "output_type": "stream",
     "text": [
      "Choose the corresponding number of the correct star:  2\n"
     ]
    },
    {
     "name": "stdout",
     "output_type": "stream",
     "text": [
      "Magnitudes in ['V'] were not located in NOMAD\n"
     ]
    }
   ],
   "source": [
    "star2 = Star(coord='18 22 00.25777 -22 28 10.7057',catalogue='gaiadr2')"
   ]
  },
  {
   "cell_type": "markdown",
   "metadata": {},
   "source": [
    "Note that there are warnings if it does not find some information (in this case, the magnitudes from NOMAD)"
   ]
  },
  {
   "cell_type": "markdown",
   "metadata": {},
   "source": [
    "<a id=\"section_2\"></a>\n",
    "### 2. Changing or adding magnitudes\n",
    "\n",
    "If one necessary magnituge in a specific band is not found in NOMAD or the user wants to add a different value to be saved in the Star history, it can be done with set_magnitude"
   ]
  },
  {
   "cell_type": "code",
   "execution_count": 7,
   "metadata": {},
   "outputs": [
    {
     "data": {
      "text/plain": [
       "\u001b[0;31mSignature:\u001b[0m \u001b[0mstar\u001b[0m\u001b[0;34m.\u001b[0m\u001b[0mset_magnitude\u001b[0m\u001b[0;34m(\u001b[0m\u001b[0;34m**\u001b[0m\u001b[0mkwargs\u001b[0m\u001b[0;34m)\u001b[0m\u001b[0;34m\u001b[0m\u001b[0;34m\u001b[0m\u001b[0m\n",
       "\u001b[0;31mDocstring:\u001b[0m\n",
       "Sets the magnitudes of a star.\n",
       "\n",
       "Parameters:\n",
       "    (band name)=(float): The star magnitude for given band. The band name can be any string the user wants.\n",
       "\n",
       "Examples:\n",
       "    set_magnitude(G=10)\n",
       "    set_magnitude(K=15)\n",
       "    set_magnitude(newband=6)\n",
       "\u001b[0;31mFile:\u001b[0m      ~/Documentos/códigos/SORA/sora/star/core.py\n",
       "\u001b[0;31mType:\u001b[0m      method\n"
      ]
     },
     "metadata": {},
     "output_type": "display_data"
    }
   ],
   "source": [
    "star.set_magnitude?"
   ]
  },
  {
   "cell_type": "code",
   "execution_count": 8,
   "metadata": {},
   "outputs": [
    {
     "name": "stderr",
     "output_type": "stream",
     "text": [
      "/home/altair/Documentos/códigos/SORA/sora/star/core.py:107: UserWarning: V mag already defined. V=14.680000305175781 will be replaced by V=14.0\n",
      "  key, self.mag[key], mag))\n"
     ]
    }
   ],
   "source": [
    "# Changing an already existing band will show a warning, but the change is done.\n",
    "star.set_magnitude(V=14)"
   ]
  },
  {
   "cell_type": "code",
   "execution_count": 9,
   "metadata": {},
   "outputs": [
    {
     "data": {
      "text/plain": [
       "{'G': 15.341292,\n",
       " 'B': 15.460000038146973,\n",
       " 'V': 14.0,\n",
       " 'R': 15.239999771118164,\n",
       " 'J': 14.121000289916992,\n",
       " 'H': 13.77299976348877,\n",
       " 'K': 13.642999649047852}"
      ]
     },
     "execution_count": 9,
     "metadata": {},
     "output_type": "execute_result"
    }
   ],
   "source": [
    "star.mag"
   ]
  },
  {
   "cell_type": "markdown",
   "metadata": {},
   "source": [
    "**_Star.set_magnitude()_ does not have any pre-set band name, so the user can give whatever the name of the band. It must a string though.**"
   ]
  },
  {
   "cell_type": "code",
   "execution_count": 10,
   "metadata": {},
   "outputs": [],
   "source": [
    "star2.set_magnitude(x_ray=15, ultraviolet=10)"
   ]
  },
  {
   "cell_type": "code",
   "execution_count": 11,
   "metadata": {},
   "outputs": [
    {
     "data": {
      "text/plain": [
       "{'G': 15.6153,\n",
       " 'B': 18.329999923706055,\n",
       " 'R': 14.5,\n",
       " 'J': 12.418999671936035,\n",
       " 'H': 11.470999717712402,\n",
       " 'K': 11.128000259399414,\n",
       " 'x_ray': 15.0,\n",
       " 'ultraviolet': 10.0}"
      ]
     },
     "execution_count": 11,
     "metadata": {},
     "output_type": "execute_result"
    }
   ],
   "source": [
    "star2.mag"
   ]
  },
  {
   "cell_type": "markdown",
   "metadata": {},
   "source": [
    "<a id=\"section_3\"></a>\n",
    "### 3. Geocentric and Barycentric positions\n",
    "\n",
    "If the proper motion and parallax is found in the Gaia catalogue, the user can see ICRS coordinate of the star at any epoch. It can be barycentric (corrected from proper motion) or geocentric (corrected from proper motion and parallax).\n",
    "\n",
    "The returned variable is an Astropy SkyCoord object."
   ]
  },
  {
   "cell_type": "code",
   "execution_count": 12,
   "metadata": {},
   "outputs": [
    {
     "name": "stdout",
     "output_type": "stream",
     "text": [
      "<SkyCoord (ICRS): (ra, dec, distance) in (deg, deg, pc)\n",
      "    (275.50107735, -22.46963386, 5128.20512821)>\n"
     ]
    }
   ],
   "source": [
    "# The coord attribute shows the values kept for the star in RA, DEC, distance, proper motion and radial velocity\n",
    "print(star2.coord)"
   ]
  },
  {
   "cell_type": "code",
   "execution_count": 13,
   "metadata": {},
   "outputs": [
    {
     "name": "stdout",
     "output_type": "stream",
     "text": [
      "18h22m00.2586s -22d28m10.6819s\n"
     ]
    }
   ],
   "source": [
    "print(star2.coord.to_string('hmsdms'))"
   ]
  },
  {
   "cell_type": "code",
   "execution_count": 14,
   "metadata": {},
   "outputs": [
    {
     "data": {
      "text/plain": [
       "\u001b[0;31mSignature:\u001b[0m \u001b[0mstar2\u001b[0m\u001b[0;34m.\u001b[0m\u001b[0mbarycentric\u001b[0m\u001b[0;34m(\u001b[0m\u001b[0mtime\u001b[0m\u001b[0;34m)\u001b[0m\u001b[0;34m\u001b[0m\u001b[0;34m\u001b[0m\u001b[0m\n",
       "\u001b[0;31mDocstring:\u001b[0m\n",
       "Calculates the position of the star using proper motion\n",
       "\n",
       "Parameters:\n",
       "    time (str, Time): reference time to apply proper motion.\n",
       "\u001b[0;31mFile:\u001b[0m      ~/Documentos/códigos/SORA/sora/star/core.py\n",
       "\u001b[0;31mType:\u001b[0m      method\n"
      ]
     },
     "metadata": {},
     "output_type": "display_data"
    }
   ],
   "source": [
    "star2.barycentric?"
   ]
  },
  {
   "cell_type": "code",
   "execution_count": 15,
   "metadata": {},
   "outputs": [
    {
     "name": "stdout",
     "output_type": "stream",
     "text": [
      "18h22m00.25727s -22d28m10.72044s\n"
     ]
    }
   ],
   "source": [
    "pos = star2.barycentric('2020-05-15 00:00:00')\n",
    "print(pos.to_string('hmsdms', precision=5))"
   ]
  },
  {
   "cell_type": "code",
   "execution_count": 16,
   "metadata": {},
   "outputs": [
    {
     "data": {
      "text/plain": [
       "\u001b[0;31mSignature:\u001b[0m \u001b[0mstar\u001b[0m\u001b[0;34m.\u001b[0m\u001b[0mgeocentric\u001b[0m\u001b[0;34m(\u001b[0m\u001b[0mtime\u001b[0m\u001b[0;34m)\u001b[0m\u001b[0;34m\u001b[0m\u001b[0;34m\u001b[0m\u001b[0m\n",
       "\u001b[0;31mDocstring:\u001b[0m\n",
       "Calculates the position of the star, propagating the position using parallax and proper motion\n",
       "\n",
       "Parameters:\n",
       "    time (float, Time): reference time to apply proper motion and calculate paralax.\n",
       "\u001b[0;31mFile:\u001b[0m      ~/Documentos/códigos/SORA/sora/star/core.py\n",
       "\u001b[0;31mType:\u001b[0m      method\n"
      ]
     },
     "metadata": {},
     "output_type": "display_data"
    }
   ],
   "source": [
    "star.geocentric?"
   ]
  },
  {
   "cell_type": "code",
   "execution_count": 17,
   "metadata": {},
   "outputs": [
    {
     "name": "stdout",
     "output_type": "stream",
     "text": [
      "18h22m00.25728s -22d28m10.72043s\n"
     ]
    }
   ],
   "source": [
    "pos = star2.geocentric('2020-05-15 00:00:00')\n",
    "print(pos.to_string('hmsdms', precision=5))"
   ]
  },
  {
   "cell_type": "markdown",
   "metadata": {},
   "source": [
    "**The position error projected at epoch can also be called out. This is done using the formalism proposed by Butkevich et al., 2014, using the parameters and covariance matrix from Gaia catalogue (EDR3 or DR2).**"
   ]
  },
  {
   "cell_type": "code",
   "execution_count": 18,
   "metadata": {},
   "outputs": [
    {
     "data": {
      "text/plain": [
       "(<Quantity 0.51363853 mas>, <Quantity 0.44979432 mas>)"
      ]
     },
     "execution_count": 18,
     "metadata": {},
     "output_type": "execute_result"
    }
   ],
   "source": [
    "star2.error_at('2020-05-15 00:00:00')"
   ]
  },
  {
   "cell_type": "markdown",
   "metadata": {},
   "source": [
    "<a id=\"section_4\"></a>\n",
    "### 4. Adding offsets\n",
    "\n",
    "The Gaia coordinate is expected to be the most precise coordinate published so far. However, if the user has the need to add an offset to the coordinate, it can be done with add_offset. The input values must be in $\\Delta\\alpha\\cos\\delta$ and $\\Delta\\delta$, in mas. The application of the offset is done only in the geocentric function."
   ]
  },
  {
   "cell_type": "code",
   "execution_count": 19,
   "metadata": {},
   "outputs": [
    {
     "data": {
      "text/plain": [
       "'18h22m00.2573s -22d28m10.7204s'"
      ]
     },
     "execution_count": 19,
     "metadata": {},
     "output_type": "execute_result"
    }
   ],
   "source": [
    "star2.geocentric('2020-05-15 00:00:00').to_string('hmsdms')"
   ]
  },
  {
   "cell_type": "code",
   "execution_count": 20,
   "metadata": {},
   "outputs": [],
   "source": [
    "star2.add_offset(40,50)"
   ]
  },
  {
   "cell_type": "code",
   "execution_count": 21,
   "metadata": {},
   "outputs": [
    {
     "data": {
      "text/plain": [
       "'18h22m00.2602s -22d28m10.6704s'"
      ]
     },
     "execution_count": 21,
     "metadata": {},
     "output_type": "execute_result"
    }
   ],
   "source": [
    "star2.geocentric('2020-05-15 00:00:00').to_string('hmsdms')"
   ]
  },
  {
   "cell_type": "markdown",
   "metadata": {},
   "source": [
    "<a id=\"section_5\"></a>\n",
    "### 5. The Apparent Diameter of the star\n",
    "\n",
    "SORA is able to calculate the apparent diameter of a star at a given distance using the star radius of the Gaia catalogue or the angular diameter calculated from the methods of Kervella (2004) or van Belle (1999). These functions can be used alone, or within the Star object."
   ]
  },
  {
   "cell_type": "code",
   "execution_count": 22,
   "metadata": {},
   "outputs": [],
   "source": [
    "from sora.star import kervella, van_belle"
   ]
  },
  {
   "cell_type": "markdown",
   "metadata": {},
   "source": [
    "**The functions will return the diameter calculated for B and V magnitudes, in mas**"
   ]
  },
  {
   "cell_type": "code",
   "execution_count": 23,
   "metadata": {},
   "outputs": [
    {
     "data": {
      "text/plain": [
       "{'V': <Quantity 0.03912911 mas>, 'B': <Quantity 0.03280198 mas>}"
      ]
     },
     "execution_count": 23,
     "metadata": {},
     "output_type": "execute_result"
    }
   ],
   "source": [
    "kervella(magB=10, magV=11, magK=10)"
   ]
  },
  {
   "cell_type": "markdown",
   "metadata": {},
   "source": [
    "**In the case of van_belle function, the result is given for Super Giant \"sg\", Main Sequence \"ms\" and Variable Star \"vs\"**"
   ]
  },
  {
   "cell_type": "code",
   "execution_count": 24,
   "metadata": {},
   "outputs": [
    {
     "data": {
      "text/plain": [
       "{'sg': {'B': <Quantity 0.04446313 mas>, 'V': <Quantity 0.04920395 mas>},\n",
       " 'ms': {'B': <Quantity 0.03162278 mas>, 'V': <Quantity 0.03664376 mas>},\n",
       " 'vs': {'B': <Quantity 0.0691831 mas>, 'V': <Quantity 0.06412096 mas>}}"
      ]
     },
     "execution_count": 24,
     "metadata": {},
     "output_type": "execute_result"
    }
   ],
   "source": [
    "van_belle(magB=10, magV=11, magK=10)"
   ]
  },
  {
   "cell_type": "markdown",
   "metadata": {},
   "source": [
    "**If a Star object is defined and the B, V and K magnitudes are defined, it can be directly called as:**"
   ]
  },
  {
   "cell_type": "code",
   "execution_count": 25,
   "metadata": {},
   "outputs": [
    {
     "data": {
      "text/plain": [
       "{'V': <Quantity 0.00653663 mas>, 'B': <Quantity 0.00766495 mas>}"
      ]
     },
     "execution_count": 25,
     "metadata": {},
     "output_type": "execute_result"
    }
   ],
   "source": [
    "star.kervella()"
   ]
  },
  {
   "cell_type": "code",
   "execution_count": 26,
   "metadata": {},
   "outputs": [
    {
     "data": {
      "text/plain": [
       "{'sg': {'B': <Quantity 0.00903109 mas>, 'V': <Quantity 0.00888405 mas>},\n",
       " 'ms': {'B': <Quantity 0.00860855 mas>, 'V': <Quantity 0.00622656 mas>},\n",
       " 'vs': {'B': <Quantity 0.01353278 mas>, 'V': <Quantity 0.01166342 mas>}}"
      ]
     },
     "execution_count": 26,
     "metadata": {},
     "output_type": "execute_result"
    }
   ],
   "source": [
    "star.van_belle()"
   ]
  },
  {
   "cell_type": "markdown",
   "metadata": {},
   "source": [
    "**For a Star object, to see the apparent diameter, in km, at a given distance, the apparent_diameter method can be used.**\n",
    "\n",
    "If no parameter is given, the source will be automatically chosen given the following sequence:\n",
    "\n",
    "    - A value given by the user\n",
    "    - The star radius obtained from Gaia.\n",
    "    - The apparent diameter calculated from Kervella at V band\n",
    "    - The apparent diameter calculated from van Belle at V band for a Super Giant star."
   ]
  },
  {
   "cell_type": "code",
   "execution_count": 27,
   "metadata": {},
   "outputs": [
    {
     "data": {
      "text/plain": [
       "\u001b[0;31mSignature:\u001b[0m\n",
       "\u001b[0mstar\u001b[0m\u001b[0;34m.\u001b[0m\u001b[0mapparent_diameter\u001b[0m\u001b[0;34m(\u001b[0m\u001b[0;34m\u001b[0m\n",
       "\u001b[0;34m\u001b[0m    \u001b[0mdistance\u001b[0m\u001b[0;34m,\u001b[0m\u001b[0;34m\u001b[0m\n",
       "\u001b[0;34m\u001b[0m    \u001b[0mmode\u001b[0m\u001b[0;34m=\u001b[0m\u001b[0;34m'auto'\u001b[0m\u001b[0;34m,\u001b[0m\u001b[0;34m\u001b[0m\n",
       "\u001b[0;34m\u001b[0m    \u001b[0mband\u001b[0m\u001b[0;34m=\u001b[0m\u001b[0;34m'V'\u001b[0m\u001b[0;34m,\u001b[0m\u001b[0;34m\u001b[0m\n",
       "\u001b[0;34m\u001b[0m    \u001b[0mstar_type\u001b[0m\u001b[0;34m=\u001b[0m\u001b[0;34m'sg'\u001b[0m\u001b[0;34m,\u001b[0m\u001b[0;34m\u001b[0m\n",
       "\u001b[0;34m\u001b[0m    \u001b[0mlog\u001b[0m\u001b[0;34m=\u001b[0m\u001b[0;32mTrue\u001b[0m\u001b[0;34m,\u001b[0m\u001b[0;34m\u001b[0m\n",
       "\u001b[0;34m\u001b[0m\u001b[0;34m)\u001b[0m\u001b[0;34m\u001b[0m\u001b[0;34m\u001b[0m\u001b[0m\n",
       "\u001b[0;31mDocstring:\u001b[0m\n",
       "Calculates the apparent diameter of the star at a given distance\n",
       "\n",
       "Parameters:\n",
       "    distance (int, float): Object geocentric distance, in AU\n",
       "    mode (str): The mode to calculate the apparent diameter\n",
       "        'user': calculates using user given diameter\n",
       "        'gaia': calculates using diameter obtained from Gaia\n",
       "        'kervella': calculates using Kervella equations\n",
       "        'van_belle': calculates using van Belle equations\n",
       "        'auto' (default): tries all the above methods until it is able to calculate diameter.\n",
       "            The order of try is the same as shown above (user, Gaia, Kervella, Van Belle).\n",
       "    'band' (str): The band filter to calculate the diameter.\n",
       "        If mode is 'kervella' or 'van_belle', the filter must be given, 'B' or 'V'.\n",
       "        If mode 'auto', 'V' is selected.\n",
       "    'star_type' (str): type of star to calculate the diameter.\n",
       "        If mode is 'van_belle', the star type must be given.\n",
       "        If mode is 'auto', type = 'sg'.\n",
       "        Types can be:\n",
       "            - 'sg' for 'Super Giant'\n",
       "            - 'ms' for 'Main Sequence'\n",
       "            - 'vs' for 'Variable Star'\n",
       "    'log' (bool): If True, it prints the mode used by 'auto'.\n",
       "\u001b[0;31mFile:\u001b[0m      ~/Documentos/códigos/SORA/sora/star/core.py\n",
       "\u001b[0;31mType:\u001b[0m      method\n"
      ]
     },
     "metadata": {},
     "output_type": "display_data"
    }
   ],
   "source": [
    "star.apparent_diameter?"
   ]
  },
  {
   "cell_type": "code",
   "execution_count": 28,
   "metadata": {},
   "outputs": [
    {
     "name": "stdout",
     "output_type": "stream",
     "text": [
      "Apparent diameter using Kervella et al. (2004)\n"
     ]
    },
    {
     "data": {
      "text/latex": [
       "$0.04266742 \\; \\mathrm{km}$"
      ],
      "text/plain": [
       "<Quantity 0.04266742 km>"
      ]
     },
     "execution_count": 28,
     "metadata": {},
     "output_type": "execute_result"
    }
   ],
   "source": [
    "star.apparent_diameter(9)"
   ]
  },
  {
   "cell_type": "markdown",
   "metadata": {},
   "source": [
    "**To set an user diameter, in mas**"
   ]
  },
  {
   "cell_type": "code",
   "execution_count": 29,
   "metadata": {},
   "outputs": [],
   "source": [
    "star.set_diameter(0.05)"
   ]
  },
  {
   "cell_type": "code",
   "execution_count": 30,
   "metadata": {},
   "outputs": [
    {
     "name": "stdout",
     "output_type": "stream",
     "text": [
      "Calculating apparent diameter from user defined diameter\n"
     ]
    },
    {
     "data": {
      "text/latex": [
       "$0.32637192 \\; \\mathrm{km}$"
      ],
      "text/plain": [
       "<Quantity 0.32637192 km>"
      ]
     },
     "execution_count": 30,
     "metadata": {},
     "output_type": "execute_result"
    }
   ],
   "source": [
    "star.apparent_diameter(9)"
   ]
  },
  {
   "cell_type": "markdown",
   "metadata": {},
   "source": [
    "To choose the source of calculation, just select in the mode parameter. If mode='kervella', the user must give 'band' as 'B or 'V'. If mode='van_belle', the user must give the band and the type of star in star_type as 'sg', 'ms', or 'vs'. If not given, band='V' and star_type='sg'."
   ]
  },
  {
   "cell_type": "code",
   "execution_count": 31,
   "metadata": {},
   "outputs": [
    {
     "name": "stdout",
     "output_type": "stream",
     "text": [
      "Apparent diameter using Kervella et al. (2004)\n"
     ]
    },
    {
     "data": {
      "text/latex": [
       "$0.045037832 \\; \\mathrm{km}$"
      ],
      "text/plain": [
       "<Quantity 0.04503783 km>"
      ]
     },
     "execution_count": 31,
     "metadata": {},
     "output_type": "execute_result"
    }
   ],
   "source": [
    "star.apparent_diameter(9.5, mode='kervella')"
   ]
  },
  {
   "cell_type": "code",
   "execution_count": 32,
   "metadata": {},
   "outputs": [
    {
     "name": "stdout",
     "output_type": "stream",
     "text": [
      "Apparent diameter using van Belle (1999)\n"
     ]
    },
    {
     "data": {
      "text/latex": [
       "$0.05931356 \\; \\mathrm{km}$"
      ],
      "text/plain": [
       "<Quantity 0.05931356 km>"
      ]
     },
     "execution_count": 32,
     "metadata": {},
     "output_type": "execute_result"
    }
   ],
   "source": [
    "star.apparent_diameter(9.5, mode='van_belle', band='B', star_type='ms')"
   ]
  },
  {
   "cell_type": "markdown",
   "metadata": {},
   "source": [
    "**This Jupyter-Notebook was designed as a tutorial for how to work with the Star Object Class. More information about the other classes, please refer to their specif Jupyter-Notebook. Any further question, please contact the core team: Altair Ramos Gomes Júnior, Bruno Eduardo Morgado, Gustavo Benedetti Rossi, and Rodrigo Carlos Boufleur.**\n",
    "\n",
    "# The End"
   ]
  },
  {
   "cell_type": "code",
   "execution_count": null,
   "metadata": {},
   "outputs": [],
   "source": []
  }
 ],
 "metadata": {
  "kernelspec": {
   "display_name": "Python 3",
   "language": "python",
   "name": "python3"
  },
  "language_info": {
   "codemirror_mode": {
    "name": "ipython",
    "version": 3
   },
   "file_extension": ".py",
   "mimetype": "text/x-python",
   "name": "python",
   "nbconvert_exporter": "python",
   "pygments_lexer": "ipython3",
   "version": "3.7.9"
  }
 },
 "nbformat": 4,
 "nbformat_minor": 4
}
