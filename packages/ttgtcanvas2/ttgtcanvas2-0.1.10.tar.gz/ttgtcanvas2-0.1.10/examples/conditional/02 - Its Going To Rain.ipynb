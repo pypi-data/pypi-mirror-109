{
 "cells": [
  {
   "cell_type": "code",
   "execution_count": 14,
   "metadata": {},
   "outputs": [],
   "source": [
    "import worlds.two"
   ]
  },
  {
   "cell_type": "code",
   "execution_count": 15,
   "metadata": {},
   "outputs": [],
   "source": [
    "def check(solve):\n",
    "    maze = worlds.two.generate_maze()\n",
    "    bot = maze.bot()\n",
    "    bot.set_trace('red')\n",
    "    solve(bot)\n",
    "    maze.check()\n",
    "    return maze"
   ]
  },
  {
   "cell_type": "code",
   "execution_count": 16,
   "metadata": {},
   "outputs": [
    {
     "data": {
      "application/vnd.jupyter.widget-view+json": {
       "model_id": "07e74df557c647dbb1b71ff9a3bf6008",
       "version_major": 2,
       "version_minor": 0
      },
      "text/plain": [
       "Maze()"
      ]
     },
     "metadata": {},
     "output_type": "display_data"
    },
    {
     "name": "stdout",
     "output_type": "stream",
     "text": [
      "False\n"
     ]
    },
    {
     "data": {
      "text/html": [
       "<text style=color:red>✗ Wall Already exists</text>"
      ],
      "text/plain": [
       "<IPython.core.display.HTML object>"
      ]
     },
     "metadata": {},
     "output_type": "display_data"
    },
    {
     "data": {
      "text/html": [
       "<text style=color:green>✓ Expected: Final Position: 4,5</text>"
      ],
      "text/plain": [
       "<IPython.core.display.HTML object>"
      ]
     },
     "metadata": {},
     "output_type": "display_data"
    },
    {
     "data": {
      "text/html": [
       "<text style=color:green>✓ Expected: Build walls at:  6,7</text>"
      ],
      "text/plain": [
       "<IPython.core.display.HTML object>"
      ]
     },
     "metadata": {},
     "output_type": "display_data"
    },
    {
     "data": {
      "text/html": [
       "<text style=color:green>✓ Expected: Build walls at:  6,7</text>"
      ],
      "text/plain": [
       "<IPython.core.display.HTML object>"
      ]
     },
     "metadata": {},
     "output_type": "display_data"
    },
    {
     "data": {
      "text/html": [
       "<text style=color:green>✓ Expected: Build walls at:  9,2</text>"
      ],
      "text/plain": [
       "<IPython.core.display.HTML object>"
      ]
     },
     "metadata": {},
     "output_type": "display_data"
    },
    {
     "data": {
      "text/html": [
       "<text style=color:green>✓ Expected: Build walls at:  9,2</text>"
      ],
      "text/plain": [
       "<IPython.core.display.HTML object>"
      ]
     },
     "metadata": {},
     "output_type": "display_data"
    },
    {
     "data": {
      "text/html": [
       "<text style=color:green>✓ Expected: Build walls at:  10,6</text>"
      ],
      "text/plain": [
       "<IPython.core.display.HTML object>"
      ]
     },
     "metadata": {},
     "output_type": "display_data"
    },
    {
     "data": {
      "text/html": [
       "<text style=color:green>✓ Expected: Build walls at:  10,6</text>"
      ],
      "text/plain": [
       "<IPython.core.display.HTML object>"
      ]
     },
     "metadata": {},
     "output_type": "display_data"
    },
    {
     "data": {
      "application/vnd.jupyter.widget-view+json": {
       "model_id": "07e74df557c647dbb1b71ff9a3bf6008",
       "version_major": 2,
       "version_minor": 0
      },
      "text/plain": [
       "Maze(current_call='{\"method_name\": \"set_succes_msg\", \"params\": [\"\\\\ud83c\\\\udf89 Task Completed\"], \"cb\": \"65249…"
      ]
     },
     "metadata": {},
     "output_type": "display_data"
    }
   ],
   "source": [
    "def turn_right(bot):\n",
    "    bot.turn_left()\n",
    "    bot.turn_left()\n",
    "    bot.turn_left()\n",
    "    \n",
    "def solve(bot):\n",
    "    bot.move()\n",
    "    turn_right(bot)\n",
    "    bot.move()\n",
    "    print(bot.at_goal())\n",
    "    while not bot.at_goal():\n",
    "        bot.move()\n",
    "        if bot.wall_on_front():\n",
    "            bot.turn_left()\n",
    "        if not bot.wall_on_right():\n",
    "            turn_right(bot)\n",
    "            bot.build_wall()\n",
    "            bot.turn_left()\n",
    "            \n",
    "check(solve)"
   ]
  },
  {
   "cell_type": "code",
   "execution_count": null,
   "metadata": {},
   "outputs": [],
   "source": []
  }
 ],
 "metadata": {
  "kernelspec": {
   "display_name": "Python 3",
   "language": "python",
   "name": "python3"
  },
  "language_info": {
   "codemirror_mode": {
    "name": "ipython",
    "version": 3
   },
   "file_extension": ".py",
   "mimetype": "text/x-python",
   "name": "python",
   "nbconvert_exporter": "python",
   "pygments_lexer": "ipython3",
   "version": "3.8.8"
  }
 },
 "nbformat": 4,
 "nbformat_minor": 4
}
