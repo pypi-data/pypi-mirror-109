{
 "cells": [
  {
   "cell_type": "markdown",
   "metadata": {},
   "source": [
    "# Introduction"
   ]
  },
  {
   "cell_type": "code",
   "execution_count": 1,
   "metadata": {},
   "outputs": [],
   "source": [
    "%load_ext autoreload\n",
    "\n",
    "%autoreload 1"
   ]
  },
  {
   "cell_type": "code",
   "execution_count": 2,
   "metadata": {},
   "outputs": [],
   "source": [
    "\n",
    "import worlds.test as test"
   ]
  },
  {
   "cell_type": "code",
   "execution_count": 3,
   "metadata": {},
   "outputs": [],
   "source": [
    "def check(solve):\n",
    "    maze = test.generate_maze()\n",
    "    bot = maze.bot()\n",
    "    bot.set_trace('red')\n",
    "    solve(bot)\n",
    "    maze.check()\n",
    "    return maze"
   ]
  },
  {
   "cell_type": "code",
   "execution_count": 4,
   "metadata": {},
   "outputs": [
    {
     "data": {
      "text/html": [
       "<div style='background:#FFFFC8;padding: 10px'> <text style=color:black><h1>Fruit picking</h1>\n",
       "<p>Reeborg works at his aunt's farm. Each morning,\n",
       "    his aunt put a fruit on a table. Reeborg picks\n",
       "    that fruit and knows that it must pick all the\n",
       "    other fruits of the same kind.</p>\n",
       "<p>First, write a short program as follows; \n",
       "if you are using Python:</p>\n",
       "<pre class='python'>\n",
       "move()\n",
       "move()\n",
       "print(object_here())\n",
       "</pre>\n",
       "<p>If you use Javascript, try this instead:</p>\n",
       "<pre class='javascript'>\n",
       "move();\n",
       "move();\n",
       "writeln(object_here());\n",
       "</pre>\n",
       "<p>After running this program, you should know how\n",
       "    to get the name of the fruit to pick.\n",
       "</p>\n",
       "<p>Once you know how to get the required information,\n",
       "    in your program to help Reeborg accomplish its\n",
       "    task, you will likely want to use a variable, \n",
       "    possibly called <code>fruit</code>, \n",
       "    to know what fruit to harvest.</p>\n",
       "<h3>What you need to know</h3>\n",
       "<ul><li>The functions <code>move()</code>, <code>turn_left()</code>, \n",
       "    and <code>take()</code>.</li>\n",
       "<li>The condition (function) <code>object_here()</code>.</li>\n",
       "<li>How to use <code>if</code> statements.</li>\n",
       "    <li>How to call a function with an argument.</li>\n",
       "    <li>How to compare two strings using <code>==</code></li>\n",
       "    <li>Python: how to use the index of a list to get its first item.</li>\n",
       "    <li>Javascript: how to use the index of an array to get its first item.</li>\n",
       "</ul>\n",
       "DIFFICULTY4\n",
       "</text></div>"
      ],
      "text/plain": [
       "<IPython.core.display.HTML object>"
      ]
     },
     "metadata": {},
     "output_type": "display_data"
    },
    {
     "data": {
      "application/vnd.jupyter.widget-view+json": {
       "model_id": "9b413217f9184b0cb08ed7921cda6cd1",
       "version_major": 2,
       "version_minor": 0
      },
      "text/plain": [
       "Maze()"
      ]
     },
     "metadata": {},
     "output_type": "display_data"
    },
    {
     "name": "stdout",
     "output_type": "stream",
     "text": [
      "Help on Robot in module ttgtcanvas2.robot object:\n",
      "\n",
      "class Robot(builtins.object)\n",
      " |  Robot(index, robot_model, world)\n",
      " |  \n",
      " |  Methods defined here:\n",
      " |  \n",
      " |  __init__(self, index, robot_model, world)\n",
      " |      Initialize self.  See help(type(self)) for accurate signature.\n",
      " |  \n",
      " |  at_goal(self)\n",
      " |      Checks if bot is at goal position.\n",
      " |      \n",
      " |      Returns\n",
      " |      -------\n",
      " |      bool\n",
      " |          Returns True if bot is at goal position.\n",
      " |      \n",
      " |      Examples\n",
      " |      --------\n",
      " |      >>> bot.at_goal()\n",
      " |      True\n",
      " |  \n",
      " |  build_wall(self)\n",
      " |      Builds wall if there is No wall or border in front of robot \n",
      " |          and its allowed.\n",
      " |      \n",
      " |      Examples\n",
      " |      --------\n",
      " |      >>> bot.build_wall()\n",
      " |  \n",
      " |  cell(self)\n",
      " |  \n",
      " |  done(self)\n",
      " |      Checks if all the goals are completed.\n",
      " |      \n",
      " |      Returns\n",
      " |      -------\n",
      " |      bool\n",
      " |          Returns True if all the goals are completed.\n",
      " |      \n",
      " |      Examples\n",
      " |      --------\n",
      " |      >>> bot.done()\n",
      " |      True\n",
      " |  \n",
      " |  front_is_clear(self)\n",
      " |      Checks if no wall or border in front of robot.\n",
      " |      \n",
      " |      Returns\n",
      " |      -------\n",
      " |      bool\n",
      " |          Returns True if no wall or border in front of robot.\n",
      " |      \n",
      " |      Examples\n",
      " |      --------\n",
      " |      >>> bot.front_is_clear()\n",
      " |      True\n",
      " |  \n",
      " |  has_object(self, obj_name=None)\n",
      " |      Checks if there is  object on the current cell.\n",
      " |      Parameters\n",
      " |      ---------\n",
      " |      obj_name : str\n",
      " |      object name like carrot, beeper, star, apple\n",
      " |      \n",
      " |      Returns\n",
      " |      -------\n",
      " |      int\n",
      " |          Returns object count  if there is  object on the current cell.\n",
      " |      \n",
      " |      Examples\n",
      " |      --------\n",
      " |      >>> bot.has_object()\n",
      " |      1\n",
      " |      \n",
      " |      >>> bot.has_object('apple')\n",
      " |      3\n",
      " |  \n",
      " |  is_front_clear(self)\n",
      " |      Checks if no wall or border in front of robot.\n",
      " |      \n",
      " |      Returns\n",
      " |      -------\n",
      " |      bool\n",
      " |          Returns True if no wall or border in front of robot.\n",
      " |      \n",
      " |      Examples\n",
      " |      --------\n",
      " |      >>> bot.is_front_clear()\n",
      " |      True\n",
      " |  \n",
      " |  move(self, step=1)\n",
      " |      Move one step in direction where robot is facing.\n",
      " |      \n",
      " |      Parameters\n",
      " |      ---------\n",
      " |      step : int\n",
      " |      number of steps to move\n",
      " |      \n",
      " |      Examples\n",
      " |      --------\n",
      " |      For moving one step\n",
      " |      >>> bot.move()\n",
      " |      \n",
      " |      For moving 10 step\n",
      " |      >>> bot.move(10)\n",
      " |  \n",
      " |  object_here(self)\n",
      " |      Checks if there is  object on the current cell.\n",
      " |      \n",
      " |      Returns\n",
      " |      -------\n",
      " |      str\n",
      " |          Returns object name if there is  object on the current cell.\n",
      " |      \n",
      " |      Examples\n",
      " |      --------\n",
      " |      >>> bot.object_here()\n",
      " |      \"apple\"\n",
      " |  \n",
      " |  on_object(self, obj_type=None)\n",
      " |      Checks if there is  object on the current cell.\n",
      " |      Parameters\n",
      " |      ---------\n",
      " |      obj_type : str\n",
      " |      object name like carrot, beeper, star, apple\n",
      " |      \n",
      " |      Returns\n",
      " |      -------\n",
      " |      int\n",
      " |          Returns True  if there is  object on the current cell.\n",
      " |      \n",
      " |      Examples\n",
      " |      --------\n",
      " |      >>> bot.on_object()\n",
      " |      True\n",
      " |      \n",
      " |      >>> bot.on_object('apple')\n",
      " |      False\n",
      " |  \n",
      " |  put(self)\n",
      " |      Places the last picked object on the current cell.\n",
      " |      \n",
      " |      Examples\n",
      " |      --------\n",
      " |      >>> bot.put()\n",
      " |  \n",
      " |  remove_wall(self)\n",
      " |      Removes wall if there is  wall in front of robot \n",
      " |      \n",
      " |      Examples\n",
      " |      --------\n",
      " |      >>> bot.remove_wall()\n",
      " |  \n",
      " |  report(self, msg)\n",
      " |      Reports the msg to Reporter goal\n",
      " |      \n",
      " |      Parameters\n",
      " |      ---------\n",
      " |      msg : str\n",
      " |      message to report\n",
      " |      \n",
      " |      Examples\n",
      " |      --------\n",
      " |      >>> bot.report(\"Counted 10 apples\")\n",
      " |  \n",
      " |  right_is_clear(self)\n",
      " |      Checks if no wall or border in right of robot.\n",
      " |      \n",
      " |      Returns\n",
      " |      -------\n",
      " |      bool\n",
      " |          Returns True if no wall or border in right of robot.\n",
      " |      \n",
      " |      Examples\n",
      " |      --------\n",
      " |      >>> bot.right_is_clear()\n",
      " |      True\n",
      " |  \n",
      " |  set_speed(self, speed=0.1)\n",
      " |          sets the speed for the bot movement in seconds.\n",
      " |      \n",
      " |      Examples\n",
      " |      --------\n",
      " |      >>> bot.set_speed(1)\n",
      " |  \n",
      " |  set_trace(self, color='red')\n",
      " |          sets a new trace in that color.\n",
      " |      \n",
      " |      Examples\n",
      " |      --------\n",
      " |      >>> bot.set_trace('red')\n",
      " |  \n",
      " |  take(self, obj_type=None)\n",
      " |      Collects the object of the current cell.\n",
      " |      \n",
      " |      Examples\n",
      " |      --------\n",
      " |      >>> bot.take()\n",
      " |  \n",
      " |  turn_left(self)\n",
      " |      Rotate left by 90 degrees.\n",
      " |      \n",
      " |      Examples\n",
      " |      --------\n",
      " |      >>> bot.turn_left()\n",
      " |  \n",
      " |  wall_on_front(self)\n",
      " |      Checks if there is  wall or border in front of robot.\n",
      " |      \n",
      " |      Returns\n",
      " |      -------\n",
      " |      bool\n",
      " |          Returns True if there is  wall or border in front of robot.\n",
      " |      \n",
      " |      Examples\n",
      " |      --------\n",
      " |      >>> bot.wall_on_front()\n",
      " |      True\n",
      " |  \n",
      " |  wall_on_right(self)\n",
      " |      Checks if there is  wall or border in right of robot.\n",
      " |      \n",
      " |      Returns\n",
      " |      -------\n",
      " |      bool\n",
      " |          Returns True if there is  wall or border in right of robot.\n",
      " |      \n",
      " |      Examples\n",
      " |      --------\n",
      " |      >>> bot.wall_on_right()\n",
      " |      True\n",
      " |  \n",
      " |  ----------------------------------------------------------------------\n",
      " |  Data descriptors defined here:\n",
      " |  \n",
      " |  __dict__\n",
      " |      dictionary for instance variables (if defined)\n",
      " |  \n",
      " |  __weakref__\n",
      " |      list of weak references to the object (if defined)\n",
      " |  \n",
      " |  dir\n",
      " |  \n",
      " |  x\n",
      " |  \n",
      " |  y\n",
      "\n",
      "Picking: apple\n",
      "136\n"
     ]
    },
    {
     "data": {
      "text/html": [
       "<text style=color:green>✓ Report: I counted 10 apple</text>"
      ],
      "text/plain": [
       "<IPython.core.display.HTML object>"
      ]
     },
     "metadata": {},
     "output_type": "display_data"
    }
   ],
   "source": [
    "def turn_right(bot):\n",
    "    bot.turn_left()\n",
    "    bot.turn_left()\n",
    "    bot.turn_left()\n",
    "\n",
    "def move_and_pick(bot, fruit, n = 1):\n",
    "    count = 0\n",
    "    for i in range(n):\n",
    "            bot.move()\n",
    "            if bot.object_here() == fruit:\n",
    "                bot.take()\n",
    "                count += 1\n",
    "    return count\n",
    "\n",
    "    \n",
    "def solve(bot):\n",
    "#     pass\n",
    "    help(bot)\n",
    "    fruit_count = 0\n",
    "    fruit_name = None\n",
    "    bot.move(2)\n",
    "    fruit_name = bot.object_here()\n",
    "    print(\"Picking: \" + fruit_name )\n",
    "    bot.turn_left()\n",
    "    bot.move()\n",
    "    for y in range(3):\n",
    "        if bot.object_here() == fruit_name:\n",
    "            bot.take()\n",
    "            fruit_count += 1\n",
    "        fruit_count  += move_and_pick(bot, fruit_name, 6)\n",
    "        turn_right(bot)\n",
    "        fruit_count  += move_and_pick(bot, fruit_name, 1)\n",
    "        turn_right(bot)\n",
    "        \n",
    "        fruit_count  += move_and_pick(bot, fruit_name, 6)\n",
    "        bot.turn_left()\n",
    "        fruit_count  += move_and_pick(bot, fruit_name, 1)\n",
    "        bot.turn_left()\n",
    "\n",
    "        \n",
    "    bot.report(\"I counted {} {}\".format(fruit_count, fruit_name))\n",
    "    print(bot.world_model.instruction_count)\n",
    "\n",
    "m = check(solve)"
   ]
  },
  {
   "cell_type": "code",
   "execution_count": 17,
   "metadata": {},
   "outputs": [
    {
     "ename": "TypeError",
     "evalue": "filter expected 2 arguments, got 1",
     "output_type": "error",
     "traceback": [
      "\u001b[0;31m---------------------------------------------------------------------------\u001b[0m",
      "\u001b[0;31mTypeError\u001b[0m                                 Traceback (most recent call last)",
      "\u001b[0;32m<ipython-input-17-48c3708877ea>\u001b[0m in \u001b[0;36m<module>\u001b[0;34m\u001b[0m\n\u001b[0;32m----> 1\u001b[0;31m \u001b[0mfilter\u001b[0m\u001b[0;34m(\u001b[0m\u001b[0;32mlambda\u001b[0m\u001b[0;34m:\u001b[0m \u001b[0mx\u001b[0m\u001b[0;34m)\u001b[0m\u001b[0;34m\u001b[0m\u001b[0;34m\u001b[0m\u001b[0m\n\u001b[0m",
      "\u001b[0;31mTypeError\u001b[0m: filter expected 2 arguments, got 1"
     ]
    }
   ],
   "source": [
    "filter(lambda: x)"
   ]
  },
  {
   "cell_type": "code",
   "execution_count": null,
   "metadata": {},
   "outputs": [],
   "source": [
    "bot.move(2)"
   ]
  },
  {
   "cell_type": "code",
   "execution_count": 22,
   "metadata": {},
   "outputs": [],
   "source": [
    "turn_right(bot)"
   ]
  },
  {
   "cell_type": "code",
   "execution_count": 24,
   "metadata": {},
   "outputs": [],
   "source": [
    "bot.turn_left()"
   ]
  },
  {
   "cell_type": "code",
   "execution_count": 51,
   "metadata": {},
   "outputs": [],
   "source": [
    "bot.build_wall()"
   ]
  },
  {
   "cell_type": "code",
   "execution_count": 1,
   "metadata": {},
   "outputs": [
    {
     "ename": "NameError",
     "evalue": "name 'm' is not defined",
     "output_type": "error",
     "traceback": [
      "\u001b[0;31m---------------------------------------------------------------------------\u001b[0m",
      "\u001b[0;31mNameError\u001b[0m                                 Traceback (most recent call last)",
      "\u001b[0;32m<ipython-input-1-48412bd059ee>\u001b[0m in \u001b[0;36m<module>\u001b[0;34m\u001b[0m\n\u001b[0;32m----> 1\u001b[0;31m \u001b[0mm\u001b[0m\u001b[0;34m.\u001b[0m\u001b[0mmodel\u001b[0m\u001b[0;34m.\u001b[0m\u001b[0mgoals\u001b[0m\u001b[0;34m[\u001b[0m\u001b[0;36m0\u001b[0m\u001b[0;34m]\u001b[0m\u001b[0;34m.\u001b[0m\u001b[0mis_completed\u001b[0m\u001b[0;34m(\u001b[0m\u001b[0mbot\u001b[0m\u001b[0;34m)\u001b[0m\u001b[0;34m\u001b[0m\u001b[0;34m\u001b[0m\u001b[0m\n\u001b[0m",
      "\u001b[0;31mNameError\u001b[0m: name 'm' is not defined"
     ]
    }
   ],
   "source": [
    "m.model.goals[0].is_completed(bot)"
   ]
  },
  {
   "cell_type": "code",
   "execution_count": 5,
   "metadata": {},
   "outputs": [
    {
     "data": {
      "text/plain": [
       "False"
      ]
     },
     "execution_count": 5,
     "metadata": {},
     "output_type": "execute_result"
    }
   ],
   "source": [
    "None == 1"
   ]
  },
  {
   "cell_type": "code",
   "execution_count": 71,
   "metadata": {},
   "outputs": [
    {
     "data": {
      "text/plain": [
       "4"
      ]
     },
     "execution_count": 71,
     "metadata": {},
     "output_type": "execute_result"
    }
   ],
   "source": [
    "bot.y"
   ]
  },
  {
   "cell_type": "code",
   "execution_count": 18,
   "metadata": {},
   "outputs": [
    {
     "ename": "IndexError",
     "evalue": "list index out of range",
     "output_type": "error",
     "traceback": [
      "\u001b[0;31m---------------------------------------------------------------------------\u001b[0m",
      "\u001b[0;31mIndexError\u001b[0m                                Traceback (most recent call last)",
      "\u001b[0;32m<ipython-input-18-212bc78bf802>\u001b[0m in \u001b[0;36m<module>\u001b[0;34m\u001b[0m\n\u001b[0;32m----> 1\u001b[0;31m \u001b[0;34m[\u001b[0m\u001b[0;34m]\u001b[0m\u001b[0;34m[\u001b[0m\u001b[0;36m0\u001b[0m\u001b[0;34m]\u001b[0m\u001b[0;34m\u001b[0m\u001b[0;34m\u001b[0m\u001b[0m\n\u001b[0m",
      "\u001b[0;31mIndexError\u001b[0m: list index out of range"
     ]
    }
   ],
   "source": [
    "[][0]"
   ]
  },
  {
   "cell_type": "code",
   "execution_count": 13,
   "metadata": {},
   "outputs": [],
   "source": [
    "x = {'a':1}"
   ]
  },
  {
   "cell_type": "code",
   "execution_count": 15,
   "metadata": {},
   "outputs": [],
   "source": [
    "x.update({'b':1})"
   ]
  },
  {
   "cell_type": "code",
   "execution_count": 16,
   "metadata": {},
   "outputs": [
    {
     "data": {
      "text/plain": [
       "{'a': 1, 'b': 1}"
      ]
     },
     "execution_count": 16,
     "metadata": {},
     "output_type": "execute_result"
    }
   ],
   "source": [
    "x"
   ]
  },
  {
   "cell_type": "code",
   "execution_count": null,
   "metadata": {},
   "outputs": [],
   "source": []
  }
 ],
 "metadata": {
  "kernelspec": {
   "display_name": "Python 3",
   "language": "python",
   "name": "python3"
  },
  "language_info": {
   "codemirror_mode": {
    "name": "ipython",
    "version": 3
   },
   "file_extension": ".py",
   "mimetype": "text/x-python",
   "name": "python",
   "nbconvert_exporter": "python",
   "pygments_lexer": "ipython3",
   "version": "3.8.8"
  }
 },
 "nbformat": 4,
 "nbformat_minor": 4
}
