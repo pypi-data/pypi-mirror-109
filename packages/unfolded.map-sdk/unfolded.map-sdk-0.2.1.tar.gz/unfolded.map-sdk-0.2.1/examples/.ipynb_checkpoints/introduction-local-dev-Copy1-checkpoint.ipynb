{
 "cells": [
  {
   "cell_type": "markdown",
   "metadata": {},
   "source": [
    "# Introduction"
   ]
  },
  {
   "cell_type": "code",
   "execution_count": 2,
   "metadata": {},
   "outputs": [],
   "source": [
    "from unfolded_jupyter import UnfoldedMap"
   ]
  },
  {
   "cell_type": "code",
   "execution_count": 13,
   "metadata": {
    "scrolled": false
   },
   "outputs": [
    {
     "data": {
      "application/vnd.jupyter.widget-view+json": {
       "model_id": "fa485cad234441d8b2cd03459d8febb2",
       "version_major": 2,
       "version_minor": 0
      },
      "text/plain": [
       "UnfoldedMap(height=300, mapUUID='62721d02-40a5-42e3-a7ea-e09e878fbd24')"
      ]
     },
     "metadata": {},
     "output_type": "display_data"
    }
   ],
   "source": [
    "map = UnfoldedMap(mapUUID='62721d02-40a5-42e3-a7ea-e09e878fbd24',height=300)\n",
    "map"
   ]
  },
  {
   "cell_type": "code",
   "execution_count": 11,
   "metadata": {},
   "outputs": [
    {
     "name": "stdout",
     "output_type": "stream",
     "text": [
      "{'type': 'map-sdk-set-view-state', 'data': {'viewState': {'longitude': 8.650367, 'latitude': 47.271057, 'zoom': 15.0}}}\n"
     ]
    }
   ],
   "source": [
    "map.set_view_state({'latitude': 47.271057, 'longitude':8.650367, 'zoom':15})"
   ]
  },
  {
   "cell_type": "code",
   "execution_count": 14,
   "metadata": {},
   "outputs": [
    {
     "name": "stdout",
     "output_type": "stream",
     "text": [
      "{'type': 'map-sdk-set-theme', 'data': {'theme': 'light'}}\n"
     ]
    }
   ],
   "source": [
    "map.set_theme('light')"
   ]
  },
  {
   "cell_type": "code",
   "execution_count": null,
   "metadata": {},
   "outputs": [
    {
     "name": "stdout",
     "output_type": "stream",
     "text": [
      "{'type': 'map-sdk-get-layers', 'data': {}}\n"
     ]
    }
   ],
   "source": [
    "await map.get_layers()"
   ]
  },
  {
   "cell_type": "code",
   "execution_count": null,
   "metadata": {},
   "outputs": [],
   "source": [
    "privateMap = UnfoldedMap(mapUrl='http://localhost:8080/map/62721d02-40a5-42e3-a7ea-e09e878fbd24',height=300)\n",
    "privateMap"
   ]
  },
  {
   "cell_type": "code",
   "execution_count": null,
   "metadata": {},
   "outputs": [],
   "source": []
  }
 ],
 "metadata": {
  "kernelspec": {
   "display_name": "Python 3",
   "language": "python",
   "name": "python3"
  },
  "language_info": {
   "codemirror_mode": {
    "name": "ipython",
    "version": 3
   },
   "file_extension": ".py",
   "mimetype": "text/x-python",
   "name": "python",
   "nbconvert_exporter": "python",
   "pygments_lexer": "ipython3",
   "version": "3.9.2"
  }
 },
 "nbformat": 4,
 "nbformat_minor": 2
}
